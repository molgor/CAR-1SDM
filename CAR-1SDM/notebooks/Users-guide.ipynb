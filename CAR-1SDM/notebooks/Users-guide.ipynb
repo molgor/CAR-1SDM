{
 "cells": [
  {
   "cell_type": "markdown",
   "metadata": {},
   "source": [
    "# A users' guide to apply the presence-only joint distribution framework for single species distributions\n",
    "#### Juan M. Escamilla Mólgora,\n",
    "#### j.escamillamolgora@lancaster.ac.uk\n",
    "\n",
    "\n",
    "> ## Summary\n",
    "This document is a guide to use the models described in the paper: *A joint distribution framework to improve presence-only species distribution models by exploiting opportunistic surveys* (EscamillaMolgora,2021) for modelling species distributions with presence-only data.\n",
    "\n",
    "## Introduction\n",
    "The presented framework proposes three bayesian models for inferring single species distributions using solely observations of species occurrences (i.e. presence-only data).\n",
    "The fundamental idea of the framework is that the observed occurrences ($Y$) are determined not only by the environmental conditions (niche) suitable for the species to thrive but also accounts for the bias in which these observations were collected (i.e. sampling effort). As such, the occurrences are specified as realisations of a join process composed of environmental conditions ($P_Y$) and sampling effort ($P_X$). These two components are explicitly defined with a model-based approach (cite:Diggle2002) to specify two types of covariates, one for $P_X$ and other for $P_Y$.\n",
    "Both processes are specified as mixed models. That is, they are composed of  a fixed effect (i.e. $E(P_X) = g(d_X;\\beta_X)$ and $E(P_Y) = g(d_Y;\\beta_Y)$) and a random effect that models the variation between observations across space. For the purposes of this example (and the presented results in the manuscript) we consider $g(d_X;\\beta_X)$ to be linear, that is: $g(d_X;\\beta_X) = \\beta_X^t d_X$, where $d_X$ is the vector of covariates associated to a given observation. For a clear description of the model refer to the manuscript and, specifically, to the supplementary materials.\n",
    "\n",
    "The dependencies between processes $P_X$ and $P_Y$ are specified in terms of the covariance between all observations. That is, by their random effects; $R_X$ and $R_Y$ respectively. We proposed three forms to model these dependencies. Model I assumes $R_X$ and $R_Y$ are independent. Model II assumes that $R_X = R_Y$ and Model III assumes both random effects are correlated. The three models specify a conditional autoregressive (CAR) (Besag,1974) model for defining the spatial random effect. Therefore, this framework is only suited for data aggregated in areas tilled over a region (i.e. spatial lattices).\n",
    "\n",
    "In the following sections we will apply models I, II and III in the *R* programming language using the package CARBayes (Lee,2013). The data used was obtained from GBIF using the dataset (gbifmexdata). This document is intended to serve as a guide for modelling species distributions using the aforementioned framework. For further reference of the Bayesian methodologies, diagnoses and deeper analysis of lattice-based models refer to (Lee,2013;Rue,2005)\n",
    "\n",
    "We begin by first assigining the working directory.\n"
   ]
  },
  {
   "cell_type": "code",
   "execution_count": 47,
   "metadata": {},
   "outputs": [],
   "source": [
    "setwd('/main/app/external_plugins/biospytial_rwrapper/CAR-1SDM/')\n",
    "#source('R/preprocess_data.R')"
   ]
  },
  {
   "cell_type": "markdown",
   "metadata": {},
   "source": [
    "## Loading data and necessary libraries\n",
    "- *CARBayes* is a CAR implementation developed by (Lee,2013). We can use this library with adequate data transformation to apply models I, II and III."
   ]
  },
  {
   "cell_type": "code",
   "execution_count": 48,
   "metadata": {},
   "outputs": [],
   "source": [
    "setwd(\"R\")\n",
    "library(CARBayes)"
   ]
  },
  {
   "cell_type": "markdown",
   "metadata": {},
   "source": [
    "- Additionaly, some libraries for data handling and loading numpy arrays.\n",
    "\n",
    "\n",
    "\n"
   ]
  },
  {
   "cell_type": "code",
   "execution_count": 49,
   "metadata": {},
   "outputs": [],
   "source": [
    "library(dplyr)\n",
    "library(purrr)\n",
    "library(reticulate)"
   ]
  },
  {
   "cell_type": "markdown",
   "metadata": {},
   "source": [
    "### Loading the *choosing principle* functions\n",
    "These are functions that define the presence, relative absences and missing observations."
   ]
  },
  {
   "cell_type": "code",
   "execution_count": 50,
   "metadata": {},
   "outputs": [],
   "source": [
    "source(\"ChoosingPrinciples.R\")"
   ]
  },
  {
   "cell_type": "markdown",
   "metadata": {},
   "source": [
    "## Read the adjancency matrix of the spatial lattice\n",
    "The spatial lattice is represented as an adjacency matrix obtained by another sofware. \n",
    "However you could generate this matrix of any given spatial vector format (e.g. ESRI Shapefile) using the function 'combine.data.shapefile' provided by *CARBayes*. Refer to the https://cran.r-project.org/web/packages/CARBayes/CARBayes.pdf (CARBayes documentation).\n"
   ]
  },
  {
   "cell_type": "code",
   "execution_count": 51,
   "metadata": {},
   "outputs": [],
   "source": [
    "# Import adjancency matrix generated from region\n",
    "mat_filename = \"../data/training_data_sample_puebla_p9_abies_pinophyta_adjmat.npy\"\n",
    "# The adjacency matrix is saved as a numpy object. We need load it appropiately\n",
    "# Use numpy functions\n",
    "np <- import(\"numpy\")\n",
    "M <- np$load(mat_filename)"
   ]
  },
  {
   "cell_type": "markdown",
   "metadata": {},
   "source": [
    "## Importing main dataframe\n",
    "We will first load the dataframe as 'TDF' and then sort the rows according to their 'cell_ids' to match that of the adjancency matrix M.\n"
   ]
  },
  {
   "cell_type": "code",
   "execution_count": 52,
   "metadata": {},
   "outputs": [],
   "source": [
    "TDF = read.csv(\"../data/training_data_sample_puebla_p9_abies_pinophyta.csv\")\n",
    "## Uncomment this to load the birds example\n",
    "#TDF = read.csv(\"../data/training_data_sample_puebla_p9_tyrannidae_birds.csv\")\n",
    "## Order it according to the id of the cell\n",
    "TDF = TDF[order(TDF$cell_ids),]\n",
    "# Convert the columns to numeric\n",
    "\n",
    "## Beware, older implementations of as.numeric function turns strings to (apparently) random numeric values\n",
    "TDF = mutate_at(TDF,vars(Dist.to.road_m,Elevation_m,\n",
    "                         MaxTemp_m,MeanTemp_m,\n",
    "                         MinTemp_m,Population_m,\n",
    "                         Precipitation_m,\n",
    "                         SolarRadiation_m,\n",
    "                         VaporPres_m,\n",
    "                         WindSp_m),na_if,\"N.A.\")\n",
    "\n",
    "\n",
    "\n",
    "TDF = mutate_at(TDF,vars(Dist.to.road_m,Elevation_m,\n",
    "                         MaxTemp_m,MeanTemp_m,\n",
    "                         MinTemp_m,Population_m,\n",
    "                         Precipitation_m,\n",
    "                         SolarRadiation_m,\n",
    "                         VaporPres_m,\n",
    "                         WindSp_m),as.numeric)\n",
    "\n",
    "# Remove unnecessary symbols in variable names\n",
    "names(TDF) = lapply(names(TDF),function(x) gsub(\"_\",\"\",x))\n",
    "names(TDF) = lapply(names(TDF),function(x) gsub(\"\\\\.\",\"\",x))\n"
   ]
  },
  {
   "cell_type": "markdown",
   "metadata": {},
   "source": [
    "## Generating relative absences with  the *choosing principle*\n",
    "There are two treatments for the assigning missing data, treatment I that assumes missing data in both processes and treatment II that assigns missing data only to the sampling effort. This later treatment has less uncertainty but the assumption of absences is strong. Uncomment the code to use the other treatment.\n"
   ]
  },
  {
   "cell_type": "code",
   "execution_count": 53,
   "metadata": {},
   "outputs": [],
   "source": [
    "# Change the name of a column that for some reason is called the same\n",
    "names(TDF)[23] <- 'code_id2'\n",
    "\n",
    "## Treatment I, missing values in X and Y, comment this if using treatment II\n",
    "DataFrame = TDF %>% rowwise() %>%\n",
    "              mutate(sample=pseudo_absence_naive(Plantae,LUCA),\n",
    "                     species=pseudo_absence_naive(Pinophyta,Plantae))\n",
    "\n",
    "## Uncomment this for treatment II (i.e. missing values only in X)\n",
    "#DataFrame = TDF %>% rowwise() %>%\n",
    "#            mutate(sample=pseudo_absence_naive(Plantae,LUCA),\n",
    "#                   species=pseudo_absence_trivial(Pinophyta,Plantae))\n",
    "\n",
    "## Uncomment this if you want to assume that all missing data are absences\n",
    "## i.e. remove NAs\n",
    "#\n",
    "## Remove entries in the adjacency matrix that correspond to missing data\n",
    "#rr <- DataFrame %>%\n",
    "#    filter(!is.na(species) & !is.na(sample))\n",
    "#\n",
    "#sam_idx_nan <- which(is.na(DataFrame$sample))\n",
    "#\n",
    "#M = M[-c(sam_idx_nan),-c(sam_idx_nan)]\n",
    "\n",
    "## Remove missig data in DataFrame\n",
    "#DataFrame = TDF %>% rowwise() %>%\n",
    "#  mutate(sample=pseudo_absence_trivial(Plantae,LUCA),\n",
    "#         species=pseudo_absence_trivial(Pinophyta,Plantae))\n",
    "#+end_src\n"
   ]
  },
  {
   "cell_type": "markdown",
   "metadata": {},
   "source": [
    "## Preprocess adjancency matrix $M$\n",
    "There is a caveat, though. The CAR model works for connected regions only. That is, when the adjacency matrix corresponds to a connected graph. Blocks of cells that are not connected to each other are called islands and are considered independent. That is, a new model should be run for each block of disconnected cells.\n",
    "\n",
    "That is, we need to identify the blocks of isolated cells and remove them from the adjacency matrix. On order to comply with the dimension of the associate covariate (design) matrix we need to remove the associated rows (entries) corresponding to the isolated cells.\n"
   ]
  },
  {
   "cell_type": "code",
   "execution_count": 54,
   "metadata": {},
   "outputs": [],
   "source": [
    "## Remove entries with zero neighbours (adjacency matrix)\n",
    "### Calculates number of neighbours in D (sum)\n",
    "D = apply(M,MARGIN = 1,sum)\n",
    "### get index with 0 neighbours\n",
    "idx = which(D == 0)\n",
    "\n",
    "### select cells with no neighbours\n",
    "cell_with_no_neighbour = TDF$cellids[idx]\n",
    "## Remove island for TDF\n",
    "TDF <- TDF[-c(idx),]\n",
    "## Erase idx for M and for TDF\n",
    "M_bis = M[-c(idx),-c(idx)]\n",
    "\n",
    "## remove rows that have no neighbours (islands)\n",
    "DataFrame <- DataFrame[-c(idx),]\n",
    "\n",
    "n <- dim(M_bis)[1]\n",
    "trials <- rep(1,n)\n",
    "\n"
   ]
  },
  {
   "cell_type": "markdown",
   "metadata": {},
   "source": [
    "\n",
    "As the current implementation of CARBayes does not allow missing values in the covariates we will perform a naive imputation of missing values on each column of interest (i.e covariates associated with the models' formulas).\n"
   ]
  },
  {
   "cell_type": "code",
   "execution_count": 55,
   "metadata": {},
   "outputs": [],
   "source": [
    "## Replace missing values with mean, Of course we could do this using other more fancy method\n",
    "covs2work = c(\"Disttoroadm\",\"Populationm\",\"Elevationm\",\"Precipitationm\",\"MeanTempm\")\n",
    "for(i in covs2work){\n",
    "    DataFrame[,i][is.na(DataFrame[,i])] <- mean(DataFrame[,i][!is.na(DataFrame[,i])],na.rm=TRUE)\n",
    "}"
   ]
  },
  {
   "cell_type": "markdown",
   "metadata": {},
   "source": [
    "# Model I\n",
    "\n",
    "This model assumes that the ecological suitability distribution ($Y$) and sampling effort $X$ process are independent. The structure of the model is visualised as a directed acyclic graph (DAG) in the figure below.  For a detail explanation of the model refer to the supplementary materials of the manuscript.\n",
    "\n",
    "<img src=\"m1.png\" alt=\"model I\"  width=\"400px\">\n"
   ]
  },
  {
   "cell_type": "code",
   "execution_count": 56,
   "metadata": {},
   "outputs": [],
   "source": [
    "## Load function for Model I\n",
    "source(\"joint.binomial.bymCARModel1.R\")\n"
   ]
  },
  {
   "cell_type": "markdown",
   "metadata": {},
   "source": [
    "A brief data exploration shows the number of relative absences and presences (npresence_0,npresece_1) in the \"presences\" process $Y$, the in the sampling process $X$  (i.e. nsample_0 and nsample_1, respectively). Missed data (no observations) are shown as n_miss_presence and n_miss_sample. for $Y$ and $X$ respectively.\n",
    "\n"
   ]
  },
  {
   "cell_type": "code",
   "execution_count": 57,
   "metadata": {},
   "outputs": [
    {
     "data": {
      "text/html": [
       "<table class=\"dataframe\">\n",
       "<caption>A matrix: 1 × 6 of type dbl</caption>\n",
       "<thead>\n",
       "\t<tr><th scope=col>npresence_0</th><th scope=col>npresence_1</th><th scope=col>nsample_0</th><th scope=col>nsample_1</th><th scope=col>n_miss_presence</th><th scope=col>n_miss_sample</th></tr>\n",
       "</thead>\n",
       "<tbody>\n",
       "\t<tr><td>63.02956</td><td>8.399015</td><td>10.59113</td><td>71.42857</td><td>28.57143</td><td>17.9803</td></tr>\n",
       "</tbody>\n",
       "</table>\n"
      ],
      "text/latex": [
       "A matrix: 1 × 6 of type dbl\n",
       "\\begin{tabular}{llllll}\n",
       " npresence\\_0 & npresence\\_1 & nsample\\_0 & nsample\\_1 & n\\_miss\\_presence & n\\_miss\\_sample\\\\\n",
       "\\hline\n",
       "\t 63.02956 & 8.399015 & 10.59113 & 71.42857 & 28.57143 & 17.9803\\\\\n",
       "\\end{tabular}\n"
      ],
      "text/markdown": [
       "\n",
       "A matrix: 1 × 6 of type dbl\n",
       "\n",
       "| npresence_0 | npresence_1 | nsample_0 | nsample_1 | n_miss_presence | n_miss_sample |\n",
       "|---|---|---|---|---|---|\n",
       "| 63.02956 | 8.399015 | 10.59113 | 71.42857 | 28.57143 | 17.9803 |\n",
       "\n"
      ],
      "text/plain": [
       "     npresence_0 npresence_1 nsample_0 nsample_1 n_miss_presence n_miss_sample\n",
       "[1,] 63.02956    8.399015    10.59113  71.42857  28.57143        17.9803      "
      ]
     },
     "metadata": {},
     "output_type": "display_data"
    }
   ],
   "source": [
    "ntot = length(DataFrame$sample)\n",
    "npresence_1 = length(na.omit(DataFrame$species[DataFrame$species == 1])) / ntot*100\n",
    "nsample_1 = length(na.omit(DataFrame$sample[DataFrame$sample == 1]))/ntot*100\n",
    "npresence_0 = length(na.omit(DataFrame$species[DataFrame$species == 0]))/ntot*100\n",
    "nsample_0 = length(na.omit(DataFrame$sample[DataFrame$sample == 0]))/ntot*100\n",
    "n_miss_presence = sum(is.na(DataFrame$species))/ntot*100\n",
    "n_miss_sample = sum(is.na(DataFrame$sample))/ntot*100\n",
    "cbind(npresence_0,npresence_1,nsample_0,nsample_1,n_miss_presence,n_miss_sample)"
   ]
  },
  {
   "cell_type": "markdown",
   "metadata": {},
   "source": [
    "### Running the model\n",
    "We begin by defining the formulas for the sampling effort (formula_sample) and the environmental niche (formula_presence).\n",
    "As we are dealing with only presence-absence realisations, we define a bernoulli process. That is, a binomial distribution with $k=1$.\n",
    "This can be specified with a 'trials' vector built on only ones.\n"
   ]
  },
  {
   "cell_type": "code",
   "execution_count": 58,
   "metadata": {},
   "outputs": [],
   "source": [
    "formula_sample=sample~Disttoroadm+Populationm\n",
    "formula_presence=species~Elevationm+MeanTempm\n",
    "n <- nrow(TDF)\n",
    "trials <- rep(1,n)\n"
   ]
  },
  {
   "cell_type": "markdown",
   "metadata": {},
   "source": [
    "\n",
    "We define the running settings for sampling the posterior distribution. In this case we specify 1,000 iterations after burnin (i.e. initialisation to reach stationarity of the Markov chain) of 70,000. To reduce hoarding data in memory we choose a thinning of 10. The postburnin parameter defines the number of iterations after burnin for each process but before saving the final sample of 1,000 iterations. Postburnin defines and extra burn-in iterations.\n"
   ]
  },
  {
   "cell_type": "code",
   "execution_count": 75,
   "metadata": {},
   "outputs": [],
   "source": [
    "\n",
    "## To example, use higher sampling for real applications.\n",
    "n.sample = 100000                                                                               \n",
    "burnin=100000\n",
    "thin = 10\n",
    "postburnin = burnin + 10000"
   ]
  },
  {
   "cell_type": "code",
   "execution_count": 76,
   "metadata": {
    "scrolled": true
   },
   "outputs": [
    {
     "name": "stdout",
     "output_type": "stream",
     "text": [
      "Setting up the model.\n",
      "Performing burnin period for Sample Effort Model \n",
      "  |======================================================================| 100%\n",
      "Summarising results.\n",
      "Finished in  382.6 seconds.\n",
      "Setting up the model.\n",
      "Performing burnin period for Presence model \n",
      "  |======================================================================| 100%\n",
      "Summarising results.\n",
      "Finished in  382.1 seconds.\n",
      "Sampling from the joint model 10000 post burnin and thinned (if requested) samples.\n",
      "  |======================================================================| 100%\n",
      "[1] \"Compiling summary for S process\"\n",
      "[1] \"Compiling summary for the P process\"\n"
     ]
    }
   ],
   "source": [
    "model1  <- joint.binomial.bymCARModel1(formula_S = formula_sample,\n",
    "                                        formula_P = formula_presence,\n",
    "                                        n.sample=n.sample,\n",
    "                                        data = DataFrame,\n",
    "                                        burnin=burnin,\n",
    "                                        postburnin=postburnin,\n",
    "                                        thin=thin,\n",
    "                                    verbose=TRUE)"
   ]
  },
  {
   "cell_type": "markdown",
   "metadata": {},
   "source": [
    "In model I, the processes $S$ (sample) and $P$ (environment) are independent. The object model1 contains these independent components stored as attributes S and P respectively. To inspect the posterior summary statistics we can use the attribute summary.results on each process. "
   ]
  },
  {
   "cell_type": "code",
   "execution_count": 77,
   "metadata": {},
   "outputs": [
    {
     "data": {
      "text/html": [
       "<table class=\"dataframe\">\n",
       "<caption>A matrix: 5 × 7 of type dbl</caption>\n",
       "<thead>\n",
       "\t<tr><th></th><th scope=col>Median</th><th scope=col>2.5%</th><th scope=col>97.5%</th><th scope=col>n.sample</th><th scope=col>% accept</th><th scope=col>n.effective</th><th scope=col>Geweke.diag</th></tr>\n",
       "</thead>\n",
       "<tbody>\n",
       "\t<tr><th scope=row>(Intercept)</th><td>-6.2906</td><td>-24.3074</td><td> 3.7265</td><td>10000</td><td> 46</td><td>19.0</td><td>3.1</td></tr>\n",
       "\t<tr><th scope=row>Elevationm</th><td> 0.0017</td><td>  0.0003</td><td> 0.0034</td><td>10000</td><td> 46</td><td>69.9</td><td>0.8</td></tr>\n",
       "\t<tr><th scope=row>MeanTempm</th><td>-0.0319</td><td> -0.2894</td><td> 0.2391</td><td>10000</td><td> 46</td><td>81.0</td><td>0.4</td></tr>\n",
       "\t<tr><th scope=row>tau2</th><td> 6.8819</td><td>  3.6117</td><td>13.9866</td><td>10000</td><td>100</td><td>44.1</td><td>0.0</td></tr>\n",
       "\t<tr><th scope=row>sigma2</th><td> 0.0932</td><td>  0.0057</td><td> 0.7625</td><td>10000</td><td>100</td><td>14.2</td><td>1.1</td></tr>\n",
       "</tbody>\n",
       "</table>\n"
      ],
      "text/latex": [
       "A matrix: 5 × 7 of type dbl\n",
       "\\begin{tabular}{r|lllllll}\n",
       "  & Median & 2.5\\% & 97.5\\% & n.sample & \\% accept & n.effective & Geweke.diag\\\\\n",
       "\\hline\n",
       "\t(Intercept) & -6.2906 & -24.3074 &  3.7265 & 10000 &  46 & 19.0 & 3.1\\\\\n",
       "\tElevationm &  0.0017 &   0.0003 &  0.0034 & 10000 &  46 & 69.9 & 0.8\\\\\n",
       "\tMeanTempm & -0.0319 &  -0.2894 &  0.2391 & 10000 &  46 & 81.0 & 0.4\\\\\n",
       "\ttau2 &  6.8819 &   3.6117 & 13.9866 & 10000 & 100 & 44.1 & 0.0\\\\\n",
       "\tsigma2 &  0.0932 &   0.0057 &  0.7625 & 10000 & 100 & 14.2 & 1.1\\\\\n",
       "\\end{tabular}\n"
      ],
      "text/markdown": [
       "\n",
       "A matrix: 5 × 7 of type dbl\n",
       "\n",
       "| <!--/--> | Median | 2.5% | 97.5% | n.sample | % accept | n.effective | Geweke.diag |\n",
       "|---|---|---|---|---|---|---|---|\n",
       "| (Intercept) | -6.2906 | -24.3074 |  3.7265 | 10000 |  46 | 19.0 | 3.1 |\n",
       "| Elevationm |  0.0017 |   0.0003 |  0.0034 | 10000 |  46 | 69.9 | 0.8 |\n",
       "| MeanTempm | -0.0319 |  -0.2894 |  0.2391 | 10000 |  46 | 81.0 | 0.4 |\n",
       "| tau2 |  6.8819 |   3.6117 | 13.9866 | 10000 | 100 | 44.1 | 0.0 |\n",
       "| sigma2 |  0.0932 |   0.0057 |  0.7625 | 10000 | 100 | 14.2 | 1.1 |\n",
       "\n"
      ],
      "text/plain": [
       "            Median  2.5%     97.5%   n.sample % accept n.effective Geweke.diag\n",
       "(Intercept) -6.2906 -24.3074  3.7265 10000     46      19.0        3.1        \n",
       "Elevationm   0.0017   0.0003  0.0034 10000     46      69.9        0.8        \n",
       "MeanTempm   -0.0319  -0.2894  0.2391 10000     46      81.0        0.4        \n",
       "tau2         6.8819   3.6117 13.9866 10000    100      44.1        0.0        \n",
       "sigma2       0.0932   0.0057  0.7625 10000    100      14.2        1.1        "
      ]
     },
     "metadata": {},
     "output_type": "display_data"
    }
   ],
   "source": [
    "model1$P$summary.results"
   ]
  },
  {
   "cell_type": "code",
   "execution_count": 70,
   "metadata": {},
   "outputs": [
    {
     "data": {
      "text/html": [
       "<table class=\"dataframe\">\n",
       "<caption>A matrix: 5 × 7 of type dbl</caption>\n",
       "<thead>\n",
       "\t<tr><th></th><th scope=col>Median</th><th scope=col>2.5%</th><th scope=col>97.5%</th><th scope=col>n.sample</th><th scope=col>% accept</th><th scope=col>n.effective</th><th scope=col>Geweke.diag</th></tr>\n",
       "</thead>\n",
       "<tbody>\n",
       "\t<tr><th scope=row>(Intercept)</th><td>1.5213</td><td>1.5213</td><td>1.5213</td><td>3000</td><td>  0</td><td> 0.0</td><td> NaN</td></tr>\n",
       "\t<tr><th scope=row>Disttoroadm</th><td>0.0000</td><td>0.0000</td><td>0.0000</td><td>3000</td><td>  0</td><td> 0.0</td><td> NaN</td></tr>\n",
       "\t<tr><th scope=row>Populationm</th><td>0.0028</td><td>0.0028</td><td>0.0028</td><td>3000</td><td>  0</td><td> 0.0</td><td> NaN</td></tr>\n",
       "\t<tr><th scope=row>tau2</th><td>3.8041</td><td>2.4381</td><td>7.1399</td><td>3000</td><td>100</td><td>23.4</td><td>-0.3</td></tr>\n",
       "\t<tr><th scope=row>sigma2</th><td>0.5232</td><td>0.3024</td><td>0.8731</td><td>3000</td><td>100</td><td>34.0</td><td> 2.6</td></tr>\n",
       "</tbody>\n",
       "</table>\n"
      ],
      "text/latex": [
       "A matrix: 5 × 7 of type dbl\n",
       "\\begin{tabular}{r|lllllll}\n",
       "  & Median & 2.5\\% & 97.5\\% & n.sample & \\% accept & n.effective & Geweke.diag\\\\\n",
       "\\hline\n",
       "\t(Intercept) & 1.5213 & 1.5213 & 1.5213 & 3000 &   0 &  0.0 &  NaN\\\\\n",
       "\tDisttoroadm & 0.0000 & 0.0000 & 0.0000 & 3000 &   0 &  0.0 &  NaN\\\\\n",
       "\tPopulationm & 0.0028 & 0.0028 & 0.0028 & 3000 &   0 &  0.0 &  NaN\\\\\n",
       "\ttau2 & 3.8041 & 2.4381 & 7.1399 & 3000 & 100 & 23.4 & -0.3\\\\\n",
       "\tsigma2 & 0.5232 & 0.3024 & 0.8731 & 3000 & 100 & 34.0 &  2.6\\\\\n",
       "\\end{tabular}\n"
      ],
      "text/markdown": [
       "\n",
       "A matrix: 5 × 7 of type dbl\n",
       "\n",
       "| <!--/--> | Median | 2.5% | 97.5% | n.sample | % accept | n.effective | Geweke.diag |\n",
       "|---|---|---|---|---|---|---|---|\n",
       "| (Intercept) | 1.5213 | 1.5213 | 1.5213 | 3000 |   0 |  0.0 |  NaN |\n",
       "| Disttoroadm | 0.0000 | 0.0000 | 0.0000 | 3000 |   0 |  0.0 |  NaN |\n",
       "| Populationm | 0.0028 | 0.0028 | 0.0028 | 3000 |   0 |  0.0 |  NaN |\n",
       "| tau2 | 3.8041 | 2.4381 | 7.1399 | 3000 | 100 | 23.4 | -0.3 |\n",
       "| sigma2 | 0.5232 | 0.3024 | 0.8731 | 3000 | 100 | 34.0 |  2.6 |\n",
       "\n"
      ],
      "text/plain": [
       "            Median 2.5%   97.5%  n.sample % accept n.effective Geweke.diag\n",
       "(Intercept) 1.5213 1.5213 1.5213 3000       0       0.0         NaN       \n",
       "Disttoroadm 0.0000 0.0000 0.0000 3000       0       0.0         NaN       \n",
       "Populationm 0.0028 0.0028 0.0028 3000       0       0.0         NaN       \n",
       "tau2        3.8041 2.4381 7.1399 3000     100      23.4        -0.3       \n",
       "sigma2      0.5232 0.3024 0.8731 3000     100      34.0         2.6       "
      ]
     },
     "metadata": {},
     "output_type": "display_data"
    }
   ],
   "source": [
    "model1$S$summary.results"
   ]
  },
  {
   "cell_type": "markdown",
   "metadata": {},
   "source": [
    "### Display modelfit object for both models"
   ]
  },
  {
   "cell_type": "code",
   "execution_count": 71,
   "metadata": {},
   "outputs": [
    {
     "data": {
      "text/html": [
       "<style>\n",
       ".dl-inline {width: auto; margin:0; padding: 0}\n",
       ".dl-inline>dt, .dl-inline>dd {float: none; width: auto; display: inline-block}\n",
       ".dl-inline>dt::after {content: \":\\0020\"; padding-right: .5ex}\n",
       ".dl-inline>dt:not(:first-of-type) {padding-left: .5ex}\n",
       "</style><dl class=dl-inline><dt>DIC</dt><dd>3540.81389428883</dd><dt>p.d</dt><dd>892.576766943382</dd><dt>WAIC</dt><dd>3569.25117244858</dd><dt>p.w</dt><dd>729.514674543433</dd><dt>LMPL</dt><dd>-1884.50163790214</dd><dt>loglikelihood</dt><dd>-877.830180201031</dd></dl>\n"
      ],
      "text/latex": [
       "\\begin{description*}\n",
       "\\item[DIC] 3540.81389428883\n",
       "\\item[p.d] 892.576766943382\n",
       "\\item[WAIC] 3569.25117244858\n",
       "\\item[p.w] 729.514674543433\n",
       "\\item[LMPL] -1884.50163790214\n",
       "\\item[loglikelihood] -877.830180201031\n",
       "\\end{description*}\n"
      ],
      "text/markdown": [
       "DIC\n",
       ":   3540.81389428883p.d\n",
       ":   892.576766943382WAIC\n",
       ":   3569.25117244858p.w\n",
       ":   729.514674543433LMPL\n",
       ":   -1884.50163790214loglikelihood\n",
       ":   -877.830180201031\n",
       "\n"
      ],
      "text/plain": [
       "          DIC           p.d          WAIC           p.w          LMPL \n",
       "    3540.8139      892.5768     3569.2512      729.5147    -1884.5016 \n",
       "loglikelihood \n",
       "    -877.8302 "
      ]
     },
     "metadata": {},
     "output_type": "display_data"
    }
   ],
   "source": [
    "model1$summary.results"
   ]
  },
  {
   "cell_type": "code",
   "execution_count": 72,
   "metadata": {},
   "outputs": [
    {
     "data": {
      "text/html": [
       "<style>\n",
       ".dl-inline {width: auto; margin:0; padding: 0}\n",
       ".dl-inline>dt, .dl-inline>dd {float: none; width: auto; display: inline-block}\n",
       ".dl-inline>dt::after {content: \":\\0020\"; padding-right: .5ex}\n",
       ".dl-inline>dt:not(:first-of-type) {padding-left: .5ex}\n",
       "</style><dl class=dl-inline><dt>DIC</dt><dd>1410.93956803838</dd><dt>p.d</dt><dd>459.737943264733</dd><dt>WAIC</dt><dd>1415.69402818487</dd><dt>p.w</dt><dd>353.31735109051</dd><dt>LMPL</dt><dd>-785.069777047324</dd><dt>loglikelihood</dt><dd>-245.731840754458</dd></dl>\n"
      ],
      "text/latex": [
       "\\begin{description*}\n",
       "\\item[DIC] 1410.93956803838\n",
       "\\item[p.d] 459.737943264733\n",
       "\\item[WAIC] 1415.69402818487\n",
       "\\item[p.w] 353.31735109051\n",
       "\\item[LMPL] -785.069777047324\n",
       "\\item[loglikelihood] -245.731840754458\n",
       "\\end{description*}\n"
      ],
      "text/markdown": [
       "DIC\n",
       ":   1410.93956803838p.d\n",
       ":   459.737943264733WAIC\n",
       ":   1415.69402818487p.w\n",
       ":   353.31735109051LMPL\n",
       ":   -785.069777047324loglikelihood\n",
       ":   -245.731840754458\n",
       "\n"
      ],
      "text/plain": [
       "          DIC           p.d          WAIC           p.w          LMPL \n",
       "    1410.9396      459.7379     1415.6940      353.3174     -785.0698 \n",
       "loglikelihood \n",
       "    -245.7318 "
      ]
     },
     "metadata": {},
     "output_type": "display_data"
    }
   ],
   "source": [
    "model1$P$modelfit"
   ]
  },
  {
   "cell_type": "markdown",
   "metadata": {},
   "source": [
    "### Convergence of the Markov chain by visual inspection\n",
    "Using traceplots"
   ]
  },
  {
   "cell_type": "code",
   "execution_count": 73,
   "metadata": {},
   "outputs": [
    {
     "data": {
      "image/png": "[encoded data removed]",
      "text/plain": [
       "Plot with title “”"
      ]
     },
     "metadata": {
      "image/png": {
       "height": 420,
       "width": 420
      }
     },
     "output_type": "display_data"
    }
   ],
   "source": [
    "library(coda)\n",
    "params.samples <- mcmc.list(model1$P$samples$beta)\n",
    "plot(params.samples)"
   ]
  },
  {
   "cell_type": "code",
   "execution_count": 74,
   "metadata": {},
   "outputs": [
    {
     "data": {
      "image/png": "[encoded data removed]",
      "text/plain": [
       "Plot with title “”"
      ]
     },
     "metadata": {
      "image/png": {
       "height": 420,
       "width": 420
      }
     },
     "output_type": "display_data"
    }
   ],
   "source": [
    "## For the sample process\n",
    "params.samples <- mcmc.list(model1$S$samples$beta)\n",
    "plot(params.samples)"
   ]
  },
  {
   "cell_type": "markdown",
   "metadata": {},
   "source": [
    "# Model II"
   ]
  },
  {
   "cell_type": "markdown",
   "metadata": {
    "tags": []
   },
   "source": [
    "## Running the model\n",
    "To run the model we first need to transform the data, specifically, the covariates matrix (i.e. design matrix). The transformation allows the fitting of specific covariates for each process (i.e. an environmental set of covariates and another set for the sampling effort).\n",
    "\n",
    "To do this, we stack the design matrices of $S$ and $P$ and extend the number of columns to the sum of both processes.\n",
    "That is, the number of columns of the resulting matrix is the sum of the columns of $P$ and $S$ (not counting the response variables).\n",
    "\n",
    "We begin by selecting the covariates for each process following a standard formula syntax (one formula per process).\n",
    "\n",
    "<img src=\"m2.png\" alt=\"model II\"  width=\"400px\">\n"
   ]
  },
  {
   "cell_type": "code",
   "execution_count": 21,
   "metadata": {},
   "outputs": [],
   "source": [
    "formula_sample =  sample ~ Disttoroadm + Populationm\n",
    "formula_presence = species ~ Elevationm + Precipitationm\n",
    "\n",
    "\n",
    "## Build dataframes, S <- Sample, P <- Presence\n",
    "S <- model.frame(formula_sample, DataFrame,na.action='na.pass')\n",
    "P <- model.frame(formula_presence, DataFrame,na.action='na.pass')\n",
    "\n",
    "## Split response variables (lefthand side) and covariates (righthand side) from the design matrix\n",
    "SX <- select(S, -c(1))\n",
    "PX <- select(P, -c(1))\n",
    "Sy <- select(S, c(1))\n",
    "Py <- select(P, c(1))\n",
    "\n",
    "## Assign names to columns\n",
    "names(Sy) <- 'response'\n",
    "names(Py) <- names(Sy)\n",
    "\n",
    "## Stack both processes into same dataframe\n",
    "## First the responses (Y) will be concatenated by row.\n",
    "Y = rbind(Sy,Py)\n"
   ]
  },
  {
   "cell_type": "markdown",
   "metadata": {},
   "source": [
    "To join both sets of covariates (SX and PX) into the stacked design matrix, we need to join the columns of SX and PX. As there's no information of environmental variables for process S and, viceversa, no information of the sampling covariates for process P, we assign 0 to these elements.\n",
    "\n",
    "For doing this, we first define two 2x2 matrices and perform the kronnecker product to generate a block diagonal design matrix to be used as the covariates of the stacked design matrix."
   ]
  },
  {
   "cell_type": "code",
   "execution_count": 22,
   "metadata": {},
   "outputs": [],
   "source": [
    "\n",
    "T1 <- matrix(rep(0,4), ncol = 2)\n",
    "T2 <- matrix(rep(0,4), ncol = 2)\n",
    "T1[1,1] <- 1\n",
    "T2[2,2] <- 1\n",
    "\n",
    "## Perform Kronnecker with different covariates (Block diagonal)\n",
    "X <- data.frame((T1 %x% as.matrix(SX)) + (T2 %x% as.matrix(PX)))\n",
    "names(X) <- c(names(SX),names(PX))\n",
    "\n",
    "## Lastly, we bind the stacked response variable with the stacked covariance matrix.\n",
    "SDM <- cbind(Y,X)\n"
   ]
  },
  {
   "cell_type": "markdown",
   "metadata": {},
   "source": [
    "### Defining other necessary arguments\n"
   ]
  },
  {
   "cell_type": "code",
   "execution_count": 23,
   "metadata": {},
   "outputs": [],
   "source": [
    "## Get number of elements in the lattice, \n",
    "nK <- dim(M_bis)[1]\n",
    "\n",
    "## make sequence vector for id.area\n",
    "## This is possible because the rows in adjacency matrix M_bis preserve the order of each element in the design matrix.\n",
    "ida <- data.frame(seq(nK))\n",
    "idarea <- unlist(rbind(ida,ida))\n",
    "## Assign values for the unstructured random effect (Zx, Zy).\n",
    "## In this case, all elements of S share the same random effect Zx. \n",
    "## Similarly, all elements of P share the same random effect Zy.\n",
    "## This is done with \n",
    "Zx <- rep(x = 1,times = nK)\n",
    "Zy <- rep(x = 2,times = nK)\n",
    "## Stack Zx and Zy to create a vector of labels used to define \n",
    "## the unstructured random effect.\n",
    "indre <- c(Zx,Zy)\n"
   ]
  },
  {
   "cell_type": "markdown",
   "metadata": {},
   "source": [
    "## Running the model"
   ]
  },
  {
   "cell_type": "code",
   "execution_count": 25,
   "metadata": {},
   "outputs": [
    {
     "name": "stdout",
     "output_type": "stream",
     "text": [
      "Setting up the model.\n",
      "Generating 20 post burnin and thinned (if requested) samples.\n",
      "  |======================================================================| 100%\n",
      "Summarising results.\n",
      "Finished in  2.8 seconds.\n"
     ]
    }
   ],
   "source": [
    "#formula_sample =  sample ~ Disttoroadm + Populationm\n",
    "#formula_presence = species ~ Elevationm + Precipitationm\n",
    "formula <- response ~ Disttoroadm + Populationm + Elevationm + Precipitationm\n",
    "ind.re = c(rep(1,nK),rep(2,nK))\n",
    "\n",
    "ntot <- dim(SDM)[1]\n",
    "trials <- rep(1,ntot)\n",
    "## Toy example, increase sampling and burnin size significantly for real applications.\n",
    "burnin = 100\n",
    "n.sample = 120\n",
    "thin = 5\n",
    "\n",
    "\n",
    "model2 <- S.CARmultilevel(formula,family = 'binomial',\n",
    "                          trials=as.numeric(trials),\n",
    "                          W=M_bis,\n",
    "                          ind.area=idarea,\n",
    "                          #ind.re=factor(idarea),\n",
    "                          ind.re = factor(ind.re),\n",
    "                          rho=1,\n",
    "                          burnin=burnin,\n",
    "                          n.sample=n.sample,\n",
    "                          data=SDM)"
   ]
  },
  {
   "cell_type": "code",
   "execution_count": 26,
   "metadata": {},
   "outputs": [
    {
     "data": {
      "text/html": [
       "<table class=\"dataframe\">\n",
       "<caption>A matrix: 8 × 7 of type dbl</caption>\n",
       "<thead>\n",
       "\t<tr><th></th><th scope=col>Median</th><th scope=col>2.5%</th><th scope=col>97.5%</th><th scope=col>n.sample</th><th scope=col>% accept</th><th scope=col>n.effective</th><th scope=col>Geweke.diag</th></tr>\n",
       "</thead>\n",
       "<tbody>\n",
       "\t<tr><th scope=row>(Intercept)</th><td> 0.3052</td><td> 0.3052</td><td> 0.3052</td><td>20</td><td>  0</td><td> 0.0</td><td> NaN</td></tr>\n",
       "\t<tr><th scope=row>Disttoroadm</th><td> 0.0001</td><td> 0.0001</td><td> 0.0001</td><td>20</td><td>  0</td><td> 0.0</td><td> NaN</td></tr>\n",
       "\t<tr><th scope=row>Populationm</th><td> 0.0082</td><td> 0.0082</td><td> 0.0082</td><td>20</td><td>  0</td><td> 0.0</td><td> NaN</td></tr>\n",
       "\t<tr><th scope=row>Elevationm</th><td>-0.0004</td><td>-0.0004</td><td>-0.0004</td><td>20</td><td>  0</td><td> 0.0</td><td> NaN</td></tr>\n",
       "\t<tr><th scope=row>Precipitationm</th><td>-0.0250</td><td>-0.0250</td><td>-0.0250</td><td>20</td><td>  0</td><td> 0.0</td><td> NaN</td></tr>\n",
       "\t<tr><th scope=row>tau2</th><td> 2.3271</td><td> 2.1712</td><td> 2.4663</td><td>20</td><td>100</td><td> 6.9</td><td> 2.3</td></tr>\n",
       "\t<tr><th scope=row>sigma2</th><td> 0.0139</td><td> 0.0032</td><td> 0.0510</td><td>20</td><td>100</td><td>20.0</td><td>-1.1</td></tr>\n",
       "\t<tr><th scope=row>rho</th><td> 1.0000</td><td> 1.0000</td><td> 1.0000</td><td>NA</td><td> NA</td><td>  NA</td><td>  NA</td></tr>\n",
       "</tbody>\n",
       "</table>\n"
      ],
      "text/latex": [
       "A matrix: 8 × 7 of type dbl\n",
       "\\begin{tabular}{r|lllllll}\n",
       "  & Median & 2.5\\% & 97.5\\% & n.sample & \\% accept & n.effective & Geweke.diag\\\\\n",
       "\\hline\n",
       "\t(Intercept) &  0.3052 &  0.3052 &  0.3052 & 20 &   0 &  0.0 &  NaN\\\\\n",
       "\tDisttoroadm &  0.0001 &  0.0001 &  0.0001 & 20 &   0 &  0.0 &  NaN\\\\\n",
       "\tPopulationm &  0.0082 &  0.0082 &  0.0082 & 20 &   0 &  0.0 &  NaN\\\\\n",
       "\tElevationm & -0.0004 & -0.0004 & -0.0004 & 20 &   0 &  0.0 &  NaN\\\\\n",
       "\tPrecipitationm & -0.0250 & -0.0250 & -0.0250 & 20 &   0 &  0.0 &  NaN\\\\\n",
       "\ttau2 &  2.3271 &  2.1712 &  2.4663 & 20 & 100 &  6.9 &  2.3\\\\\n",
       "\tsigma2 &  0.0139 &  0.0032 &  0.0510 & 20 & 100 & 20.0 & -1.1\\\\\n",
       "\trho &  1.0000 &  1.0000 &  1.0000 & NA &  NA &   NA &   NA\\\\\n",
       "\\end{tabular}\n"
      ],
      "text/markdown": [
       "\n",
       "A matrix: 8 × 7 of type dbl\n",
       "\n",
       "| <!--/--> | Median | 2.5% | 97.5% | n.sample | % accept | n.effective | Geweke.diag |\n",
       "|---|---|---|---|---|---|---|---|\n",
       "| (Intercept) |  0.3052 |  0.3052 |  0.3052 | 20 |   0 |  0.0 |  NaN |\n",
       "| Disttoroadm |  0.0001 |  0.0001 |  0.0001 | 20 |   0 |  0.0 |  NaN |\n",
       "| Populationm |  0.0082 |  0.0082 |  0.0082 | 20 |   0 |  0.0 |  NaN |\n",
       "| Elevationm | -0.0004 | -0.0004 | -0.0004 | 20 |   0 |  0.0 |  NaN |\n",
       "| Precipitationm | -0.0250 | -0.0250 | -0.0250 | 20 |   0 |  0.0 |  NaN |\n",
       "| tau2 |  2.3271 |  2.1712 |  2.4663 | 20 | 100 |  6.9 |  2.3 |\n",
       "| sigma2 |  0.0139 |  0.0032 |  0.0510 | 20 | 100 | 20.0 | -1.1 |\n",
       "| rho |  1.0000 |  1.0000 |  1.0000 | NA |  NA |   NA |   NA |\n",
       "\n"
      ],
      "text/plain": [
       "               Median  2.5%    97.5%   n.sample % accept n.effective\n",
       "(Intercept)     0.3052  0.3052  0.3052 20         0       0.0       \n",
       "Disttoroadm     0.0001  0.0001  0.0001 20         0       0.0       \n",
       "Populationm     0.0082  0.0082  0.0082 20         0       0.0       \n",
       "Elevationm     -0.0004 -0.0004 -0.0004 20         0       0.0       \n",
       "Precipitationm -0.0250 -0.0250 -0.0250 20         0       0.0       \n",
       "tau2            2.3271  2.1712  2.4663 20       100       6.9       \n",
       "sigma2          0.0139  0.0032  0.0510 20       100      20.0       \n",
       "rho             1.0000  1.0000  1.0000 NA        NA        NA       \n",
       "               Geweke.diag\n",
       "(Intercept)     NaN       \n",
       "Disttoroadm     NaN       \n",
       "Populationm     NaN       \n",
       "Elevationm      NaN       \n",
       "Precipitationm  NaN       \n",
       "tau2            2.3       \n",
       "sigma2         -1.1       \n",
       "rho              NA       "
      ]
     },
     "metadata": {},
     "output_type": "display_data"
    }
   ],
   "source": [
    "model2$summary.results"
   ]
  },
  {
   "cell_type": "markdown",
   "metadata": {},
   "source": [
    "# Model III\n",
    "This model assumes that processes $S$ and $P$ are correlated to each other. Both of them have a specific Gaussian Markov random field and these two spatial structures are correlated. The correlated spatial structure follows a multivariate CAR specification (cite:kavanagh2016,Lee2013). The structure of the model is visualised as a directed acyclic graph (DAG) in the figure [[ref:fig:M3]].  For a detail explanation of the model refer to the supplementary materials of the manuscript.\n",
    " $$ [P , S ] = [P | GMRF_p] [ S | GMRF_s] $$\n",
    " \n",
    "\n"
   ]
  },
  {
   "cell_type": "markdown",
   "metadata": {},
   "source": [
    "<img src=\"m3.png\" alt=\"model III\"  width=\"400px\">\n"
   ]
  },
  {
   "cell_type": "markdown",
   "metadata": {},
   "source": [
    "## Running the model\n",
    "Applying this model is straight forward. We only need to define an appropriate formula object."
   ]
  },
  {
   "cell_type": "code",
   "execution_count": 35,
   "metadata": {},
   "outputs": [],
   "source": [
    "formula <- cbind(species,sample) ~ Elevationm + Precipitationm + Disttoroadm + Populationm"
   ]
  },
  {
   "cell_type": "code",
   "execution_count": 36,
   "metadata": {},
   "outputs": [],
   "source": [
    "## Get number areal elements\n",
    "K <- dim(M_bis)[1]\n",
    "## Calculate new trial vector\n",
    "trials <- matrix(rep(1.0,K*2), ncol=2)"
   ]
  },
  {
   "cell_type": "code",
   "execution_count": 37,
   "metadata": {},
   "outputs": [
    {
     "name": "stdout",
     "output_type": "stream",
     "text": [
      "Setting up the model.\n",
      "Generating 100 post burnin and thinned (if requested) samples.\n",
      "  |======================================================================| 100%\n",
      "Summarising results.\n",
      "Finished in  31.4 seconds.\n"
     ]
    }
   ],
   "source": [
    "#burnin = 500\n",
    "#n.sample = 1000\n",
    "#thin = 1\n",
    "## Toy example, increase n.sample and burnin significantly for real applications.\n",
    "burnin = 400\n",
    "n.sample = 500\n",
    "thin = 5\n",
    "model3 <- MVS.CARleroux(formula , \n",
    "                        family = 'binomial',\n",
    "                        trials=trials,\n",
    "                        W=M_bis,\n",
    "                        rho = 1,\n",
    "                        burnin = burnin,\n",
    "                        n.sample = n.sample,\n",
    "                        data = DataFrame\n",
    "                         )"
   ]
  },
  {
   "cell_type": "markdown",
   "metadata": {},
   "source": [
    "To examine the model diagnostics use modelfit, as usual.\n"
   ]
  },
  {
   "cell_type": "code",
   "execution_count": 31,
   "metadata": {},
   "outputs": [
    {
     "data": {
      "text/html": [
       "<style>\n",
       ".dl-inline {width: auto; margin:0; padding: 0}\n",
       ".dl-inline>dt, .dl-inline>dd {float: none; width: auto; display: inline-block}\n",
       ".dl-inline>dt::after {content: \":\\0020\"; padding-right: .5ex}\n",
       ".dl-inline>dt:not(:first-of-type) {padding-left: .5ex}\n",
       "</style><dl class=dl-inline><dt>DIC</dt><dd>3976.20759912675</dd><dt>p.d</dt><dd>93.2164197242628</dd><dt>WAIC</dt><dd>3966.76045095188</dd><dt>p.w</dt><dd>81.3988205559398</dd><dt>LMPL</dt><dd>-1982.01490855626</dd><dt>loglikelihood</dt><dd>-1894.88737983911</dd></dl>\n"
      ],
      "text/latex": [
       "\\begin{description*}\n",
       "\\item[DIC] 3976.20759912675\n",
       "\\item[p.d] 93.2164197242628\n",
       "\\item[WAIC] 3966.76045095188\n",
       "\\item[p.w] 81.3988205559398\n",
       "\\item[LMPL] -1982.01490855626\n",
       "\\item[loglikelihood] -1894.88737983911\n",
       "\\end{description*}\n"
      ],
      "text/markdown": [
       "DIC\n",
       ":   3976.20759912675p.d\n",
       ":   93.2164197242628WAIC\n",
       ":   3966.76045095188p.w\n",
       ":   81.3988205559398LMPL\n",
       ":   -1982.01490855626loglikelihood\n",
       ":   -1894.88737983911\n",
       "\n"
      ],
      "text/plain": [
       "          DIC           p.d          WAIC           p.w          LMPL \n",
       "   3976.20760      93.21642    3966.76045      81.39882   -1982.01491 \n",
       "loglikelihood \n",
       "  -1894.88738 "
      ]
     },
     "metadata": {},
     "output_type": "display_data"
    }
   ],
   "source": [
    "model3$modelfit"
   ]
  },
  {
   "cell_type": "markdown",
   "metadata": {},
   "source": [
    "# References\n",
    "- [1] Juan Escamilla-Mólgora, Luigi Sedda, Peter Diggle, and Peter Atkinson. A joint distribution framework to improve presence-only species distribution models by exploiting citizen sampling effort. 2021.\n",
    "- [2] P. J. Diggle, J. A. Tawn, and R. A. Moyeed. Model-based geostatistics. Journal of the Royal Statistical Society: Series C (Applied Statistics), 47(3):299–350, jan 2002.\n",
    "- [3] Julian Besag. Spatial Interaction and the Statistical Analysis of Lattice Systems. Journal of the Royal Statistical Society. Series B (Methodological), 36(2):192–236, 1974. 13\n",
    "- [4] Duncan Lee. CARBayes : An R Package for Bayesian Spatial Modeling with Conditional Autoregressive Priors. Journal of Statistical Software, 55(13):1–24, nov 2013.\n",
    "- [5] GBIF.org. GBIF Occurrence Download, 2016.\n",
    "- [6] Håvard Rue and Leonhard Held. Gaussian markov random fields: Theory and applications. Chapman and Hall/CRC, 2005.\n",
    "- [7] Seymour Geisser. The predictive sample reuse method with applications. Journal of the American Statistical Association, 70(350):320–328, 1975.\n",
    "- [8] Leo Kavanagh, Duncan Lee, and Gwilym Pryce. Is Poverty Decentralizing? Quantifying Uncertainty in the Decentralization of Urban Poverty. Annals of the American Association of Geographers, 106(6):1286–1298, nov 2016"
   ]
  },
  {
   "cell_type": "code",
   "execution_count": null,
   "metadata": {},
   "outputs": [],
   "source": []
  }
 ],
 "metadata": {
  "kernelspec": {
   "display_name": "R",
   "language": "R",
   "name": "ir"
  },
  "language_info": {
   "codemirror_mode": "r",
   "file_extension": ".r",
   "mimetype": "text/x-r-source",
   "name": "R",
   "pygments_lexer": "r",
   "version": "4.0.4"
  }
 },
 "nbformat": 4,
 "nbformat_minor": 4
}
