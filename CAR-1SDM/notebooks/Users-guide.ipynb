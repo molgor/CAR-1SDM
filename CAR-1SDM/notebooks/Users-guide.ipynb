{
 "cells": [
  {
   "cell_type": "markdown",
   "metadata": {},
   "source": [
    "# A users' guide to apply the presence-only joint distribution framework for single species distributions\n",
    "#### Juan M. Escamilla Mólgora,\n",
    "#### j.escamillamolgora@lancaster.ac.uk\n",
    "\n",
    "\n",
    "> ## Summary\n",
    "This document is a guide to use the models described in the paper: *A joint distribution framework to improve presence-only species distribution models by exploiting opportunistic surveys* (EscamillaMolgora,2021) for modelling species distributions with presence-only data.\n",
    "\n",
    "## Introduction\n",
    "The presented framework proposes three bayesian models for inferring single species distributions using solely observations of species occurrences (i.e. presence-only data).\n",
    "The fundamental idea of the framework is that the observed occurrences ($Y$) are determined not only by the environmental conditions (niche) suitable for the species to thrive but also accounts for the bias in which these observations were collected (i.e. sampling effort). As such, the occurrences are specified as realisations of a join process composed of environmental conditions ($P_Y$) and sampling effort ($P_X$). These two components are explicitly defined with a model-based approach (cite:Diggle2002) to specify two types of covariates, one for $P_X$ and other for $P_Y$.\n",
    "Both processes are specified as mixed models. That is, they are composed of  a fixed effect (i.e. $E(P_X) = g(d_X;\\beta_X)$ and $E(P_Y) = g(d_Y;\\beta_Y)$) and a random effect that models the variation between observations across space. For the purposes of this example (and the presented results in the manuscript) we consider $g(d_X;\\beta_X)$ to be linear, that is: $g(d_X;\\beta_X) = \\beta_X^t d_X$, where $d_X$ is the vector of covariates associated to a given observation. For a clear description of the model refer to the manuscript and, specifically, to the supplementary materials.\n",
    "\n",
    "The dependencies between processes $P_X$ and $P_Y$ are specified in terms of the covariance between all observations. That is, by their random effects; $R_X$ and $R_Y$ respectively. We proposed three forms to model these dependencies. Model I assumes $R_X$ and $R_Y$ are independent. Model II assumes that $R_X = R_Y$ and Model III assumes both random effects are correlated. The three models specify a conditional autoregressive (CAR) (Besag,1974) model for defining the spatial random effect. Therefore, this framework is only suited for data aggregated in areas tilled over a region (i.e. spatial lattices).\n",
    "\n",
    "In the following sections we will apply models I, II and III in the *R* programming language using the package CARBayes (Lee,2013). The data used was obtained from GBIF using the dataset (gbifmexdata). This document is intended to serve as a guide for modelling species distributions using the aforementioned framework. For further reference of the Bayesian methodologies, diagnoses and deeper analysis of lattice-based models refer to (Lee,2013;Rue,2005)\n",
    "\n",
    "We begin by first assigining the working directory.\n"
   ]
  },
  {
   "cell_type": "code",
   "execution_count": 1,
   "metadata": {},
   "outputs": [],
   "source": [
    "setwd('/main/app/external_plugins/biospytial_rwrapper/CAR-1SDM/')\n",
    "#source('R/preprocess_data.R')"
   ]
  },
  {
   "cell_type": "markdown",
   "metadata": {},
   "source": [
    "## Loading data and necessary libraries\n",
    "- *CARBayes* is a CAR implementation developed by (Lee,2013). We can use this library with adequate data transformation to apply models I, II and III."
   ]
  },
  {
   "cell_type": "code",
   "execution_count": 2,
   "metadata": {},
   "outputs": [
    {
     "name": "stderr",
     "output_type": "stream",
     "text": [
      "Loading required package: MASS\n",
      "\n",
      "Loading required package: Rcpp\n",
      "\n",
      "Registered S3 method overwritten by 'GGally':\n",
      "  method from   \n",
      "  +.gg   ggplot2\n",
      "\n"
     ]
    }
   ],
   "source": [
    "setwd(\"R\")\n",
    "library(CARBayes)\n"
   ]
  },
  {
   "cell_type": "markdown",
   "metadata": {},
   "source": [
    "- Additionaly, some libraries for data handling and loading numpy arrays.\n",
    "\n",
    "\n",
    "\n"
   ]
  },
  {
   "cell_type": "code",
   "execution_count": 3,
   "metadata": {},
   "outputs": [
    {
     "name": "stderr",
     "output_type": "stream",
     "text": [
      "\n",
      "Attaching package: ‘dplyr’\n",
      "\n",
      "\n",
      "The following object is masked from ‘package:MASS’:\n",
      "\n",
      "    select\n",
      "\n",
      "\n",
      "The following objects are masked from ‘package:stats’:\n",
      "\n",
      "    filter, lag\n",
      "\n",
      "\n",
      "The following objects are masked from ‘package:base’:\n",
      "\n",
      "    intersect, setdiff, setequal, union\n",
      "\n",
      "\n"
     ]
    }
   ],
   "source": [
    "library(dplyr)\n",
    "library(purrr)\n",
    "library(reticulate)"
   ]
  },
  {
   "cell_type": "markdown",
   "metadata": {},
   "source": [
    "### Loading the *choosing principle* functions\n",
    "These are functions that define the presence, relative absences and missing observations."
   ]
  },
  {
   "cell_type": "code",
   "execution_count": 4,
   "metadata": {},
   "outputs": [],
   "source": [
    "source(\"ChoosingPrinciples.R\")"
   ]
  },
  {
   "cell_type": "markdown",
   "metadata": {},
   "source": [
    "## Read the adjancency matrix of the spatial lattice\n",
    "The spatial lattice is represented as an adjacency matrix obtained by another sofware. \n",
    "However you could generate this matrix of any given spatial vector format (e.g. ESRI Shapefile) using the function 'combine.data.shapefile' provided by *CARBayes*. Refer to the https://cran.r-project.org/web/packages/CARBayes/CARBayes.pdf (CARBayes documentation).\n"
   ]
  },
  {
   "cell_type": "code",
   "execution_count": 5,
   "metadata": {},
   "outputs": [],
   "source": [
    "# Import adjancency matrix generated from region\n",
    "mat_filename = \"../data/training_data_sample_puebla_p9_abies_pinophyta_adjmat.npy\"\n",
    "# The adjacency matrix is saved as a numpy object. We need load it appropiately\n",
    "# Use numpy functions\n",
    "np <- import(\"numpy\")\n",
    "M <- np$load(mat_filename)"
   ]
  },
  {
   "cell_type": "markdown",
   "metadata": {},
   "source": [
    "## Importing main dataframe\n",
    "We will first load the dataframe as 'TDF' and then sort the rows according to their 'cell_ids' to match that of the adjancency matrix M.\n"
   ]
  },
  {
   "cell_type": "code",
   "execution_count": 6,
   "metadata": {},
   "outputs": [],
   "source": [
    "TDF = read.csv(\"../data/training_data_sample_puebla_p9_abies_pinophyta.csv\")\n",
    "## Uncomment this to load the birds example\n",
    "#TDF = read.csv(\"../data/training_data_sample_puebla_p9_tyrannidae_birds.csv\")\n",
    "## Order it according to the id of the cell\n",
    "TDF = TDF[order(TDF$cell_ids),]\n",
    "# Convert the columns to numeric\n",
    "\n",
    "## Beware, older implementations of as.numeric function turns strings to (apparently) random numeric values\n",
    "TDF = mutate_at(TDF,vars(Dist.to.road_m,Elevation_m,\n",
    "                         MaxTemp_m,MeanTemp_m,\n",
    "                         MinTemp_m,Population_m,\n",
    "                         Precipitation_m,\n",
    "                         SolarRadiation_m,\n",
    "                         VaporPres_m,\n",
    "                         WindSp_m),na_if,\"N.A.\")\n",
    "\n",
    "\n",
    "\n",
    "TDF = mutate_at(TDF,vars(Dist.to.road_m,Elevation_m,\n",
    "                         MaxTemp_m,MeanTemp_m,\n",
    "                         MinTemp_m,Population_m,\n",
    "                         Precipitation_m,\n",
    "                         SolarRadiation_m,\n",
    "                         VaporPres_m,\n",
    "                         WindSp_m),as.numeric)\n",
    "\n",
    "# Remove unnecessary symbols in variable names\n",
    "names(TDF) = lapply(names(TDF),function(x) gsub(\"_\",\"\",x))\n",
    "names(TDF) = lapply(names(TDF),function(x) gsub(\"\\\\.\",\"\",x))\n"
   ]
  },
  {
   "cell_type": "markdown",
   "metadata": {},
   "source": [
    "## Generating relative absences with  the *choosing principle*\n",
    "There are two treatments for the assigning missing data, treatment I that assumes missing data in both processes and treatment II that assigns missing data only to the sampling effort. This later treatment has less uncertainty but the assumption of absences is strong. Uncomment the code to use the other treatment.\n"
   ]
  },
  {
   "cell_type": "code",
   "execution_count": 7,
   "metadata": {},
   "outputs": [],
   "source": [
    "# Change the name of a column that for some reason is called the same\n",
    "names(TDF)[23] <- 'code_id2'\n",
    "\n",
    "## Treatment I, missing values in X and Y, comment this if using treatment II\n",
    "DataFrame = TDF %>% rowwise() %>%\n",
    "              mutate(sample=pseudo_absence_naive(Plantae,LUCA),\n",
    "                     species=pseudo_absence_naive(Pinophyta,Plantae))\n",
    "\n",
    "## Uncomment this for treatment II (i.e. missing values only in X)\n",
    "#DataFrame = TDF %>% rowwise() %>%\n",
    "#            mutate(sample=pseudo_absence_naive(Plantae,LUCA),\n",
    "#                   species=pseudo_absence_trivial(Pinophyta,Plantae))\n",
    "\n",
    "## Uncomment this if you want to assume that all missing data are absences\n",
    "## i.e. remove NAs\n",
    "#\n",
    "## Remove entries in the adjacency matrix that correspond to missing data\n",
    "#rr <- DataFrame %>%\n",
    "#    filter(!is.na(species) & !is.na(sample))\n",
    "#\n",
    "#sam_idx_nan <- which(is.na(DataFrame$sample))\n",
    "#\n",
    "#M = M[-c(sam_idx_nan),-c(sam_idx_nan)]\n",
    "\n",
    "## Remove missig data in DataFrame\n",
    "#DataFrame = TDF %>% rowwise() %>%\n",
    "#  mutate(sample=pseudo_absence_trivial(Plantae,LUCA),\n",
    "#         species=pseudo_absence_trivial(Pinophyta,Plantae))\n",
    "#+end_src\n"
   ]
  },
  {
   "cell_type": "markdown",
   "metadata": {},
   "source": [
    "## Preprocess adjancency matrix $M$\n",
    "There is a caveat, though. The CAR model works for connected regions only. That is, when the adjacency matrix corresponds to a connected graph. Blocks of cells that are not connected to each other are called islands and are considered independent. That is, a new model should be run for each block of disconnected cells.\n",
    "\n",
    "That is, we need to identify the blocks of isolated cells and remove them from the adjacency matrix. On order to comply with the dimension of the associate covariate (design) matrix we need to remove the associated rows (entries) corresponding to the isolated cells.\n"
   ]
  },
  {
   "cell_type": "code",
   "execution_count": 8,
   "metadata": {},
   "outputs": [],
   "source": [
    "## Remove entries with zero neighbours (adjacency matrix)\n",
    "### Calculates number of neighbours in D (sum)\n",
    "D = apply(M,MARGIN = 1,sum)\n",
    "### get index with 0 neighbours\n",
    "idx = which(D == 0)\n",
    "\n",
    "### select cells with no neighbours\n",
    "cell_with_no_neighbour = TDF$cellids[idx]\n",
    "## Remove island for TDF\n",
    "TDF <- TDF[-c(idx),]\n",
    "## Erase idx for M and for TDF\n",
    "M_bis = M[-c(idx),-c(idx)]\n",
    "\n",
    "## remove rows that have no neighbours (islands)\n",
    "DataFrame <- DataFrame[-c(idx),]\n",
    "\n",
    "n <- dim(M_bis)[1]\n",
    "trials <- rep(1,n)\n",
    "\n"
   ]
  },
  {
   "cell_type": "markdown",
   "metadata": {},
   "source": [
    "\n",
    "As the current implementation of CARBayes does not allow missing values in the covariates we will perform a naive imputation of missing values on each column of interest (i.e covariates associated with the models' formulas).\n"
   ]
  },
  {
   "cell_type": "code",
   "execution_count": 9,
   "metadata": {},
   "outputs": [],
   "source": [
    "## Replace missing values with mean, Of course we could do this using other more fancy method\n",
    "covs2work = c(\"Disttoroadm\",\"Populationm\",\"Elevationm\",\"Precipitationm\",\"MeanTempm\")\n",
    "for(i in covs2work){\n",
    "    DataFrame[,i][is.na(DataFrame[,i])] <- mean(DataFrame[,i][!is.na(DataFrame[,i])],na.rm=TRUE)\n",
    "}"
   ]
  },
  {
   "cell_type": "markdown",
   "metadata": {},
   "source": [
    "# Model I\n",
    "\n",
    "This model assumes that the ecological suitability distribution ($Y$) and sampling effort $X$ process are independent. The structure of the model is visualised as a directed acyclic graph (DAG) in the figure below.  For a detail explanation of the model refer to the supplementary materials of the manuscript.\n",
    "\n",
    "<img src=\"m1.png\" alt=\"model I\"  width=\"400px\">\n"
   ]
  },
  {
   "cell_type": "code",
   "execution_count": 10,
   "metadata": {},
   "outputs": [],
   "source": [
    "## Load function for Model I\n",
    "source(\"joint.binomial.bymCARModel1.R\")\n"
   ]
  },
  {
   "cell_type": "markdown",
   "metadata": {},
   "source": [
    "A brief data exploration shows the number of relative absences and presences (npresence_0,npresece_1) in the \"presences\" process $Y$, the in the sampling process $X$  (i.e. nsample_0 and nsample_1, respectively). Missed data (no observations) are shown as n_miss_presence and n_miss_sample. for $Y$ and $X$ respectively.\n",
    "\n"
   ]
  },
  {
   "cell_type": "code",
   "execution_count": 11,
   "metadata": {},
   "outputs": [
    {
     "data": {
      "text/html": [
       "<table class=\"dataframe\">\n",
       "<caption>A matrix: 1 × 6 of type dbl</caption>\n",
       "<thead>\n",
       "\t<tr><th scope=col>npresence_0</th><th scope=col>npresence_1</th><th scope=col>nsample_0</th><th scope=col>nsample_1</th><th scope=col>n_miss_presence</th><th scope=col>n_miss_sample</th></tr>\n",
       "</thead>\n",
       "<tbody>\n",
       "\t<tr><td>63.02956</td><td>8.399015</td><td>10.59113</td><td>71.42857</td><td>28.57143</td><td>17.9803</td></tr>\n",
       "</tbody>\n",
       "</table>\n"
      ],
      "text/latex": [
       "A matrix: 1 × 6 of type dbl\n",
       "\\begin{tabular}{llllll}\n",
       " npresence\\_0 & npresence\\_1 & nsample\\_0 & nsample\\_1 & n\\_miss\\_presence & n\\_miss\\_sample\\\\\n",
       "\\hline\n",
       "\t 63.02956 & 8.399015 & 10.59113 & 71.42857 & 28.57143 & 17.9803\\\\\n",
       "\\end{tabular}\n"
      ],
      "text/markdown": [
       "\n",
       "A matrix: 1 × 6 of type dbl\n",
       "\n",
       "| npresence_0 | npresence_1 | nsample_0 | nsample_1 | n_miss_presence | n_miss_sample |\n",
       "|---|---|---|---|---|---|\n",
       "| 63.02956 | 8.399015 | 10.59113 | 71.42857 | 28.57143 | 17.9803 |\n",
       "\n"
      ],
      "text/plain": [
       "     npresence_0 npresence_1 nsample_0 nsample_1 n_miss_presence n_miss_sample\n",
       "[1,] 63.02956    8.399015    10.59113  71.42857  28.57143        17.9803      "
      ]
     },
     "metadata": {},
     "output_type": "display_data"
    }
   ],
   "source": [
    "ntot = length(DataFrame$sample)\n",
    "npresence_1 = length(na.omit(DataFrame$species[DataFrame$species == 1])) / ntot*100\n",
    "nsample_1 = length(na.omit(DataFrame$sample[DataFrame$sample == 1]))/ntot*100\n",
    "npresence_0 = length(na.omit(DataFrame$species[DataFrame$species == 0]))/ntot*100\n",
    "nsample_0 = length(na.omit(DataFrame$sample[DataFrame$sample == 0]))/ntot*100\n",
    "n_miss_presence = sum(is.na(DataFrame$species))/ntot*100\n",
    "n_miss_sample = sum(is.na(DataFrame$sample))/ntot*100\n",
    "cbind(npresence_0,npresence_1,nsample_0,nsample_1,n_miss_presence,n_miss_sample)"
   ]
  },
  {
   "cell_type": "markdown",
   "metadata": {},
   "source": [
    "### Running the model\n",
    "We begin by defining the formulas for the sampling effort (formula_sample) and the environmental niche (formula_presence).\n",
    "As we are dealing with only presence-absence realisations, we define a bernoulli process. That is, a binomial distribution with $k=1$.\n",
    "This can be specified with a 'trials' vector built on only ones.\n"
   ]
  },
  {
   "cell_type": "code",
   "execution_count": 12,
   "metadata": {},
   "outputs": [],
   "source": [
    "formula_sample=sample~Disttoroadm+Populationm\n",
    "formula_presence=species~Elevationm+MeanTempm\n",
    "n <- nrow(TDF)\n",
    "trials <- rep(1,n)\n"
   ]
  },
  {
   "cell_type": "markdown",
   "metadata": {},
   "source": [
    "\n",
    "We define the running settings for sampling the posterior distribution. In this case we specify 1,000 iterations after burnin (i.e. initialisation to reach stationarity of the Markov chain) of 70,000. To reduce hoarding data in memory we choose a thinning of 10. The postburnin parameter defines the number of iterations after burnin for each process but before saving the final sample of 1,000 iterations. Postburnin defines and extra burn-in iterations.\n"
   ]
  },
  {
   "cell_type": "code",
   "execution_count": 13,
   "metadata": {},
   "outputs": [],
   "source": [
    "\n",
    "## To example, use higher sampling for real applications.\n",
    "n.sample = 10000                                                                               \n",
    "burnin=10000\n",
    "thin = 10\n",
    "postburnin = burnin + 1000"
   ]
  },
  {
   "cell_type": "code",
   "execution_count": 14,
   "metadata": {
    "scrolled": true
   },
   "outputs": [
    {
     "name": "stdout",
     "output_type": "stream",
     "text": [
      "Setting up the model.\n",
      "Performing burnin period for Sample Effort Model \n",
      "  |======================================================================| 100%\n",
      "Summarising results.\n",
      "Finished in  41.3 seconds.\n",
      "Setting up the model.\n",
      "Performing burnin period for Presence model \n",
      "  |======================================================================| 100%\n",
      "Summarising results.\n",
      "Finished in  40.1 seconds.\n",
      "Sampling from the joint model 1000 post burnin and thinned (if requested) samples.\n",
      "  |======================================================================| 100%\n",
      "[1] \"Compiling summary for S process\"\n",
      "[1] \"Compiling summary for the P process\"\n"
     ]
    }
   ],
   "source": [
    "model1  <- joint.binomial.bymCARModel1(formula_S = formula_sample,\n",
    "                                        formula_P = formula_presence,\n",
    "                                        n.sample=n.sample,\n",
    "                                        data = DataFrame,\n",
    "                                        burnin=burnin,\n",
    "                                        postburnin=postburnin,\n",
    "                                        thin=thin,\n",
    "                                    verbose=TRUE)"
   ]
  },
  {
   "cell_type": "markdown",
   "metadata": {},
   "source": [
    "In model I, the processes $S$ (sample) and $P$ (environment) are independent. The object model1 contains these independent components stored as attributes S and P respectively. To inspect the posterior summary statistics we can use the attribute summary.results on each process. "
   ]
  },
  {
   "cell_type": "code",
   "execution_count": 15,
   "metadata": {},
   "outputs": [
    {
     "data": {
      "text/html": [
       "<table class=\"dataframe\">\n",
       "<caption>A matrix: 5 × 7 of type dbl</caption>\n",
       "<thead>\n",
       "\t<tr><th></th><th scope=col>Median</th><th scope=col>2.5%</th><th scope=col>97.5%</th><th scope=col>n.sample</th><th scope=col>% accept</th><th scope=col>n.effective</th><th scope=col>Geweke.diag</th></tr>\n",
       "</thead>\n",
       "<tbody>\n",
       "\t<tr><th scope=row>(Intercept)</th><td>-6.5212</td><td>-16.2872</td><td> 0.8302</td><td>1000</td><td> 53.3</td><td>6.1</td><td>-2.3</td></tr>\n",
       "\t<tr><th scope=row>Elevationm</th><td> 0.0019</td><td>  0.0002</td><td> 0.0037</td><td>1000</td><td> 53.3</td><td>5.8</td><td> 0.4</td></tr>\n",
       "\t<tr><th scope=row>MeanTempm</th><td> 0.0188</td><td> -0.2874</td><td> 0.3005</td><td>1000</td><td> 53.3</td><td>7.8</td><td> 0.6</td></tr>\n",
       "\t<tr><th scope=row>tau2</th><td> 8.1528</td><td>  4.1537</td><td>12.8222</td><td>1000</td><td>100.0</td><td>6.9</td><td> 1.3</td></tr>\n",
       "\t<tr><th scope=row>sigma2</th><td> 0.0343</td><td>  0.0103</td><td> 0.0611</td><td>1000</td><td>100.0</td><td>5.8</td><td>-6.8</td></tr>\n",
       "</tbody>\n",
       "</table>\n"
      ],
      "text/latex": [
       "A matrix: 5 × 7 of type dbl\n",
       "\\begin{tabular}{r|lllllll}\n",
       "  & Median & 2.5\\% & 97.5\\% & n.sample & \\% accept & n.effective & Geweke.diag\\\\\n",
       "\\hline\n",
       "\t(Intercept) & -6.5212 & -16.2872 &  0.8302 & 1000 &  53.3 & 6.1 & -2.3\\\\\n",
       "\tElevationm &  0.0019 &   0.0002 &  0.0037 & 1000 &  53.3 & 5.8 &  0.4\\\\\n",
       "\tMeanTempm &  0.0188 &  -0.2874 &  0.3005 & 1000 &  53.3 & 7.8 &  0.6\\\\\n",
       "\ttau2 &  8.1528 &   4.1537 & 12.8222 & 1000 & 100.0 & 6.9 &  1.3\\\\\n",
       "\tsigma2 &  0.0343 &   0.0103 &  0.0611 & 1000 & 100.0 & 5.8 & -6.8\\\\\n",
       "\\end{tabular}\n"
      ],
      "text/markdown": [
       "\n",
       "A matrix: 5 × 7 of type dbl\n",
       "\n",
       "| <!--/--> | Median | 2.5% | 97.5% | n.sample | % accept | n.effective | Geweke.diag |\n",
       "|---|---|---|---|---|---|---|---|\n",
       "| (Intercept) | -6.5212 | -16.2872 |  0.8302 | 1000 |  53.3 | 6.1 | -2.3 |\n",
       "| Elevationm |  0.0019 |   0.0002 |  0.0037 | 1000 |  53.3 | 5.8 |  0.4 |\n",
       "| MeanTempm |  0.0188 |  -0.2874 |  0.3005 | 1000 |  53.3 | 7.8 |  0.6 |\n",
       "| tau2 |  8.1528 |   4.1537 | 12.8222 | 1000 | 100.0 | 6.9 |  1.3 |\n",
       "| sigma2 |  0.0343 |   0.0103 |  0.0611 | 1000 | 100.0 | 5.8 | -6.8 |\n",
       "\n"
      ],
      "text/plain": [
       "            Median  2.5%     97.5%   n.sample % accept n.effective Geweke.diag\n",
       "(Intercept) -6.5212 -16.2872  0.8302 1000      53.3    6.1         -2.3       \n",
       "Elevationm   0.0019   0.0002  0.0037 1000      53.3    5.8          0.4       \n",
       "MeanTempm    0.0188  -0.2874  0.3005 1000      53.3    7.8          0.6       \n",
       "tau2         8.1528   4.1537 12.8222 1000     100.0    6.9          1.3       \n",
       "sigma2       0.0343   0.0103  0.0611 1000     100.0    5.8         -6.8       "
      ]
     },
     "metadata": {},
     "output_type": "display_data"
    }
   ],
   "source": [
    "model1$P$summary.results"
   ]
  },
  {
   "cell_type": "code",
   "execution_count": 16,
   "metadata": {},
   "outputs": [
    {
     "data": {
      "text/html": [
       "<table class=\"dataframe\">\n",
       "<caption>A matrix: 5 × 7 of type dbl</caption>\n",
       "<thead>\n",
       "\t<tr><th></th><th scope=col>Median</th><th scope=col>2.5%</th><th scope=col>97.5%</th><th scope=col>n.sample</th><th scope=col>% accept</th><th scope=col>n.effective</th><th scope=col>Geweke.diag</th></tr>\n",
       "</thead>\n",
       "<tbody>\n",
       "\t<tr><th scope=row>(Intercept)</th><td>1.7029</td><td>1.7029</td><td>1.7029</td><td>1000</td><td>  0</td><td> 0.0</td><td> NaN</td></tr>\n",
       "\t<tr><th scope=row>Disttoroadm</th><td>0.0000</td><td>0.0000</td><td>0.0000</td><td>1000</td><td>  0</td><td> 0.0</td><td> NaN</td></tr>\n",
       "\t<tr><th scope=row>Populationm</th><td>0.0034</td><td>0.0034</td><td>0.0034</td><td>1000</td><td>  0</td><td> 0.0</td><td> NaN</td></tr>\n",
       "\t<tr><th scope=row>tau2</th><td>3.4330</td><td>2.1717</td><td>5.5387</td><td>1000</td><td>100</td><td>11.3</td><td>-0.9</td></tr>\n",
       "\t<tr><th scope=row>sigma2</th><td>0.4846</td><td>0.2854</td><td>0.8422</td><td>1000</td><td>100</td><td>10.3</td><td>-0.4</td></tr>\n",
       "</tbody>\n",
       "</table>\n"
      ],
      "text/latex": [
       "A matrix: 5 × 7 of type dbl\n",
       "\\begin{tabular}{r|lllllll}\n",
       "  & Median & 2.5\\% & 97.5\\% & n.sample & \\% accept & n.effective & Geweke.diag\\\\\n",
       "\\hline\n",
       "\t(Intercept) & 1.7029 & 1.7029 & 1.7029 & 1000 &   0 &  0.0 &  NaN\\\\\n",
       "\tDisttoroadm & 0.0000 & 0.0000 & 0.0000 & 1000 &   0 &  0.0 &  NaN\\\\\n",
       "\tPopulationm & 0.0034 & 0.0034 & 0.0034 & 1000 &   0 &  0.0 &  NaN\\\\\n",
       "\ttau2 & 3.4330 & 2.1717 & 5.5387 & 1000 & 100 & 11.3 & -0.9\\\\\n",
       "\tsigma2 & 0.4846 & 0.2854 & 0.8422 & 1000 & 100 & 10.3 & -0.4\\\\\n",
       "\\end{tabular}\n"
      ],
      "text/markdown": [
       "\n",
       "A matrix: 5 × 7 of type dbl\n",
       "\n",
       "| <!--/--> | Median | 2.5% | 97.5% | n.sample | % accept | n.effective | Geweke.diag |\n",
       "|---|---|---|---|---|---|---|---|\n",
       "| (Intercept) | 1.7029 | 1.7029 | 1.7029 | 1000 |   0 |  0.0 |  NaN |\n",
       "| Disttoroadm | 0.0000 | 0.0000 | 0.0000 | 1000 |   0 |  0.0 |  NaN |\n",
       "| Populationm | 0.0034 | 0.0034 | 0.0034 | 1000 |   0 |  0.0 |  NaN |\n",
       "| tau2 | 3.4330 | 2.1717 | 5.5387 | 1000 | 100 | 11.3 | -0.9 |\n",
       "| sigma2 | 0.4846 | 0.2854 | 0.8422 | 1000 | 100 | 10.3 | -0.4 |\n",
       "\n"
      ],
      "text/plain": [
       "            Median 2.5%   97.5%  n.sample % accept n.effective Geweke.diag\n",
       "(Intercept) 1.7029 1.7029 1.7029 1000       0       0.0         NaN       \n",
       "Disttoroadm 0.0000 0.0000 0.0000 1000       0       0.0         NaN       \n",
       "Populationm 0.0034 0.0034 0.0034 1000       0       0.0         NaN       \n",
       "tau2        3.4330 2.1717 5.5387 1000     100      11.3        -0.9       \n",
       "sigma2      0.4846 0.2854 0.8422 1000     100      10.3        -0.4       "
      ]
     },
     "metadata": {},
     "output_type": "display_data"
    }
   ],
   "source": [
    "model1$S$summary.results"
   ]
  },
  {
   "cell_type": "markdown",
   "metadata": {},
   "source": [
    "### Display modelfit object for both models"
   ]
  },
  {
   "cell_type": "code",
   "execution_count": 17,
   "metadata": {},
   "outputs": [
    {
     "data": {
      "text/html": [
       "<style>\n",
       ".dl-inline {width: auto; margin:0; padding: 0}\n",
       ".dl-inline>dt, .dl-inline>dd {float: none; width: auto; display: inline-block}\n",
       ".dl-inline>dt::after {content: \":\\0020\"; padding-right: .5ex}\n",
       ".dl-inline>dt:not(:first-of-type) {padding-left: .5ex}\n",
       "</style><dl class=dl-inline><dt>DIC</dt><dd>3630.75407721012</dd><dt>p.d</dt><dd>756.726109111842</dd><dt>WAIC</dt><dd>3684.97678488856</dd><dt>p.w</dt><dd>663.62525083941</dd><dt>LMPL</dt><dd>-1884.09306720711</dd><dt>loglikelihood</dt><dd>-1058.65092949322</dd></dl>\n"
      ],
      "text/latex": [
       "\\begin{description*}\n",
       "\\item[DIC] 3630.75407721012\n",
       "\\item[p.d] 756.726109111842\n",
       "\\item[WAIC] 3684.97678488856\n",
       "\\item[p.w] 663.62525083941\n",
       "\\item[LMPL] -1884.09306720711\n",
       "\\item[loglikelihood] -1058.65092949322\n",
       "\\end{description*}\n"
      ],
      "text/markdown": [
       "DIC\n",
       ":   3630.75407721012p.d\n",
       ":   756.726109111842WAIC\n",
       ":   3684.97678488856p.w\n",
       ":   663.62525083941LMPL\n",
       ":   -1884.09306720711loglikelihood\n",
       ":   -1058.65092949322\n",
       "\n"
      ],
      "text/plain": [
       "          DIC           p.d          WAIC           p.w          LMPL \n",
       "    3630.7541      756.7261     3684.9768      663.6253    -1884.0931 \n",
       "loglikelihood \n",
       "   -1058.6509 "
      ]
     },
     "metadata": {},
     "output_type": "display_data"
    }
   ],
   "source": [
    "model1$summary.results"
   ]
  },
  {
   "cell_type": "code",
   "execution_count": 18,
   "metadata": {},
   "outputs": [
    {
     "data": {
      "text/html": [
       "<style>\n",
       ".dl-inline {width: auto; margin:0; padding: 0}\n",
       ".dl-inline>dt, .dl-inline>dd {float: none; width: auto; display: inline-block}\n",
       ".dl-inline>dt::after {content: \":\\0020\"; padding-right: .5ex}\n",
       ".dl-inline>dt:not(:first-of-type) {padding-left: .5ex}\n",
       "</style><dl class=dl-inline><dt>DIC</dt><dd>1490.55671029041</dd><dt>p.d</dt><dd>350.480681087618</dd><dt>WAIC</dt><dd>1520.12633330497</dd><dt>p.w</dt><dd>304.877607957259</dd><dt>LMPL</dt><dd>-784.518158229111</dd><dt>loglikelihood</dt><dd>-394.797674057585</dd></dl>\n"
      ],
      "text/latex": [
       "\\begin{description*}\n",
       "\\item[DIC] 1490.55671029041\n",
       "\\item[p.d] 350.480681087618\n",
       "\\item[WAIC] 1520.12633330497\n",
       "\\item[p.w] 304.877607957259\n",
       "\\item[LMPL] -784.518158229111\n",
       "\\item[loglikelihood] -394.797674057585\n",
       "\\end{description*}\n"
      ],
      "text/markdown": [
       "DIC\n",
       ":   1490.55671029041p.d\n",
       ":   350.480681087618WAIC\n",
       ":   1520.12633330497p.w\n",
       ":   304.877607957259LMPL\n",
       ":   -784.518158229111loglikelihood\n",
       ":   -394.797674057585\n",
       "\n"
      ],
      "text/plain": [
       "          DIC           p.d          WAIC           p.w          LMPL \n",
       "    1490.5567      350.4807     1520.1263      304.8776     -784.5182 \n",
       "loglikelihood \n",
       "    -394.7977 "
      ]
     },
     "metadata": {},
     "output_type": "display_data"
    }
   ],
   "source": [
    "model1$P$modelfit"
   ]
  },
  {
   "cell_type": "markdown",
   "metadata": {},
   "source": [
    "### Convergence of the Markov chain by visual inspection\n",
    "Using traceplots"
   ]
  },
  {
   "cell_type": "code",
   "execution_count": 19,
   "metadata": {},
   "outputs": [
    {
     "data": {
      "image/png": "[encoded data removed]",
      "text/plain": [
       "Plot with title “”"
      ]
     },
     "metadata": {
      "image/png": {
       "height": 420,
       "width": 420
      }
     },
     "output_type": "display_data"
    }
   ],
   "source": [
    "library(coda)\n",
    "params.samples <- mcmc.list(model1$P$samples$beta)\n",
    "plot(params.samples)"
   ]
  },
  {
   "cell_type": "code",
   "execution_count": 20,
   "metadata": {},
   "outputs": [
    {
     "data": {
      "image/png": "[encoded data removed]",
      "text/plain": [
       "Plot with title “”"
      ]
     },
     "metadata": {
      "image/png": {
       "height": 420,
       "width": 420
      }
     },
     "output_type": "display_data"
    }
   ],
   "source": [
    "## For the sample process\n",
    "params.samples <- mcmc.list(model1$S$samples$beta)\n",
    "plot(params.samples)"
   ]
  },
  {
   "cell_type": "markdown",
   "metadata": {},
   "source": [
    "# Model II"
   ]
  },
  {
   "cell_type": "markdown",
   "metadata": {
    "tags": []
   },
   "source": [
    "## Running the model\n",
    "To run the model we first need to transform the data, specifically, the covariates matrix (i.e. design matrix). The transformation allows the fitting of specific covariates for each process (i.e. an environmental set of covariates and another set for the sampling effort).\n",
    "\n",
    "To do this, we stack the design matrices of $S$ and $P$ and extend the number of columns to the sum of both processes.\n",
    "That is, the number of columns of the resulting matrix is the sum of the columns of $P$ and $S$ (not counting the response variables).\n",
    "\n",
    "We begin by selecting the covariates for each process following a standard formula syntax (one formula per process).\n",
    "\n",
    "<img src=\"m2.png\" alt=\"model II\"  width=\"400px\">\n"
   ]
  },
  {
   "cell_type": "code",
   "execution_count": 21,
   "metadata": {},
   "outputs": [],
   "source": [
    "formula_sample =  sample ~ Disttoroadm + Populationm\n",
    "formula_presence = species ~ Elevationm + Precipitationm\n",
    "\n",
    "\n",
    "## Build dataframes, S <- Sample, P <- Presence\n",
    "S <- model.frame(formula_sample, DataFrame,na.action='na.pass')\n",
    "P <- model.frame(formula_presence, DataFrame,na.action='na.pass')\n",
    "\n",
    "## Split response variables (lefthand side) and covariates (righthand side) from the design matrix\n",
    "SX <- select(S, -c(1))\n",
    "PX <- select(P, -c(1))\n",
    "Sy <- select(S, c(1))\n",
    "Py <- select(P, c(1))\n",
    "\n",
    "## Assign names to columns\n",
    "names(Sy) <- 'response'\n",
    "names(Py) <- names(Sy)\n",
    "\n",
    "## Stack both processes into same dataframe\n",
    "## First the responses (Y) will be concatenated by row.\n",
    "Y = rbind(Sy,Py)\n"
   ]
  },
  {
   "cell_type": "markdown",
   "metadata": {},
   "source": [
    "To join both sets of covariates (SX and PX) into the stacked design matrix, we need to join the columns of SX and PX. As there's no information of environmental variables for process S and, viceversa, no information of the sampling covariates for process P, we assign 0 to these elements.\n",
    "\n",
    "For doing this, we first define two 2x2 matrices and perform the kronnecker product to generate a block diagonal design matrix to be used as the covariates of the stacked design matrix."
   ]
  },
  {
   "cell_type": "code",
   "execution_count": 22,
   "metadata": {},
   "outputs": [],
   "source": [
    "\n",
    "T1 <- matrix(rep(0,4), ncol = 2)\n",
    "T2 <- matrix(rep(0,4), ncol = 2)\n",
    "T1[1,1] <- 1\n",
    "T2[2,2] <- 1\n",
    "\n",
    "## Perform Kronnecker with different covariates (Block diagonal)\n",
    "X <- data.frame((T1 %x% as.matrix(SX)) + (T2 %x% as.matrix(PX)))\n",
    "names(X) <- c(names(SX),names(PX))\n",
    "\n",
    "## Lastly, we bind the stacked response variable with the stacked covariance matrix.\n",
    "SDM <- cbind(Y,X)\n"
   ]
  },
  {
   "cell_type": "markdown",
   "metadata": {},
   "source": [
    "### Defining other necessary arguments\n"
   ]
  },
  {
   "cell_type": "code",
   "execution_count": 23,
   "metadata": {},
   "outputs": [],
   "source": [
    "## Get number of elements in the lattice, \n",
    "nK <- dim(M_bis)[1]\n",
    "\n",
    "## make sequence vector for id.area\n",
    "## This is possible because the rows in adjacency matrix M_bis preserve the order of each element in the design matrix.\n",
    "ida <- data.frame(seq(nK))\n",
    "idarea <- unlist(rbind(ida,ida))\n",
    "## Assign values for the unstructured random effect (Zx, Zy).\n",
    "## In this case, all elements of S share the same random effect Zx. \n",
    "## Similarly, all elements of P share the same random effect Zy.\n",
    "## This is done with \n",
    "Zx <- rep(x = 1,times = nK)\n",
    "Zy <- rep(x = 2,times = nK)\n",
    "## Stack Zx and Zy to create a vector of labels used to define \n",
    "## the unstructured random effect.\n",
    "indre <- c(Zx,Zy)\n"
   ]
  },
  {
   "cell_type": "markdown",
   "metadata": {},
   "source": [
    "## Running the model"
   ]
  },
  {
   "cell_type": "code",
   "execution_count": 24,
   "metadata": {},
   "outputs": [
    {
     "name": "stdout",
     "output_type": "stream",
     "text": [
      "Setting up the model.\n",
      "Generating 20 post burnin and thinned (if requested) samples.\n",
      "  |======================================================================| 100%\n",
      "Summarising results.\n",
      "Finished in  1.9 seconds.\n"
     ]
    }
   ],
   "source": [
    "#formula_sample =  sample ~ Disttoroadm + Populationm\n",
    "#formula_presence = species ~ Elevationm + Precipitationm\n",
    "formula <- response ~ Disttoroadm + Populationm + Elevationm + Precipitationm\n",
    "ind.re = c(rep(1,nK),rep(2,nK))\n",
    "\n",
    "ntot <- dim(SDM)[1]\n",
    "trials <- rep(1,ntot)\n",
    "## Toy example, increase sampling and burnin size significantly for real applications.\n",
    "burnin = 100\n",
    "n.sample = 120\n",
    "thin = 5\n",
    "\n",
    "\n",
    "model2 <- S.CARmultilevel(formula,family = 'binomial',\n",
    "                          trials=as.numeric(trials),\n",
    "                          W=M_bis,\n",
    "                          ind.area=idarea,\n",
    "                          #ind.re=factor(idarea),\n",
    "                          ind.re = factor(ind.re),\n",
    "                          rho=1,\n",
    "                          burnin=burnin,\n",
    "                          n.sample=n.sample,\n",
    "                          data=SDM)"
   ]
  },
  {
   "cell_type": "code",
   "execution_count": 25,
   "metadata": {},
   "outputs": [
    {
     "data": {
      "text/html": [
       "<table class=\"dataframe\">\n",
       "<caption>A matrix: 8 × 7 of type dbl</caption>\n",
       "<thead>\n",
       "\t<tr><th></th><th scope=col>Median</th><th scope=col>2.5%</th><th scope=col>97.5%</th><th scope=col>n.sample</th><th scope=col>% accept</th><th scope=col>n.effective</th><th scope=col>Geweke.diag</th></tr>\n",
       "</thead>\n",
       "<tbody>\n",
       "\t<tr><th scope=row>(Intercept)</th><td> 0.5262</td><td> 0.5262</td><td> 0.5262</td><td>20</td><td>  0</td><td> 0</td><td> NaN</td></tr>\n",
       "\t<tr><th scope=row>Disttoroadm</th><td> 0.0001</td><td> 0.0001</td><td> 0.0001</td><td>20</td><td>  0</td><td> 0</td><td> NaN</td></tr>\n",
       "\t<tr><th scope=row>Populationm</th><td> 0.0064</td><td> 0.0064</td><td> 0.0064</td><td>20</td><td>  0</td><td> 0</td><td> NaN</td></tr>\n",
       "\t<tr><th scope=row>Elevationm</th><td>-0.0002</td><td>-0.0002</td><td>-0.0002</td><td>20</td><td>  0</td><td> 0</td><td> NaN</td></tr>\n",
       "\t<tr><th scope=row>Precipitationm</th><td>-0.0221</td><td>-0.0221</td><td>-0.0221</td><td>20</td><td>  0</td><td> 0</td><td> NaN</td></tr>\n",
       "\t<tr><th scope=row>tau2</th><td> 2.9336</td><td> 2.8369</td><td> 3.0991</td><td>20</td><td>100</td><td>20</td><td>-0.7</td></tr>\n",
       "\t<tr><th scope=row>sigma2</th><td> 0.8124</td><td> 0.2411</td><td> 3.9173</td><td>20</td><td>100</td><td>20</td><td>-1.0</td></tr>\n",
       "\t<tr><th scope=row>rho</th><td> 1.0000</td><td> 1.0000</td><td> 1.0000</td><td>NA</td><td> NA</td><td>NA</td><td>  NA</td></tr>\n",
       "</tbody>\n",
       "</table>\n"
      ],
      "text/latex": [
       "A matrix: 8 × 7 of type dbl\n",
       "\\begin{tabular}{r|lllllll}\n",
       "  & Median & 2.5\\% & 97.5\\% & n.sample & \\% accept & n.effective & Geweke.diag\\\\\n",
       "\\hline\n",
       "\t(Intercept) &  0.5262 &  0.5262 &  0.5262 & 20 &   0 &  0 &  NaN\\\\\n",
       "\tDisttoroadm &  0.0001 &  0.0001 &  0.0001 & 20 &   0 &  0 &  NaN\\\\\n",
       "\tPopulationm &  0.0064 &  0.0064 &  0.0064 & 20 &   0 &  0 &  NaN\\\\\n",
       "\tElevationm & -0.0002 & -0.0002 & -0.0002 & 20 &   0 &  0 &  NaN\\\\\n",
       "\tPrecipitationm & -0.0221 & -0.0221 & -0.0221 & 20 &   0 &  0 &  NaN\\\\\n",
       "\ttau2 &  2.9336 &  2.8369 &  3.0991 & 20 & 100 & 20 & -0.7\\\\\n",
       "\tsigma2 &  0.8124 &  0.2411 &  3.9173 & 20 & 100 & 20 & -1.0\\\\\n",
       "\trho &  1.0000 &  1.0000 &  1.0000 & NA &  NA & NA &   NA\\\\\n",
       "\\end{tabular}\n"
      ],
      "text/markdown": [
       "\n",
       "A matrix: 8 × 7 of type dbl\n",
       "\n",
       "| <!--/--> | Median | 2.5% | 97.5% | n.sample | % accept | n.effective | Geweke.diag |\n",
       "|---|---|---|---|---|---|---|---|\n",
       "| (Intercept) |  0.5262 |  0.5262 |  0.5262 | 20 |   0 |  0 |  NaN |\n",
       "| Disttoroadm |  0.0001 |  0.0001 |  0.0001 | 20 |   0 |  0 |  NaN |\n",
       "| Populationm |  0.0064 |  0.0064 |  0.0064 | 20 |   0 |  0 |  NaN |\n",
       "| Elevationm | -0.0002 | -0.0002 | -0.0002 | 20 |   0 |  0 |  NaN |\n",
       "| Precipitationm | -0.0221 | -0.0221 | -0.0221 | 20 |   0 |  0 |  NaN |\n",
       "| tau2 |  2.9336 |  2.8369 |  3.0991 | 20 | 100 | 20 | -0.7 |\n",
       "| sigma2 |  0.8124 |  0.2411 |  3.9173 | 20 | 100 | 20 | -1.0 |\n",
       "| rho |  1.0000 |  1.0000 |  1.0000 | NA |  NA | NA |   NA |\n",
       "\n"
      ],
      "text/plain": [
       "               Median  2.5%    97.5%   n.sample % accept n.effective\n",
       "(Intercept)     0.5262  0.5262  0.5262 20         0       0         \n",
       "Disttoroadm     0.0001  0.0001  0.0001 20         0       0         \n",
       "Populationm     0.0064  0.0064  0.0064 20         0       0         \n",
       "Elevationm     -0.0002 -0.0002 -0.0002 20         0       0         \n",
       "Precipitationm -0.0221 -0.0221 -0.0221 20         0       0         \n",
       "tau2            2.9336  2.8369  3.0991 20       100      20         \n",
       "sigma2          0.8124  0.2411  3.9173 20       100      20         \n",
       "rho             1.0000  1.0000  1.0000 NA        NA      NA         \n",
       "               Geweke.diag\n",
       "(Intercept)     NaN       \n",
       "Disttoroadm     NaN       \n",
       "Populationm     NaN       \n",
       "Elevationm      NaN       \n",
       "Precipitationm  NaN       \n",
       "tau2           -0.7       \n",
       "sigma2         -1.0       \n",
       "rho              NA       "
      ]
     },
     "metadata": {},
     "output_type": "display_data"
    }
   ],
   "source": [
    "model2$summary.results"
   ]
  },
  {
   "cell_type": "markdown",
   "metadata": {},
   "source": [
    "# Model III\n",
    "This model assumes that processes $S$ and $P$ are correlated to each other. Both of them have a specific Gaussian Markov random field and these two spatial structures are correlated. The correlated spatial structure follows a multivariate CAR specification (cite:kavanagh2016,Lee2013). The structure of the model is visualised as a directed acyclic graph (DAG) in the figure [[ref:fig:M3]].  For a detail explanation of the model refer to the supplementary materials of the manuscript.\n",
    " $$ [P , S ] = [P | GMRF_p] [ S | GMRF_s] $$\n",
    " \n",
    "\n"
   ]
  },
  {
   "cell_type": "markdown",
   "metadata": {},
   "source": [
    "<img src=\"m3.png\" alt=\"model III\"  width=\"400px\">\n"
   ]
  },
  {
   "cell_type": "markdown",
   "metadata": {},
   "source": [
    "## Running the model\n",
    "Applying this model is straight forward. We only need to define an appropriate formula object."
   ]
  },
  {
   "cell_type": "code",
   "execution_count": 26,
   "metadata": {},
   "outputs": [],
   "source": [
    "formula <- cbind(species,sample) ~ Elevationm + Precipitationm + Disttoroadm + Populationm"
   ]
  },
  {
   "cell_type": "code",
   "execution_count": 27,
   "metadata": {},
   "outputs": [],
   "source": [
    "## Get number areal elements\n",
    "K <- dim(M_bis)[1]\n",
    "## Calculate new trial vector\n",
    "trials <- matrix(rep(1.0,K*2), ncol=2)"
   ]
  },
  {
   "cell_type": "code",
   "execution_count": 28,
   "metadata": {},
   "outputs": [
    {
     "name": "stdout",
     "output_type": "stream",
     "text": [
      "Setting up the model.\n",
      "Generating 100 post burnin and thinned (if requested) samples.\n",
      "  |======================================================================| 100%\n",
      "Summarising results.\n",
      "Finished in  32.1 seconds.\n"
     ]
    }
   ],
   "source": [
    "#burnin = 500\n",
    "#n.sample = 1000\n",
    "#thin = 1\n",
    "## Toy example, increase n.sample and burnin significantly for real applications.\n",
    "burnin = 400\n",
    "n.sample = 500\n",
    "thin = 5\n",
    "model3 <- MVS.CARleroux(formula , \n",
    "                        family = 'binomial',\n",
    "                        trials=trials,\n",
    "                        W=M_bis,\n",
    "                        rho = 1,\n",
    "                        burnin = burnin,\n",
    "                        n.sample = n.sample,\n",
    "                        data = DataFrame\n",
    "                         )"
   ]
  },
  {
   "cell_type": "markdown",
   "metadata": {},
   "source": [
    "To examine the model diagnostics use modelfit, as usual.\n"
   ]
  },
  {
   "cell_type": "code",
   "execution_count": 29,
   "metadata": {},
   "outputs": [
    {
     "data": {
      "text/html": [
       "<style>\n",
       ".dl-inline {width: auto; margin:0; padding: 0}\n",
       ".dl-inline>dt, .dl-inline>dd {float: none; width: auto; display: inline-block}\n",
       ".dl-inline>dt::after {content: \":\\0020\"; padding-right: .5ex}\n",
       ".dl-inline>dt:not(:first-of-type) {padding-left: .5ex}\n",
       "</style><dl class=dl-inline><dt>DIC</dt><dd>3925.39485090274</dd><dt>p.d</dt><dd>92.1148578305829</dd><dt>WAIC</dt><dd>3918.3171374889</dd><dt>p.w</dt><dd>82.1910379421433</dd><dt>LMPL</dt><dd>-1957.70703152315</dd><dt>loglikelihood</dt><dd>-1870.58256762079</dd></dl>\n"
      ],
      "text/latex": [
       "\\begin{description*}\n",
       "\\item[DIC] 3925.39485090274\n",
       "\\item[p.d] 92.1148578305829\n",
       "\\item[WAIC] 3918.3171374889\n",
       "\\item[p.w] 82.1910379421433\n",
       "\\item[LMPL] -1957.70703152315\n",
       "\\item[loglikelihood] -1870.58256762079\n",
       "\\end{description*}\n"
      ],
      "text/markdown": [
       "DIC\n",
       ":   3925.39485090274p.d\n",
       ":   92.1148578305829WAIC\n",
       ":   3918.3171374889p.w\n",
       ":   82.1910379421433LMPL\n",
       ":   -1957.70703152315loglikelihood\n",
       ":   -1870.58256762079\n",
       "\n"
      ],
      "text/plain": [
       "          DIC           p.d          WAIC           p.w          LMPL \n",
       "   3925.39485      92.11486    3918.31714      82.19104   -1957.70703 \n",
       "loglikelihood \n",
       "  -1870.58257 "
      ]
     },
     "metadata": {},
     "output_type": "display_data"
    }
   ],
   "source": [
    "model3$modelfit"
   ]
  },
  {
   "cell_type": "markdown",
   "metadata": {},
   "source": [
    "# References\n",
    "- [1] Juan Escamilla-Mólgora, Luigi Sedda, Peter Diggle, and Peter Atkinson. A joint distribution framework to improve presence-only species distribution models by exploiting citizen sampling effort. 2021.\n",
    "- [2] P. J. Diggle, J. A. Tawn, and R. A. Moyeed. Model-based geostatistics. Journal of the Royal Statistical Society: Series C (Applied Statistics), 47(3):299–350, jan 2002.\n",
    "- [3] Julian Besag. Spatial Interaction and the Statistical Analysis of Lattice Systems. Journal of the Royal Statistical Society. Series B (Methodological), 36(2):192–236, 1974. 13\n",
    "- [4] Duncan Lee. CARBayes : An R Package for Bayesian Spatial Modeling with Conditional Autoregressive Priors. Journal of Statistical Software, 55(13):1–24, nov 2013.\n",
    "- [5] GBIF.org. GBIF Occurrence Download, 2016.\n",
    "- [6] Håvard Rue and Leonhard Held. Gaussian markov random fields: Theory and applications. Chapman and Hall/CRC, 2005.\n",
    "- [7] Seymour Geisser. The predictive sample reuse method with applications. Journal of the American Statistical Association, 70(350):320–328, 1975.\n",
    "- [8] Leo Kavanagh, Duncan Lee, and Gwilym Pryce. Is Poverty Decentralizing? Quantifying Uncertainty in the Decentralization of Urban Poverty. Annals of the American Association of Geographers, 106(6):1286–1298, nov 2016"
   ]
  },
  {
   "cell_type": "code",
   "execution_count": null,
   "metadata": {},
   "outputs": [],
   "source": []
  }
 ],
 "metadata": {
  "kernelspec": {
   "display_name": "R",
   "language": "R",
   "name": "ir"
  },
  "language_info": {
   "codemirror_mode": "r",
   "file_extension": ".r",
   "mimetype": "text/x-r-source",
   "name": "R",
   "pygments_lexer": "r",
   "version": "4.0.4"
  }
 },
 "nbformat": 4,
 "nbformat_minor": 4
}
