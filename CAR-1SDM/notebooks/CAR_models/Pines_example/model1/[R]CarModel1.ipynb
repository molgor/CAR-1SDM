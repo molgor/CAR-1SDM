{
 "cells": [
  {
   "cell_type": "markdown",
   "metadata": {},
   "source": [
    "# A notebook in R for modelling species distributions and sample effort using \n",
    "## CAR models\n",
    "\n",
    "The conditional autologistic model (Besage, et. al 1991) has the following specification (Lee, 2013).\n"
   ]
  },
  {
   "cell_type": "code",
   "execution_count": 1,
   "metadata": {},
   "outputs": [],
   "source": [
    "setwd('/main/app/external_plugins/biospytial_rwrapper/CAR-1SDM/')\n",
    "#source('R/preprocess_data.R')"
   ]
  },
  {
   "cell_type": "markdown",
   "metadata": {},
   "source": [
    "# Preparing the data for loading\n",
    "### Load necessary libraries\n",
    "- *CARBayes* is a CAR implementation developed by (cite:Lee2013). We can use this library with adequate data transformation to apply models I, II and III."
   ]
  },
  {
   "cell_type": "code",
   "execution_count": 2,
   "metadata": {},
   "outputs": [
    {
     "name": "stderr",
     "output_type": "stream",
     "text": [
      "Loading required package: MASS\n",
      "\n",
      "Loading required package: Rcpp\n",
      "\n",
      "Registered S3 method overwritten by 'GGally':\n",
      "  method from   \n",
      "  +.gg   ggplot2\n",
      "\n"
     ]
    }
   ],
   "source": [
    "setwd(\"R\")\n",
    "library(CARBayes)"
   ]
  },
  {
   "cell_type": "markdown",
   "metadata": {},
   "source": [
    "- Additionaly, some libraries for data handling and loading numpy arrays.\n",
    "\n",
    "\n",
    "\n"
   ]
  },
  {
   "cell_type": "code",
   "execution_count": 3,
   "metadata": {},
   "outputs": [
    {
     "name": "stderr",
     "output_type": "stream",
     "text": [
      "\n",
      "Attaching package: ‘dplyr’\n",
      "\n",
      "\n",
      "The following object is masked from ‘package:MASS’:\n",
      "\n",
      "    select\n",
      "\n",
      "\n",
      "The following objects are masked from ‘package:stats’:\n",
      "\n",
      "    filter, lag\n",
      "\n",
      "\n",
      "The following objects are masked from ‘package:base’:\n",
      "\n",
      "    intersect, setdiff, setequal, union\n",
      "\n",
      "\n"
     ]
    }
   ],
   "source": [
    "library(dplyr)\n",
    "library(purrr)\n",
    "library(reticulate)"
   ]
  },
  {
   "cell_type": "markdown",
   "metadata": {},
   "source": [
    "## Loading the /choosing principle/ functions\n",
    "These are functions that define the presence, relative absences and missing observations."
   ]
  },
  {
   "cell_type": "code",
   "execution_count": 4,
   "metadata": {},
   "outputs": [],
   "source": [
    "source(\"ChoosingPrinciples.R\")"
   ]
  },
  {
   "cell_type": "markdown",
   "metadata": {},
   "source": [
    "## Read the adjancency matrix of the spatial lattice\n",
    "The spatial lattice is represented as an adjacency matrix obtained by another sofware. \n",
    "However you could generate this matrix of any given spatial vector format (e.g. ESRI Shapefile) using the function 'combine.data.shapefile' provided by *CARBayes*. Refer to the [[https://cran.r-project.org/web/packages/CARBayes/CARBayes.pdf][CARBayes documentation]].\n"
   ]
  },
  {
   "cell_type": "code",
   "execution_count": 5,
   "metadata": {},
   "outputs": [],
   "source": [
    "# Import adjancency matrix generated from region\n",
    "mat_filename = \"../data/training_data_sample_puebla_p9_abies_pinophyta_adjmat.npy\"\n",
    "# The adjacency matrix is saved as a numpy object. We need load it appropiately\n",
    "# Use numpy functions\n",
    "np <- import(\"numpy\")\n",
    "M <- np$load(mat_filename)"
   ]
  },
  {
   "cell_type": "markdown",
   "metadata": {},
   "source": [
    "## Read /training/ dataframe\n",
    "We will first load the dataframe as 'TDF' and then sort the rows according to their 'cell_ids' to match that of the adjancency matrix M.\n"
   ]
  },
  {
   "cell_type": "code",
   "execution_count": 6,
   "metadata": {},
   "outputs": [],
   "source": [
    "TDF = read.csv(\"../data/training_data_sample_puebla_p9_abies_pinophyta.csv\")\n",
    "## Uncomment this to load the birds example\n",
    "#TDF = read.csv(\"../data/training_data_sample_puebla_p9_tyrannidae_birds.csv\")\n",
    "## Order it according to the id of the cell\n",
    "TDF = TDF[order(TDF$cell_ids),]\n",
    "# Convert the columns to numeric\n",
    "\n",
    "## Beware, older implementations of as.numeric function turns strings to (apparently) random numeric values\n",
    "TDF = mutate_at(TDF,vars(Dist.to.road_m,Elevation_m,\n",
    "                         MaxTemp_m,MeanTemp_m,\n",
    "                         MinTemp_m,Population_m,\n",
    "                         Precipitation_m,\n",
    "                         SolarRadiation_m,\n",
    "                         VaporPres_m,\n",
    "                         WindSp_m),na_if,\"N.A.\")\n",
    "\n",
    "\n",
    "\n",
    "TDF = mutate_at(TDF,vars(Dist.to.road_m,Elevation_m,\n",
    "                         MaxTemp_m,MeanTemp_m,\n",
    "                         MinTemp_m,Population_m,\n",
    "                         Precipitation_m,\n",
    "                         SolarRadiation_m,\n",
    "                         VaporPres_m,\n",
    "                         WindSp_m),as.numeric)\n",
    "\n",
    "# Remove unnecessary symbols in variable names\n",
    "names(TDF) = lapply(names(TDF),function(x) gsub(\"_\",\"\",x))\n",
    "names(TDF) = lapply(names(TDF),function(x) gsub(\"\\\\.\",\"\",x))\n"
   ]
  },
  {
   "cell_type": "markdown",
   "metadata": {},
   "source": [
    "## Generating relative absences with  the /choosing principle/\n",
    "There are two treatments for the assigning missing data, treatment I that assumes missing data in both processes and treatment II that assigns missing data only to the sampling effort. This later treatment has less uncertainty but the assumption of absences is strong. Uncomment the code to use the other treatment.\n"
   ]
  },
  {
   "cell_type": "code",
   "execution_count": 7,
   "metadata": {},
   "outputs": [],
   "source": [
    "# Change the name of a column that for some reason is called the same\n",
    "names(TDF)[23] <- 'code_id2'\n",
    "\n",
    "## Treatment I, missing values in X and Y, comment this if using treatment II\n",
    "DataFrame = TDF %>% rowwise() %>%\n",
    "              mutate(sample=pseudo_absence_naive(Plantae,LUCA),\n",
    "                     species=pseudo_absence_naive(Pinophyta,Plantae))\n",
    "\n",
    "## Uncomment this for treatment II (i.e. missing values only in X)\n",
    "#DataFrame = TDF %>% rowwise() %>%\n",
    "#            mutate(sample=pseudo_absence_naive(Plantae,LUCA),\n",
    "#                   species=pseudo_absence_trivial(Pinophyta,Plantae))\n",
    "\n",
    "## Uncomment this if you want to assume that all missing data are absences\n",
    "## i.e. remove NAs\n",
    "#\n",
    "## Remove entries in the adjacency matrix that correspond to missing data\n",
    "#rr <- DataFrame %>%\n",
    "#    filter(!is.na(species) & !is.na(sample))\n",
    "#\n",
    "#sam_idx_nan <- which(is.na(DataFrame$sample))\n",
    "#\n",
    "#M = M[-c(sam_idx_nan),-c(sam_idx_nan)]\n",
    "\n",
    "## Remove missig data in DataFrame\n",
    "#DataFrame = TDF %>% rowwise() %>%\n",
    "#  mutate(sample=pseudo_absence_trivial(Plantae,LUCA),\n",
    "#         species=pseudo_absence_trivial(Pinophyta,Plantae))\n",
    "#+end_src\n"
   ]
  },
  {
   "cell_type": "markdown",
   "metadata": {},
   "source": [
    "## Preprocess adjancency matrix $M$\n",
    "There is a caveat, though. The CAR model works for connected regions only. That is, when the adjacency matrix corresponds to a connected graph. Blocks of cells that are not connected to each other are called islands and are considered independent. That is, a new model should be run for each block of disconnected cells.\n",
    "\n",
    "That is, we need to identify the blocks of isolated cells and remove them from the adjacency matrix. On order to comply with the dimension of the associate covariate (design) matrix we need to remove the associated rows (entries) corresponding to the isolated cells.\n"
   ]
  },
  {
   "cell_type": "code",
   "execution_count": 8,
   "metadata": {},
   "outputs": [],
   "source": [
    "## Remove entries with zero neighbours (adjacency matrix)\n",
    "### Calculates number of neighbours in D (sum)\n",
    "D = apply(M,MARGIN = 1,sum)\n",
    "### get index with 0 neighbours\n",
    "idx = which(D == 0)\n",
    "\n",
    "### select cells with no neighbours\n",
    "cell_with_no_neighbour = TDF$cellids[idx]\n",
    "## Remove island for TDF\n",
    "TDF <- TDF[-c(idx),]\n",
    "## Erase idx for M and for TDF\n",
    "M_bis = M[-c(idx),-c(idx)]\n",
    "\n",
    "## remove rows that have no neighbours (islands)\n",
    "DataFrame <- DataFrame[-c(idx),]\n",
    "\n",
    "n <- dim(M_bis)[1]\n",
    "trials <- rep(1,n)\n",
    "\n"
   ]
  },
  {
   "cell_type": "markdown",
   "metadata": {},
   "source": [
    "\n",
    "As the current implementation of CARBayes does not allow missing values in the covariates we will perform a naive imputation of missing values on each column of interest (i.e covariates associated with the models' formulas).\n"
   ]
  },
  {
   "cell_type": "code",
   "execution_count": 9,
   "metadata": {},
   "outputs": [],
   "source": [
    "## Replace missing values with mean, Of course we could do this using other more fancy method\n",
    "covs2work = c(\"Disttoroadm\",\"Populationm\",\"Elevationm\",\"Precipitationm\",\"MeanTempm\")\n",
    "for(i in covs2work){\n",
    "    DataFrame[,i][is.na(DataFrame[,i])] <- mean(DataFrame[,i][!is.na(DataFrame[,i])],na.rm=TRUE)\n",
    "}"
   ]
  },
  {
   "cell_type": "markdown",
   "metadata": {},
   "source": [
    "# Model I\n",
    "\n",
    "This model assumes that the ecological suitability distribution ($Y$) and sampling effort $X$ process are independent. The structure of the model is visualised as a directed acyclic graph (DAG) in the figure [[ref:fig:M1]].  For a detail explanation of the model refer to the supplementary materials of the manuscript.\n",
    "\n"
   ]
  },
  {
   "cell_type": "code",
   "execution_count": 10,
   "metadata": {},
   "outputs": [],
   "source": [
    "source(\"joint.binomial.bymCARModel1.R\")\n"
   ]
  },
  {
   "cell_type": "markdown",
   "metadata": {},
   "source": [
    "A brief data exploration shows the number of relative absences and presences (npresence_0,npresece_1) in the \"presences\" process $Y$, the in the sampling process $X$  (i.e. nsample_0 and nsample_1, respectively). Missed data (no observations) are shown as n_miss_presence and n_miss_sample. for $Y$ and $X$ respectively.\n",
    "\n"
   ]
  },
  {
   "cell_type": "code",
   "execution_count": 11,
   "metadata": {},
   "outputs": [
    {
     "data": {
      "text/html": [
       "<table class=\"dataframe\">\n",
       "<caption>A matrix: 1 × 6 of type dbl</caption>\n",
       "<thead>\n",
       "\t<tr><th scope=col>npresence_0</th><th scope=col>npresence_1</th><th scope=col>nsample_0</th><th scope=col>nsample_1</th><th scope=col>n_miss_presence</th><th scope=col>n_miss_sample</th></tr>\n",
       "</thead>\n",
       "<tbody>\n",
       "\t<tr><td>63.02956</td><td>8.399015</td><td>10.59113</td><td>71.42857</td><td>28.57143</td><td>17.9803</td></tr>\n",
       "</tbody>\n",
       "</table>\n"
      ],
      "text/latex": [
       "A matrix: 1 × 6 of type dbl\n",
       "\\begin{tabular}{llllll}\n",
       " npresence\\_0 & npresence\\_1 & nsample\\_0 & nsample\\_1 & n\\_miss\\_presence & n\\_miss\\_sample\\\\\n",
       "\\hline\n",
       "\t 63.02956 & 8.399015 & 10.59113 & 71.42857 & 28.57143 & 17.9803\\\\\n",
       "\\end{tabular}\n"
      ],
      "text/markdown": [
       "\n",
       "A matrix: 1 × 6 of type dbl\n",
       "\n",
       "| npresence_0 | npresence_1 | nsample_0 | nsample_1 | n_miss_presence | n_miss_sample |\n",
       "|---|---|---|---|---|---|\n",
       "| 63.02956 | 8.399015 | 10.59113 | 71.42857 | 28.57143 | 17.9803 |\n",
       "\n"
      ],
      "text/plain": [
       "     npresence_0 npresence_1 nsample_0 nsample_1 n_miss_presence n_miss_sample\n",
       "[1,] 63.02956    8.399015    10.59113  71.42857  28.57143        17.9803      "
      ]
     },
     "metadata": {},
     "output_type": "display_data"
    }
   ],
   "source": [
    "ntot = length(DataFrame$sample)\n",
    "npresence_1 = length(na.omit(DataFrame$species[DataFrame$species == 1])) / ntot*100\n",
    "nsample_1 = length(na.omit(DataFrame$sample[DataFrame$sample == 1]))/ntot*100\n",
    "npresence_0 = length(na.omit(DataFrame$species[DataFrame$species == 0]))/ntot*100\n",
    "nsample_0 = length(na.omit(DataFrame$sample[DataFrame$sample == 0]))/ntot*100\n",
    "n_miss_presence = sum(is.na(DataFrame$species))/ntot*100\n",
    "n_miss_sample = sum(is.na(DataFrame$sample))/ntot*100\n",
    "cbind(npresence_0,npresence_1,nsample_0,nsample_1,n_miss_presence,n_miss_sample)"
   ]
  },
  {
   "cell_type": "markdown",
   "metadata": {},
   "source": [
    "### Running the model\n",
    "We begin by defining the formulas for the sampling effort (formula_sample) and the environmental niche (formula_presence).\n",
    "As we are dealing with only presence-absence realisations, we define a bernoulli process. That is, a binomial distribution with $k=1$.\n",
    "This can be specified with a 'trials' vector built on only ones.\n"
   ]
  },
  {
   "cell_type": "code",
   "execution_count": 12,
   "metadata": {},
   "outputs": [],
   "source": [
    "formula_sample=sample~Disttoroadm+Populationm\n",
    "formula_presence=species~Elevationm+MeanTempm\n",
    "n <- nrow(TDF)\n",
    "trials <- rep(1,n)\n"
   ]
  },
  {
   "cell_type": "markdown",
   "metadata": {},
   "source": [
    "\n",
    "We define the running settings for sampling the posterior distribution. In this case we specify 1,000 iterations after burnin (i.e. initialisation to reach stationarity of the Markov chain) of 70,000. To reduce hoarding data in memory we choose a thinning of 10. The postburnin parameter defines the number of iterations after burnin for each process but before saving the final sample of 1,000 iterations. Postburnin defines and extra burn-in iterations.\n"
   ]
  },
  {
   "cell_type": "code",
   "execution_count": 13,
   "metadata": {},
   "outputs": [],
   "source": [
    "\n",
    "## To example, use higher sampling for real applications.\n",
    "n.sample = 1000                                                                                \n",
    "burnin=7000\n",
    "thin = 10\n",
    "postburnin = burnin + 100"
   ]
  },
  {
   "cell_type": "code",
   "execution_count": 14,
   "metadata": {},
   "outputs": [
    {
     "name": "stdout",
     "output_type": "stream",
     "text": [
      "Setting up the model.\n",
      "Performing burnin period for Sample Effort Model \n",
      "  |======================================================================| 100%\n",
      "Summarising results.\n",
      "Finished in  26.7 seconds.\n",
      "Setting up the model.\n",
      "Performing burnin period for Presence model \n",
      "  |======================================================================| 100%\n",
      "Summarising results.\n",
      "Finished in  26 seconds.\n",
      "Sampling from the joint model 100 post burnin and thinned (if requested) samples.\n",
      "  |======================================================================| 100%\n",
      "[1] \"Compiling summary for S process\"\n",
      "[1] \"Compiling summary for the P process\"\n"
     ]
    }
   ],
   "source": [
    "model1  <- joint.binomial.bymCARModel1(formula_S = formula_sample,\n",
    "                                        formula_P = formula_presence,\n",
    "                                        n.sample=n.sample,\n",
    "                                        data = DataFrame,\n",
    "                                        burnin=burnin,\n",
    "                                        postburnin=postburnin,\n",
    "                                        thin=thin,\n",
    "                                    verbose=TRUE)"
   ]
  },
  {
   "cell_type": "markdown",
   "metadata": {},
   "source": [
    "In model I, the processes $S$ (sample) and $P$ (environment) are independent. The object model1 contains these independent components stored as attributes S and P respectively. To inspect the posterior summary statistics we can use the attribute summary.results on each process. "
   ]
  },
  {
   "cell_type": "code",
   "execution_count": 15,
   "metadata": {},
   "outputs": [
    {
     "data": {
      "text/html": [
       "<table class=\"dataframe\">\n",
       "<caption>A matrix: 5 × 7 of type dbl</caption>\n",
       "<thead>\n",
       "\t<tr><th></th><th scope=col>Median</th><th scope=col>2.5%</th><th scope=col>97.5%</th><th scope=col>n.sample</th><th scope=col>% accept</th><th scope=col>n.effective</th><th scope=col>Geweke.diag</th></tr>\n",
       "</thead>\n",
       "<tbody>\n",
       "\t<tr><th scope=row>(Intercept)</th><td>-8.7550</td><td>-15.3758</td><td>-2.1927</td><td>100</td><td> 57.2</td><td>1.7</td><td>-4.4</td></tr>\n",
       "\t<tr><th scope=row>Elevationm</th><td> 0.0023</td><td>  0.0010</td><td> 0.0036</td><td>100</td><td> 57.2</td><td>1.5</td><td> 4.4</td></tr>\n",
       "\t<tr><th scope=row>MeanTempm</th><td> 0.0758</td><td> -0.1479</td><td> 0.3243</td><td>100</td><td> 57.2</td><td>2.0</td><td> 4.3</td></tr>\n",
       "\t<tr><th scope=row>tau2</th><td> 6.7454</td><td>  4.9304</td><td> 8.3469</td><td>100</td><td>100.0</td><td>2.4</td><td> 5.8</td></tr>\n",
       "\t<tr><th scope=row>sigma2</th><td> 0.0787</td><td>  0.0503</td><td> 0.0958</td><td>100</td><td>100.0</td><td>6.9</td><td> 0.5</td></tr>\n",
       "</tbody>\n",
       "</table>\n"
      ],
      "text/latex": [
       "A matrix: 5 × 7 of type dbl\n",
       "\\begin{tabular}{r|lllllll}\n",
       "  & Median & 2.5\\% & 97.5\\% & n.sample & \\% accept & n.effective & Geweke.diag\\\\\n",
       "\\hline\n",
       "\t(Intercept) & -8.7550 & -15.3758 & -2.1927 & 100 &  57.2 & 1.7 & -4.4\\\\\n",
       "\tElevationm &  0.0023 &   0.0010 &  0.0036 & 100 &  57.2 & 1.5 &  4.4\\\\\n",
       "\tMeanTempm &  0.0758 &  -0.1479 &  0.3243 & 100 &  57.2 & 2.0 &  4.3\\\\\n",
       "\ttau2 &  6.7454 &   4.9304 &  8.3469 & 100 & 100.0 & 2.4 &  5.8\\\\\n",
       "\tsigma2 &  0.0787 &   0.0503 &  0.0958 & 100 & 100.0 & 6.9 &  0.5\\\\\n",
       "\\end{tabular}\n"
      ],
      "text/markdown": [
       "\n",
       "A matrix: 5 × 7 of type dbl\n",
       "\n",
       "| <!--/--> | Median | 2.5% | 97.5% | n.sample | % accept | n.effective | Geweke.diag |\n",
       "|---|---|---|---|---|---|---|---|\n",
       "| (Intercept) | -8.7550 | -15.3758 | -2.1927 | 100 |  57.2 | 1.7 | -4.4 |\n",
       "| Elevationm |  0.0023 |   0.0010 |  0.0036 | 100 |  57.2 | 1.5 |  4.4 |\n",
       "| MeanTempm |  0.0758 |  -0.1479 |  0.3243 | 100 |  57.2 | 2.0 |  4.3 |\n",
       "| tau2 |  6.7454 |   4.9304 |  8.3469 | 100 | 100.0 | 2.4 |  5.8 |\n",
       "| sigma2 |  0.0787 |   0.0503 |  0.0958 | 100 | 100.0 | 6.9 |  0.5 |\n",
       "\n"
      ],
      "text/plain": [
       "            Median  2.5%     97.5%   n.sample % accept n.effective Geweke.diag\n",
       "(Intercept) -8.7550 -15.3758 -2.1927 100       57.2    1.7         -4.4       \n",
       "Elevationm   0.0023   0.0010  0.0036 100       57.2    1.5          4.4       \n",
       "MeanTempm    0.0758  -0.1479  0.3243 100       57.2    2.0          4.3       \n",
       "tau2         6.7454   4.9304  8.3469 100      100.0    2.4          5.8       \n",
       "sigma2       0.0787   0.0503  0.0958 100      100.0    6.9          0.5       "
      ]
     },
     "metadata": {},
     "output_type": "display_data"
    }
   ],
   "source": [
    "model1$P$summary.results"
   ]
  },
  {
   "cell_type": "code",
   "execution_count": 16,
   "metadata": {},
   "outputs": [
    {
     "data": {
      "text/html": [
       "<table class=\"dataframe\">\n",
       "<caption>A matrix: 5 × 7 of type dbl</caption>\n",
       "<thead>\n",
       "\t<tr><th></th><th scope=col>Median</th><th scope=col>2.5%</th><th scope=col>97.5%</th><th scope=col>n.sample</th><th scope=col>% accept</th><th scope=col>n.effective</th><th scope=col>Geweke.diag</th></tr>\n",
       "</thead>\n",
       "<tbody>\n",
       "\t<tr><th scope=row>(Intercept)</th><td>1.7870</td><td>1.7870</td><td>1.7870</td><td>100</td><td>  0</td><td>0.0</td><td>NaN</td></tr>\n",
       "\t<tr><th scope=row>Disttoroadm</th><td>0.0000</td><td>0.0000</td><td>0.0000</td><td>100</td><td>  0</td><td>0.0</td><td>NaN</td></tr>\n",
       "\t<tr><th scope=row>Populationm</th><td>0.0024</td><td>0.0024</td><td>0.0024</td><td>100</td><td>  0</td><td>0.0</td><td>NaN</td></tr>\n",
       "\t<tr><th scope=row>tau2</th><td>4.0130</td><td>2.6262</td><td>5.2024</td><td>100</td><td>100</td><td>3.9</td><td>2.1</td></tr>\n",
       "\t<tr><th scope=row>sigma2</th><td>0.0209</td><td>0.0155</td><td>0.0273</td><td>100</td><td>100</td><td>5.3</td><td>1.9</td></tr>\n",
       "</tbody>\n",
       "</table>\n"
      ],
      "text/latex": [
       "A matrix: 5 × 7 of type dbl\n",
       "\\begin{tabular}{r|lllllll}\n",
       "  & Median & 2.5\\% & 97.5\\% & n.sample & \\% accept & n.effective & Geweke.diag\\\\\n",
       "\\hline\n",
       "\t(Intercept) & 1.7870 & 1.7870 & 1.7870 & 100 &   0 & 0.0 & NaN\\\\\n",
       "\tDisttoroadm & 0.0000 & 0.0000 & 0.0000 & 100 &   0 & 0.0 & NaN\\\\\n",
       "\tPopulationm & 0.0024 & 0.0024 & 0.0024 & 100 &   0 & 0.0 & NaN\\\\\n",
       "\ttau2 & 4.0130 & 2.6262 & 5.2024 & 100 & 100 & 3.9 & 2.1\\\\\n",
       "\tsigma2 & 0.0209 & 0.0155 & 0.0273 & 100 & 100 & 5.3 & 1.9\\\\\n",
       "\\end{tabular}\n"
      ],
      "text/markdown": [
       "\n",
       "A matrix: 5 × 7 of type dbl\n",
       "\n",
       "| <!--/--> | Median | 2.5% | 97.5% | n.sample | % accept | n.effective | Geweke.diag |\n",
       "|---|---|---|---|---|---|---|---|\n",
       "| (Intercept) | 1.7870 | 1.7870 | 1.7870 | 100 |   0 | 0.0 | NaN |\n",
       "| Disttoroadm | 0.0000 | 0.0000 | 0.0000 | 100 |   0 | 0.0 | NaN |\n",
       "| Populationm | 0.0024 | 0.0024 | 0.0024 | 100 |   0 | 0.0 | NaN |\n",
       "| tau2 | 4.0130 | 2.6262 | 5.2024 | 100 | 100 | 3.9 | 2.1 |\n",
       "| sigma2 | 0.0209 | 0.0155 | 0.0273 | 100 | 100 | 5.3 | 1.9 |\n",
       "\n"
      ],
      "text/plain": [
       "            Median 2.5%   97.5%  n.sample % accept n.effective Geweke.diag\n",
       "(Intercept) 1.7870 1.7870 1.7870 100        0      0.0         NaN        \n",
       "Disttoroadm 0.0000 0.0000 0.0000 100        0      0.0         NaN        \n",
       "Populationm 0.0024 0.0024 0.0024 100        0      0.0         NaN        \n",
       "tau2        4.0130 2.6262 5.2024 100      100      3.9         2.1        \n",
       "sigma2      0.0209 0.0155 0.0273 100      100      5.3         1.9        "
      ]
     },
     "metadata": {},
     "output_type": "display_data"
    }
   ],
   "source": [
    "model1$S$summary.results"
   ]
  },
  {
   "cell_type": "markdown",
   "metadata": {},
   "source": [
    "### Display modelfit object for both models"
   ]
  },
  {
   "cell_type": "code",
   "execution_count": 17,
   "metadata": {},
   "outputs": [
    {
     "data": {
      "text/html": [
       "<style>\n",
       ".dl-inline {width: auto; margin:0; padding: 0}\n",
       ".dl-inline>dt, .dl-inline>dd {float: none; width: auto; display: inline-block}\n",
       ".dl-inline>dt::after {content: \":\\0020\"; padding-right: .5ex}\n",
       ".dl-inline>dt:not(:first-of-type) {padding-left: .5ex}\n",
       "</style><dl class=dl-inline><dt>DIC</dt><dd>3644.9030314959</dd><dt>p.d</dt><dd>679.738443528401</dd><dt>WAIC</dt><dd>3716.61280968983</dd><dt>p.w</dt><dd>621.074470681686</dd><dt>LMPL</dt><dd>-1870.37833808855</dd><dt>loglikelihood</dt><dd>-1142.71307221955</dd></dl>\n"
      ],
      "text/latex": [
       "\\begin{description*}\n",
       "\\item[DIC] 3644.9030314959\n",
       "\\item[p.d] 679.738443528401\n",
       "\\item[WAIC] 3716.61280968983\n",
       "\\item[p.w] 621.074470681686\n",
       "\\item[LMPL] -1870.37833808855\n",
       "\\item[loglikelihood] -1142.71307221955\n",
       "\\end{description*}\n"
      ],
      "text/markdown": [
       "DIC\n",
       ":   3644.9030314959p.d\n",
       ":   679.738443528401WAIC\n",
       ":   3716.61280968983p.w\n",
       ":   621.074470681686LMPL\n",
       ":   -1870.37833808855loglikelihood\n",
       ":   -1142.71307221955\n",
       "\n"
      ],
      "text/plain": [
       "          DIC           p.d          WAIC           p.w          LMPL \n",
       "    3644.9030      679.7384     3716.6128      621.0745    -1870.3783 \n",
       "loglikelihood \n",
       "   -1142.7131 "
      ]
     },
     "metadata": {},
     "output_type": "display_data"
    }
   ],
   "source": [
    "model1$summary.results"
   ]
  },
  {
   "cell_type": "code",
   "execution_count": 18,
   "metadata": {},
   "outputs": [
    {
     "data": {
      "text/html": [
       "<style>\n",
       ".dl-inline {width: auto; margin:0; padding: 0}\n",
       ".dl-inline>dt, .dl-inline>dd {float: none; width: auto; display: inline-block}\n",
       ".dl-inline>dt::after {content: \":\\0020\"; padding-right: .5ex}\n",
       ".dl-inline>dt:not(:first-of-type) {padding-left: .5ex}\n",
       "</style><dl class=dl-inline><dt>DIC</dt><dd>1501.89632889086</dd><dt>p.d</dt><dd>324.07545818602</dd><dt>WAIC</dt><dd>1545.26336550259</dd><dt>p.w</dt><dd>296.740897018119</dd><dt>LMPL</dt><dd>-779.937128897058</dd><dt>loglikelihood</dt><dd>-426.872706259412</dd></dl>\n"
      ],
      "text/latex": [
       "\\begin{description*}\n",
       "\\item[DIC] 1501.89632889086\n",
       "\\item[p.d] 324.07545818602\n",
       "\\item[WAIC] 1545.26336550259\n",
       "\\item[p.w] 296.740897018119\n",
       "\\item[LMPL] -779.937128897058\n",
       "\\item[loglikelihood] -426.872706259412\n",
       "\\end{description*}\n"
      ],
      "text/markdown": [
       "DIC\n",
       ":   1501.89632889086p.d\n",
       ":   324.07545818602WAIC\n",
       ":   1545.26336550259p.w\n",
       ":   296.740897018119LMPL\n",
       ":   -779.937128897058loglikelihood\n",
       ":   -426.872706259412\n",
       "\n"
      ],
      "text/plain": [
       "          DIC           p.d          WAIC           p.w          LMPL \n",
       "    1501.8963      324.0755     1545.2634      296.7409     -779.9371 \n",
       "loglikelihood \n",
       "    -426.8727 "
      ]
     },
     "metadata": {},
     "output_type": "display_data"
    }
   ],
   "source": [
    "model1$P$modelfit"
   ]
  },
  {
   "cell_type": "markdown",
   "metadata": {},
   "source": [
    "### Convergence of the Markov chain by visual inspection\n",
    "Using traceplots"
   ]
  },
  {
   "cell_type": "code",
   "execution_count": 19,
   "metadata": {},
   "outputs": [
    {
     "data": {
      "image/png": "[encoded data removed]",
      "text/plain": [
       "Plot with title “”"
      ]
     },
     "metadata": {
      "image/png": {
       "height": 420,
       "width": 420
      }
     },
     "output_type": "display_data"
    }
   ],
   "source": [
    "library(coda)\n",
    "params.samples <- mcmc.list(model1$P$samples$beta)\n",
    "plot(params.samples)"
   ]
  },
  {
   "cell_type": "code",
   "execution_count": 20,
   "metadata": {},
   "outputs": [
    {
     "data": {
      "image/png": "[encoded data removed]",
      "text/plain": [
       "Plot with title “”"
      ]
     },
     "metadata": {
      "image/png": {
       "height": 420,
       "width": 420
      }
     },
     "output_type": "display_data"
    }
   ],
   "source": [
    "## For the sample process\n",
    "params.samples <- mcmc.list(model1$S$samples$beta)\n",
    "plot(params.samples)"
   ]
  },
  {
   "cell_type": "markdown",
   "metadata": {},
   "source": [
    "# Model II"
   ]
  },
  {
   "cell_type": "markdown",
   "metadata": {
    "tags": []
   },
   "source": [
    "## Running the model\n",
    "To run the model we first need to transform the data, specifically, the covariates matrix (i.e. design matrix). The transformation allows the fitting of specific covariates for each process (i.e. an environmental set of covariates and another set for the sampling effort).\n",
    "\n",
    "To do this, we stack the design matrices of $S$ and $P$ and extend the number of columns to the sum of both processes.\n",
    "That is, the number of columns of the resulting matrix is the sum of the columns of $P$ and $S$ (not counting the response variables).\n",
    "\n",
    "We begin by selecting the covariates for each process following a standard formula syntax (one formula per process).\n",
    "\n"
   ]
  },
  {
   "cell_type": "code",
   "execution_count": 21,
   "metadata": {},
   "outputs": [],
   "source": [
    "formula_sample =  sample ~ Disttoroadm + Populationm\n",
    "formula_presence = species ~ Elevationm + Precipitationm\n",
    "\n",
    "\n",
    "## Build dataframes, S <- Sample, P <- Presence\n",
    "S <- model.frame(formula_sample, DataFrame,na.action='na.pass')\n",
    "P <- model.frame(formula_presence, DataFrame,na.action='na.pass')\n",
    "\n",
    "## Split response variables (lefthand side) and covariates (righthand side) from the design matrix\n",
    "SX <- select(S, -c(1))\n",
    "PX <- select(P, -c(1))\n",
    "Sy <- select(S, c(1))\n",
    "Py <- select(P, c(1))\n",
    "\n",
    "## Assign names to columns\n",
    "names(Sy) <- 'response'\n",
    "names(Py) <- names(Sy)\n",
    "\n",
    "## Stack both processes into same dataframe\n",
    "## First the responses (Y) will be concatenated by row.\n",
    "Y = rbind(Sy,Py)\n"
   ]
  },
  {
   "cell_type": "markdown",
   "metadata": {},
   "source": [
    "To join both sets of covariates (SX and PX) into the stacked design matrix, we need to join the columns of SX and PX. As there's no information of environmental variables for process S and, viceversa, no information of the sampling covariates for process P, we assign 0 to these elements.\n",
    "\n",
    "For doing this, we first define two 2x2 matrices and perform the kronnecker product to generate a block diagonal design matrix to be used as the covariates of the stacked design matrix."
   ]
  },
  {
   "cell_type": "code",
   "execution_count": 22,
   "metadata": {},
   "outputs": [],
   "source": [
    "\n",
    "T1 <- matrix(rep(0,4), ncol = 2)\n",
    "T2 <- matrix(rep(0,4), ncol = 2)\n",
    "T1[1,1] <- 1\n",
    "T2[2,2] <- 1\n",
    "\n",
    "## Perform Kronnecker with different covariates (Block diagonal)\n",
    "X <- data.frame((T1 %x% as.matrix(SX)) + (T2 %x% as.matrix(PX)))\n",
    "names(X) <- c(names(SX),names(PX))\n",
    "\n",
    "## Lastly, we bind the stacked response variable with the stacked covariance matrix.\n",
    "SDM <- cbind(Y,X)\n"
   ]
  },
  {
   "cell_type": "markdown",
   "metadata": {},
   "source": [
    "### Defining other necessary arguments\n"
   ]
  },
  {
   "cell_type": "code",
   "execution_count": 23,
   "metadata": {},
   "outputs": [],
   "source": [
    "## Get number of elements in the lattice, \n",
    "nK <- dim(M_bis)[1]\n",
    "\n",
    "## make sequence vector for id.area\n",
    "## This is possible because the rows in adjacency matrix M_bis preserve the order of each element in the design matrix.\n",
    "ida <- data.frame(seq(nK))\n",
    "idarea <- unlist(rbind(ida,ida))\n",
    "## Assign values for the unstructured random effect (Zx, Zy).\n",
    "## In this case, all elements of S share the same random effect Zx. \n",
    "## Similarly, all elements of P share the same random effect Zy.\n",
    "## This is done with \n",
    "Zx <- rep(x = 1,times = nK)\n",
    "Zy <- rep(x = 2,times = nK)\n",
    "## Stack Zx and Zy to create a vector of labels used to define \n",
    "## the unstructured random effect.\n",
    "indre <- c(Zx,Zy)\n"
   ]
  },
  {
   "cell_type": "markdown",
   "metadata": {},
   "source": [
    "## Running the model"
   ]
  },
  {
   "cell_type": "code",
   "execution_count": 25,
   "metadata": {},
   "outputs": [
    {
     "name": "stdout",
     "output_type": "stream",
     "text": [
      "Setting up the model.\n",
      "Generating 20 post burnin and thinned (if requested) samples.\n",
      "  |======================================================================| 100%\n",
      "Summarising results.\n",
      "Finished in  2.8 seconds.\n"
     ]
    }
   ],
   "source": [
    "#formula_sample =  sample ~ Disttoroadm + Populationm\n",
    "#formula_presence = species ~ Elevationm + Precipitationm\n",
    "formula <- response ~ Disttoroadm + Populationm + Elevationm + Precipitationm\n",
    "ind.re = c(rep(1,nK),rep(2,nK))\n",
    "\n",
    "ntot <- dim(SDM)[1]\n",
    "trials <- rep(1,ntot)\n",
    "## Toy example, increase sampling and burnin size significantly for real applications.\n",
    "burnin = 100\n",
    "n.sample = 120\n",
    "thin = 5\n",
    "\n",
    "\n",
    "model2 <- S.CARmultilevel(formula,family = 'binomial',\n",
    "                          trials=as.numeric(trials),\n",
    "                          W=M_bis,\n",
    "                          ind.area=idarea,\n",
    "                          #ind.re=factor(idarea),\n",
    "                          ind.re = factor(ind.re),\n",
    "                          rho=1,\n",
    "                          burnin=burnin,\n",
    "                          n.sample=n.sample,\n",
    "                          data=SDM)"
   ]
  },
  {
   "cell_type": "code",
   "execution_count": 26,
   "metadata": {},
   "outputs": [
    {
     "data": {
      "text/html": [
       "<table class=\"dataframe\">\n",
       "<caption>A matrix: 8 × 7 of type dbl</caption>\n",
       "<thead>\n",
       "\t<tr><th></th><th scope=col>Median</th><th scope=col>2.5%</th><th scope=col>97.5%</th><th scope=col>n.sample</th><th scope=col>% accept</th><th scope=col>n.effective</th><th scope=col>Geweke.diag</th></tr>\n",
       "</thead>\n",
       "<tbody>\n",
       "\t<tr><th scope=row>(Intercept)</th><td> 0.3052</td><td> 0.3052</td><td> 0.3052</td><td>20</td><td>  0</td><td> 0.0</td><td> NaN</td></tr>\n",
       "\t<tr><th scope=row>Disttoroadm</th><td> 0.0001</td><td> 0.0001</td><td> 0.0001</td><td>20</td><td>  0</td><td> 0.0</td><td> NaN</td></tr>\n",
       "\t<tr><th scope=row>Populationm</th><td> 0.0082</td><td> 0.0082</td><td> 0.0082</td><td>20</td><td>  0</td><td> 0.0</td><td> NaN</td></tr>\n",
       "\t<tr><th scope=row>Elevationm</th><td>-0.0004</td><td>-0.0004</td><td>-0.0004</td><td>20</td><td>  0</td><td> 0.0</td><td> NaN</td></tr>\n",
       "\t<tr><th scope=row>Precipitationm</th><td>-0.0250</td><td>-0.0250</td><td>-0.0250</td><td>20</td><td>  0</td><td> 0.0</td><td> NaN</td></tr>\n",
       "\t<tr><th scope=row>tau2</th><td> 2.3271</td><td> 2.1712</td><td> 2.4663</td><td>20</td><td>100</td><td> 6.9</td><td> 2.3</td></tr>\n",
       "\t<tr><th scope=row>sigma2</th><td> 0.0139</td><td> 0.0032</td><td> 0.0510</td><td>20</td><td>100</td><td>20.0</td><td>-1.1</td></tr>\n",
       "\t<tr><th scope=row>rho</th><td> 1.0000</td><td> 1.0000</td><td> 1.0000</td><td>NA</td><td> NA</td><td>  NA</td><td>  NA</td></tr>\n",
       "</tbody>\n",
       "</table>\n"
      ],
      "text/latex": [
       "A matrix: 8 × 7 of type dbl\n",
       "\\begin{tabular}{r|lllllll}\n",
       "  & Median & 2.5\\% & 97.5\\% & n.sample & \\% accept & n.effective & Geweke.diag\\\\\n",
       "\\hline\n",
       "\t(Intercept) &  0.3052 &  0.3052 &  0.3052 & 20 &   0 &  0.0 &  NaN\\\\\n",
       "\tDisttoroadm &  0.0001 &  0.0001 &  0.0001 & 20 &   0 &  0.0 &  NaN\\\\\n",
       "\tPopulationm &  0.0082 &  0.0082 &  0.0082 & 20 &   0 &  0.0 &  NaN\\\\\n",
       "\tElevationm & -0.0004 & -0.0004 & -0.0004 & 20 &   0 &  0.0 &  NaN\\\\\n",
       "\tPrecipitationm & -0.0250 & -0.0250 & -0.0250 & 20 &   0 &  0.0 &  NaN\\\\\n",
       "\ttau2 &  2.3271 &  2.1712 &  2.4663 & 20 & 100 &  6.9 &  2.3\\\\\n",
       "\tsigma2 &  0.0139 &  0.0032 &  0.0510 & 20 & 100 & 20.0 & -1.1\\\\\n",
       "\trho &  1.0000 &  1.0000 &  1.0000 & NA &  NA &   NA &   NA\\\\\n",
       "\\end{tabular}\n"
      ],
      "text/markdown": [
       "\n",
       "A matrix: 8 × 7 of type dbl\n",
       "\n",
       "| <!--/--> | Median | 2.5% | 97.5% | n.sample | % accept | n.effective | Geweke.diag |\n",
       "|---|---|---|---|---|---|---|---|\n",
       "| (Intercept) |  0.3052 |  0.3052 |  0.3052 | 20 |   0 |  0.0 |  NaN |\n",
       "| Disttoroadm |  0.0001 |  0.0001 |  0.0001 | 20 |   0 |  0.0 |  NaN |\n",
       "| Populationm |  0.0082 |  0.0082 |  0.0082 | 20 |   0 |  0.0 |  NaN |\n",
       "| Elevationm | -0.0004 | -0.0004 | -0.0004 | 20 |   0 |  0.0 |  NaN |\n",
       "| Precipitationm | -0.0250 | -0.0250 | -0.0250 | 20 |   0 |  0.0 |  NaN |\n",
       "| tau2 |  2.3271 |  2.1712 |  2.4663 | 20 | 100 |  6.9 |  2.3 |\n",
       "| sigma2 |  0.0139 |  0.0032 |  0.0510 | 20 | 100 | 20.0 | -1.1 |\n",
       "| rho |  1.0000 |  1.0000 |  1.0000 | NA |  NA |   NA |   NA |\n",
       "\n"
      ],
      "text/plain": [
       "               Median  2.5%    97.5%   n.sample % accept n.effective\n",
       "(Intercept)     0.3052  0.3052  0.3052 20         0       0.0       \n",
       "Disttoroadm     0.0001  0.0001  0.0001 20         0       0.0       \n",
       "Populationm     0.0082  0.0082  0.0082 20         0       0.0       \n",
       "Elevationm     -0.0004 -0.0004 -0.0004 20         0       0.0       \n",
       "Precipitationm -0.0250 -0.0250 -0.0250 20         0       0.0       \n",
       "tau2            2.3271  2.1712  2.4663 20       100       6.9       \n",
       "sigma2          0.0139  0.0032  0.0510 20       100      20.0       \n",
       "rho             1.0000  1.0000  1.0000 NA        NA        NA       \n",
       "               Geweke.diag\n",
       "(Intercept)     NaN       \n",
       "Disttoroadm     NaN       \n",
       "Populationm     NaN       \n",
       "Elevationm      NaN       \n",
       "Precipitationm  NaN       \n",
       "tau2            2.3       \n",
       "sigma2         -1.1       \n",
       "rho              NA       "
      ]
     },
     "metadata": {},
     "output_type": "display_data"
    }
   ],
   "source": [
    "model2$summary.results"
   ]
  },
  {
   "cell_type": "markdown",
   "metadata": {},
   "source": [
    "# Model III\n",
    "This model assumes that processes $S$ and $P$ are correlated to each other. Both of them have a specific Gaussian Markov random field and these two spatial structures are correlated. The correlated spatial structure follows a multivariate CAR specification (cite:kavanagh2016,Lee2013). The structure of the model is visualised as a directed acyclic graph (DAG) in the figure [[ref:fig:M3]].  For a detail explanation of the model refer to the supplementary materials of the manuscript.\n",
    " $$ [P , S ] = [P | GMRF_p] [ S | GMRF_s] $$\n",
    " \n",
    "\n"
   ]
  },
  {
   "cell_type": "code",
   "execution_count": null,
   "metadata": {},
   "outputs": [],
   "source": []
  },
  {
   "cell_type": "markdown",
   "metadata": {},
   "source": [
    "## Running the model\n",
    "Applying this model is straight forward. We only need to define an appropriate formula object."
   ]
  },
  {
   "cell_type": "code",
   "execution_count": 35,
   "metadata": {},
   "outputs": [],
   "source": [
    "formula <- cbind(species,sample) ~ Elevationm + Precipitationm + Disttoroadm + Populationm"
   ]
  },
  {
   "cell_type": "code",
   "execution_count": 36,
   "metadata": {},
   "outputs": [],
   "source": [
    "## Get number areal elements\n",
    "K <- dim(M_bis)[1]\n",
    "## Calculate new trial vector\n",
    "trials <- matrix(rep(1.0,K*2), ncol=2)"
   ]
  },
  {
   "cell_type": "code",
   "execution_count": 37,
   "metadata": {},
   "outputs": [
    {
     "name": "stdout",
     "output_type": "stream",
     "text": [
      "Setting up the model.\n",
      "Generating 100 post burnin and thinned (if requested) samples.\n",
      "  |======================================================================| 100%\n",
      "Summarising results.\n",
      "Finished in  31.4 seconds.\n"
     ]
    }
   ],
   "source": [
    "#burnin = 500\n",
    "#n.sample = 1000\n",
    "#thin = 1\n",
    "## Toy example, increase n.sample and burnin significantly for real applications.\n",
    "burnin = 400\n",
    "n.sample = 500\n",
    "thin = 5\n",
    "model3 <- MVS.CARleroux(formula , \n",
    "                        family = 'binomial',\n",
    "                        trials=trials,\n",
    "                        W=M_bis,\n",
    "                        rho = 1,\n",
    "                        burnin = burnin,\n",
    "                        n.sample = n.sample,\n",
    "                        data = DataFrame\n",
    "                         )"
   ]
  },
  {
   "cell_type": "code",
   "execution_count": 31,
   "metadata": {},
   "outputs": [
    {
     "data": {
      "text/html": [
       "<style>\n",
       ".dl-inline {width: auto; margin:0; padding: 0}\n",
       ".dl-inline>dt, .dl-inline>dd {float: none; width: auto; display: inline-block}\n",
       ".dl-inline>dt::after {content: \":\\0020\"; padding-right: .5ex}\n",
       ".dl-inline>dt:not(:first-of-type) {padding-left: .5ex}\n",
       "</style><dl class=dl-inline><dt>DIC</dt><dd>3976.20759912675</dd><dt>p.d</dt><dd>93.2164197242628</dd><dt>WAIC</dt><dd>3966.76045095188</dd><dt>p.w</dt><dd>81.3988205559398</dd><dt>LMPL</dt><dd>-1982.01490855626</dd><dt>loglikelihood</dt><dd>-1894.88737983911</dd></dl>\n"
      ],
      "text/latex": [
       "\\begin{description*}\n",
       "\\item[DIC] 3976.20759912675\n",
       "\\item[p.d] 93.2164197242628\n",
       "\\item[WAIC] 3966.76045095188\n",
       "\\item[p.w] 81.3988205559398\n",
       "\\item[LMPL] -1982.01490855626\n",
       "\\item[loglikelihood] -1894.88737983911\n",
       "\\end{description*}\n"
      ],
      "text/markdown": [
       "DIC\n",
       ":   3976.20759912675p.d\n",
       ":   93.2164197242628WAIC\n",
       ":   3966.76045095188p.w\n",
       ":   81.3988205559398LMPL\n",
       ":   -1982.01490855626loglikelihood\n",
       ":   -1894.88737983911\n",
       "\n"
      ],
      "text/plain": [
       "          DIC           p.d          WAIC           p.w          LMPL \n",
       "   3976.20760      93.21642    3966.76045      81.39882   -1982.01491 \n",
       "loglikelihood \n",
       "  -1894.88738 "
      ]
     },
     "metadata": {},
     "output_type": "display_data"
    }
   ],
   "source": [
    "model3$modelfit"
   ]
  },
  {
   "cell_type": "code",
   "execution_count": 41,
   "metadata": {},
   "outputs": [],
   "source": [
    "getUpperLowerCI <- function(fitted_sample,prefix=\"\",MARGIN=1){\n",
    "    fp = partial(quantile,probs=c(0.025,0.5,0.975))\n",
    "    quants =apply(X = fitted_sample,FUN = fp,MARGIN)\n",
    "    mfitt = apply(fitted_sample,mean,MARGIN = MARGIN)\n",
    "    vfitt = apply(fitted_sample,var,MARGIN = MARGIN)\n",
    "    new_data = cbind(t(quants),mfitt,vfitt)\n",
    "    l = as.list(c(\"q025\",\"median\",\"q0975\",\"mean\",\"variance\"))\n",
    "    nnames = lapply(l,function (x){return(paste(prefix,x,sep = '_'))})\n",
    "    colnames(new_data) = nnames\n",
    "    return(new_data)\n",
    "}\n",
    "\n"
   ]
  },
  {
   "cell_type": "code",
   "execution_count": 40,
   "metadata": {},
   "outputs": [
    {
     "ename": "ERROR",
     "evalue": "Error in apply(model.presence$samples$fitted, MARGIN = 1, identity): object 'model.presence' not found\n",
     "output_type": "error",
     "traceback": [
      "Error in apply(model.presence$samples$fitted, MARGIN = 1, identity): object 'model.presence' not found\nTraceback:\n",
      "1. apply(model.presence$samples$fitted, MARGIN = 1, identity)"
     ]
    }
   ],
   "source": [
    "model <- model3\n",
    "## Compute independent joint distribution\n",
    "library(boot)\n",
    "## Calculate the inverse of the logit for extracted fitted \n",
    "#fitted_presences = apply(model.presence$samples$fitted,MARGIN=1,inv.logit)\n",
    "#fitted_sample = apply(model.sample$samples$fitted,MARGIN=1,inv.logit)\n",
    "\n",
    "fitted_presences = apply(model.presence$samples$fitted,MARGIN=1,identity)\n",
    "fitted_sample = apply(model.sample$samples$fitted,MARGIN=1,identity)\n",
    "\n",
    "re_presence = apply(model.presence$samples$psi,MARGIN=1,identity)\n",
    "re_sample = apply(model.sample$samples$psi,MARGIN=1,identity)"
   ]
  },
  {
   "cell_type": "code",
   "execution_count": 42,
   "metadata": {},
   "outputs": [
    {
     "ename": "ERROR",
     "evalue": "Error in apply(X = fitted_sample, FUN = fp, MARGIN): object 'fitted_presences' not found\n",
     "output_type": "error",
     "traceback": [
      "Error in apply(X = fitted_sample, FUN = fp, MARGIN): object 'fitted_presences' not found\nTraceback:\n",
      "1. getUpperLowerCI(fitted_presences, prefix = \"P\")",
      "2. apply(X = fitted_sample, FUN = fp, MARGIN)   # at line 3 of file <text>"
     ]
    }
   ],
   "source": [
    "P = getUpperLowerCI(fitted_presences,prefix = 'P')\n",
    "S = getUpperLowerCI(fitted_sample,prefix = 'S')\n",
    "Gp = getUpperLowerCI(re_presence,prefix = 'Gp')\n",
    "Gs = getUpperLowerCI(re_sample,prefix = 'Gs')"
   ]
  },
  {
   "cell_type": "code",
   "execution_count": 10,
   "metadata": {},
   "outputs": [],
   "source": [
    "## Sample from the posterior\n",
    "sample.y <- data.frame(t(fitted_presences)) %>% mutate_all(function(p) rbernoulli(1,p))\n",
    "sample.x <- data.frame(t(fitted_sample)) %>% mutate_all(function(p) rbernoulli(1,p))\n",
    "sum.x <- colSums(sample.x)\n",
    "nsample <- nrow(sample.x)\n",
    "PX <- sum.x / nsample\n",
    "sum.y <- colSums(sample.y)\n",
    "PY <- sum.y / nsample\n",
    "PXY <- PX * PY"
   ]
  },
  {
   "cell_type": "code",
   "execution_count": 12,
   "metadata": {},
   "outputs": [],
   "source": [
    "dataout = cbind(TDF$cellids,P,S,Gp,Gs,PX,PY,PXY)"
   ]
  },
  {
   "cell_type": "code",
   "execution_count": 13,
   "metadata": {},
   "outputs": [],
   "source": [
    "## Save the complete chain trace for analysing in Python,\n",
    "file_ = '/outputs/presence_only_models/modelCAR1.csv'\n",
    "write.csv(dataout,file_)"
   ]
  },
  {
   "cell_type": "code",
   "execution_count": null,
   "metadata": {},
   "outputs": [],
   "source": []
  },
  {
   "cell_type": "code",
   "execution_count": null,
   "metadata": {},
   "outputs": [],
   "source": []
  },
  {
   "cell_type": "code",
   "execution_count": null,
   "metadata": {},
   "outputs": [],
   "source": []
  },
  {
   "cell_type": "code",
   "execution_count": null,
   "metadata": {},
   "outputs": [],
   "source": []
  },
  {
   "cell_type": "markdown",
   "metadata": {},
   "source": [
    "### Postprocess the posterior dist."
   ]
  },
  {
   "cell_type": "code",
   "execution_count": null,
   "metadata": {},
   "outputs": [],
   "source": [
    "joint_ind_ps_summary = getUpperLowerCI(joint_ind_ps,prefix='join_ind_ps',MARGIN=1)"
   ]
  },
  {
   "cell_type": "code",
   "execution_count": null,
   "metadata": {},
   "outputs": [],
   "source": [
    "var_joint_ind_ps_summary = getUpperLowerCI(var_joint_ind_ps,prefix='var_joint',MARGIN=1)"
   ]
  },
  {
   "cell_type": "code",
   "execution_count": null,
   "metadata": {},
   "outputs": [],
   "source": [
    "sample_ci = getUpperLowerCI(model.sample$samples$fitted,prefix = 'sample')"
   ]
  },
  {
   "cell_type": "code",
   "execution_count": null,
   "metadata": {},
   "outputs": [],
   "source": [
    "presence_ci = getUpperLowerCI(model.presence$samples$fitted,prefix='pinophyta')"
   ]
  },
  {
   "cell_type": "code",
   "execution_count": null,
   "metadata": {},
   "outputs": [],
   "source": [
    "#TDF$fitted_values = model.spatial$fitted.values\n",
    "#TDF = cbind(TDF,joint_ind_ps_summary,var_joint_ind_ps_summary,sample_ci,presence_ci)\n",
    "TDF = cbind(TDF,joint_ind_ps_summary,var_joint_ind_ps_summary)\n"
   ]
  },
  {
   "cell_type": "code",
   "execution_count": null,
   "metadata": {},
   "outputs": [],
   "source": [
    "## Export to CSV\n",
    "write.csv(TDF,file='/outputs/resultsCAR_sampleeffort1_puebla_p9_pinophyta_luca.csv')"
   ]
  },
  {
   "cell_type": "code",
   "execution_count": null,
   "metadata": {},
   "outputs": [],
   "source": []
  },
  {
   "cell_type": "code",
   "execution_count": null,
   "metadata": {},
   "outputs": [],
   "source": [
    "HASTA AQUI ME QUEDE HOY. FALTA VER que pasa con los modelos hacer mapa"
   ]
  },
  {
   "cell_type": "code",
   "execution_count": null,
   "metadata": {},
   "outputs": [],
   "source": []
  },
  {
   "cell_type": "code",
   "execution_count": null,
   "metadata": {},
   "outputs": [],
   "source": [
    "dtau = density(model.presence$samples$tau2)\n",
    "dsigma = density(model.presence$samples$sigma2)\n",
    "\n",
    "plot(dtau,main=expression(tau^2))\n",
    "plot(dsigma,main=expression(sigma^2))\n",
    "plot(beta1,main=\"Intercept\")\n",
    "plot(beta2,main=\"Distance to Road\")\n",
    "plot(beta3,main=\"Population\")"
   ]
  },
  {
   "cell_type": "code",
   "execution_count": null,
   "metadata": {},
   "outputs": [],
   "source": []
  },
  {
   "cell_type": "code",
   "execution_count": null,
   "metadata": {},
   "outputs": [],
   "source": [
    "mod_sig = glm(formula, data=TDF, family=binomial())\n",
    "#mod1.summary()"
   ]
  },
  {
   "cell_type": "code",
   "execution_count": null,
   "metadata": {},
   "outputs": [],
   "source": [
    "summary(mod_sig)"
   ]
  },
  {
   "cell_type": "code",
   "execution_count": null,
   "metadata": {},
   "outputs": [],
   "source": [
    "confint(mod_sig)"
   ]
  },
  {
   "cell_type": "markdown",
   "metadata": {},
   "source": [
    "## Instantiate Geospatial data"
   ]
  },
  {
   "cell_type": "code",
   "execution_count": null,
   "metadata": {},
   "outputs": [],
   "source": [
    "library(lattice)\n",
    "library(sp)\n"
   ]
  },
  {
   "cell_type": "code",
   "execution_count": null,
   "metadata": {},
   "outputs": [],
   "source": [
    "coordinates(TDF) <- c(\"Longitude\",\"Latitude\")"
   ]
  },
  {
   "cell_type": "code",
   "execution_count": null,
   "metadata": {},
   "outputs": [],
   "source": [
    "bubble(TDF,\"Pinophyta\")"
   ]
  },
  {
   "cell_type": "code",
   "execution_count": null,
   "metadata": {},
   "outputs": [],
   "source": []
  },
  {
   "cell_type": "markdown",
   "metadata": {},
   "source": [
    "## Spatial analysis in R\n",
    "First, exploratory"
   ]
  },
  {
   "cell_type": "code",
   "execution_count": null,
   "metadata": {},
   "outputs": [],
   "source": [
    "library(gstat)"
   ]
  },
  {
   "cell_type": "code",
   "execution_count": null,
   "metadata": {},
   "outputs": [],
   "source": [
    "plot(variogram(Pinophyta ~ 1,TDF))"
   ]
  },
  {
   "cell_type": "code",
   "execution_count": null,
   "metadata": {},
   "outputs": [],
   "source": [
    "install.packages(\"geoR\")"
   ]
  },
  {
   "cell_type": "code",
   "execution_count": null,
   "metadata": {},
   "outputs": [],
   "source": [
    "install.packages(\"geoRglm\")"
   ]
  },
  {
   "cell_type": "code",
   "execution_count": null,
   "metadata": {},
   "outputs": [],
   "source": [
    "library('spdep')"
   ]
  },
  {
   "cell_type": "code",
   "execution_count": null,
   "metadata": {},
   "outputs": [],
   "source": [
    "model_car = spautolm(Pinophyta ~ Dist.to.road_m +  Population_m + tipos,data=TDF,family=\"CAR\")"
   ]
  },
  {
   "cell_type": "code",
   "execution_count": null,
   "metadata": {},
   "outputs": [],
   "source": []
  }
 ],
 "metadata": {
  "kernelspec": {
   "display_name": "R",
   "language": "R",
   "name": "ir"
  },
  "language_info": {
   "codemirror_mode": "r",
   "file_extension": ".r",
   "mimetype": "text/x-r-source",
   "name": "R",
   "pygments_lexer": "r",
   "version": "4.0.4"
  }
 },
 "nbformat": 4,
 "nbformat_minor": 4
}
