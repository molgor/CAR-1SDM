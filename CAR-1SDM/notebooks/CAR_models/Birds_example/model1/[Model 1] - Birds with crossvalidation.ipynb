{
 "cells": [
  {
   "cell_type": "markdown",
   "metadata": {},
   "source": [
    "# A joint model CAR (model 1) \n",
    "# With Crossvalidation\n",
    "## Two independent processes\n",
    " $$ [P , S ] = [P ] [ S ] $$"
   ]
  },
  {
   "cell_type": "code",
   "execution_count": 1,
   "metadata": {},
   "outputs": [
    {
     "name": "stderr",
     "output_type": "stream",
     "text": [
      "Loading required package: MASS\n",
      "\n",
      "Loading required package: Rcpp\n",
      "\n",
      "Registered S3 method overwritten by 'GGally':\n",
      "  method from   \n",
      "  +.gg   ggplot2\n",
      "\n",
      "\n",
      "Attaching package: ‘dplyr’\n",
      "\n",
      "\n",
      "The following object is masked from ‘package:MASS’:\n",
      "\n",
      "    select\n",
      "\n",
      "\n",
      "The following objects are masked from ‘package:stats’:\n",
      "\n",
      "    filter, lag\n",
      "\n",
      "\n",
      "The following objects are masked from ‘package:base’:\n",
      "\n",
      "    intersect, setdiff, setequal, union\n",
      "\n",
      "\n"
     ]
    }
   ],
   "source": [
    "setwd('/main/app/external_plugins/biospytial_rwrapper/CAR-1SDM/')\n",
    "source('R/preprocess_data_birds.R')\n",
    "source(\"joint.binomial.bymCARModel1.R\")"
   ]
  },
  {
   "cell_type": "code",
   "execution_count": 2,
   "metadata": {},
   "outputs": [
    {
     "name": "stderr",
     "output_type": "stream",
     "text": [
      "Type 'citation(\"pROC\")' for a citation.\n",
      "\n",
      "\n",
      "Attaching package: ‘pROC’\n",
      "\n",
      "\n",
      "The following objects are masked from ‘package:stats’:\n",
      "\n",
      "    cov, smooth, var\n",
      "\n",
      "\n",
      "Loading required package: ggplot2\n",
      "\n",
      "Loading required package: lattice\n",
      "\n",
      "Warning message in system(\"timedatectl\", intern = TRUE):\n",
      "“running command 'timedatectl' had status 1”\n",
      "\n",
      "Attaching package: ‘caret’\n",
      "\n",
      "\n",
      "The following object is masked from ‘package:purrr’:\n",
      "\n",
      "    lift\n",
      "\n",
      "\n"
     ]
    }
   ],
   "source": [
    "## MCMC parameters burnin and sample to be consistent with the other models\n",
    "#n.sample = 10000                                                                                  \n",
    "#burnin=10000                                                                                      \n",
    "#postburnin = burnin +1000                                                                         \n",
    "\n",
    "n.sample = 50000                                                                                 \n",
    "burnin=40000                                                                                      \n",
    "postburnin = burnin +1000                                                                         \n",
    "\n",
    "\n",
    "thin = 10                                                                                          \n",
    "verbose = TRUE                           \n",
    "\n",
    "## Make ROC curve\n",
    "library(pROC)\n",
    "library('caret')\n",
    "#trains = createFolds(y = DataFrame$species, k=7, returnTrain = TRUE)\n",
    "\n",
    "nonas = which(! is.na(DataFrame$species) )\n",
    "Y_withoutNA = DataFrame$species[nonas]\n",
    "validate = createFolds(y = Y_withoutNA, k=7, returnTrain = FALSE)\n",
    "\n",
    "\n",
    "DataFrame$presences <- DataFrame$species\n",
    "\n",
    "l <- list()\n",
    "i = 1\n",
    "DataFrame$predicted_values_CV <- NA\n",
    "DataFrame$predicted_valuesBernoulli <- NA"
   ]
  },
  {
   "cell_type": "code",
   "execution_count": 3,
   "metadata": {},
   "outputs": [
    {
     "name": "stdout",
     "output_type": "stream",
     "text": [
      "Setting up the model.\n",
      "Performing burnin period for Sample Effort Model \n",
      "  |======================================================================| 100%\n",
      "Summarising results.\n",
      "Finished in  145.4 seconds.\n",
      "Setting up the model.\n",
      "Performing burnin period for Presence model \n",
      "  |======================================================================| 100%\n",
      "Summarising results.\n",
      "Finished in  144.3 seconds.\n",
      "Sampling from the joint model 5000 post burnin and thinned (if requested) samples.\n",
      "  |======================================================================| 100%\n",
      "[1] \"Compiling summary for S process\"\n",
      "[1] \"Compiling summary for the P process\"\n",
      "[1] \"Generating bernoulli sampling...\"\n"
     ]
    },
    {
     "name": "stderr",
     "output_type": "stream",
     "text": [
      "Setting levels: control = 0, case = 1\n",
      "\n",
      "Setting direction: controls < cases\n",
      "\n"
     ]
    },
    {
     "name": "stdout",
     "output_type": "stream",
     "text": [
      "Setting up the model.\n",
      "Performing burnin period for Sample Effort Model \n",
      "  |======================================================================| 100%\n",
      "Summarising results.\n",
      "Finished in  149.6 seconds.\n",
      "Setting up the model.\n",
      "Performing burnin period for Presence model \n",
      "  |======================================================================| 100%\n",
      "Summarising results.\n",
      "Finished in  151.4 seconds.\n",
      "Sampling from the joint model 5000 post burnin and thinned (if requested) samples.\n",
      "  |======================================================================| 100%\n",
      "[1] \"Compiling summary for S process\"\n",
      "[1] \"Compiling summary for the P process\"\n",
      "[1] \"Generating bernoulli sampling...\"\n"
     ]
    },
    {
     "name": "stderr",
     "output_type": "stream",
     "text": [
      "Setting levels: control = 0, case = 1\n",
      "\n",
      "Setting direction: controls < cases\n",
      "\n"
     ]
    },
    {
     "name": "stdout",
     "output_type": "stream",
     "text": [
      "Setting up the model.\n",
      "Performing burnin period for Sample Effort Model \n",
      "  |======================================================================| 100%\n",
      "Summarising results.\n",
      "Finished in  146.3 seconds.\n",
      "Setting up the model.\n",
      "Performing burnin period for Presence model \n",
      "  |======================================================================| 100%\n",
      "Summarising results.\n",
      "Finished in  144.1 seconds.\n",
      "Sampling from the joint model 5000 post burnin and thinned (if requested) samples.\n",
      "  |======================================================================| 100%\n",
      "[1] \"Compiling summary for S process\"\n",
      "[1] \"Compiling summary for the P process\"\n",
      "[1] \"Generating bernoulli sampling...\"\n"
     ]
    },
    {
     "name": "stderr",
     "output_type": "stream",
     "text": [
      "Setting levels: control = 0, case = 1\n",
      "\n",
      "Setting direction: controls < cases\n",
      "\n"
     ]
    },
    {
     "name": "stdout",
     "output_type": "stream",
     "text": [
      "Setting up the model.\n",
      "Performing burnin period for Sample Effort Model \n",
      "  |======================================================================| 100%\n",
      "Summarising results.\n",
      "Finished in  144.4 seconds.\n",
      "Setting up the model.\n",
      "Performing burnin period for Presence model \n",
      "  |======================================================================| 100%\n",
      "Summarising results.\n",
      "Finished in  143.5 seconds.\n",
      "Sampling from the joint model 5000 post burnin and thinned (if requested) samples.\n",
      "  |======================================================================| 100%\n",
      "[1] \"Compiling summary for S process\"\n",
      "[1] \"Compiling summary for the P process\"\n",
      "[1] \"Generating bernoulli sampling...\"\n"
     ]
    },
    {
     "name": "stderr",
     "output_type": "stream",
     "text": [
      "Setting levels: control = 0, case = 1\n",
      "\n",
      "Setting direction: controls < cases\n",
      "\n"
     ]
    },
    {
     "name": "stdout",
     "output_type": "stream",
     "text": [
      "Setting up the model.\n",
      "Performing burnin period for Sample Effort Model \n",
      "  |======================================================================| 100%\n",
      "Summarising results.\n",
      "Finished in  143.2 seconds.\n",
      "Setting up the model.\n",
      "Performing burnin period for Presence model \n",
      "  |======================================================================| 100%\n",
      "Summarising results.\n",
      "Finished in  143.1 seconds.\n",
      "Sampling from the joint model 5000 post burnin and thinned (if requested) samples.\n",
      "  |======================================================================| 100%\n",
      "[1] \"Compiling summary for S process\"\n",
      "[1] \"Compiling summary for the P process\"\n",
      "[1] \"Generating bernoulli sampling...\"\n"
     ]
    },
    {
     "name": "stderr",
     "output_type": "stream",
     "text": [
      "Setting levels: control = 0, case = 1\n",
      "\n",
      "Setting direction: controls < cases\n",
      "\n"
     ]
    },
    {
     "name": "stdout",
     "output_type": "stream",
     "text": [
      "Setting up the model.\n",
      "Performing burnin period for Sample Effort Model \n",
      "  |======================================================================| 100%\n",
      "Summarising results.\n",
      "Finished in  142.7 seconds.\n",
      "Setting up the model.\n",
      "Performing burnin period for Presence model \n",
      "  |======================================================================| 100%\n",
      "Summarising results.\n",
      "Finished in  144.4 seconds.\n",
      "Sampling from the joint model 5000 post burnin and thinned (if requested) samples.\n",
      "  |======================================================================| 100%\n",
      "[1] \"Compiling summary for S process\"\n",
      "[1] \"Compiling summary for the P process\"\n",
      "[1] \"Generating bernoulli sampling...\"\n"
     ]
    },
    {
     "name": "stderr",
     "output_type": "stream",
     "text": [
      "Setting levels: control = 0, case = 1\n",
      "\n",
      "Setting direction: controls > cases\n",
      "\n"
     ]
    },
    {
     "name": "stdout",
     "output_type": "stream",
     "text": [
      "Setting up the model.\n",
      "Performing burnin period for Sample Effort Model \n",
      "  |======================================================================| 100%\n",
      "Summarising results.\n",
      "Finished in  142.7 seconds.\n",
      "Setting up the model.\n",
      "Performing burnin period for Presence model \n",
      "  |======================================================================| 100%\n",
      "Summarising results.\n",
      "Finished in  143.1 seconds.\n",
      "Sampling from the joint model 5000 post burnin and thinned (if requested) samples.\n",
      "  |======================================================================| 100%\n",
      "[1] \"Compiling summary for S process\"\n",
      "[1] \"Compiling summary for the P process\"\n",
      "[1] \"Generating bernoulli sampling...\"\n"
     ]
    },
    {
     "name": "stderr",
     "output_type": "stream",
     "text": [
      "Setting levels: control = 0, case = 1\n",
      "\n",
      "Setting direction: controls < cases\n",
      "\n"
     ]
    }
   ],
   "source": [
    "\n",
    "formula_sample =  sample ~ Disttoroadm + Populationm\n",
    "formula_presence = species ~ Elevationm + Precipitationm\n",
    "\n",
    "for (fold in validate) {\n",
    "    \n",
    "    observed.presences <- DataFrame$species[fold]\n",
    "    ## Substitue by NA\n",
    "    DataFrame$species[fold] <- NA\n",
    "    results  <- joint.binomial.bymCARModel1(formula_S = formula_sample, \n",
    "                                        formula_P = formula_presence,\n",
    "                                        n.sample=n.sample,\n",
    "                                        data = DataFrame,\n",
    "                                        burnin=burnin,\n",
    "                                        postburnin=postburnin,\n",
    "                                        thin=thin,\n",
    "                                        verbose=TRUE) \n",
    "\n",
    "    DataFrame$species <- DataFrame$presences\n",
    "    ## Return original values\n",
    "    DataFrame$predicted_values_CV[fold] <- results$fitted.values[fold]\n",
    "    predicted.probability = results$fitted.values[fold]\n",
    "    \n",
    "    ## Generate Bernoulli sample [ Only for the fold data set]\n",
    "    print(\"Generating bernoulli sampling...\")\n",
    "\n",
    "    post.joint = data.frame(results$samples$fitted.joint[fold])\n",
    "\n",
    "    ptot <- post.joint %>% mutate_all(function(p) rbernoulli(1,p))\n",
    "\n",
    "    sumpt <- colSums(ptot)\n",
    "\n",
    "    nsamples = dim(ptot)[1]\n",
    "    \n",
    "\n",
    "    ProbPS <- sumpt / nsamples\n",
    "    \n",
    "    DataFrame$predicted_valuesBernoulli[fold] <- ProbPS\n",
    "    \n",
    "    \n",
    "    pROC_obj <- roc(observed.presences,predicted.probability)\n",
    "\n",
    "    l[[i]] <- pROC_obj\n",
    "    i = i + 1\n",
    "}"
   ]
  },
  {
   "cell_type": "code",
   "execution_count": 4,
   "metadata": {},
   "outputs": [
    {
     "name": "stderr",
     "output_type": "stream",
     "text": [
      "Setting levels: control = 0, case = 1\n",
      "\n",
      "Setting direction: controls < cases\n",
      "\n",
      "Warning message in plot.ci.se(sens.ci, type = \"shape\", col = \"lightblue\"):\n",
      "“Low definition shape.”\n"
     ]
    },
    {
     "data": {
      "image/png": "[encoded data removed]",
      "text/plain": [
       "plot without title"
      ]
     },
     "metadata": {
      "image/png": {
       "height": 420,
       "width": 420
      }
     },
     "output_type": "display_data"
    }
   ],
   "source": [
    "pROC_obj <- roc(DataFrame$presences,DataFrame$predicted_values_CV,\n",
    "               smoothed= TRUE,\n",
    "               ci = TRUE, ci.alpha=0.9, stratified=FALSE,\n",
    "               plot=TRUE, auc.polygon=TRUE, max.auc.polygon=TRUE, grid=TRUE,\n",
    "               print.auc=TRUE, show.thres=TRUE)\n",
    "sens.ci <- ci.se(pROC_obj)\n",
    "plot(sens.ci,type=\"shape\",col=\"lightblue\")\n",
    "plot(sens.ci, type=\"bars\")"
   ]
  },
  {
   "cell_type": "code",
   "execution_count": 6,
   "metadata": {},
   "outputs": [
    {
     "name": "stderr",
     "output_type": "stream",
     "text": [
      "Setting levels: control = 0, case = 1\n",
      "Setting direction: controls < cases\n",
      "Warning message in plot.ci.se(sens.ci, type = \"shape\", col = \"lightblue\"):\n",
      "“Low definition shape.”"
     ]
    },
    {
     "data": {
      "image/png": "[encoded data removed]",
      "text/plain": [
       "plot without title"
      ]
     },
     "metadata": {},
     "output_type": "display_data"
    }
   ],
   "source": [
    "pROC_obj <- roc(DataFrame$presences,DataFrame$predicted_values_CV,\n",
    "               smoothed= TRUE,\n",
    "               ci = TRUE, ci.alpha=0.9, stratified=FALSE,\n",
    "               plot=TRUE, auc.polygon=TRUE, max.auc.polygon=TRUE, grid=TRUE,\n",
    "               print.auc=TRUE, show.thres=TRUE)\n",
    "sens.ci <- ci.se(pROC_obj)\n",
    "plot(sens.ci,type=\"shape\",col=\"lightblue\")\n",
    "plot(sens.ci, type=\"bars\")"
   ]
  },
  {
   "cell_type": "code",
   "execution_count": null,
   "metadata": {},
   "outputs": [],
   "source": []
  },
  {
   "cell_type": "code",
   "execution_count": null,
   "metadata": {},
   "outputs": [],
   "source": []
  },
  {
   "cell_type": "code",
   "execution_count": null,
   "metadata": {},
   "outputs": [],
   "source": []
  },
  {
   "cell_type": "code",
   "execution_count": 1,
   "metadata": {},
   "outputs": [],
   "source": [
    "## Import code:\n",
    "setwd('/apps/external_plugins/biospytial_rwrapper/biospytial.rwrapper/R/')"
   ]
  },
  {
   "cell_type": "code",
   "execution_count": 2,
   "metadata": {},
   "outputs": [
    {
     "name": "stderr",
     "output_type": "stream",
     "text": [
      "Loading required package: MASS\n",
      "Loading required package: Rcpp\n",
      "\n",
      "Attaching package: ‘dplyr’\n",
      "\n",
      "The following object is masked from ‘package:MASS’:\n",
      "\n",
      "    select\n",
      "\n",
      "The following objects are masked from ‘package:stats’:\n",
      "\n",
      "    filter, lag\n",
      "\n",
      "The following objects are masked from ‘package:base’:\n",
      "\n",
      "    intersect, setdiff, setequal, union\n",
      "\n",
      "Warning message:\n",
      "“The `printer` argument is deprecated as of rlang 0.3.0.\n",
      "This warning is displayed once per session.”"
     ]
    }
   ],
   "source": [
    "rm(list=ls())                                                                                     \n",
    "source(\"init_data_4_birds.R\")                                                                             \n",
    "# load the building function                                                                      \n",
    "source(\"joint.binomial.bymCARModel1.R\")"
   ]
  },
  {
   "cell_type": "markdown",
   "metadata": {},
   "source": [
    "Cross validation of CAR models is not straight forward due to its spatial structure (lattice). \n",
    "The approach for this would be with data augmentation.\n",
    "removing the value for validate.data and change it o NA.\n",
    "\n",
    "After the model, I'll extract the resulting probability and perform a simple ROC curve.\n"
   ]
  },
  {
   "cell_type": "code",
   "execution_count": 4,
   "metadata": {},
   "outputs": [
    {
     "data": {
      "text/html": [
       "<ol class=list-inline>\n",
       "\t<li>'X'</li>\n",
       "\t<li>'LUCA'</li>\n",
       "\t<li>'Aves'</li>\n",
       "\t<li>'Passeriformes'</li>\n",
       "\t<li>'Tyrannidae'</li>\n",
       "\t<li>'cellids'</li>\n",
       "\t<li>'Disttoroadm'</li>\n",
       "\t<li>'Elevationm'</li>\n",
       "\t<li>'MaxTempm'</li>\n",
       "\t<li>'MeanTempm'</li>\n",
       "\t<li>'MinTempm'</li>\n",
       "\t<li>'Populationm'</li>\n",
       "\t<li>'Precipitationm'</li>\n",
       "\t<li>'SolarRadiationm'</li>\n",
       "\t<li>'VaporPresm'</li>\n",
       "\t<li>'WindSpm'</li>\n",
       "\t<li>'Longitude'</li>\n",
       "\t<li>'Latitude'</li>\n",
       "\t<li>'wwfmhtnum'</li>\n",
       "\t<li>'wwfmhtnam'</li>\n",
       "\t<li>'covid'</li>\n",
       "\t<li>'name'</li>\n",
       "\t<li>'covid2'</li>\n",
       "\t<li>'tipos'</li>\n",
       "\t<li>'geometry'</li>\n",
       "\t<li>'sample'</li>\n",
       "\t<li>'species'</li>\n",
       "\t<li>'presences'</li>\n",
       "\t<li>'predicted_values_CV'</li>\n",
       "\t<li>'predicted_valuesBernoulli'</li>\n",
       "</ol>\n"
      ],
      "text/latex": [
       "\\begin{enumerate*}\n",
       "\\item 'X'\n",
       "\\item 'LUCA'\n",
       "\\item 'Aves'\n",
       "\\item 'Passeriformes'\n",
       "\\item 'Tyrannidae'\n",
       "\\item 'cellids'\n",
       "\\item 'Disttoroadm'\n",
       "\\item 'Elevationm'\n",
       "\\item 'MaxTempm'\n",
       "\\item 'MeanTempm'\n",
       "\\item 'MinTempm'\n",
       "\\item 'Populationm'\n",
       "\\item 'Precipitationm'\n",
       "\\item 'SolarRadiationm'\n",
       "\\item 'VaporPresm'\n",
       "\\item 'WindSpm'\n",
       "\\item 'Longitude'\n",
       "\\item 'Latitude'\n",
       "\\item 'wwfmhtnum'\n",
       "\\item 'wwfmhtnam'\n",
       "\\item 'covid'\n",
       "\\item 'name'\n",
       "\\item 'covid2'\n",
       "\\item 'tipos'\n",
       "\\item 'geometry'\n",
       "\\item 'sample'\n",
       "\\item 'species'\n",
       "\\item 'presences'\n",
       "\\item 'predicted\\_values\\_CV'\n",
       "\\item 'predicted\\_valuesBernoulli'\n",
       "\\end{enumerate*}\n"
      ],
      "text/markdown": [
       "1. 'X'\n",
       "2. 'LUCA'\n",
       "3. 'Aves'\n",
       "4. 'Passeriformes'\n",
       "5. 'Tyrannidae'\n",
       "6. 'cellids'\n",
       "7. 'Disttoroadm'\n",
       "8. 'Elevationm'\n",
       "9. 'MaxTempm'\n",
       "10. 'MeanTempm'\n",
       "11. 'MinTempm'\n",
       "12. 'Populationm'\n",
       "13. 'Precipitationm'\n",
       "14. 'SolarRadiationm'\n",
       "15. 'VaporPresm'\n",
       "16. 'WindSpm'\n",
       "17. 'Longitude'\n",
       "18. 'Latitude'\n",
       "19. 'wwfmhtnum'\n",
       "20. 'wwfmhtnam'\n",
       "21. 'covid'\n",
       "22. 'name'\n",
       "23. 'covid2'\n",
       "24. 'tipos'\n",
       "25. 'geometry'\n",
       "26. 'sample'\n",
       "27. 'species'\n",
       "28. 'presences'\n",
       "29. 'predicted_values_CV'\n",
       "30. 'predicted_valuesBernoulli'\n",
       "\n",
       "\n"
      ],
      "text/plain": [
       " [1] \"X\"                         \"LUCA\"                     \n",
       " [3] \"Aves\"                      \"Passeriformes\"            \n",
       " [5] \"Tyrannidae\"                \"cellids\"                  \n",
       " [7] \"Disttoroadm\"               \"Elevationm\"               \n",
       " [9] \"MaxTempm\"                  \"MeanTempm\"                \n",
       "[11] \"MinTempm\"                  \"Populationm\"              \n",
       "[13] \"Precipitationm\"            \"SolarRadiationm\"          \n",
       "[15] \"VaporPresm\"                \"WindSpm\"                  \n",
       "[17] \"Longitude\"                 \"Latitude\"                 \n",
       "[19] \"wwfmhtnum\"                 \"wwfmhtnam\"                \n",
       "[21] \"covid\"                     \"name\"                     \n",
       "[23] \"covid2\"                    \"tipos\"                    \n",
       "[25] \"geometry\"                  \"sample\"                   \n",
       "[27] \"species\"                   \"presences\"                \n",
       "[29] \"predicted_values_CV\"       \"predicted_valuesBernoulli\""
      ]
     },
     "metadata": {},
     "output_type": "display_data"
    }
   ],
   "source": [
    "names(DataFrame)"
   ]
  },
  {
   "cell_type": "code",
   "execution_count": null,
   "metadata": {},
   "outputs": [
    {
     "name": "stdout",
     "output_type": "stream",
     "text": [
      "Setting up the model.\n",
      "Performing burnin period for Sample Effort Model \n",
      "  |======================================================================| 100%\n",
      "Summarising results.\n",
      "Finished in  55.1 seconds.\n",
      "Setting up the model.\n",
      "Performing burnin period for Presence model \n",
      "  |======================================================================| 100%\n",
      "Summarising results.\n"
     ]
    }
   ],
   "source": [
    "formula_sample =  sample ~ Disttoroadm + Populationm\n",
    "formula_presence = species ~ Elevationm + Precipitationm\n",
    "## Complete model\n",
    "results  <- joint.binomial.bymCARModel1(formula_S = formula_sample, \n",
    "                                        formula_P = formula_presence,\n",
    "                                        n.sample=n.sample,\n",
    "                                        data = DataFrame,\n",
    "                                        burnin=burnin,\n",
    "                                        postburnin=postburnin,\n",
    "                                        thin=thin,\n",
    "                                        verbose=TRUE)"
   ]
  },
  {
   "cell_type": "code",
   "execution_count": null,
   "metadata": {},
   "outputs": [],
   "source": [
    "library(coda)"
   ]
  },
  {
   "cell_type": "code",
   "execution_count": null,
   "metadata": {},
   "outputs": [],
   "source": [
    "plot(results$P$samples$beta)"
   ]
  },
  {
   "cell_type": "code",
   "execution_count": null,
   "metadata": {},
   "outputs": [],
   "source": [
    "## with NA's in Y\n",
    "results$summary.results"
   ]
  },
  {
   "cell_type": "code",
   "execution_count": 14,
   "metadata": {},
   "outputs": [
    {
     "data": {
      "text/html": [
       "<dl class=dl-horizontal>\n",
       "\t<dt>DIC</dt>\n",
       "\t\t<dd>3421.20627494295</dd>\n",
       "\t<dt>p.d</dt>\n",
       "\t\t<dd>986.811477901527</dd>\n",
       "\t<dt>WAIC</dt>\n",
       "\t\t<dd>3487.43084276572</dd>\n",
       "\t<dt>p.w</dt>\n",
       "\t\t<dd>807.708750197571</dd>\n",
       "\t<dt>LMPL</dt>\n",
       "\t\t<dd>-1921.02941535271</dd>\n",
       "\t<dt>loglikelihood</dt>\n",
       "\t\t<dd>-723.791659569946</dd>\n",
       "</dl>\n"
      ],
      "text/latex": [
       "\\begin{description*}\n",
       "\\item[DIC] 3421.20627494295\n",
       "\\item[p.d] 986.811477901527\n",
       "\\item[WAIC] 3487.43084276572\n",
       "\\item[p.w] 807.708750197571\n",
       "\\item[LMPL] -1921.02941535271\n",
       "\\item[loglikelihood] -723.791659569946\n",
       "\\end{description*}\n"
      ],
      "text/markdown": [
       "DIC\n",
       ":   3421.20627494295p.d\n",
       ":   986.811477901527WAIC\n",
       ":   3487.43084276572p.w\n",
       ":   807.708750197571LMPL\n",
       ":   -1921.02941535271loglikelihood\n",
       ":   -723.791659569946\n",
       "\n"
      ],
      "text/plain": [
       "          DIC           p.d          WAIC           p.w          LMPL \n",
       "    3421.2063      986.8115     3487.4308      807.7088    -1921.0294 \n",
       "loglikelihood \n",
       "    -723.7917 "
      ]
     },
     "metadata": {},
     "output_type": "display_data"
    }
   ],
   "source": [
    "## without NA'sin Y\n",
    "results$summary.results"
   ]
  },
  {
   "cell_type": "code",
   "execution_count": 29,
   "metadata": {},
   "outputs": [
    {
     "data": {
      "text/html": [
       "<dl class=dl-horizontal>\n",
       "\t<dt>DIC</dt>\n",
       "\t\t<dd>3517.6100746049</dd>\n",
       "\t<dt>p.d</dt>\n",
       "\t\t<dd>896.716618926226</dd>\n",
       "\t<dt>WAIC</dt>\n",
       "\t\t<dd>3577.03426502631</dd>\n",
       "\t<dt>p.w</dt>\n",
       "\t\t<dd>752.202506835927</dd>\n",
       "\t<dt>LMPL</dt>\n",
       "\t\t<dd>-1895.75908675802</dd>\n",
       "\t<dt>loglikelihood</dt>\n",
       "\t\t<dd>-862.088418376222</dd>\n",
       "</dl>\n"
      ],
      "text/latex": [
       "\\begin{description*}\n",
       "\\item[DIC] 3517.6100746049\n",
       "\\item[p.d] 896.716618926226\n",
       "\\item[WAIC] 3577.03426502631\n",
       "\\item[p.w] 752.202506835927\n",
       "\\item[LMPL] -1895.75908675802\n",
       "\\item[loglikelihood] -862.088418376222\n",
       "\\end{description*}\n"
      ],
      "text/markdown": [
       "DIC\n",
       ":   3517.6100746049p.d\n",
       ":   896.716618926226WAIC\n",
       ":   3577.03426502631p.w\n",
       ":   752.202506835927LMPL\n",
       ":   -1895.75908675802loglikelihood\n",
       ":   -862.088418376222\n",
       "\n"
      ],
      "text/plain": [
       "          DIC           p.d          WAIC           p.w          LMPL \n",
       "    3517.6101      896.7166     3577.0343      752.2025    -1895.7591 \n",
       "loglikelihood \n",
       "    -862.0884 "
      ]
     },
     "metadata": {},
     "output_type": "display_data"
    }
   ],
   "source": [
    "## with no NA's in Y\n",
    "results$summary.results"
   ]
  },
  {
   "cell_type": "code",
   "execution_count": 8,
   "metadata": {},
   "outputs": [
    {
     "data": {
      "text/html": [
       "<dl class=dl-horizontal>\n",
       "\t<dt>DIC</dt>\n",
       "\t\t<dd>4445.8223202758</dd>\n",
       "\t<dt>p.d</dt>\n",
       "\t\t<dd>1095.69782825096</dd>\n",
       "\t<dt>WAIC</dt>\n",
       "\t\t<dd>4409.90952277686</dd>\n",
       "\t<dt>p.w</dt>\n",
       "\t\t<dd>848.675919169682</dd>\n",
       "\t<dt>LMPL</dt>\n",
       "\t\t<dd>-2306.21646384978</dd>\n",
       "\t<dt>loglikelihood</dt>\n",
       "\t\t<dd>-1127.21333188694</dd>\n",
       "</dl>\n"
      ],
      "text/latex": [
       "\\begin{description*}\n",
       "\\item[DIC] 4445.8223202758\n",
       "\\item[p.d] 1095.69782825096\n",
       "\\item[WAIC] 4409.90952277686\n",
       "\\item[p.w] 848.675919169682\n",
       "\\item[LMPL] -2306.21646384978\n",
       "\\item[loglikelihood] -1127.21333188694\n",
       "\\end{description*}\n"
      ],
      "text/markdown": [
       "DIC\n",
       ":   4445.8223202758p.d\n",
       ":   1095.69782825096WAIC\n",
       ":   4409.90952277686p.w\n",
       ":   848.675919169682LMPL\n",
       ":   -2306.21646384978loglikelihood\n",
       ":   -1127.21333188694\n",
       "\n"
      ],
      "text/plain": [
       "          DIC           p.d          WAIC           p.w          LMPL \n",
       "    4445.8223     1095.6978     4409.9095      848.6759    -2306.2165 \n",
       "loglikelihood \n",
       "   -1127.2133 "
      ]
     },
     "metadata": {},
     "output_type": "display_data"
    }
   ],
   "source": [
    "results$summary.results"
   ]
  },
  {
   "cell_type": "code",
   "execution_count": null,
   "metadata": {},
   "outputs": [],
   "source": [
    "results$S$summary.results"
   ]
  },
  {
   "cell_type": "code",
   "execution_count": null,
   "metadata": {},
   "outputs": [],
   "source": [
    "results$P$summary.results"
   ]
  },
  {
   "cell_type": "code",
   "execution_count": 30,
   "metadata": {},
   "outputs": [
    {
     "data": {
      "text/html": [
       "<table>\n",
       "<thead><tr><th></th><th scope=col>Median</th><th scope=col>2.5%</th><th scope=col>97.5%</th><th scope=col>n.sample</th><th scope=col>% accept</th><th scope=col>n.effective</th><th scope=col>Geweke.diag</th></tr></thead>\n",
       "<tbody>\n",
       "\t<tr><th scope=row>(Intercept)</th><td>-3.5720</td><td>-5.9809</td><td>-0.9618</td><td>10000  </td><td> 63.7  </td><td>  9.4  </td><td>-2.3   </td></tr>\n",
       "\t<tr><th scope=row>Elevationm</th><td> 0.0001</td><td>-0.0002</td><td> 0.0005</td><td>10000  </td><td> 63.7  </td><td>287.2  </td><td> 0.3   </td></tr>\n",
       "\t<tr><th scope=row>MeanTempm</th><td>-0.0005</td><td>-0.0009</td><td> 0.0000</td><td>10000  </td><td> 63.7  </td><td>109.7  </td><td> 1.3   </td></tr>\n",
       "\t<tr><th scope=row>tau2</th><td>19.4756</td><td>13.1363</td><td>39.6048</td><td>10000  </td><td>100.0  </td><td>  8.0  </td><td>-1.3   </td></tr>\n",
       "\t<tr><th scope=row>sigma2</th><td> 0.0641</td><td> 0.0280</td><td> 0.1470</td><td>10000  </td><td>100.0  </td><td>  4.6  </td><td> 3.3   </td></tr>\n",
       "</tbody>\n",
       "</table>\n"
      ],
      "text/latex": [
       "\\begin{tabular}{r|lllllll}\n",
       "  & Median & 2.5\\% & 97.5\\% & n.sample & \\% accept & n.effective & Geweke.diag\\\\\n",
       "\\hline\n",
       "\t(Intercept) & -3.5720 & -5.9809 & -0.9618 & 10000   &  63.7   &   9.4   & -2.3   \\\\\n",
       "\tElevationm &  0.0001 & -0.0002 &  0.0005 & 10000   &  63.7   & 287.2   &  0.3   \\\\\n",
       "\tMeanTempm & -0.0005 & -0.0009 &  0.0000 & 10000   &  63.7   & 109.7   &  1.3   \\\\\n",
       "\ttau2 & 19.4756 & 13.1363 & 39.6048 & 10000   & 100.0   &   8.0   & -1.3   \\\\\n",
       "\tsigma2 &  0.0641 &  0.0280 &  0.1470 & 10000   & 100.0   &   4.6   &  3.3   \\\\\n",
       "\\end{tabular}\n"
      ],
      "text/markdown": [
       "\n",
       "| <!--/--> | Median | 2.5% | 97.5% | n.sample | % accept | n.effective | Geweke.diag | \n",
       "|---|---|---|---|---|\n",
       "| (Intercept) | -3.5720 | -5.9809 | -0.9618 | 10000   |  63.7   |   9.4   | -2.3    | \n",
       "| Elevationm |  0.0001 | -0.0002 |  0.0005 | 10000   |  63.7   | 287.2   |  0.3    | \n",
       "| MeanTempm | -0.0005 | -0.0009 |  0.0000 | 10000   |  63.7   | 109.7   |  1.3    | \n",
       "| tau2 | 19.4756 | 13.1363 | 39.6048 | 10000   | 100.0   |   8.0   | -1.3    | \n",
       "| sigma2 |  0.0641 |  0.0280 |  0.1470 | 10000   | 100.0   |   4.6   |  3.3    | \n",
       "\n",
       "\n"
      ],
      "text/plain": [
       "            Median  2.5%    97.5%   n.sample % accept n.effective Geweke.diag\n",
       "(Intercept) -3.5720 -5.9809 -0.9618 10000     63.7      9.4       -2.3       \n",
       "Elevationm   0.0001 -0.0002  0.0005 10000     63.7    287.2        0.3       \n",
       "MeanTempm   -0.0005 -0.0009  0.0000 10000     63.7    109.7        1.3       \n",
       "tau2        19.4756 13.1363 39.6048 10000    100.0      8.0       -1.3       \n",
       "sigma2       0.0641  0.0280  0.1470 10000    100.0      4.6        3.3       "
      ]
     },
     "metadata": {},
     "output_type": "display_data"
    }
   ],
   "source": [
    "results$P$summary.results"
   ]
  },
  {
   "cell_type": "code",
   "execution_count": null,
   "metadata": {},
   "outputs": [],
   "source": [
    "meanfitted = results$fitted.values"
   ]
  },
  {
   "cell_type": "code",
   "execution_count": null,
   "metadata": {},
   "outputs": [],
   "source": [
    "fitted_samples = cbind(results$S$samples$fitted,results$P$samples$fitted)\n",
    "\n",
    "post.sample_p = data.frame(results$S$samples$fitted)\n",
    "post.presence_p = data.frame(results$P$samples$fitted)\n",
    "post.joint = data.frame(results$samples$fitted.joint)\n",
    "\n",
    "pss  <- post.sample_p %>% mutate_all(function(p) rbernoulli(1,p))\n",
    "pps <- post.presence_p %>% mutate_all(function(p) rbernoulli(1,p))\n",
    "ptot <- post.joint %>% mutate_all(function(p) rbernoulli(1,p))\n",
    "\n",
    "sumpt <- colSums(ptot)\n",
    "sumps <- colSums(pss)\n",
    "sumpp <- colSums(pps)\n",
    "\n",
    "nsamples = dim(ptot)[1]\n",
    "print(nsamples)\n",
    "\n",
    "ProbPS <- sumpt / nsamples\n",
    "ProbP <- sumpp / nsamples\n",
    "ProbS <- sumps / nsamples\n",
    "                                  "
   ]
  },
  {
   "cell_type": "code",
   "execution_count": null,
   "metadata": {},
   "outputs": [],
   "source": [
    "## Compute independent joint distribution\n",
    "library(boot)\n",
    "\n",
    "fitted_presences = apply(results$P$samples$fitted,MARGIN=1,identity)\n",
    "fitted_sample = apply(results$S$samples$fitted,MARGIN=1,identity)\n",
    "fitted_total = apply(results$samples$fitted,MARGIN=1,identity)\n",
    "\n",
    "re_presence = apply(results$P$samples$psi,MARGIN=1,identity)\n",
    "re_sample = apply(results$S$samples$psi,MARGIN=1,identity)"
   ]
  },
  {
   "cell_type": "code",
   "execution_count": null,
   "metadata": {},
   "outputs": [],
   "source": [
    "getUpperLowerCI <- function(fitted_sample,prefix=\"\",MARGIN=1){\n",
    "    fp = partial(quantile,probs=c(0.025,0.5,0.975))\n",
    "    quants =apply(X = fitted_sample,FUN = fp,MARGIN)\n",
    "    mfitt = apply(fitted_sample,mean,MARGIN = MARGIN)\n",
    "    vfitt = apply(fitted_sample,var,MARGIN = MARGIN)\n",
    "    new_data = cbind(t(quants),mfitt,vfitt)\n",
    "    l = as.list(c(\"q025\",\"median\",\"q0975\",\"mean\",\"variance\"))\n",
    "    nnames = lapply(l,function (x){return(paste(prefix,x,sep = '_'))})\n",
    "    colnames(new_data) = nnames\n",
    "    return(new_data)\n",
    "}\n",
    "\n",
    "P = getUpperLowerCI(fitted_presences,prefix = 'P')\n",
    "S = getUpperLowerCI(fitted_sample,prefix = 'S')\n",
    "PS = getUpperLowerCI(fitted_total,prefix = 'PS')\n",
    "Gp = getUpperLowerCI(re_presence,prefix = 'Gp')\n",
    "Gs = getUpperLowerCI(re_sample,prefix = 'Gs')\n",
    "\n"
   ]
  },
  {
   "cell_type": "code",
   "execution_count": null,
   "metadata": {},
   "outputs": [],
   "source": [
    "## save to posterity\n",
    "# Save output sample to display in python\n",
    "## Save the complete chain trace for analysing in Python,\n",
    "#TDF = read.csv(\"/outputs/training_data_sample_puebla_p9_abies_pinophyta.csv\")\n",
    "## Order it according to the id of the cell\n",
    "## This is important because the adjancy matrix rows need to be the same\n",
    "\n",
    "## No needed because DataFrame object already loaded and without no-neighbour (i.e. same size as fitted values)\n",
    "#TDF = TDF[order(TDF$cell_ids),]\n",
    "TDF = DataFrame[order(DataFrame$cellids),]"
   ]
  },
  {
   "cell_type": "code",
   "execution_count": null,
   "metadata": {},
   "outputs": [],
   "source": [
    "chain = cbind(TDF$cellids,Gp,Gs,P,S,PS,ProbPS,ProbP,ProbS)\n",
    "file_ = '/outputs/presence_only_models/modelCAR_model1_fitted_tyrannidae.csv'\n",
    "write.csv(chain,file_)"
   ]
  },
  {
   "cell_type": "code",
   "execution_count": null,
   "metadata": {},
   "outputs": [],
   "source": []
  }
 ],
 "metadata": {
  "kernelspec": {
   "display_name": "R",
   "language": "R",
   "name": "ir"
  },
  "language_info": {
   "codemirror_mode": "r",
   "file_extension": ".r",
   "mimetype": "text/x-r-source",
   "name": "R",
   "pygments_lexer": "r",
   "version": "4.0.4"
  }
 },
 "nbformat": 4,
 "nbformat_minor": 2
}
