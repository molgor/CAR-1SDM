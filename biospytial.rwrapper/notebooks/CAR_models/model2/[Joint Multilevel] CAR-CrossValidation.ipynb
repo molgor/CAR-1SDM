{
 "cells": [
  {
   "cell_type": "markdown",
   "metadata": {},
   "source": [
    "# A joint multilevel model for CAR \n",
    "Using multilevel.CARLeroux\n",
    "## Common Markov Gaussian Random Field\n",
    " $$ [P , S ] = [P | GMRF] [ S | GMRF] $$"
   ]
  },
  {
   "cell_type": "code",
   "execution_count": 2,
   "metadata": {},
   "outputs": [
    {
     "name": "stdout",
     "output_type": "stream",
     "text": [
      "[1] \"Load data source and preprocess\"\n"
     ]
    },
    {
     "name": "stderr",
     "output_type": "stream",
     "text": [
      "Type 'citation(\"pROC\")' for a citation.\n",
      "\n",
      "Attaching package: ‘pROC’\n",
      "\n",
      "The following objects are masked from ‘package:stats’:\n",
      "\n",
      "    cov, smooth, var\n",
      "\n",
      "Loading required package: lattice\n",
      "Loading required package: ggplot2\n",
      "\n",
      "Attaching package: ‘caret’\n",
      "\n",
      "The following object is masked from ‘package:purrr’:\n",
      "\n",
      "    lift\n",
      "\n"
     ]
    }
   ],
   "source": [
    "## Run the script\n",
    "setwd('/apps/external_plugins/biospytial_rwrapper/biospytial.rwrapper/R/')\n",
    "source(\"model2_multilevel/run-joint-multilevel.R\")\n"
   ]
  },
  {
   "cell_type": "code",
   "execution_count": 3,
   "metadata": {
    "scrolled": true
   },
   "outputs": [],
   "source": [
    "\n",
    "trials = rep(1,2 *nK)\n",
    "burnin = 5000\n",
    "n.sample = 10000\n",
    "thin = 5\n",
    "\n",
    "#burnin = 500\n",
    "#n.sample = 1000\n",
    "#thin = 1\n",
    "\n",
    "l <- list()\n",
    "i = 1\n",
    "nS = dim(Py)[1]\n",
    "\n",
    "nonas = which(! is.na(DataFrame$species) )\n",
    "Y_withoutNA = DataFrame$species[nonas]\n",
    "validate = createFolds(y = Y_withoutNA, k=7, returnTrain = FALSE)\n",
    "\n",
    "validate.index.presences = lapply(validate, function(x){x + nS})\n",
    "\n",
    "## customised for the multilevel preprocessing (i.e. DD instead of the trad. variable that I called `DataFrame` )\n",
    "DD$presences <- DD$response\n",
    "DD$predicted_values_CV <- NA\n",
    "\n",
    "\n",
    "## Configure correlation for each cell.\n",
    "## In this case, the correlation (similar to nugget effect) will be the same for all cells in P and for all cells in S.\n",
    "## It can also be changed to assign correlations for same cell (i.e. the correlation between the cell i,j in S is the same as in P)\n",
    "ind.re = c(rep(1,nK),rep(2,nK))\n",
    "\n",
    "\n"
   ]
  },
  {
   "cell_type": "code",
   "execution_count": 4,
   "metadata": {},
   "outputs": [
    {
     "name": "stdout",
     "output_type": "stream",
     "text": [
      "Setting up the model.\n",
      "Generating 5000 post burnin and thinned (if requested) samples.\n",
      "  |======================================================================| 100%\n",
      "Summarising results.\n",
      "Finished in  138.9 seconds.\n"
     ]
    },
    {
     "name": "stderr",
     "output_type": "stream",
     "text": [
      "Setting levels: control = 0, case = 1\n",
      "Setting direction: controls < cases\n"
     ]
    },
    {
     "name": "stdout",
     "output_type": "stream",
     "text": [
      "Setting up the model.\n",
      "Generating 5000 post burnin and thinned (if requested) samples.\n",
      "  |======================================================================| 100%\n",
      "Summarising results.\n",
      "Finished in  137.6 seconds.\n"
     ]
    },
    {
     "name": "stderr",
     "output_type": "stream",
     "text": [
      "Setting levels: control = 0, case = 1\n",
      "Setting direction: controls < cases\n"
     ]
    },
    {
     "name": "stdout",
     "output_type": "stream",
     "text": [
      "Setting up the model.\n",
      "Generating 5000 post burnin and thinned (if requested) samples.\n",
      "  |======================================================================| 100%\n",
      "Summarising results.\n",
      "Finished in  137.7 seconds.\n"
     ]
    },
    {
     "name": "stderr",
     "output_type": "stream",
     "text": [
      "Setting levels: control = 0, case = 1\n",
      "Setting direction: controls < cases\n"
     ]
    },
    {
     "name": "stdout",
     "output_type": "stream",
     "text": [
      "Setting up the model.\n",
      "Generating 5000 post burnin and thinned (if requested) samples.\n",
      "  |======================================================================| 100%\n",
      "Summarising results.\n",
      "Finished in  134.5 seconds.\n"
     ]
    },
    {
     "name": "stderr",
     "output_type": "stream",
     "text": [
      "Setting levels: control = 0, case = 1\n",
      "Setting direction: controls < cases\n"
     ]
    },
    {
     "name": "stdout",
     "output_type": "stream",
     "text": [
      "Setting up the model.\n",
      "Generating 5000 post burnin and thinned (if requested) samples.\n",
      "  |======================================================================| 100%\n",
      "Summarising results.\n",
      "Finished in  137.8 seconds.\n"
     ]
    },
    {
     "name": "stderr",
     "output_type": "stream",
     "text": [
      "Setting levels: control = 0, case = 1\n",
      "Setting direction: controls < cases\n"
     ]
    },
    {
     "name": "stdout",
     "output_type": "stream",
     "text": [
      "Setting up the model.\n",
      "Generating 5000 post burnin and thinned (if requested) samples.\n",
      "  |======================================================================| 100%\n",
      "Summarising results.\n",
      "Finished in  136.7 seconds.\n"
     ]
    },
    {
     "name": "stderr",
     "output_type": "stream",
     "text": [
      "Setting levels: control = 0, case = 1\n",
      "Setting direction: controls < cases\n"
     ]
    },
    {
     "name": "stdout",
     "output_type": "stream",
     "text": [
      "Setting up the model.\n",
      "Generating 5000 post burnin and thinned (if requested) samples.\n",
      "  |======================================================================| 100%\n",
      "Summarising results.\n",
      "Finished in  138.1 seconds.\n"
     ]
    },
    {
     "name": "stderr",
     "output_type": "stream",
     "text": [
      "Setting levels: control = 0, case = 1\n",
      "Setting direction: controls < cases\n"
     ]
    }
   ],
   "source": [
    "formula_sample =  sample ~ Disttoroadm + Populationm\n",
    "formula_presence = species ~ Elevationm + Precipitationm\n",
    "formula <- response ~ Disttoroadm + Populationm + Elevationm + Precipitationm\n",
    "\n",
    "for (fold in validate.index.presences) {\n",
    "    \n",
    "    ## Substitue by NA (to be predicted..)\n",
    "    DD$response[fold] <- NA\n",
    "    \n",
    "    model2 <- S.CARmultilevel(formula,family = 'binomial',\n",
    "                             trials=trials,\n",
    "                             W=M_bis,\n",
    "                             ind.area=idarea,\n",
    "                             #ind.re=factor(idarea),\n",
    "                             ind.re = factor(ind.re),\n",
    "                             rho=1,\n",
    "                             burnin=burnin,\n",
    "                             n.sample=n.sample,\n",
    "                             data=DD)\n",
    "    \n",
    "    ## return DataFrame$species to original \n",
    "    ## Beware of DD...\n",
    "    DD$response <- DD$presences\n",
    "    ## Return original values\n",
    "    ## Aquí hay que ver si los fitted values corresponden al indice \n",
    "    predicted.probability = model2$fitted.values[fold]\n",
    "    DD$predicted_values_CV[fold] <- predicted.probability\n",
    "\n",
    "    pROC_obj <- roc(DD$response[fold],predicted.probability)\n",
    "\n",
    "    l[[i]] <- pROC_obj\n",
    "    i = i + 1\n",
    "}"
   ]
  },
  {
   "cell_type": "code",
   "execution_count": 5,
   "metadata": {},
   "outputs": [],
   "source": [
    "post.sample = data.frame(model2$fitted)\n",
    "sample.S <- post.sample[1:nK,]\n",
    "sample.P <- post.sample[(nK +1) : (2*nK) ,]"
   ]
  },
  {
   "cell_type": "code",
   "execution_count": 6,
   "metadata": {},
   "outputs": [
    {
     "data": {
      "text/html": [
       "<ol class=list-inline>\n",
       "\t<li>8120</li>\n",
       "\t<li>1</li>\n",
       "</ol>\n"
      ],
      "text/latex": [
       "\\begin{enumerate*}\n",
       "\\item 8120\n",
       "\\item 1\n",
       "\\end{enumerate*}\n"
      ],
      "text/markdown": [
       "1. 8120\n",
       "2. 1\n",
       "\n",
       "\n"
      ],
      "text/plain": [
       "[1] 8120    1"
      ]
     },
     "metadata": {},
     "output_type": "display_data"
    }
   ],
   "source": [
    "dim(post.sample)"
   ]
  },
  {
   "cell_type": "code",
   "execution_count": 7,
   "metadata": {},
   "outputs": [],
   "source": [
    "predicted_values <- DD$predicted_values_CV[(nK +1) : (2*nK)]"
   ]
  },
  {
   "cell_type": "code",
   "execution_count": 8,
   "metadata": {},
   "outputs": [],
   "source": [
    "joint_SP <- sample.S * predicted_values"
   ]
  },
  {
   "cell_type": "code",
   "execution_count": 9,
   "metadata": {},
   "outputs": [],
   "source": [
    "presences.index = seq(nK + 1 ,dim(DD)[1])"
   ]
  },
  {
   "cell_type": "code",
   "execution_count": 10,
   "metadata": {},
   "outputs": [
    {
     "data": {
      "text/html": [
       "4060"
      ],
      "text/latex": [
       "4060"
      ],
      "text/markdown": [
       "4060"
      ],
      "text/plain": [
       "[1] 4060"
      ]
     },
     "metadata": {},
     "output_type": "display_data"
    }
   ],
   "source": [
    "length(DD$response[presences.index])"
   ]
  },
  {
   "cell_type": "markdown",
   "metadata": {},
   "source": [
    "This is wrong we need to multiply the prob\n"
   ]
  },
  {
   "cell_type": "code",
   "execution_count": 11,
   "metadata": {},
   "outputs": [
    {
     "name": "stderr",
     "output_type": "stream",
     "text": [
      "Setting levels: control = 0, case = 1\n",
      "Setting direction: controls < cases\n",
      "Warning message in plot.ci.se(sens.ci, type = \"shape\", col = \"lightblue\"):\n",
      "“Low definition shape.”"
     ]
    },
    {
     "data": {
      "image/png": "[encoded data removed]",
      "text/plain": [
       "plot without title"
      ]
     },
     "metadata": {},
     "output_type": "display_data"
    }
   ],
   "source": [
    "#pROC_obj <- roc(DD$response[presences.index],DD$predicted_values_CV[presences.index],\n",
    "pROC_obj <- roc(DD$response[presences.index],joint_SP,                \n",
    "               smoothed= TRUE,\n",
    "               ci = TRUE, ci.alpha=0.9, stratified=FALSE,\n",
    "               plot=TRUE, auc.polygon=TRUE, max.auc.polygon=TRUE, grid=TRUE,\n",
    "               print.auc=TRUE, show.thres=TRUE)\n",
    "sens.ci <- ci.se(pROC_obj)\n",
    "plot(sens.ci,type=\"shape\",col=\"lightblue\")\n",
    "plot(sens.ci, type=\"bars\")\n",
    "\n"
   ]
  },
  {
   "cell_type": "code",
   "execution_count": 12,
   "metadata": {},
   "outputs": [
    {
     "name": "stderr",
     "output_type": "stream",
     "text": [
      "Setting levels: control = 0, case = 1\n",
      "Setting direction: controls < cases\n",
      "Warning message in plot.ci.se(sens.ci, type = \"shape\", col = \"lightblue\"):\n",
      "“Low definition shape.”"
     ]
    },
    {
     "data": {
      "image/png": "[encoded data removed]",
      "text/plain": [
       "plot without title"
      ]
     },
     "metadata": {},
     "output_type": "display_data"
    }
   ],
   "source": [
    "#pROC_obj <- roc(DD$response[presences.index],DD$predicted_values_CV[presences.index],\n",
    "pROC_obj <- roc(DD$response[presences.index],joint_SP,                \n",
    "               smoothed= TRUE,\n",
    "               ci = TRUE, ci.alpha=0.9, stratified=FALSE,\n",
    "               plot=TRUE, auc.polygon=TRUE, max.auc.polygon=TRUE, grid=TRUE,\n",
    "               print.auc=TRUE, show.thres=TRUE)\n",
    "sens.ci <- ci.se(pROC_obj)\n",
    "plot(sens.ci,type=\"shape\",col=\"lightblue\")\n",
    "plot(sens.ci, type=\"bars\")\n",
    "\n"
   ]
  },
  {
   "cell_type": "markdown",
   "metadata": {},
   "source": [
    "## Perfom fitting for all data "
   ]
  },
  {
   "cell_type": "code",
   "execution_count": 1,
   "metadata": {},
   "outputs": [
    {
     "data": {
      "text/html": [
       "<pre class=language-r><code>function (x, ...) \n",
       "UseMethod(\"formula\")</code></pre>"
      ],
      "text/latex": [
       "\\begin{minted}{r}\n",
       "function (x, ...) \n",
       "UseMethod(\"formula\")\n",
       "\\end{minted}"
      ],
      "text/markdown": [
       "```r\n",
       "function (x, ...) \n",
       "UseMethod(\"formula\")\n",
       "```"
      ],
      "text/plain": [
       "function (x, ...) \n",
       "UseMethod(\"formula\")\n",
       "<bytecode: 0x7f93c9b72c00>\n",
       "<environment: namespace:stats>"
      ]
     },
     "metadata": {},
     "output_type": "display_data"
    }
   ],
   "source": [
    "formula"
   ]
  },
  {
   "cell_type": "code",
   "execution_count": 4,
   "metadata": {},
   "outputs": [
    {
     "data": {
      "text/html": [
       "<table>\n",
       "<thead><tr><th scope=col>response</th><th scope=col>Disttoroadm</th><th scope=col>Populationm</th><th scope=col>Elevationm</th><th scope=col>MeanTempm</th><th scope=col>presences</th><th scope=col>predicted_values_CV</th></tr></thead>\n",
       "<tbody>\n",
       "\t<tr><td>NA  </td><td> 277</td><td> 517</td><td>0   </td><td>0   </td><td>NA  </td><td>NA  </td></tr>\n",
       "\t<tr><td> 1  </td><td>2556</td><td> 509</td><td>0   </td><td>0   </td><td> 1  </td><td>NA  </td></tr>\n",
       "\t<tr><td> 1  </td><td>3242</td><td>3670</td><td>0   </td><td>0   </td><td> 1  </td><td>NA  </td></tr>\n",
       "\t<tr><td>NA  </td><td> 204</td><td>2436</td><td>0   </td><td>0   </td><td>NA  </td><td>NA  </td></tr>\n",
       "\t<tr><td>NA  </td><td> 553</td><td>1895</td><td>0   </td><td>0   </td><td>NA  </td><td>NA  </td></tr>\n",
       "\t<tr><td> 0  </td><td> 906</td><td>1923</td><td>0   </td><td>0   </td><td> 0  </td><td>NA  </td></tr>\n",
       "\t<tr><td> 0  </td><td>1120</td><td>3143</td><td>0   </td><td>0   </td><td> 0  </td><td>NA  </td></tr>\n",
       "\t<tr><td>NA  </td><td> 279</td><td>2068</td><td>0   </td><td>0   </td><td>NA  </td><td>NA  </td></tr>\n",
       "\t<tr><td> 1  </td><td> 197</td><td>2536</td><td>0   </td><td>0   </td><td> 1  </td><td>NA  </td></tr>\n",
       "\t<tr><td>NA  </td><td>1428</td><td>3072</td><td>0   </td><td>0   </td><td>NA  </td><td>NA  </td></tr>\n",
       "\t<tr><td>NA  </td><td>  17</td><td>2269</td><td>0   </td><td>0   </td><td>NA  </td><td>NA  </td></tr>\n",
       "\t<tr><td> 1  </td><td>1572</td><td>1619</td><td>0   </td><td>0   </td><td> 1  </td><td>NA  </td></tr>\n",
       "\t<tr><td> 0  </td><td>2490</td><td>1949</td><td>0   </td><td>0   </td><td> 0  </td><td>NA  </td></tr>\n",
       "\t<tr><td>NA  </td><td>2984</td><td>3148</td><td>0   </td><td>0   </td><td>NA  </td><td>NA  </td></tr>\n",
       "\t<tr><td> 0  </td><td>3369</td><td>3171</td><td>0   </td><td>0   </td><td> 0  </td><td>NA  </td></tr>\n",
       "\t<tr><td> 0  </td><td> 469</td><td>3410</td><td>0   </td><td>0   </td><td> 0  </td><td>NA  </td></tr>\n",
       "\t<tr><td>NA  </td><td> 733</td><td>2420</td><td>0   </td><td>0   </td><td>NA  </td><td>NA  </td></tr>\n",
       "\t<tr><td>NA  </td><td>2476</td><td>2059</td><td>0   </td><td>0   </td><td>NA  </td><td>NA  </td></tr>\n",
       "\t<tr><td>NA  </td><td> 519</td><td> 334</td><td>0   </td><td>0   </td><td>NA  </td><td>NA  </td></tr>\n",
       "\t<tr><td>NA  </td><td>1288</td><td>2691</td><td>0   </td><td>0   </td><td>NA  </td><td>NA  </td></tr>\n",
       "\t<tr><td> 1  </td><td>3355</td><td>3820</td><td>0   </td><td>0   </td><td> 1  </td><td>NA  </td></tr>\n",
       "\t<tr><td> 1  </td><td> 872</td><td> 321</td><td>0   </td><td>0   </td><td> 1  </td><td>NA  </td></tr>\n",
       "\t<tr><td> 1  </td><td>3370</td><td>2549</td><td>0   </td><td>0   </td><td> 1  </td><td>NA  </td></tr>\n",
       "\t<tr><td>NA  </td><td>1180</td><td>3639</td><td>0   </td><td>0   </td><td>NA  </td><td>NA  </td></tr>\n",
       "\t<tr><td>NA  </td><td>1208</td><td>2278</td><td>0   </td><td>0   </td><td>NA  </td><td>NA  </td></tr>\n",
       "\t<tr><td> 1  </td><td> 559</td><td>1486</td><td>0   </td><td>0   </td><td> 1  </td><td>NA  </td></tr>\n",
       "\t<tr><td> 0  </td><td>1508</td><td> 188</td><td>0   </td><td>0   </td><td> 0  </td><td>NA  </td></tr>\n",
       "\t<tr><td> 1  </td><td>2808</td><td>3451</td><td>0   </td><td>0   </td><td> 1  </td><td>NA  </td></tr>\n",
       "\t<tr><td>NA  </td><td>  12</td><td>  55</td><td>0   </td><td>0   </td><td>NA  </td><td>NA  </td></tr>\n",
       "\t<tr><td>NA  </td><td>3392</td><td>4056</td><td>0   </td><td>0   </td><td>NA  </td><td>NA  </td></tr>\n",
       "\t<tr><td>⋮</td><td>⋮</td><td>⋮</td><td>⋮</td><td>⋮</td><td>⋮</td><td>⋮</td></tr>\n",
       "\t<tr><td> 1  </td><td>0   </td><td>0   </td><td>1943</td><td> 725</td><td> 1  </td><td>NA  </td></tr>\n",
       "\t<tr><td> 1  </td><td>0   </td><td>0   </td><td>2147</td><td> 577</td><td> 1  </td><td>NA  </td></tr>\n",
       "\t<tr><td> 0  </td><td>0   </td><td>0   </td><td>1685</td><td> 763</td><td> 0  </td><td>NA  </td></tr>\n",
       "\t<tr><td> 0  </td><td>0   </td><td>0   </td><td>1531</td><td>1132</td><td> 0  </td><td>NA  </td></tr>\n",
       "\t<tr><td> 0  </td><td>0   </td><td>0   </td><td>1062</td><td>1531</td><td> 0  </td><td>NA  </td></tr>\n",
       "\t<tr><td> 1  </td><td>0   </td><td>0   </td><td>1574</td><td>1130</td><td> 1  </td><td>NA  </td></tr>\n",
       "\t<tr><td> 0  </td><td>0   </td><td>0   </td><td>1242</td><td>1534</td><td> 0  </td><td>NA  </td></tr>\n",
       "\t<tr><td> 0  </td><td>0   </td><td>0   </td><td> 696</td><td>2100</td><td> 0  </td><td>NA  </td></tr>\n",
       "\t<tr><td> 0  </td><td>0   </td><td>0   </td><td> 346</td><td>1952</td><td> 0  </td><td>NA  </td></tr>\n",
       "\t<tr><td>NA  </td><td>0   </td><td>0   </td><td>1312</td><td>1052</td><td>NA  </td><td>NA  </td></tr>\n",
       "\t<tr><td>NA  </td><td>0   </td><td>0   </td><td>2457</td><td> 178</td><td>NA  </td><td>NA  </td></tr>\n",
       "\t<tr><td> 0  </td><td>0   </td><td>0   </td><td>1571</td><td> 938</td><td> 0  </td><td>NA  </td></tr>\n",
       "\t<tr><td> 0  </td><td>0   </td><td>0   </td><td>2287</td><td> 838</td><td> 0  </td><td>NA  </td></tr>\n",
       "\t<tr><td> 0  </td><td>0   </td><td>0   </td><td>1664</td><td>1133</td><td> 0  </td><td>NA  </td></tr>\n",
       "\t<tr><td> 0  </td><td>0   </td><td>0   </td><td>1736</td><td> 952</td><td> 0  </td><td>NA  </td></tr>\n",
       "\t<tr><td> 0  </td><td>0   </td><td>0   </td><td>1859</td><td> 839</td><td> 0  </td><td>NA  </td></tr>\n",
       "\t<tr><td> 0  </td><td>0   </td><td>0   </td><td>1938</td><td> 806</td><td> 0  </td><td>NA  </td></tr>\n",
       "\t<tr><td> 0  </td><td>0   </td><td>0   </td><td>2295</td><td> 567</td><td> 0  </td><td>NA  </td></tr>\n",
       "\t<tr><td> 0  </td><td>0   </td><td>0   </td><td>1761</td><td> 914</td><td> 0  </td><td>NA  </td></tr>\n",
       "\t<tr><td> 0  </td><td>0   </td><td>0   </td><td>1596</td><td>1082</td><td> 0  </td><td>NA  </td></tr>\n",
       "\t<tr><td> 0  </td><td>0   </td><td>0   </td><td>1576</td><td>1123</td><td> 0  </td><td>NA  </td></tr>\n",
       "\t<tr><td> 0  </td><td>0   </td><td>0   </td><td>1769</td><td> 927</td><td> 0  </td><td>NA  </td></tr>\n",
       "\t<tr><td> 0  </td><td>0   </td><td>0   </td><td>1971</td><td> 775</td><td> 0  </td><td>NA  </td></tr>\n",
       "\t<tr><td> 0  </td><td>0   </td><td>0   </td><td>1629</td><td> 964</td><td> 0  </td><td>NA  </td></tr>\n",
       "\t<tr><td> 0  </td><td>0   </td><td>0   </td><td> 996</td><td>1489</td><td> 0  </td><td>NA  </td></tr>\n",
       "\t<tr><td> 0  </td><td>0   </td><td>0   </td><td>1214</td><td>1506</td><td> 0  </td><td>NA  </td></tr>\n",
       "\t<tr><td> 1  </td><td>0   </td><td>0   </td><td>1666</td><td> 926</td><td> 1  </td><td>NA  </td></tr>\n",
       "\t<tr><td> 1  </td><td>0   </td><td>0   </td><td>1594</td><td>1142</td><td> 1  </td><td>NA  </td></tr>\n",
       "\t<tr><td> 0  </td><td>0   </td><td>0   </td><td> 824</td><td>1909</td><td> 0  </td><td>NA  </td></tr>\n",
       "\t<tr><td> 0  </td><td>0   </td><td>0   </td><td> 362</td><td>2027</td><td> 0  </td><td>NA  </td></tr>\n",
       "</tbody>\n",
       "</table>\n"
      ],
      "text/latex": [
       "\\begin{tabular}{r|lllllll}\n",
       " response & Disttoroadm & Populationm & Elevationm & MeanTempm & presences & predicted\\_values\\_CV\\\\\n",
       "\\hline\n",
       "\t NA   &  277 &  517 & 0    & 0    & NA   & NA  \\\\\n",
       "\t  1   & 2556 &  509 & 0    & 0    &  1   & NA  \\\\\n",
       "\t  1   & 3242 & 3670 & 0    & 0    &  1   & NA  \\\\\n",
       "\t NA   &  204 & 2436 & 0    & 0    & NA   & NA  \\\\\n",
       "\t NA   &  553 & 1895 & 0    & 0    & NA   & NA  \\\\\n",
       "\t  0   &  906 & 1923 & 0    & 0    &  0   & NA  \\\\\n",
       "\t  0   & 1120 & 3143 & 0    & 0    &  0   & NA  \\\\\n",
       "\t NA   &  279 & 2068 & 0    & 0    & NA   & NA  \\\\\n",
       "\t  1   &  197 & 2536 & 0    & 0    &  1   & NA  \\\\\n",
       "\t NA   & 1428 & 3072 & 0    & 0    & NA   & NA  \\\\\n",
       "\t NA   &   17 & 2269 & 0    & 0    & NA   & NA  \\\\\n",
       "\t  1   & 1572 & 1619 & 0    & 0    &  1   & NA  \\\\\n",
       "\t  0   & 2490 & 1949 & 0    & 0    &  0   & NA  \\\\\n",
       "\t NA   & 2984 & 3148 & 0    & 0    & NA   & NA  \\\\\n",
       "\t  0   & 3369 & 3171 & 0    & 0    &  0   & NA  \\\\\n",
       "\t  0   &  469 & 3410 & 0    & 0    &  0   & NA  \\\\\n",
       "\t NA   &  733 & 2420 & 0    & 0    & NA   & NA  \\\\\n",
       "\t NA   & 2476 & 2059 & 0    & 0    & NA   & NA  \\\\\n",
       "\t NA   &  519 &  334 & 0    & 0    & NA   & NA  \\\\\n",
       "\t NA   & 1288 & 2691 & 0    & 0    & NA   & NA  \\\\\n",
       "\t  1   & 3355 & 3820 & 0    & 0    &  1   & NA  \\\\\n",
       "\t  1   &  872 &  321 & 0    & 0    &  1   & NA  \\\\\n",
       "\t  1   & 3370 & 2549 & 0    & 0    &  1   & NA  \\\\\n",
       "\t NA   & 1180 & 3639 & 0    & 0    & NA   & NA  \\\\\n",
       "\t NA   & 1208 & 2278 & 0    & 0    & NA   & NA  \\\\\n",
       "\t  1   &  559 & 1486 & 0    & 0    &  1   & NA  \\\\\n",
       "\t  0   & 1508 &  188 & 0    & 0    &  0   & NA  \\\\\n",
       "\t  1   & 2808 & 3451 & 0    & 0    &  1   & NA  \\\\\n",
       "\t NA   &   12 &   55 & 0    & 0    & NA   & NA  \\\\\n",
       "\t NA   & 3392 & 4056 & 0    & 0    & NA   & NA  \\\\\n",
       "\t ⋮ & ⋮ & ⋮ & ⋮ & ⋮ & ⋮ & ⋮\\\\\n",
       "\t  1   & 0    & 0    & 1943 &  725 &  1   & NA  \\\\\n",
       "\t  1   & 0    & 0    & 2147 &  577 &  1   & NA  \\\\\n",
       "\t  0   & 0    & 0    & 1685 &  763 &  0   & NA  \\\\\n",
       "\t  0   & 0    & 0    & 1531 & 1132 &  0   & NA  \\\\\n",
       "\t  0   & 0    & 0    & 1062 & 1531 &  0   & NA  \\\\\n",
       "\t  1   & 0    & 0    & 1574 & 1130 &  1   & NA  \\\\\n",
       "\t  0   & 0    & 0    & 1242 & 1534 &  0   & NA  \\\\\n",
       "\t  0   & 0    & 0    &  696 & 2100 &  0   & NA  \\\\\n",
       "\t  0   & 0    & 0    &  346 & 1952 &  0   & NA  \\\\\n",
       "\t NA   & 0    & 0    & 1312 & 1052 & NA   & NA  \\\\\n",
       "\t NA   & 0    & 0    & 2457 &  178 & NA   & NA  \\\\\n",
       "\t  0   & 0    & 0    & 1571 &  938 &  0   & NA  \\\\\n",
       "\t  0   & 0    & 0    & 2287 &  838 &  0   & NA  \\\\\n",
       "\t  0   & 0    & 0    & 1664 & 1133 &  0   & NA  \\\\\n",
       "\t  0   & 0    & 0    & 1736 &  952 &  0   & NA  \\\\\n",
       "\t  0   & 0    & 0    & 1859 &  839 &  0   & NA  \\\\\n",
       "\t  0   & 0    & 0    & 1938 &  806 &  0   & NA  \\\\\n",
       "\t  0   & 0    & 0    & 2295 &  567 &  0   & NA  \\\\\n",
       "\t  0   & 0    & 0    & 1761 &  914 &  0   & NA  \\\\\n",
       "\t  0   & 0    & 0    & 1596 & 1082 &  0   & NA  \\\\\n",
       "\t  0   & 0    & 0    & 1576 & 1123 &  0   & NA  \\\\\n",
       "\t  0   & 0    & 0    & 1769 &  927 &  0   & NA  \\\\\n",
       "\t  0   & 0    & 0    & 1971 &  775 &  0   & NA  \\\\\n",
       "\t  0   & 0    & 0    & 1629 &  964 &  0   & NA  \\\\\n",
       "\t  0   & 0    & 0    &  996 & 1489 &  0   & NA  \\\\\n",
       "\t  0   & 0    & 0    & 1214 & 1506 &  0   & NA  \\\\\n",
       "\t  1   & 0    & 0    & 1666 &  926 &  1   & NA  \\\\\n",
       "\t  1   & 0    & 0    & 1594 & 1142 &  1   & NA  \\\\\n",
       "\t  0   & 0    & 0    &  824 & 1909 &  0   & NA  \\\\\n",
       "\t  0   & 0    & 0    &  362 & 2027 &  0   & NA  \\\\\n",
       "\\end{tabular}\n"
      ],
      "text/markdown": [
       "\n",
       "response | Disttoroadm | Populationm | Elevationm | MeanTempm | presences | predicted_values_CV | \n",
       "|---|---|---|---|---|---|---|---|---|---|---|---|---|---|---|---|---|---|---|---|---|---|---|---|---|---|---|---|---|---|---|---|---|---|---|---|---|---|---|---|---|---|---|---|---|---|---|---|---|---|---|---|---|---|---|---|---|---|---|---|---|\n",
       "| NA   |  277 |  517 | 0    | 0    | NA   | NA   | \n",
       "|  1   | 2556 |  509 | 0    | 0    |  1   | NA   | \n",
       "|  1   | 3242 | 3670 | 0    | 0    |  1   | NA   | \n",
       "| NA   |  204 | 2436 | 0    | 0    | NA   | NA   | \n",
       "| NA   |  553 | 1895 | 0    | 0    | NA   | NA   | \n",
       "|  0   |  906 | 1923 | 0    | 0    |  0   | NA   | \n",
       "|  0   | 1120 | 3143 | 0    | 0    |  0   | NA   | \n",
       "| NA   |  279 | 2068 | 0    | 0    | NA   | NA   | \n",
       "|  1   |  197 | 2536 | 0    | 0    |  1   | NA   | \n",
       "| NA   | 1428 | 3072 | 0    | 0    | NA   | NA   | \n",
       "| NA   |   17 | 2269 | 0    | 0    | NA   | NA   | \n",
       "|  1   | 1572 | 1619 | 0    | 0    |  1   | NA   | \n",
       "|  0   | 2490 | 1949 | 0    | 0    |  0   | NA   | \n",
       "| NA   | 2984 | 3148 | 0    | 0    | NA   | NA   | \n",
       "|  0   | 3369 | 3171 | 0    | 0    |  0   | NA   | \n",
       "|  0   |  469 | 3410 | 0    | 0    |  0   | NA   | \n",
       "| NA   |  733 | 2420 | 0    | 0    | NA   | NA   | \n",
       "| NA   | 2476 | 2059 | 0    | 0    | NA   | NA   | \n",
       "| NA   |  519 |  334 | 0    | 0    | NA   | NA   | \n",
       "| NA   | 1288 | 2691 | 0    | 0    | NA   | NA   | \n",
       "|  1   | 3355 | 3820 | 0    | 0    |  1   | NA   | \n",
       "|  1   |  872 |  321 | 0    | 0    |  1   | NA   | \n",
       "|  1   | 3370 | 2549 | 0    | 0    |  1   | NA   | \n",
       "| NA   | 1180 | 3639 | 0    | 0    | NA   | NA   | \n",
       "| NA   | 1208 | 2278 | 0    | 0    | NA   | NA   | \n",
       "|  1   |  559 | 1486 | 0    | 0    |  1   | NA   | \n",
       "|  0   | 1508 |  188 | 0    | 0    |  0   | NA   | \n",
       "|  1   | 2808 | 3451 | 0    | 0    |  1   | NA   | \n",
       "| NA   |   12 |   55 | 0    | 0    | NA   | NA   | \n",
       "| NA   | 3392 | 4056 | 0    | 0    | NA   | NA   | \n",
       "| ⋮ | ⋮ | ⋮ | ⋮ | ⋮ | ⋮ | ⋮ | \n",
       "|  1   | 0    | 0    | 1943 |  725 |  1   | NA   | \n",
       "|  1   | 0    | 0    | 2147 |  577 |  1   | NA   | \n",
       "|  0   | 0    | 0    | 1685 |  763 |  0   | NA   | \n",
       "|  0   | 0    | 0    | 1531 | 1132 |  0   | NA   | \n",
       "|  0   | 0    | 0    | 1062 | 1531 |  0   | NA   | \n",
       "|  1   | 0    | 0    | 1574 | 1130 |  1   | NA   | \n",
       "|  0   | 0    | 0    | 1242 | 1534 |  0   | NA   | \n",
       "|  0   | 0    | 0    |  696 | 2100 |  0   | NA   | \n",
       "|  0   | 0    | 0    |  346 | 1952 |  0   | NA   | \n",
       "| NA   | 0    | 0    | 1312 | 1052 | NA   | NA   | \n",
       "| NA   | 0    | 0    | 2457 |  178 | NA   | NA   | \n",
       "|  0   | 0    | 0    | 1571 |  938 |  0   | NA   | \n",
       "|  0   | 0    | 0    | 2287 |  838 |  0   | NA   | \n",
       "|  0   | 0    | 0    | 1664 | 1133 |  0   | NA   | \n",
       "|  0   | 0    | 0    | 1736 |  952 |  0   | NA   | \n",
       "|  0   | 0    | 0    | 1859 |  839 |  0   | NA   | \n",
       "|  0   | 0    | 0    | 1938 |  806 |  0   | NA   | \n",
       "|  0   | 0    | 0    | 2295 |  567 |  0   | NA   | \n",
       "|  0   | 0    | 0    | 1761 |  914 |  0   | NA   | \n",
       "|  0   | 0    | 0    | 1596 | 1082 |  0   | NA   | \n",
       "|  0   | 0    | 0    | 1576 | 1123 |  0   | NA   | \n",
       "|  0   | 0    | 0    | 1769 |  927 |  0   | NA   | \n",
       "|  0   | 0    | 0    | 1971 |  775 |  0   | NA   | \n",
       "|  0   | 0    | 0    | 1629 |  964 |  0   | NA   | \n",
       "|  0   | 0    | 0    |  996 | 1489 |  0   | NA   | \n",
       "|  0   | 0    | 0    | 1214 | 1506 |  0   | NA   | \n",
       "|  1   | 0    | 0    | 1666 |  926 |  1   | NA   | \n",
       "|  1   | 0    | 0    | 1594 | 1142 |  1   | NA   | \n",
       "|  0   | 0    | 0    |  824 | 1909 |  0   | NA   | \n",
       "|  0   | 0    | 0    |  362 | 2027 |  0   | NA   | \n",
       "\n",
       "\n"
      ],
      "text/plain": [
       "     response Disttoroadm Populationm Elevationm MeanTempm presences\n",
       "1    NA        277         517        0          0         NA       \n",
       "2     1       2556         509        0          0          1       \n",
       "3     1       3242        3670        0          0          1       \n",
       "4    NA        204        2436        0          0         NA       \n",
       "5    NA        553        1895        0          0         NA       \n",
       "6     0        906        1923        0          0          0       \n",
       "7     0       1120        3143        0          0          0       \n",
       "8    NA        279        2068        0          0         NA       \n",
       "9     1        197        2536        0          0          1       \n",
       "10   NA       1428        3072        0          0         NA       \n",
       "11   NA         17        2269        0          0         NA       \n",
       "12    1       1572        1619        0          0          1       \n",
       "13    0       2490        1949        0          0          0       \n",
       "14   NA       2984        3148        0          0         NA       \n",
       "15    0       3369        3171        0          0          0       \n",
       "16    0        469        3410        0          0          0       \n",
       "17   NA        733        2420        0          0         NA       \n",
       "18   NA       2476        2059        0          0         NA       \n",
       "19   NA        519         334        0          0         NA       \n",
       "20   NA       1288        2691        0          0         NA       \n",
       "21    1       3355        3820        0          0          1       \n",
       "22    1        872         321        0          0          1       \n",
       "23    1       3370        2549        0          0          1       \n",
       "24   NA       1180        3639        0          0         NA       \n",
       "25   NA       1208        2278        0          0         NA       \n",
       "26    1        559        1486        0          0          1       \n",
       "27    0       1508         188        0          0          0       \n",
       "28    1       2808        3451        0          0          1       \n",
       "29   NA         12          55        0          0         NA       \n",
       "30   NA       3392        4056        0          0         NA       \n",
       "⋮    ⋮        ⋮           ⋮           ⋮          ⋮         ⋮        \n",
       "8091  1       0           0           1943        725       1       \n",
       "8092  1       0           0           2147        577       1       \n",
       "8093  0       0           0           1685        763       0       \n",
       "8094  0       0           0           1531       1132       0       \n",
       "8095  0       0           0           1062       1531       0       \n",
       "8096  1       0           0           1574       1130       1       \n",
       "8097  0       0           0           1242       1534       0       \n",
       "8098  0       0           0            696       2100       0       \n",
       "8099  0       0           0            346       1952       0       \n",
       "8100 NA       0           0           1312       1052      NA       \n",
       "8101 NA       0           0           2457        178      NA       \n",
       "8102  0       0           0           1571        938       0       \n",
       "8103  0       0           0           2287        838       0       \n",
       "8104  0       0           0           1664       1133       0       \n",
       "8105  0       0           0           1736        952       0       \n",
       "8106  0       0           0           1859        839       0       \n",
       "8107  0       0           0           1938        806       0       \n",
       "8108  0       0           0           2295        567       0       \n",
       "8109  0       0           0           1761        914       0       \n",
       "8110  0       0           0           1596       1082       0       \n",
       "8111  0       0           0           1576       1123       0       \n",
       "8112  0       0           0           1769        927       0       \n",
       "8113  0       0           0           1971        775       0       \n",
       "8114  0       0           0           1629        964       0       \n",
       "8115  0       0           0            996       1489       0       \n",
       "8116  0       0           0           1214       1506       0       \n",
       "8117  1       0           0           1666        926       1       \n",
       "8118  1       0           0           1594       1142       1       \n",
       "8119  0       0           0            824       1909       0       \n",
       "8120  0       0           0            362       2027       0       \n",
       "     predicted_values_CV\n",
       "1    NA                 \n",
       "2    NA                 \n",
       "3    NA                 \n",
       "4    NA                 \n",
       "5    NA                 \n",
       "6    NA                 \n",
       "7    NA                 \n",
       "8    NA                 \n",
       "9    NA                 \n",
       "10   NA                 \n",
       "11   NA                 \n",
       "12   NA                 \n",
       "13   NA                 \n",
       "14   NA                 \n",
       "15   NA                 \n",
       "16   NA                 \n",
       "17   NA                 \n",
       "18   NA                 \n",
       "19   NA                 \n",
       "20   NA                 \n",
       "21   NA                 \n",
       "22   NA                 \n",
       "23   NA                 \n",
       "24   NA                 \n",
       "25   NA                 \n",
       "26   NA                 \n",
       "27   NA                 \n",
       "28   NA                 \n",
       "29   NA                 \n",
       "30   NA                 \n",
       "⋮    ⋮                  \n",
       "8091 NA                 \n",
       "8092 NA                 \n",
       "8093 NA                 \n",
       "8094 NA                 \n",
       "8095 NA                 \n",
       "8096 NA                 \n",
       "8097 NA                 \n",
       "8098 NA                 \n",
       "8099 NA                 \n",
       "8100 NA                 \n",
       "8101 NA                 \n",
       "8102 NA                 \n",
       "8103 NA                 \n",
       "8104 NA                 \n",
       "8105 NA                 \n",
       "8106 NA                 \n",
       "8107 NA                 \n",
       "8108 NA                 \n",
       "8109 NA                 \n",
       "8110 NA                 \n",
       "8111 NA                 \n",
       "8112 NA                 \n",
       "8113 NA                 \n",
       "8114 NA                 \n",
       "8115 NA                 \n",
       "8116 NA                 \n",
       "8117 NA                 \n",
       "8118 NA                 \n",
       "8119 NA                 \n",
       "8120 NA                 "
      ]
     },
     "metadata": {},
     "output_type": "display_data"
    }
   ],
   "source": [
    "DD"
   ]
  },
  {
   "cell_type": "code",
   "execution_count": 13,
   "metadata": {},
   "outputs": [
    {
     "name": "stdout",
     "output_type": "stream",
     "text": [
      "Setting up the model.\n",
      "Generating 5000 post burnin and thinned (if requested) samples.\n",
      "  |======================================================================| 100%\n",
      "Summarising results.\n",
      "Finished in  138.3 seconds.\n"
     ]
    }
   ],
   "source": [
    "#formula_sample =  sample ~ Disttoroadm + Populationm\n",
    "#formula_presence = species ~ Elevationm + Precipitationm\n",
    "formula <- response ~ Disttoroadm + Populationm + Elevationm + Precipitationm\n",
    "ind.re = c(rep(1,nK),rep(2,nK))\n",
    "burnin = 5000\n",
    "n.sample = 10000\n",
    "thin = 5\n",
    "model2 <- S.CARmultilevel(formula,family = 'binomial',\n",
    "                          trials=trials,\n",
    "                          W=M_bis,\n",
    "                          ind.area=idarea,\n",
    "                          #ind.re=factor(idarea),\n",
    "                          ind.re = factor(ind.re),\n",
    "                          rho=1,\n",
    "                          burnin=burnin,\n",
    "                          n.sample=n.sample,\n",
    "                          data=DD)"
   ]
  },
  {
   "cell_type": "markdown",
   "metadata": {},
   "source": [
    "## Remember to check likelihood modelfit"
   ]
  },
  {
   "cell_type": "code",
   "execution_count": 14,
   "metadata": {},
   "outputs": [
    {
     "data": {
      "text/html": [
       "<dl class=dl-horizontal>\n",
       "\t<dt>DIC</dt>\n",
       "\t\t<dd>3715.51430750151</dd>\n",
       "\t<dt>p.d</dt>\n",
       "\t\t<dd>797.484918262055</dd>\n",
       "\t<dt>WAIC</dt>\n",
       "\t\t<dd>3788.03888323671</dd>\n",
       "\t<dt>p.w</dt>\n",
       "\t\t<dd>709.889113398625</dd>\n",
       "\t<dt>LMPL</dt>\n",
       "\t\t<dd>-1943.87028528544</dd>\n",
       "\t<dt>loglikelihood</dt>\n",
       "\t\t<dd>-1060.2722354887</dd>\n",
       "</dl>\n"
      ],
      "text/latex": [
       "\\begin{description*}\n",
       "\\item[DIC] 3715.51430750151\n",
       "\\item[p.d] 797.484918262055\n",
       "\\item[WAIC] 3788.03888323671\n",
       "\\item[p.w] 709.889113398625\n",
       "\\item[LMPL] -1943.87028528544\n",
       "\\item[loglikelihood] -1060.2722354887\n",
       "\\end{description*}\n"
      ],
      "text/markdown": [
       "DIC\n",
       ":   3715.51430750151p.d\n",
       ":   797.484918262055WAIC\n",
       ":   3788.03888323671p.w\n",
       ":   709.889113398625LMPL\n",
       ":   -1943.87028528544loglikelihood\n",
       ":   -1060.2722354887\n",
       "\n"
      ],
      "text/plain": [
       "          DIC           p.d          WAIC           p.w          LMPL \n",
       "    3715.5143      797.4849     3788.0389      709.8891    -1943.8703 \n",
       "loglikelihood \n",
       "   -1060.2722 "
      ]
     },
     "metadata": {},
     "output_type": "display_data"
    }
   ],
   "source": [
    "# with NA's in Y\n",
    "model2$modelfit"
   ]
  },
  {
   "cell_type": "code",
   "execution_count": 5,
   "metadata": {},
   "outputs": [
    {
     "data": {
      "text/html": [
       "<dl class=dl-horizontal>\n",
       "\t<dt>DIC</dt>\n",
       "\t\t<dd>3665.97069887167</dd>\n",
       "\t<dt>p.d</dt>\n",
       "\t\t<dd>783.129516484524</dd>\n",
       "\t<dt>WAIC</dt>\n",
       "\t\t<dd>3745.41348032289</dd>\n",
       "\t<dt>p.w</dt>\n",
       "\t\t<dd>702.972104950305</dd>\n",
       "\t<dt>LMPL</dt>\n",
       "\t\t<dd>-1918.46758657561</dd>\n",
       "\t<dt>loglikelihood</dt>\n",
       "\t\t<dd>-1049.85583295131</dd>\n",
       "</dl>\n"
      ],
      "text/latex": [
       "\\begin{description*}\n",
       "\\item[DIC] 3665.97069887167\n",
       "\\item[p.d] 783.129516484524\n",
       "\\item[WAIC] 3745.41348032289\n",
       "\\item[p.w] 702.972104950305\n",
       "\\item[LMPL] -1918.46758657561\n",
       "\\item[loglikelihood] -1049.85583295131\n",
       "\\end{description*}\n"
      ],
      "text/markdown": [
       "DIC\n",
       ":   3665.97069887167p.d\n",
       ":   783.129516484524WAIC\n",
       ":   3745.41348032289p.w\n",
       ":   702.972104950305LMPL\n",
       ":   -1918.46758657561loglikelihood\n",
       ":   -1049.85583295131\n",
       "\n"
      ],
      "text/plain": [
       "          DIC           p.d          WAIC           p.w          LMPL \n",
       "    3665.9707      783.1295     3745.4135      702.9721    -1918.4676 \n",
       "loglikelihood \n",
       "   -1049.8558 "
      ]
     },
     "metadata": {},
     "output_type": "display_data"
    }
   ],
   "source": [
    "# with NA's in Y\n",
    "model2$modelfit"
   ]
  },
  {
   "cell_type": "code",
   "execution_count": 71,
   "metadata": {},
   "outputs": [
    {
     "data": {
      "text/html": [
       "<dl class=dl-horizontal>\n",
       "\t<dt>DIC</dt>\n",
       "\t\t<dd>3595.19108823422</dd>\n",
       "\t<dt>p.d</dt>\n",
       "\t\t<dd>898.343041500409</dd>\n",
       "\t<dt>WAIC</dt>\n",
       "\t\t<dd>3689.37986422055</dd>\n",
       "\t<dt>p.w</dt>\n",
       "\t\t<dd>786.590825954935</dd>\n",
       "\t<dt>LMPL</dt>\n",
       "\t\t<dd>-1921.05262962205</dd>\n",
       "\t<dt>loglikelihood</dt>\n",
       "\t\t<dd>-899.252502616703</dd>\n",
       "</dl>\n"
      ],
      "text/latex": [
       "\\begin{description*}\n",
       "\\item[DIC] 3595.19108823422\n",
       "\\item[p.d] 898.343041500409\n",
       "\\item[WAIC] 3689.37986422055\n",
       "\\item[p.w] 786.590825954935\n",
       "\\item[LMPL] -1921.05262962205\n",
       "\\item[loglikelihood] -899.252502616703\n",
       "\\end{description*}\n"
      ],
      "text/markdown": [
       "DIC\n",
       ":   3595.19108823422p.d\n",
       ":   898.343041500409WAIC\n",
       ":   3689.37986422055p.w\n",
       ":   786.590825954935LMPL\n",
       ":   -1921.05262962205loglikelihood\n",
       ":   -899.252502616703\n",
       "\n"
      ],
      "text/plain": [
       "          DIC           p.d          WAIC           p.w          LMPL \n",
       "    3595.1911      898.3430     3689.3799      786.5908    -1921.0526 \n",
       "loglikelihood \n",
       "    -899.2525 "
      ]
     },
     "metadata": {},
     "output_type": "display_data"
    }
   ],
   "source": [
    "# without NA's in Y\n",
    "model2$modelfit"
   ]
  },
  {
   "cell_type": "code",
   "execution_count": 15,
   "metadata": {},
   "outputs": [
    {
     "data": {
      "text/html": [
       "<table>\n",
       "<thead><tr><th></th><th scope=col>Median</th><th scope=col>2.5%</th><th scope=col>97.5%</th><th scope=col>n.sample</th><th scope=col>% accept</th><th scope=col>n.effective</th><th scope=col>Geweke.diag</th></tr></thead>\n",
       "<tbody>\n",
       "\t<tr><th scope=row>(Intercept)</th><td>-0.7085</td><td>-1.0766</td><td>-0.3426</td><td>5000   </td><td> 51.6  </td><td>  80.5 </td><td>-4.9   </td></tr>\n",
       "\t<tr><th scope=row>Disttoroadm</th><td>-0.0002</td><td>-0.0004</td><td>-0.0001</td><td>5000   </td><td> 51.6  </td><td> 170.9 </td><td>-1.2   </td></tr>\n",
       "\t<tr><th scope=row>Populationm</th><td> 0.0000</td><td>-0.0001</td><td> 0.0001</td><td>5000   </td><td> 51.6  </td><td> 150.2 </td><td>-0.2   </td></tr>\n",
       "\t<tr><th scope=row>Elevationm</th><td> 0.0002</td><td> 0.0000</td><td> 0.0004</td><td>5000   </td><td> 51.6  </td><td>  79.7 </td><td> 1.6   </td></tr>\n",
       "\t<tr><th scope=row>Precipitationm</th><td> 0.0003</td><td> 0.0001</td><td> 0.0004</td><td>5000   </td><td> 51.6  </td><td>  85.9 </td><td> 3.5   </td></tr>\n",
       "\t<tr><th scope=row>tau2</th><td> 6.8838</td><td> 4.7169</td><td>11.8695</td><td>5000   </td><td>100.0  </td><td>   5.5 </td><td> 5.1   </td></tr>\n",
       "\t<tr><th scope=row>sigma2</th><td> 9.7797</td><td> 2.8682</td><td>72.7988</td><td>5000   </td><td>100.0  </td><td>5000.0 </td><td> 1.1   </td></tr>\n",
       "\t<tr><th scope=row>rho</th><td> 1.0000</td><td> 1.0000</td><td> 1.0000</td><td>  NA   </td><td>   NA  </td><td>    NA </td><td>  NA   </td></tr>\n",
       "</tbody>\n",
       "</table>\n"
      ],
      "text/latex": [
       "\\begin{tabular}{r|lllllll}\n",
       "  & Median & 2.5\\% & 97.5\\% & n.sample & \\% accept & n.effective & Geweke.diag\\\\\n",
       "\\hline\n",
       "\t(Intercept) & -0.7085 & -1.0766 & -0.3426 & 5000    &  51.6   &   80.5  & -4.9   \\\\\n",
       "\tDisttoroadm & -0.0002 & -0.0004 & -0.0001 & 5000    &  51.6   &  170.9  & -1.2   \\\\\n",
       "\tPopulationm &  0.0000 & -0.0001 &  0.0001 & 5000    &  51.6   &  150.2  & -0.2   \\\\\n",
       "\tElevationm &  0.0002 &  0.0000 &  0.0004 & 5000    &  51.6   &   79.7  &  1.6   \\\\\n",
       "\tPrecipitationm &  0.0003 &  0.0001 &  0.0004 & 5000    &  51.6   &   85.9  &  3.5   \\\\\n",
       "\ttau2 &  6.8838 &  4.7169 & 11.8695 & 5000    & 100.0   &    5.5  &  5.1   \\\\\n",
       "\tsigma2 &  9.7797 &  2.8682 & 72.7988 & 5000    & 100.0   & 5000.0  &  1.1   \\\\\n",
       "\trho &  1.0000 &  1.0000 &  1.0000 &   NA    &    NA   &     NA  &   NA   \\\\\n",
       "\\end{tabular}\n"
      ],
      "text/markdown": [
       "\n",
       "| <!--/--> | Median | 2.5% | 97.5% | n.sample | % accept | n.effective | Geweke.diag | \n",
       "|---|---|---|---|---|---|---|---|\n",
       "| (Intercept) | -0.7085 | -1.0766 | -0.3426 | 5000    |  51.6   |   80.5  | -4.9    | \n",
       "| Disttoroadm | -0.0002 | -0.0004 | -0.0001 | 5000    |  51.6   |  170.9  | -1.2    | \n",
       "| Populationm |  0.0000 | -0.0001 |  0.0001 | 5000    |  51.6   |  150.2  | -0.2    | \n",
       "| Elevationm |  0.0002 |  0.0000 |  0.0004 | 5000    |  51.6   |   79.7  |  1.6    | \n",
       "| Precipitationm |  0.0003 |  0.0001 |  0.0004 | 5000    |  51.6   |   85.9  |  3.5    | \n",
       "| tau2 |  6.8838 |  4.7169 | 11.8695 | 5000    | 100.0   |    5.5  |  5.1    | \n",
       "| sigma2 |  9.7797 |  2.8682 | 72.7988 | 5000    | 100.0   | 5000.0  |  1.1    | \n",
       "| rho |  1.0000 |  1.0000 |  1.0000 |   NA    |    NA   |     NA  |   NA    | \n",
       "\n",
       "\n"
      ],
      "text/plain": [
       "               Median  2.5%    97.5%   n.sample % accept n.effective\n",
       "(Intercept)    -0.7085 -1.0766 -0.3426 5000      51.6      80.5     \n",
       "Disttoroadm    -0.0002 -0.0004 -0.0001 5000      51.6     170.9     \n",
       "Populationm     0.0000 -0.0001  0.0001 5000      51.6     150.2     \n",
       "Elevationm      0.0002  0.0000  0.0004 5000      51.6      79.7     \n",
       "Precipitationm  0.0003  0.0001  0.0004 5000      51.6      85.9     \n",
       "tau2            6.8838  4.7169 11.8695 5000     100.0       5.5     \n",
       "sigma2          9.7797  2.8682 72.7988 5000     100.0    5000.0     \n",
       "rho             1.0000  1.0000  1.0000   NA        NA        NA     \n",
       "               Geweke.diag\n",
       "(Intercept)    -4.9       \n",
       "Disttoroadm    -1.2       \n",
       "Populationm    -0.2       \n",
       "Elevationm      1.6       \n",
       "Precipitationm  3.5       \n",
       "tau2            5.1       \n",
       "sigma2          1.1       \n",
       "rho              NA       "
      ]
     },
     "metadata": {},
     "output_type": "display_data"
    }
   ],
   "source": [
    "model2$summary.results"
   ]
  },
  {
   "cell_type": "code",
   "execution_count": 73,
   "metadata": {},
   "outputs": [],
   "source": [
    "## Function for extracting mean and tails.\n",
    "getUpperLowerCI <- function(fitted_sample,prefix=\"\",MARGIN=1){\n",
    "    fp = partial(quantile,probs=c(0.025,0.5,0.975))\n",
    "    quants =apply(X = fitted_sample,FUN = fp,MARGIN)\n",
    "    mfitt = apply(fitted_sample,mean,MARGIN = MARGIN)\n",
    "    vfitt = apply(fitted_sample,var,MARGIN = MARGIN)\n",
    "    new_data = cbind(t(quants),mfitt,vfitt)\n",
    "    l = as.list(c(\"q025\",\"median\",\"q0975\",\"mean\",\"variance\"))\n",
    "    nnames = lapply(l,function (x){return(paste(prefix,x,sep = '_'))})\n",
    "    colnames(new_data) = nnames\n",
    "    return(new_data)\n",
    "}"
   ]
  },
  {
   "cell_type": "code",
   "execution_count": 74,
   "metadata": {},
   "outputs": [
    {
     "data": {
      "text/html": [
       "<ol class=list-inline>\n",
       "\t<li>5000</li>\n",
       "\t<li>4060</li>\n",
       "</ol>\n"
      ],
      "text/latex": [
       "\\begin{enumerate*}\n",
       "\\item 5000\n",
       "\\item 4060\n",
       "\\end{enumerate*}\n"
      ],
      "text/markdown": [
       "1. 5000\n",
       "2. 4060\n",
       "\n",
       "\n"
      ],
      "text/plain": [
       "[1] 5000 4060"
      ]
     },
     "metadata": {},
     "output_type": "display_data"
    }
   ],
   "source": [
    "dim(model2$samples$phi)"
   ]
  },
  {
   "cell_type": "code",
   "execution_count": 75,
   "metadata": {},
   "outputs": [],
   "source": [
    "## Uncomment this if independent random effect is defined per cell \n",
    "## i.e. dim(model2$samples$zeta) == dim(model2$samples$phi)\n",
    "#sample.re <- t(model2$samples$phi + model2$samples$zeta)"
   ]
  },
  {
   "cell_type": "code",
   "execution_count": 76,
   "metadata": {},
   "outputs": [],
   "source": [
    "## Uncomment this if independent random effect is defined per process\n",
    "## i.e. dim(model2$samples$zeta)[1] == 2 (one for each process)\n",
    "sample.re.S <- model2$samples$phi + model2$samples$zeta[,1]\n",
    "sample.re.P <- model2$samples$phi + model2$samples$zeta[,2]\n",
    "#dim(model2$samples$fitted) = has double the number of cells (i.e. one per process)\n",
    "post.sample = data.frame(model2$samples$fitted)\n",
    "sample.S <- post.sample[,1:nK]\n",
    "sample.P <- post.sample[,(nK +1) : (2*nK) ]"
   ]
  },
  {
   "cell_type": "code",
   "execution_count": 77,
   "metadata": {},
   "outputs": [
    {
     "data": {
      "text/html": [
       "<ol class=list-inline>\n",
       "\t<li>5000</li>\n",
       "\t<li>8120</li>\n",
       "</ol>\n"
      ],
      "text/latex": [
       "\\begin{enumerate*}\n",
       "\\item 5000\n",
       "\\item 8120\n",
       "\\end{enumerate*}\n"
      ],
      "text/markdown": [
       "1. 5000\n",
       "2. 8120\n",
       "\n",
       "\n"
      ],
      "text/plain": [
       "[1] 5000 8120"
      ]
     },
     "metadata": {},
     "output_type": "display_data"
    }
   ],
   "source": [
    "dim(post.sample)"
   ]
  },
  {
   "cell_type": "code",
   "execution_count": 78,
   "metadata": {},
   "outputs": [],
   "source": [
    "sample.PS <- sample.S * sample.P"
   ]
  },
  {
   "cell_type": "code",
   "execution_count": 79,
   "metadata": {},
   "outputs": [
    {
     "data": {
      "text/html": [
       "4060"
      ],
      "text/latex": [
       "4060"
      ],
      "text/markdown": [
       "4060"
      ],
      "text/plain": [
       "[1] 4060"
      ]
     },
     "metadata": {},
     "output_type": "display_data"
    }
   ],
   "source": [
    "length(sample.PS)"
   ]
  },
  {
   "cell_type": "code",
   "execution_count": 80,
   "metadata": {},
   "outputs": [],
   "source": [
    "### Bernoulli sampling\n",
    "pss  <- post.sample %>% mutate_all(function(p) rbernoulli(1,p))\n",
    "## divide samples for S and P according to the order given up\n",
    "pred.S <- pss[,1:nK]\n",
    "pred.P <- pss[,(nK +1) : (2*nK) ]\n",
    "nsample <- nrow(pred.S)\n",
    "ProbS <- colSums(pred.S) / nsample\n",
    "ProbP <- colSums(pred.P) / nsample\n",
    "ProbPS = ProbP * ProbS"
   ]
  },
  {
   "cell_type": "markdown",
   "metadata": {},
   "source": [
    "###  Reduce to tails and means"
   ]
  },
  {
   "cell_type": "code",
   "execution_count": 81,
   "metadata": {},
   "outputs": [],
   "source": [
    "P = getUpperLowerCI(sample.P,prefix = 'P',MARGIN = 2)\n",
    "S = getUpperLowerCI(sample.S,prefix = 'S',MARGIN = 2)\n",
    "PS = getUpperLowerCI(sample.PS,prefix = 'PS',MARGIN = 2)\n",
    "re.S = getUpperLowerCI(sample.re.S,prefix = 'reS',MARGIN = 2)\n",
    "re.P = getUpperLowerCI(sample.re.P,prefix = 'reP',MARGIN = 2)\n",
    "phi = getUpperLowerCI(model2$samples$phi,prefix = 'phi',MARGIN = 2)"
   ]
  },
  {
   "cell_type": "code",
   "execution_count": 82,
   "metadata": {},
   "outputs": [],
   "source": [
    "chain <- cbind(TDF$cellids,phi,re.S,re.P,PS,P,S,ProbP,ProbS,ProbPS)"
   ]
  },
  {
   "cell_type": "code",
   "execution_count": 83,
   "metadata": {},
   "outputs": [],
   "source": [
    "## Save to posterity\n",
    "file_ = '/outputs/presence_only_models/modelCAR2bis.csv'\n",
    "write.csv(chain,file_)"
   ]
  },
  {
   "cell_type": "code",
   "execution_count": null,
   "metadata": {},
   "outputs": [],
   "source": []
  },
  {
   "cell_type": "code",
   "execution_count": null,
   "metadata": {},
   "outputs": [],
   "source": []
  },
  {
   "cell_type": "code",
   "execution_count": null,
   "metadata": {},
   "outputs": [],
   "source": []
  },
  {
   "cell_type": "code",
   "execution_count": null,
   "metadata": {},
   "outputs": [],
   "source": []
  },
  {
   "cell_type": "code",
   "execution_count": null,
   "metadata": {},
   "outputs": [],
   "source": []
  },
  {
   "cell_type": "code",
   "execution_count": null,
   "metadata": {},
   "outputs": [],
   "source": []
  },
  {
   "cell_type": "code",
   "execution_count": null,
   "metadata": {},
   "outputs": [],
   "source": []
  },
  {
   "cell_type": "code",
   "execution_count": null,
   "metadata": {},
   "outputs": [],
   "source": []
  },
  {
   "cell_type": "code",
   "execution_count": null,
   "metadata": {},
   "outputs": [],
   "source": []
  },
  {
   "cell_type": "markdown",
   "metadata": {},
   "source": [
    "### Extract and export Random Effects in the shape of raw sample"
   ]
  },
  {
   "cell_type": "code",
   "execution_count": 188,
   "metadata": {},
   "outputs": [
    {
     "data": {
      "text/plain": [
       "Markov Chain Monte Carlo (MCMC) output:\n",
       "Start = 1 \n",
       "End = 1 \n",
       "Thinning interval = 1 \n",
       "[1] NA"
      ]
     },
     "metadata": {},
     "output_type": "display_data"
    }
   ],
   "source": [
    "model2$samples$zeta"
   ]
  },
  {
   "cell_type": "code",
   "execution_count": null,
   "metadata": {},
   "outputs": [],
   "source": []
  },
  {
   "cell_type": "code",
   "execution_count": 155,
   "metadata": {},
   "outputs": [
    {
     "ename": "ERROR",
     "evalue": "Error in model2$samples$phi + model2$samples$zeta: non-conformable arrays\n",
     "output_type": "error",
     "traceback": [
      "Error in model2$samples$phi + model2$samples$zeta: non-conformable arrays\nTraceback:\n",
      "1. t(model2$samples$phi + model2$samples$zeta)"
     ]
    }
   ],
   "source": [
    "\n",
    "sample.re <- t(model2$samples$phi + model2$samples$zeta)\n",
    "re.chain <- cbind(TDF$cellids,sample.re)\n",
    "file2 <- '/outputs/presence_only_models/modelCAR_model2_randomeffect_multilevel.csv'\n",
    "write.csv(re.chain,file2)"
   ]
  },
  {
   "cell_type": "code",
   "execution_count": 166,
   "metadata": {},
   "outputs": [],
   "source": [
    "sample.re <- t(model2$samples$phi)\n",
    "re.chain <- cbind(TDF$cellids,sample.re)\n",
    "file2 <- '/outputs/presence_only_models/modelCAR_model2_phi_multilevel.csv'\n",
    "write.csv(re.chain,file2)"
   ]
  },
  {
   "cell_type": "code",
   "execution_count": 167,
   "metadata": {},
   "outputs": [
    {
     "name": "stderr",
     "output_type": "stream",
     "text": [
      "Warning message in cbind(TDF$cellids, sample.re):\n",
      "“number of rows of result is not a multiple of vector length (arg 1)”"
     ]
    }
   ],
   "source": [
    "sample.re <- t(model2$samples$zeta)\n",
    "re.chain <- cbind(TDF$cellids,sample.re)\n",
    "file2 <- '/outputs/presence_only_models/modelCAR_model2_zeta_multilevel.csv'\n",
    "write.csv(re.chain,file2)"
   ]
  },
  {
   "cell_type": "code",
   "execution_count": 168,
   "metadata": {},
   "outputs": [],
   "source": [
    "## P and S\n",
    "## divide samples for S and P according to the order given up\n",
    "fitted = model2$fitted.values\n",
    "S <- fitted[1:nK]\n",
    "P <- fitted[(nK +1) : (2*nK) ]\n",
    "chain = cbind(TDF$cellids,S,P)\n",
    "file_ = '/outputs/presence_only_models/modelCAR_model2_PS_multilevel.csv'\n",
    "write.csv(chain,file_)\n"
   ]
  },
  {
   "cell_type": "markdown",
   "metadata": {},
   "source": [
    "## Diagnostics, Mr. Gelmans, et.al"
   ]
  },
  {
   "cell_type": "raw",
   "metadata": {},
   "source": [
    "gelman.diag(results$S$samples$sigma2)"
   ]
  },
  {
   "cell_type": "code",
   "execution_count": null,
   "metadata": {},
   "outputs": [],
   "source": []
  },
  {
   "cell_type": "markdown",
   "metadata": {},
   "source": [
    "## Sample the posterior "
   ]
  },
  {
   "cell_type": "code",
   "execution_count": 72,
   "metadata": {},
   "outputs": [],
   "source": []
  },
  {
   "cell_type": "code",
   "execution_count": null,
   "metadata": {},
   "outputs": [],
   "source": []
  },
  {
   "cell_type": "code",
   "execution_count": null,
   "metadata": {},
   "outputs": [],
   "source": []
  },
  {
   "cell_type": "code",
   "execution_count": null,
   "metadata": {},
   "outputs": [],
   "source": []
  },
  {
   "cell_type": "code",
   "execution_count": 165,
   "metadata": {},
   "outputs": [],
   "source": [
    "chain = cbind(TDF$cellids,probpres,prob_pps,prob_pss)\n",
    "file_ = '/outputs/presence_only_models/modelCAR_model2_fitted_multilevel.csv'\n",
    "write.csv(chain,file_)"
   ]
  },
  {
   "cell_type": "code",
   "execution_count": null,
   "metadata": {},
   "outputs": [],
   "source": []
  },
  {
   "cell_type": "raw",
   "metadata": {},
   "source": [
    "## UNcomment if using non na data\n",
    "#sam_idx_nan <- which(is.na(DataFrame$sample))\n",
    "\n",
    "nprobpres <- rep(NA,length(DataFrame))\n",
    "nprob_pps <- rep(NA,length(DataFrame))\n",
    "nprob_pss <- rep(NA,length(DataFrame))\n",
    "sam_idx_non_nan <- which(!is.na(DataFrame$sample))\n",
    "\n",
    "nprobpres[sam_idx_non_nan] <- probpres\n",
    "nprob_pps[sam_idx_non_nan] <- prob_pps\n",
    "nprob_pss[sam_idx_non_nan] <- prob_pss\n",
    "chain = cbind(TDF$cell_ids,nprobpres,nprob_pps,nprob_pss)"
   ]
  },
  {
   "cell_type": "code",
   "execution_count": null,
   "metadata": {},
   "outputs": [],
   "source": []
  },
  {
   "cell_type": "markdown",
   "metadata": {},
   "source": [
    "## Posterior análisis with a varying C $\\tau^2, \\sigma^2$ denominator"
   ]
  },
  {
   "cell_type": "code",
   "execution_count": 609,
   "metadata": {},
   "outputs": [],
   "source": [
    "# Read the file\n",
    "bfile = '/outputs/presence_only_models/joint-model2-benchmark-denominator.csv'\n",
    "res <- read.csv(bfile)"
   ]
  },
  {
   "cell_type": "code",
   "execution_count": 8,
   "metadata": {},
   "outputs": [
    {
     "data": {
      "image/png": "[encoded data removed]",
      "text/plain": [
       "plot without title"
      ]
     },
     "metadata": {},
     "output_type": "display_data"
    }
   ],
   "source": []
  },
  {
   "cell_type": "code",
   "execution_count": null,
   "metadata": {},
   "outputs": [],
   "source": []
  },
  {
   "cell_type": "raw",
   "metadata": {},
   "source": [
    "\n",
    "#### THIS IS THE Original code, now put in \"model2_multilevel/run-joint-multilevel.R\"\n",
    "## Import code:\n",
    "setwd('/apps/external_plugins/biospytial_rwrapper/biospytial.rwrapper/R/')\n",
    "rm(list=ls())                                                                                     \n",
    "source(\"init_data.R\")                                                                             \n",
    "# load the building function                                                                      \n",
    "#source(\"joint.binomial.bymCAR.R\")\n",
    "\n",
    "S <- model.frame(formula_sample, DataFrame,na.action='na.pass')\n",
    "P <- model.frame(formula_presence, DataFrame,,na.action='na.pass')\n",
    "\n",
    "\n",
    "SX <- select(S, -c(1))\n",
    "PX <- select(P, -c(1))\n",
    "Sy <- select(S, c(1))\n",
    "Py <- select(P, c(1))\n",
    "\n",
    "names(Sy) <- 'response'\n",
    "names(Py) <- names(Sy)\n",
    "Y = rbind(Sy,Py)\n",
    "\n",
    "### Let's build covariance matrix\n",
    "T1 <- matrix(rep(0,4), ncol = 2)\n",
    "T2 <- matrix(rep(0,4), ncol = 2)\n",
    "T1[1,1] <- 1\n",
    "T2[2,2] <- 1\n",
    "\n",
    "X <- data.frame((T1 %x% as.matrix(SX)) + (T2 %x% as.matrix(PX)))\n",
    "names(X) <- c(names(SX),names(PX))\n",
    "\n",
    "DD <- cbind(Y,X)\n",
    "\n",
    "nK <- dim(M_bis)[1]\n",
    "ida <- data.frame(seq(nK))\n",
    "idarea <- unlist(rbind(ida,ida))\n",
    "\n",
    "corx <- rep(x = 1,times = nK)\n",
    "cory <- rep(x = 2,times = nK)\n",
    "\n",
    "indre <- c(corx,cory)\n",
    "\n",
    "formula <- response ~ Disttoroadm + Populationm + Elevationm + MeanTempm\n",
    "\n",
    "## now, assuming that the order in M_bis is the same as in cellids (OOOORDEEER, not value)\n",
    "## Run the model\n",
    "trials = rep(1,2 * nK)\n",
    "burnin = 29000\n",
    "n.sample = 30000\n",
    "thin = 1\n",
    "model2 <- S.CARmultilevel(formula,family = 'binomial',\n",
    "                          trials=trials, \n",
    "                          W=M_bis, \n",
    "                          ind.area = idarea,\n",
    "                         ind.re=factor(i),\n",
    "                          rho = 1,\n",
    "                          burnin = burnin,\n",
    "                          n.sample = n.sample,\n",
    "                          data = DD\n",
    "                         )"
   ]
  }
 ],
 "metadata": {
  "kernelspec": {
   "display_name": "R",
   "language": "R",
   "name": "ir"
  },
  "language_info": {
   "codemirror_mode": "r",
   "file_extension": ".r",
   "mimetype": "text/x-r-source",
   "name": "R",
   "pygments_lexer": "r",
   "version": "3.5.1"
  }
 },
 "nbformat": 4,
 "nbformat_minor": 2
}
