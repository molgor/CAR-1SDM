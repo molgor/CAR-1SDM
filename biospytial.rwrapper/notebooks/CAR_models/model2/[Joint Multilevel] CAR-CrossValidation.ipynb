{
 "cells": [
  {
   "cell_type": "markdown",
   "metadata": {},
   "source": [
    "# A joint multilevel model for CAR \n",
    "Using multilevel.CARLeroux\n",
    "## Common Markov Gaussian Random Field\n",
    " $$ [P , S ] = [P | GMRF] [ S | GMRF] $$"
   ]
  },
  {
   "cell_type": "code",
   "execution_count": 1,
   "metadata": {},
   "outputs": [
    {
     "name": "stdout",
     "output_type": "stream",
     "text": [
      "[1] \"Load data source and preprocess\"\n"
     ]
    },
    {
     "name": "stderr",
     "output_type": "stream",
     "text": [
      "Loading required package: MASS\n",
      "Loading required package: Rcpp\n",
      "\n",
      "Attaching package: ‘dplyr’\n",
      "\n",
      "The following object is masked from ‘package:MASS’:\n",
      "\n",
      "    select\n",
      "\n",
      "The following objects are masked from ‘package:stats’:\n",
      "\n",
      "    filter, lag\n",
      "\n",
      "The following objects are masked from ‘package:base’:\n",
      "\n",
      "    intersect, setdiff, setequal, union\n",
      "\n",
      "Warning message:\n",
      "“The `printer` argument is deprecated as of rlang 0.3.0.\n",
      "This warning is displayed once per session.”Type 'citation(\"pROC\")' for a citation.\n",
      "\n",
      "Attaching package: ‘pROC’\n",
      "\n",
      "The following objects are masked from ‘package:stats’:\n",
      "\n",
      "    cov, smooth, var\n",
      "\n",
      "Loading required package: lattice\n",
      "Loading required package: ggplot2\n",
      "\n",
      "Attaching package: ‘caret’\n",
      "\n",
      "The following object is masked from ‘package:purrr’:\n",
      "\n",
      "    lift\n",
      "\n"
     ]
    }
   ],
   "source": [
    "## Run the script\n",
    "setwd('/apps/external_plugins/biospytial_rwrapper/biospytial.rwrapper/R/')\n",
    "source(\"model2_multilevel/run-joint-multilevel.R\")\n"
   ]
  },
  {
   "cell_type": "code",
   "execution_count": 34,
   "metadata": {
    "scrolled": true
   },
   "outputs": [],
   "source": [
    "\n",
    "trials = rep(1,2 *nK)\n",
    "burnin = 5000\n",
    "n.sample = 10000\n",
    "thin = 5\n",
    "\n",
    "#burnin = 500\n",
    "#n.sample = 1000\n",
    "#thin = 1\n",
    "\n",
    "l <- list()\n",
    "i = 1\n",
    "nS = dim(Py)[1]\n",
    "validate = createFolds(y = DataFrame$species, k=7 , returnTrain = FALSE)\n",
    "validate.index.presences = lapply(validate, function(x){x + nS})\n",
    "\n",
    "## customised for the multilevel preprocessing (i.e. DD instead of the trad. variable that I called `DataFrame` )\n",
    "DD$presences <- DD$response\n",
    "DD$predicted_values_CV <- NA\n",
    "\n",
    "\n",
    "## Configure correlation for each cell.\n",
    "## In this case, the correlation (similar to nugget effect) will be the same for all cells in P and for all cells in S.\n",
    "## It can also be changed to assign correlations for same cell (i.e. the correlation between the cell i,j in S is the same as in P)\n",
    "ind.re = c(rep(1,nK),rep(2,nK))\n",
    "\n"
   ]
  },
  {
   "cell_type": "code",
   "execution_count": 35,
   "metadata": {},
   "outputs": [
    {
     "name": "stdout",
     "output_type": "stream",
     "text": [
      "Setting up the model.\n",
      "Generating 500 post burnin and thinned (if requested) samples.\n",
      "  |======================================================================| 100%\n",
      "Summarising results.\n",
      "Finished in  23.6 seconds.\n"
     ]
    },
    {
     "name": "stderr",
     "output_type": "stream",
     "text": [
      "Setting levels: control = 0, case = 1\n",
      "Setting direction: controls < cases\n"
     ]
    },
    {
     "name": "stdout",
     "output_type": "stream",
     "text": [
      "Setting up the model.\n",
      "Generating 500 post burnin and thinned (if requested) samples.\n",
      "  |======================================================================| 100%\n",
      "Summarising results.\n",
      "Finished in  22.9 seconds.\n"
     ]
    },
    {
     "name": "stderr",
     "output_type": "stream",
     "text": [
      "Setting levels: control = 0, case = 1\n",
      "Setting direction: controls < cases\n"
     ]
    },
    {
     "name": "stdout",
     "output_type": "stream",
     "text": [
      "Setting up the model.\n",
      "Generating 500 post burnin and thinned (if requested) samples.\n",
      "  |======================================================================| 100%\n",
      "Summarising results.\n",
      "Finished in  22.7 seconds.\n"
     ]
    },
    {
     "name": "stderr",
     "output_type": "stream",
     "text": [
      "Setting levels: control = 0, case = 1\n",
      "Setting direction: controls < cases\n"
     ]
    },
    {
     "name": "stdout",
     "output_type": "stream",
     "text": [
      "Setting up the model.\n",
      "Generating 500 post burnin and thinned (if requested) samples.\n",
      "  |======================================================================| 100%\n",
      "Summarising results.\n",
      "Finished in  22.2 seconds.\n"
     ]
    },
    {
     "name": "stderr",
     "output_type": "stream",
     "text": [
      "Setting levels: control = 0, case = 1\n",
      "Setting direction: controls < cases\n"
     ]
    },
    {
     "name": "stdout",
     "output_type": "stream",
     "text": [
      "Setting up the model.\n",
      "Generating 500 post burnin and thinned (if requested) samples.\n",
      "  |======================================================================| 100%\n",
      "Summarising results.\n",
      "Finished in  22.2 seconds.\n"
     ]
    },
    {
     "name": "stderr",
     "output_type": "stream",
     "text": [
      "Setting levels: control = 0, case = 1\n",
      "Setting direction: controls < cases\n"
     ]
    },
    {
     "name": "stdout",
     "output_type": "stream",
     "text": [
      "Setting up the model.\n",
      "Generating 500 post burnin and thinned (if requested) samples.\n",
      "  |======================================================================| 100%\n",
      "Summarising results.\n",
      "Finished in  22.8 seconds.\n"
     ]
    },
    {
     "name": "stderr",
     "output_type": "stream",
     "text": [
      "Setting levels: control = 0, case = 1\n",
      "Setting direction: controls < cases\n"
     ]
    },
    {
     "name": "stdout",
     "output_type": "stream",
     "text": [
      "Setting up the model.\n",
      "Generating 500 post burnin and thinned (if requested) samples.\n",
      "  |======================================================================| 100%\n",
      "Summarising results.\n",
      "Finished in  21.7 seconds.\n"
     ]
    },
    {
     "name": "stderr",
     "output_type": "stream",
     "text": [
      "Setting levels: control = 0, case = 1\n",
      "Setting direction: controls < cases\n"
     ]
    }
   ],
   "source": [
    "for (fold in validate.index.presences) {\n",
    "    \n",
    "    ## Substitue by NA (to be predicted..)\n",
    "    DD$response[fold] <- NA\n",
    "    \n",
    "    model2 <- S.CARmultilevel(formula,family = 'binomial',\n",
    "                             trials=trials,\n",
    "                             W=M_bis,\n",
    "                             ind.area=idarea,\n",
    "                             #ind.re=factor(idarea),\n",
    "                             ind.re = factor(ind.re),\n",
    "                             rho=1,\n",
    "                             burnin=burnin,\n",
    "                             n.sample=n.sample,\n",
    "                             data=DD)\n",
    "    \n",
    "    ## return DataFrame$species to original \n",
    "    ## Beware of DD...\n",
    "    DD$response <- DD$presences\n",
    "    ## Return original values\n",
    "    ## Aquí hay que ver si los fitted values corresponden al indice \n",
    "    predicted.probability = model2$fitted.values[fold]\n",
    "    DD$predicted_values_CV[fold] <- predicted.probability\n",
    "\n",
    "    pROC_obj <- roc(DD$response[fold],predicted.probability)\n",
    "\n",
    "    l[[i]] <- pROC_obj\n",
    "    i = i + 1\n",
    "}"
   ]
  },
  {
   "cell_type": "code",
   "execution_count": 57,
   "metadata": {},
   "outputs": [],
   "source": [
    "post.sample = data.frame(model2$fitted)\n",
    "sample.S <- post.sample[1:nK,]\n",
    "sample.P <- post.sample[(nK +1) : (2*nK) ,]"
   ]
  },
  {
   "cell_type": "code",
   "execution_count": 56,
   "metadata": {},
   "outputs": [
    {
     "data": {
      "text/html": [
       "<ol class=list-inline>\n",
       "\t<li>8120</li>\n",
       "\t<li>1</li>\n",
       "</ol>\n"
      ],
      "text/latex": [
       "\\begin{enumerate*}\n",
       "\\item 8120\n",
       "\\item 1\n",
       "\\end{enumerate*}\n"
      ],
      "text/markdown": [
       "1. 8120\n",
       "2. 1\n",
       "\n",
       "\n"
      ],
      "text/plain": [
       "[1] 8120    1"
      ]
     },
     "metadata": {},
     "output_type": "display_data"
    }
   ],
   "source": [
    "dim(post.sample)"
   ]
  },
  {
   "cell_type": "code",
   "execution_count": 58,
   "metadata": {},
   "outputs": [],
   "source": [
    "predicted_values <- DD$predicted_values_CV[(nK +1) : (2*nK)]"
   ]
  },
  {
   "cell_type": "code",
   "execution_count": 59,
   "metadata": {},
   "outputs": [],
   "source": [
    "joint_SP <- sample.S * predicted_values"
   ]
  },
  {
   "cell_type": "code",
   "execution_count": 60,
   "metadata": {},
   "outputs": [
    {
     "data": {
      "text/html": [
       "4060"
      ],
      "text/latex": [
       "4060"
      ],
      "text/markdown": [
       "4060"
      ],
      "text/plain": [
       "[1] 4060"
      ]
     },
     "metadata": {},
     "output_type": "display_data"
    }
   ],
   "source": [
    "length(DD$response[presences.index])"
   ]
  },
  {
   "cell_type": "markdown",
   "metadata": {},
   "source": [
    "This is wrong we need to multiply the prob\n"
   ]
  },
  {
   "cell_type": "code",
   "execution_count": 45,
   "metadata": {},
   "outputs": [],
   "source": [
    "presences.index = seq(nK + 1 ,dim(DD)[1])"
   ]
  },
  {
   "cell_type": "code",
   "execution_count": 62,
   "metadata": {},
   "outputs": [
    {
     "name": "stderr",
     "output_type": "stream",
     "text": [
      "Setting levels: control = 0, case = 1\n",
      "Setting direction: controls < cases\n",
      "Warning message in plot.ci.se(sens.ci, type = \"shape\", col = \"lightblue\"):\n",
      "“Low definition shape.”"
     ]
    },
    {
     "data": {
      "image/png": "[encoded data removed]",
      "text/plain": [
       "plot without title"
      ]
     },
     "metadata": {},
     "output_type": "display_data"
    }
   ],
   "source": [
    "#pROC_obj <- roc(DD$response[presences.index],DD$predicted_values_CV[presences.index],\n",
    "pROC_obj <- roc(DD$response[presences.index],joint_SP,                \n",
    "               smoothed= TRUE,\n",
    "               ci = TRUE, ci.alpha=0.9, stratified=FALSE,\n",
    "               plot=TRUE, auc.polygon=TRUE, max.auc.polygon=TRUE, grid=TRUE,\n",
    "               print.auc=TRUE, show.thres=TRUE)\n",
    "sens.ci <- ci.se(pROC_obj)\n",
    "plot(sens.ci,type=\"shape\",col=\"lightblue\")\n",
    "plot(sens.ci, type=\"bars\")\n",
    "\n"
   ]
  },
  {
   "cell_type": "markdown",
   "metadata": {},
   "source": [
    "## Perfom fitting for all data "
   ]
  },
  {
   "cell_type": "code",
   "execution_count": 70,
   "metadata": {},
   "outputs": [
    {
     "name": "stdout",
     "output_type": "stream",
     "text": [
      "Setting up the model.\n",
      "Generating 5000 post burnin and thinned (if requested) samples.\n",
      "  |======================================================================| 100%\n",
      "Summarising results.\n",
      "Finished in  152 seconds.\n"
     ]
    }
   ],
   "source": [
    "\n",
    "burnin = 5000\n",
    "n.sample = 10000\n",
    "thin = 5\n",
    "model2 <- S.CARmultilevel(formula,family = 'binomial',\n",
    "                          trials=trials,\n",
    "                          W=M_bis,\n",
    "                          ind.area=idarea,\n",
    "                          #ind.re=factor(idarea),\n",
    "                          ind.re = factor(ind.re),\n",
    "                          rho=1,\n",
    "                          burnin=burnin,\n",
    "                          n.sample=n.sample,\n",
    "                          data=DD)"
   ]
  },
  {
   "cell_type": "markdown",
   "metadata": {},
   "source": [
    "## Remember to check likelihood modelfit"
   ]
  },
  {
   "cell_type": "code",
   "execution_count": 71,
   "metadata": {},
   "outputs": [
    {
     "data": {
      "text/html": [
       "<dl class=dl-horizontal>\n",
       "\t<dt>DIC</dt>\n",
       "\t\t<dd>3595.19108823422</dd>\n",
       "\t<dt>p.d</dt>\n",
       "\t\t<dd>898.343041500409</dd>\n",
       "\t<dt>WAIC</dt>\n",
       "\t\t<dd>3689.37986422055</dd>\n",
       "\t<dt>p.w</dt>\n",
       "\t\t<dd>786.590825954935</dd>\n",
       "\t<dt>LMPL</dt>\n",
       "\t\t<dd>-1921.05262962205</dd>\n",
       "\t<dt>loglikelihood</dt>\n",
       "\t\t<dd>-899.252502616703</dd>\n",
       "</dl>\n"
      ],
      "text/latex": [
       "\\begin{description*}\n",
       "\\item[DIC] 3595.19108823422\n",
       "\\item[p.d] 898.343041500409\n",
       "\\item[WAIC] 3689.37986422055\n",
       "\\item[p.w] 786.590825954935\n",
       "\\item[LMPL] -1921.05262962205\n",
       "\\item[loglikelihood] -899.252502616703\n",
       "\\end{description*}\n"
      ],
      "text/markdown": [
       "DIC\n",
       ":   3595.19108823422p.d\n",
       ":   898.343041500409WAIC\n",
       ":   3689.37986422055p.w\n",
       ":   786.590825954935LMPL\n",
       ":   -1921.05262962205loglikelihood\n",
       ":   -899.252502616703\n",
       "\n"
      ],
      "text/plain": [
       "          DIC           p.d          WAIC           p.w          LMPL \n",
       "    3595.1911      898.3430     3689.3799      786.5908    -1921.0526 \n",
       "loglikelihood \n",
       "    -899.2525 "
      ]
     },
     "metadata": {},
     "output_type": "display_data"
    }
   ],
   "source": [
    "model2$modelfit"
   ]
  },
  {
   "cell_type": "code",
   "execution_count": 72,
   "metadata": {},
   "outputs": [
    {
     "data": {
      "text/html": [
       "<table>\n",
       "<thead><tr><th></th><th scope=col>Median</th><th scope=col>2.5%</th><th scope=col>97.5%</th><th scope=col>n.sample</th><th scope=col>% accept</th><th scope=col>n.effective</th><th scope=col>Geweke.diag</th></tr></thead>\n",
       "<tbody>\n",
       "\t<tr><th scope=row>(Intercept)</th><td> 0.1748</td><td>-0.1859</td><td> 0.5250</td><td>5000   </td><td> 52.4  </td><td>  83.5 </td><td>-1.8   </td></tr>\n",
       "\t<tr><th scope=row>Disttoroadm</th><td>-0.0002</td><td>-0.0004</td><td>-0.0001</td><td>5000   </td><td> 52.4  </td><td> 218.8 </td><td> 0.9   </td></tr>\n",
       "\t<tr><th scope=row>Populationm</th><td> 0.0000</td><td>-0.0001</td><td> 0.0001</td><td>5000   </td><td> 52.4  </td><td> 175.9 </td><td>-0.2   </td></tr>\n",
       "\t<tr><th scope=row>Elevationm</th><td> 0.0001</td><td>-0.0001</td><td> 0.0004</td><td>5000   </td><td> 52.4  </td><td>  73.2 </td><td> 2.0   </td></tr>\n",
       "\t<tr><th scope=row>MeanTempm</th><td>-0.0011</td><td>-0.0013</td><td>-0.0008</td><td>5000   </td><td> 52.4  </td><td>  63.4 </td><td>-1.9   </td></tr>\n",
       "\t<tr><th scope=row>tau2</th><td>10.2678</td><td> 7.7157</td><td>13.3857</td><td>5000   </td><td>100.0  </td><td>  14.6 </td><td> 2.1   </td></tr>\n",
       "\t<tr><th scope=row>sigma2</th><td> 7.4645</td><td> 2.1492</td><td>50.6142</td><td>5000   </td><td>100.0  </td><td>5000.0 </td><td>-0.2   </td></tr>\n",
       "\t<tr><th scope=row>rho</th><td> 1.0000</td><td> 1.0000</td><td> 1.0000</td><td>  NA   </td><td>   NA  </td><td>    NA </td><td>  NA   </td></tr>\n",
       "</tbody>\n",
       "</table>\n"
      ],
      "text/latex": [
       "\\begin{tabular}{r|lllllll}\n",
       "  & Median & 2.5\\% & 97.5\\% & n.sample & \\% accept & n.effective & Geweke.diag\\\\\n",
       "\\hline\n",
       "\t(Intercept) &  0.1748 & -0.1859 &  0.5250 & 5000    &  52.4   &   83.5  & -1.8   \\\\\n",
       "\tDisttoroadm & -0.0002 & -0.0004 & -0.0001 & 5000    &  52.4   &  218.8  &  0.9   \\\\\n",
       "\tPopulationm &  0.0000 & -0.0001 &  0.0001 & 5000    &  52.4   &  175.9  & -0.2   \\\\\n",
       "\tElevationm &  0.0001 & -0.0001 &  0.0004 & 5000    &  52.4   &   73.2  &  2.0   \\\\\n",
       "\tMeanTempm & -0.0011 & -0.0013 & -0.0008 & 5000    &  52.4   &   63.4  & -1.9   \\\\\n",
       "\ttau2 & 10.2678 &  7.7157 & 13.3857 & 5000    & 100.0   &   14.6  &  2.1   \\\\\n",
       "\tsigma2 &  7.4645 &  2.1492 & 50.6142 & 5000    & 100.0   & 5000.0  & -0.2   \\\\\n",
       "\trho &  1.0000 &  1.0000 &  1.0000 &   NA    &    NA   &     NA  &   NA   \\\\\n",
       "\\end{tabular}\n"
      ],
      "text/markdown": [
       "\n",
       "| <!--/--> | Median | 2.5% | 97.5% | n.sample | % accept | n.effective | Geweke.diag | \n",
       "|---|---|---|---|---|---|---|---|\n",
       "| (Intercept) |  0.1748 | -0.1859 |  0.5250 | 5000    |  52.4   |   83.5  | -1.8    | \n",
       "| Disttoroadm | -0.0002 | -0.0004 | -0.0001 | 5000    |  52.4   |  218.8  |  0.9    | \n",
       "| Populationm |  0.0000 | -0.0001 |  0.0001 | 5000    |  52.4   |  175.9  | -0.2    | \n",
       "| Elevationm |  0.0001 | -0.0001 |  0.0004 | 5000    |  52.4   |   73.2  |  2.0    | \n",
       "| MeanTempm | -0.0011 | -0.0013 | -0.0008 | 5000    |  52.4   |   63.4  | -1.9    | \n",
       "| tau2 | 10.2678 |  7.7157 | 13.3857 | 5000    | 100.0   |   14.6  |  2.1    | \n",
       "| sigma2 |  7.4645 |  2.1492 | 50.6142 | 5000    | 100.0   | 5000.0  | -0.2    | \n",
       "| rho |  1.0000 |  1.0000 |  1.0000 |   NA    |    NA   |     NA  |   NA    | \n",
       "\n",
       "\n"
      ],
      "text/plain": [
       "            Median  2.5%    97.5%   n.sample % accept n.effective Geweke.diag\n",
       "(Intercept)  0.1748 -0.1859  0.5250 5000      52.4      83.5      -1.8       \n",
       "Disttoroadm -0.0002 -0.0004 -0.0001 5000      52.4     218.8       0.9       \n",
       "Populationm  0.0000 -0.0001  0.0001 5000      52.4     175.9      -0.2       \n",
       "Elevationm   0.0001 -0.0001  0.0004 5000      52.4      73.2       2.0       \n",
       "MeanTempm   -0.0011 -0.0013 -0.0008 5000      52.4      63.4      -1.9       \n",
       "tau2        10.2678  7.7157 13.3857 5000     100.0      14.6       2.1       \n",
       "sigma2       7.4645  2.1492 50.6142 5000     100.0    5000.0      -0.2       \n",
       "rho          1.0000  1.0000  1.0000   NA        NA        NA        NA       "
      ]
     },
     "metadata": {},
     "output_type": "display_data"
    }
   ],
   "source": [
    "model2$summary.results"
   ]
  },
  {
   "cell_type": "code",
   "execution_count": 73,
   "metadata": {},
   "outputs": [],
   "source": [
    "## Function for extracting mean and tails.\n",
    "getUpperLowerCI <- function(fitted_sample,prefix=\"\",MARGIN=1){\n",
    "    fp = partial(quantile,probs=c(0.025,0.5,0.975))\n",
    "    quants =apply(X = fitted_sample,FUN = fp,MARGIN)\n",
    "    mfitt = apply(fitted_sample,mean,MARGIN = MARGIN)\n",
    "    vfitt = apply(fitted_sample,var,MARGIN = MARGIN)\n",
    "    new_data = cbind(t(quants),mfitt,vfitt)\n",
    "    l = as.list(c(\"q025\",\"median\",\"q0975\",\"mean\",\"variance\"))\n",
    "    nnames = lapply(l,function (x){return(paste(prefix,x,sep = '_'))})\n",
    "    colnames(new_data) = nnames\n",
    "    return(new_data)\n",
    "}"
   ]
  },
  {
   "cell_type": "code",
   "execution_count": 74,
   "metadata": {},
   "outputs": [
    {
     "data": {
      "text/html": [
       "<ol class=list-inline>\n",
       "\t<li>5000</li>\n",
       "\t<li>4060</li>\n",
       "</ol>\n"
      ],
      "text/latex": [
       "\\begin{enumerate*}\n",
       "\\item 5000\n",
       "\\item 4060\n",
       "\\end{enumerate*}\n"
      ],
      "text/markdown": [
       "1. 5000\n",
       "2. 4060\n",
       "\n",
       "\n"
      ],
      "text/plain": [
       "[1] 5000 4060"
      ]
     },
     "metadata": {},
     "output_type": "display_data"
    }
   ],
   "source": [
    "dim(model2$samples$phi)"
   ]
  },
  {
   "cell_type": "code",
   "execution_count": 75,
   "metadata": {},
   "outputs": [],
   "source": [
    "## Uncomment this if independent random effect is defined per cell \n",
    "## i.e. dim(model2$samples$zeta) == dim(model2$samples$phi)\n",
    "#sample.re <- t(model2$samples$phi + model2$samples$zeta)"
   ]
  },
  {
   "cell_type": "code",
   "execution_count": 76,
   "metadata": {},
   "outputs": [],
   "source": [
    "## Uncomment this if independent random effect is defined per process\n",
    "## i.e. dim(model2$samples$zeta)[1] == 2 (one for each process)\n",
    "sample.re.S <- model2$samples$phi + model2$samples$zeta[,1]\n",
    "sample.re.P <- model2$samples$phi + model2$samples$zeta[,2]\n",
    "#dim(model2$samples$fitted) = has double the number of cells (i.e. one per process)\n",
    "post.sample = data.frame(model2$samples$fitted)\n",
    "sample.S <- post.sample[,1:nK]\n",
    "sample.P <- post.sample[,(nK +1) : (2*nK) ]"
   ]
  },
  {
   "cell_type": "code",
   "execution_count": 77,
   "metadata": {},
   "outputs": [
    {
     "data": {
      "text/html": [
       "<ol class=list-inline>\n",
       "\t<li>5000</li>\n",
       "\t<li>8120</li>\n",
       "</ol>\n"
      ],
      "text/latex": [
       "\\begin{enumerate*}\n",
       "\\item 5000\n",
       "\\item 8120\n",
       "\\end{enumerate*}\n"
      ],
      "text/markdown": [
       "1. 5000\n",
       "2. 8120\n",
       "\n",
       "\n"
      ],
      "text/plain": [
       "[1] 5000 8120"
      ]
     },
     "metadata": {},
     "output_type": "display_data"
    }
   ],
   "source": [
    "dim(post.sample)"
   ]
  },
  {
   "cell_type": "code",
   "execution_count": 78,
   "metadata": {},
   "outputs": [],
   "source": [
    "sample.PS <- sample.S * sample.P"
   ]
  },
  {
   "cell_type": "code",
   "execution_count": 79,
   "metadata": {},
   "outputs": [
    {
     "data": {
      "text/html": [
       "4060"
      ],
      "text/latex": [
       "4060"
      ],
      "text/markdown": [
       "4060"
      ],
      "text/plain": [
       "[1] 4060"
      ]
     },
     "metadata": {},
     "output_type": "display_data"
    }
   ],
   "source": [
    "length(sample.PS)"
   ]
  },
  {
   "cell_type": "code",
   "execution_count": 80,
   "metadata": {},
   "outputs": [],
   "source": [
    "### Bernoulli sampling\n",
    "pss  <- post.sample %>% mutate_all(function(p) rbernoulli(1,p))\n",
    "## divide samples for S and P according to the order given up\n",
    "pred.S <- pss[,1:nK]\n",
    "pred.P <- pss[,(nK +1) : (2*nK) ]\n",
    "nsample <- nrow(pred.S)\n",
    "ProbS <- colSums(pred.S) / nsample\n",
    "ProbP <- colSums(pred.P) / nsample\n",
    "ProbPS = ProbP * ProbS"
   ]
  },
  {
   "cell_type": "markdown",
   "metadata": {},
   "source": [
    "###  Reduce to tails and means"
   ]
  },
  {
   "cell_type": "code",
   "execution_count": 81,
   "metadata": {},
   "outputs": [],
   "source": [
    "P = getUpperLowerCI(sample.P,prefix = 'P',MARGIN = 2)\n",
    "S = getUpperLowerCI(sample.S,prefix = 'S',MARGIN = 2)\n",
    "PS = getUpperLowerCI(sample.PS,prefix = 'PS',MARGIN = 2)\n",
    "re.S = getUpperLowerCI(sample.re.S,prefix = 'reS',MARGIN = 2)\n",
    "re.P = getUpperLowerCI(sample.re.P,prefix = 'reP',MARGIN = 2)\n",
    "phi = getUpperLowerCI(model2$samples$phi,prefix = 'phi',MARGIN = 2)"
   ]
  },
  {
   "cell_type": "code",
   "execution_count": 82,
   "metadata": {},
   "outputs": [],
   "source": [
    "chain <- cbind(TDF$cellids,phi,re.S,re.P,PS,P,S,ProbP,ProbS,ProbPS)"
   ]
  },
  {
   "cell_type": "code",
   "execution_count": 83,
   "metadata": {},
   "outputs": [],
   "source": [
    "## Save to posterity\n",
    "file_ = '/outputs/presence_only_models/modelCAR2bis.csv'\n",
    "write.csv(chain,file_)"
   ]
  },
  {
   "cell_type": "code",
   "execution_count": null,
   "metadata": {},
   "outputs": [],
   "source": []
  },
  {
   "cell_type": "code",
   "execution_count": null,
   "metadata": {},
   "outputs": [],
   "source": []
  },
  {
   "cell_type": "code",
   "execution_count": null,
   "metadata": {},
   "outputs": [],
   "source": []
  },
  {
   "cell_type": "code",
   "execution_count": null,
   "metadata": {},
   "outputs": [],
   "source": []
  },
  {
   "cell_type": "code",
   "execution_count": null,
   "metadata": {},
   "outputs": [],
   "source": []
  },
  {
   "cell_type": "code",
   "execution_count": null,
   "metadata": {},
   "outputs": [],
   "source": []
  },
  {
   "cell_type": "code",
   "execution_count": null,
   "metadata": {},
   "outputs": [],
   "source": []
  },
  {
   "cell_type": "code",
   "execution_count": null,
   "metadata": {},
   "outputs": [],
   "source": []
  },
  {
   "cell_type": "code",
   "execution_count": null,
   "metadata": {},
   "outputs": [],
   "source": []
  },
  {
   "cell_type": "markdown",
   "metadata": {},
   "source": [
    "### Extract and export Random Effects in the shape of raw sample"
   ]
  },
  {
   "cell_type": "code",
   "execution_count": 188,
   "metadata": {},
   "outputs": [
    {
     "data": {
      "text/plain": [
       "Markov Chain Monte Carlo (MCMC) output:\n",
       "Start = 1 \n",
       "End = 1 \n",
       "Thinning interval = 1 \n",
       "[1] NA"
      ]
     },
     "metadata": {},
     "output_type": "display_data"
    }
   ],
   "source": [
    "model2$samples$zeta"
   ]
  },
  {
   "cell_type": "code",
   "execution_count": null,
   "metadata": {},
   "outputs": [],
   "source": []
  },
  {
   "cell_type": "code",
   "execution_count": 155,
   "metadata": {},
   "outputs": [
    {
     "ename": "ERROR",
     "evalue": "Error in model2$samples$phi + model2$samples$zeta: non-conformable arrays\n",
     "output_type": "error",
     "traceback": [
      "Error in model2$samples$phi + model2$samples$zeta: non-conformable arrays\nTraceback:\n",
      "1. t(model2$samples$phi + model2$samples$zeta)"
     ]
    }
   ],
   "source": [
    "\n",
    "sample.re <- t(model2$samples$phi + model2$samples$zeta)\n",
    "re.chain <- cbind(TDF$cellids,sample.re)\n",
    "file2 <- '/outputs/presence_only_models/modelCAR_model2_randomeffect_multilevel.csv'\n",
    "write.csv(re.chain,file2)"
   ]
  },
  {
   "cell_type": "code",
   "execution_count": 166,
   "metadata": {},
   "outputs": [],
   "source": [
    "sample.re <- t(model2$samples$phi)\n",
    "re.chain <- cbind(TDF$cellids,sample.re)\n",
    "file2 <- '/outputs/presence_only_models/modelCAR_model2_phi_multilevel.csv'\n",
    "write.csv(re.chain,file2)"
   ]
  },
  {
   "cell_type": "code",
   "execution_count": 167,
   "metadata": {},
   "outputs": [
    {
     "name": "stderr",
     "output_type": "stream",
     "text": [
      "Warning message in cbind(TDF$cellids, sample.re):\n",
      "“number of rows of result is not a multiple of vector length (arg 1)”"
     ]
    }
   ],
   "source": [
    "sample.re <- t(model2$samples$zeta)\n",
    "re.chain <- cbind(TDF$cellids,sample.re)\n",
    "file2 <- '/outputs/presence_only_models/modelCAR_model2_zeta_multilevel.csv'\n",
    "write.csv(re.chain,file2)"
   ]
  },
  {
   "cell_type": "code",
   "execution_count": 168,
   "metadata": {},
   "outputs": [],
   "source": [
    "## P and S\n",
    "## divide samples for S and P according to the order given up\n",
    "fitted = model2$fitted.values\n",
    "S <- fitted[1:nK]\n",
    "P <- fitted[(nK +1) : (2*nK) ]\n",
    "chain = cbind(TDF$cellids,S,P)\n",
    "file_ = '/outputs/presence_only_models/modelCAR_model2_PS_multilevel.csv'\n",
    "write.csv(chain,file_)\n"
   ]
  },
  {
   "cell_type": "markdown",
   "metadata": {},
   "source": [
    "## Diagnostics, Mr. Gelmans, et.al"
   ]
  },
  {
   "cell_type": "raw",
   "metadata": {},
   "source": [
    "gelman.diag(results$S$samples$sigma2)"
   ]
  },
  {
   "cell_type": "code",
   "execution_count": null,
   "metadata": {},
   "outputs": [],
   "source": []
  },
  {
   "cell_type": "markdown",
   "metadata": {},
   "source": [
    "## Sample the posterior "
   ]
  },
  {
   "cell_type": "code",
   "execution_count": 72,
   "metadata": {},
   "outputs": [],
   "source": []
  },
  {
   "cell_type": "code",
   "execution_count": null,
   "metadata": {},
   "outputs": [],
   "source": []
  },
  {
   "cell_type": "code",
   "execution_count": null,
   "metadata": {},
   "outputs": [],
   "source": []
  },
  {
   "cell_type": "code",
   "execution_count": null,
   "metadata": {},
   "outputs": [],
   "source": []
  },
  {
   "cell_type": "code",
   "execution_count": 165,
   "metadata": {},
   "outputs": [],
   "source": [
    "chain = cbind(TDF$cellids,probpres,prob_pps,prob_pss)\n",
    "file_ = '/outputs/presence_only_models/modelCAR_model2_fitted_multilevel.csv'\n",
    "write.csv(chain,file_)"
   ]
  },
  {
   "cell_type": "code",
   "execution_count": null,
   "metadata": {},
   "outputs": [],
   "source": []
  },
  {
   "cell_type": "raw",
   "metadata": {},
   "source": [
    "## UNcomment if using non na data\n",
    "#sam_idx_nan <- which(is.na(DataFrame$sample))\n",
    "\n",
    "nprobpres <- rep(NA,length(DataFrame))\n",
    "nprob_pps <- rep(NA,length(DataFrame))\n",
    "nprob_pss <- rep(NA,length(DataFrame))\n",
    "sam_idx_non_nan <- which(!is.na(DataFrame$sample))\n",
    "\n",
    "nprobpres[sam_idx_non_nan] <- probpres\n",
    "nprob_pps[sam_idx_non_nan] <- prob_pps\n",
    "nprob_pss[sam_idx_non_nan] <- prob_pss\n",
    "chain = cbind(TDF$cell_ids,nprobpres,nprob_pps,nprob_pss)"
   ]
  },
  {
   "cell_type": "code",
   "execution_count": null,
   "metadata": {},
   "outputs": [],
   "source": []
  },
  {
   "cell_type": "markdown",
   "metadata": {},
   "source": [
    "## Posterior análisis with a varying C $\\tau^2, \\sigma^2$ denominator"
   ]
  },
  {
   "cell_type": "code",
   "execution_count": 609,
   "metadata": {},
   "outputs": [],
   "source": [
    "# Read the file\n",
    "bfile = '/outputs/presence_only_models/joint-model2-benchmark-denominator.csv'\n",
    "res <- read.csv(bfile)"
   ]
  },
  {
   "cell_type": "code",
   "execution_count": 8,
   "metadata": {},
   "outputs": [
    {
     "data": {
      "image/png": "[encoded data removed]",
      "text/plain": [
       "plot without title"
      ]
     },
     "metadata": {},
     "output_type": "display_data"
    }
   ],
   "source": []
  },
  {
   "cell_type": "code",
   "execution_count": null,
   "metadata": {},
   "outputs": [],
   "source": []
  },
  {
   "cell_type": "raw",
   "metadata": {},
   "source": [
    "\n",
    "#### THIS IS THE Original code, now put in \"model2_multilevel/run-joint-multilevel.R\"\n",
    "## Import code:\n",
    "setwd('/apps/external_plugins/biospytial_rwrapper/biospytial.rwrapper/R/')\n",
    "rm(list=ls())                                                                                     \n",
    "source(\"init_data.R\")                                                                             \n",
    "# load the building function                                                                      \n",
    "#source(\"joint.binomial.bymCAR.R\")\n",
    "\n",
    "S <- model.frame(formula_sample, DataFrame,na.action='na.pass')\n",
    "P <- model.frame(formula_presence, DataFrame,,na.action='na.pass')\n",
    "\n",
    "\n",
    "SX <- select(S, -c(1))\n",
    "PX <- select(P, -c(1))\n",
    "Sy <- select(S, c(1))\n",
    "Py <- select(P, c(1))\n",
    "\n",
    "names(Sy) <- 'response'\n",
    "names(Py) <- names(Sy)\n",
    "Y = rbind(Sy,Py)\n",
    "\n",
    "### Let's build covariance matrix\n",
    "T1 <- matrix(rep(0,4), ncol = 2)\n",
    "T2 <- matrix(rep(0,4), ncol = 2)\n",
    "T1[1,1] <- 1\n",
    "T2[2,2] <- 1\n",
    "\n",
    "X <- data.frame((T1 %x% as.matrix(SX)) + (T2 %x% as.matrix(PX)))\n",
    "names(X) <- c(names(SX),names(PX))\n",
    "\n",
    "DD <- cbind(Y,X)\n",
    "\n",
    "nK <- dim(M_bis)[1]\n",
    "ida <- data.frame(seq(nK))\n",
    "idarea <- unlist(rbind(ida,ida))\n",
    "\n",
    "corx <- rep(x = 1,times = nK)\n",
    "cory <- rep(x = 2,times = nK)\n",
    "\n",
    "indre <- c(corx,cory)\n",
    "\n",
    "formula <- response ~ Disttoroadm + Populationm + Elevationm + MeanTempm\n",
    "\n",
    "## now, assuming that the order in M_bis is the same as in cellids (OOOORDEEER, not value)\n",
    "## Run the model\n",
    "trials = rep(1,2 * nK)\n",
    "burnin = 29000\n",
    "n.sample = 30000\n",
    "thin = 1\n",
    "model2 <- S.CARmultilevel(formula,family = 'binomial',\n",
    "                          trials=trials, \n",
    "                          W=M_bis, \n",
    "                          ind.area = idarea,\n",
    "                         ind.re=factor(i),\n",
    "                          rho = 1,\n",
    "                          burnin = burnin,\n",
    "                          n.sample = n.sample,\n",
    "                          data = DD\n",
    "                         )"
   ]
  }
 ],
 "metadata": {
  "kernelspec": {
   "display_name": "R",
   "language": "R",
   "name": "ir"
  },
  "language_info": {
   "codemirror_mode": "r",
   "file_extension": ".r",
   "mimetype": "text/x-r-source",
   "name": "R",
   "pygments_lexer": "r",
   "version": "3.5.1"
  }
 },
 "nbformat": 4,
 "nbformat_minor": 2
}
