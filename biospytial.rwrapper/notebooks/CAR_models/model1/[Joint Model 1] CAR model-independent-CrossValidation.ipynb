{
 "cells": [
  {
   "cell_type": "markdown",
   "metadata": {},
   "source": [
    "# A joint model CAR (model 1) \n",
    "# With Crossvalidation\n",
    "## Two independent processes\n",
    " $$ [P , S ] = [P ] [ S ] $$"
   ]
  },
  {
   "cell_type": "code",
   "execution_count": 1,
   "metadata": {},
   "outputs": [],
   "source": [
    "## Import code:\n",
    "setwd('/apps/external_plugins/biospytial_rwrapper/biospytial.rwrapper/R/')"
   ]
  },
  {
   "cell_type": "code",
   "execution_count": 2,
   "metadata": {},
   "outputs": [
    {
     "name": "stderr",
     "output_type": "stream",
     "text": [
      "Loading required package: MASS\n",
      "Loading required package: Rcpp\n",
      "\n",
      "Attaching package: ‘dplyr’\n",
      "\n",
      "The following object is masked from ‘package:MASS’:\n",
      "\n",
      "    select\n",
      "\n",
      "The following objects are masked from ‘package:stats’:\n",
      "\n",
      "    filter, lag\n",
      "\n",
      "The following objects are masked from ‘package:base’:\n",
      "\n",
      "    intersect, setdiff, setequal, union\n",
      "\n",
      "Warning message:\n",
      "“The `printer` argument is deprecated as of rlang 0.3.0.\n",
      "This warning is displayed once per session.”"
     ]
    }
   ],
   "source": [
    "rm(list=ls())                                                                                     \n",
    "source(\"init_data.R\")                                                                             \n",
    "# load the building function                                                                      \n",
    "source(\"joint.binomial.bymCARModel1.R\")"
   ]
  },
  {
   "cell_type": "markdown",
   "metadata": {},
   "source": [
    "Cross validation of CAR models is not straight forward due to its spatial structure (lattice). \n",
    "The approach for this would be with data augmentation.\n",
    "removing the value for validate.data and change it o NA.\n",
    "\n",
    "After the model, I'll extract the resulting probability and perform a simple ROC curve.\n"
   ]
  },
  {
   "cell_type": "code",
   "execution_count": 3,
   "metadata": {},
   "outputs": [
    {
     "name": "stderr",
     "output_type": "stream",
     "text": [
      "Type 'citation(\"pROC\")' for a citation.\n",
      "\n",
      "Attaching package: ‘pROC’\n",
      "\n",
      "The following objects are masked from ‘package:stats’:\n",
      "\n",
      "    cov, smooth, var\n",
      "\n",
      "Loading required package: lattice\n",
      "Loading required package: ggplot2\n",
      "\n",
      "Attaching package: ‘caret’\n",
      "\n",
      "The following object is masked from ‘package:purrr’:\n",
      "\n",
      "    lift\n",
      "\n"
     ]
    },
    {
     "name": "stdout",
     "output_type": "stream",
     "text": [
      "Setting up the model.\n",
      "Performing burnin period for Sample Effort Model \n",
      "  |======================================================================| 100%\n",
      "Summarising results.\n",
      "Finished in  52.5 seconds.\n",
      "Setting up the model.\n",
      "Performing burnin period for Presence model \n",
      "  |======================================================================| 100%\n",
      "Summarising results.\n",
      "Finished in  52.4 seconds.\n",
      "Sampling from the joint model 10000 post burnin and thinned (if requested) samples.\n",
      "  |======================================================================| 100%\n",
      "[1] \"Compiling summary for S process\"\n",
      "[1] \"Compiling summary for the P process\"\n"
     ]
    },
    {
     "name": "stderr",
     "output_type": "stream",
     "text": [
      "Setting levels: control = 0, case = 1\n",
      "Setting direction: controls < cases\n"
     ]
    },
    {
     "name": "stdout",
     "output_type": "stream",
     "text": [
      "Setting up the model.\n",
      "Performing burnin period for Sample Effort Model \n",
      "  |======================================================================| 100%\n",
      "Summarising results.\n",
      "Finished in  52.3 seconds.\n",
      "Setting up the model.\n",
      "Performing burnin period for Presence model \n",
      "  |======================================================================| 100%\n",
      "Summarising results.\n",
      "Finished in  51.7 seconds.\n",
      "Sampling from the joint model 10000 post burnin and thinned (if requested) samples.\n",
      "  |======================================================================| 100%\n",
      "[1] \"Compiling summary for S process\"\n",
      "[1] \"Compiling summary for the P process\"\n"
     ]
    },
    {
     "name": "stderr",
     "output_type": "stream",
     "text": [
      "Setting levels: control = 0, case = 1\n",
      "Setting direction: controls < cases\n"
     ]
    },
    {
     "name": "stdout",
     "output_type": "stream",
     "text": [
      "Setting up the model.\n",
      "Performing burnin period for Sample Effort Model \n",
      "  |======================================================================| 100%\n",
      "Summarising results.\n",
      "Finished in  51.5 seconds.\n",
      "Setting up the model.\n",
      "Performing burnin period for Presence model \n",
      "  |======================================================================| 100%\n",
      "Summarising results.\n",
      "Finished in  52.1 seconds.\n",
      "Sampling from the joint model 10000 post burnin and thinned (if requested) samples.\n",
      "  |======================================================================| 100%\n",
      "[1] \"Compiling summary for S process\"\n",
      "[1] \"Compiling summary for the P process\"\n"
     ]
    },
    {
     "name": "stderr",
     "output_type": "stream",
     "text": [
      "Setting levels: control = 0, case = 1\n",
      "Setting direction: controls < cases\n"
     ]
    },
    {
     "name": "stdout",
     "output_type": "stream",
     "text": [
      "Setting up the model.\n",
      "Performing burnin period for Sample Effort Model \n",
      "  |======================================================================| 100%\n",
      "Summarising results.\n",
      "Finished in  51.6 seconds.\n",
      "Setting up the model.\n",
      "Performing burnin period for Presence model \n",
      "  |======================================================================| 100%\n",
      "Summarising results.\n",
      "Finished in  51.7 seconds.\n",
      "Sampling from the joint model 10000 post burnin and thinned (if requested) samples.\n",
      "  |======================================================================| 100%\n",
      "[1] \"Compiling summary for S process\"\n",
      "[1] \"Compiling summary for the P process\"\n"
     ]
    },
    {
     "name": "stderr",
     "output_type": "stream",
     "text": [
      "Setting levels: control = 0, case = 1\n",
      "Setting direction: controls < cases\n"
     ]
    },
    {
     "name": "stdout",
     "output_type": "stream",
     "text": [
      "Setting up the model.\n",
      "Performing burnin period for Sample Effort Model \n",
      "  |======================================================================| 100%\n",
      "Summarising results.\n",
      "Finished in  52.7 seconds.\n",
      "Setting up the model.\n",
      "Performing burnin period for Presence model \n",
      "  |======================================================================| 100%\n",
      "Summarising results.\n",
      "Finished in  52.2 seconds.\n",
      "Sampling from the joint model 10000 post burnin and thinned (if requested) samples.\n",
      "  |======================================================================| 100%\n",
      "[1] \"Compiling summary for S process\"\n",
      "[1] \"Compiling summary for the P process\"\n"
     ]
    },
    {
     "name": "stderr",
     "output_type": "stream",
     "text": [
      "Setting levels: control = 0, case = 1\n",
      "Setting direction: controls < cases\n"
     ]
    },
    {
     "name": "stdout",
     "output_type": "stream",
     "text": [
      "Setting up the model.\n",
      "Performing burnin period for Sample Effort Model \n",
      "  |======================================================================| 100%\n",
      "Summarising results.\n",
      "Finished in  52.5 seconds.\n",
      "Setting up the model.\n",
      "Performing burnin period for Presence model \n",
      "  |======================================================================| 100%\n",
      "Summarising results.\n",
      "Finished in  51.3 seconds.\n",
      "Sampling from the joint model 10000 post burnin and thinned (if requested) samples.\n",
      "  |======================================================================| 100%\n",
      "[1] \"Compiling summary for S process\"\n",
      "[1] \"Compiling summary for the P process\"\n"
     ]
    },
    {
     "name": "stderr",
     "output_type": "stream",
     "text": [
      "Setting levels: control = 0, case = 1\n",
      "Setting direction: controls < cases\n"
     ]
    },
    {
     "name": "stdout",
     "output_type": "stream",
     "text": [
      "Setting up the model.\n",
      "Performing burnin period for Sample Effort Model \n",
      "  |======================================================================| 100%\n",
      "Summarising results.\n",
      "Finished in  52.9 seconds.\n",
      "Setting up the model.\n",
      "Performing burnin period for Presence model \n",
      "  |======================================================================| 100%\n",
      "Summarising results.\n",
      "Finished in  51.4 seconds.\n",
      "Sampling from the joint model 10000 post burnin and thinned (if requested) samples.\n",
      "  |======================================================================| 100%\n",
      "[1] \"Compiling summary for S process\"\n",
      "[1] \"Compiling summary for the P process\"\n"
     ]
    },
    {
     "name": "stderr",
     "output_type": "stream",
     "text": [
      "Setting levels: control = 0, case = 1\n",
      "Setting direction: controls < cases\n"
     ]
    }
   ],
   "source": [
    "## MCMC parameters burnin and sample to be consistent with the other models\n",
    "#n.sample = 10000                                                                                  \n",
    "#burnin=10000                                                                                      \n",
    "#postburnin = burnin +1000                                                                         \n",
    "\n",
    "n.sample = 10000                                                                                 \n",
    "burnin=5000                                                                                      \n",
    "postburnin = burnin +1000                                                                         \n",
    "\n",
    "\n",
    "thin = 1                                                                                          \n",
    "verbose = TRUE                           \n",
    "\n",
    "## Make ROC curve\n",
    "library(pROC)\n",
    "library('caret')\n",
    "#trains = createFolds(y = DataFrame$species, k=7, returnTrain = TRUE)\n",
    "validate = createFolds(y = DataFrame$species, k=7, returnTrain = FALSE)\n",
    "\n",
    "DataFrame$presences <- DataFrame$species\n",
    "\n",
    "l <- list()\n",
    "i = 1\n",
    "DataFrame$predicted_values_CV <- NA\n",
    "for (fold in validate) {\n",
    "    \n",
    "    observed.presences <- DataFrame$species[fold]\n",
    "    ## Substitue by NA\n",
    "    DataFrame$species[fold] <- NA\n",
    "    results  <- joint.binomial.bymCARModel1(formula_S = formula_sample, \n",
    "                                        formula_P = formula_presence,\n",
    "                                        n.sample=n.sample,\n",
    "                                        data = DataFrame,\n",
    "                                        burnin=burnin,\n",
    "                                        postburnin=postburnin,\n",
    "                                        thin=thin,\n",
    "                                        verbose=TRUE) \n",
    "\n",
    "    DataFrame$species <- DataFrame$presences\n",
    "    ## Return original values\n",
    "    DataFrame$predicted_values_CV[fold] <- results$fitted.values[fold]\n",
    "    predicted.probability = results$fitted.values[fold]\n",
    "    pROC_obj <- roc(observed.presences,predicted.probability)\n",
    "\n",
    "    l[[i]] <- pROC_obj\n",
    "    i = i + 1\n",
    "}"
   ]
  },
  {
   "cell_type": "code",
   "execution_count": 4,
   "metadata": {},
   "outputs": [
    {
     "name": "stderr",
     "output_type": "stream",
     "text": [
      "Setting levels: control = 0, case = 1\n",
      "Setting direction: controls < cases\n",
      "Warning message in plot.ci.se(sens.ci, type = \"shape\", col = \"lightblue\"):\n",
      "“Low definition shape.”"
     ]
    },
    {
     "data": {
      "image/png": "[encoded data removed]",
      "text/plain": [
       "plot without title"
      ]
     },
     "metadata": {},
     "output_type": "display_data"
    }
   ],
   "source": [
    "pROC_obj <- roc(DataFrame$presences,DataFrame$predicted_values_CV,\n",
    "               smoothed= TRUE,\n",
    "               ci = TRUE, ci.alpha=0.9, stratified=FALSE,\n",
    "               plot=TRUE, auc.polygon=TRUE, max.auc.polygon=TRUE, grid=TRUE,\n",
    "               print.auc=TRUE, show.thres=TRUE)\n",
    "sens.ci <- ci.se(pROC_obj)\n",
    "plot(sens.ci,type=\"shape\",col=\"lightblue\")\n",
    "plot(sens.ci, type=\"bars\")\n",
    "\n"
   ]
  },
  {
   "cell_type": "markdown",
   "metadata": {},
   "source": [
    "## Generate results"
   ]
  },
  {
   "cell_type": "code",
   "execution_count": 2,
   "metadata": {},
   "outputs": [
    {
     "ename": "ERROR",
     "evalue": "Error in joint.binomial.bymCARModel1(formula_S = formula_sample, formula_P = formula_presence, : could not find function \"joint.binomial.bymCARModel1\"\n",
     "output_type": "error",
     "traceback": [
      "Error in joint.binomial.bymCARModel1(formula_S = formula_sample, formula_P = formula_presence, : could not find function \"joint.binomial.bymCARModel1\"\nTraceback:\n"
     ]
    }
   ],
   "source": [
    "## Complete model\n",
    "results  <- joint.binomial.bymCARModel1(formula_S = formula_sample, \n",
    "                                        formula_P = formula_presence,\n",
    "                                        n.sample=n.sample,\n",
    "                                        data = DataFrame,\n",
    "                                        burnin=burnin,\n",
    "                                        postburnin=postburnin,\n",
    "                                        thin=thin,\n",
    "                                        verbose=TRUE)"
   ]
  },
  {
   "cell_type": "code",
   "execution_count": 1,
   "metadata": {},
   "outputs": [
    {
     "ename": "ERROR",
     "evalue": "Error in eval(expr, envir, enclos): object 'results' not found\n",
     "output_type": "error",
     "traceback": [
      "Error in eval(expr, envir, enclos): object 'results' not found\nTraceback:\n"
     ]
    }
   ],
   "source": [
    "results$summary.results"
   ]
  },
  {
   "cell_type": "code",
   "execution_count": 29,
   "metadata": {},
   "outputs": [
    {
     "data": {
      "text/html": [
       "<table>\n",
       "<thead><tr><th></th><th scope=col>Median</th><th scope=col>2.5%</th><th scope=col>97.5%</th><th scope=col>n.sample</th><th scope=col>% accept</th><th scope=col>n.effective</th><th scope=col>Geweke.diag</th></tr></thead>\n",
       "<tbody>\n",
       "\t<tr><th scope=row>(Intercept)</th><td> 2.3674</td><td> 0.7601</td><td> 5.1300</td><td>10000  </td><td> 60.3  </td><td>   2.6 </td><td> 0.0   </td></tr>\n",
       "\t<tr><th scope=row>Disttoroadm</th><td>-0.0002</td><td>-0.0004</td><td>-0.0001</td><td>10000  </td><td> 60.3  </td><td>1249.6 </td><td> 0.4   </td></tr>\n",
       "\t<tr><th scope=row>Populationm</th><td> 0.0000</td><td>-0.0001</td><td> 0.0001</td><td>10000  </td><td> 60.3  </td><td>1625.5 </td><td> 0.6   </td></tr>\n",
       "\t<tr><th scope=row>tau2</th><td> 5.9817</td><td> 3.9310</td><td>11.4287</td><td>10000  </td><td>100.0  </td><td>  11.4 </td><td>-1.4   </td></tr>\n",
       "\t<tr><th scope=row>sigma2</th><td> 0.1538</td><td> 0.0550</td><td> 1.1142</td><td>10000  </td><td>100.0  </td><td>   2.7 </td><td>-1.6   </td></tr>\n",
       "</tbody>\n",
       "</table>\n"
      ],
      "text/latex": [
       "\\begin{tabular}{r|lllllll}\n",
       "  & Median & 2.5\\% & 97.5\\% & n.sample & \\% accept & n.effective & Geweke.diag\\\\\n",
       "\\hline\n",
       "\t(Intercept) &  2.3674 &  0.7601 &  5.1300 & 10000   &  60.3   &    2.6  &  0.0   \\\\\n",
       "\tDisttoroadm & -0.0002 & -0.0004 & -0.0001 & 10000   &  60.3   & 1249.6  &  0.4   \\\\\n",
       "\tPopulationm &  0.0000 & -0.0001 &  0.0001 & 10000   &  60.3   & 1625.5  &  0.6   \\\\\n",
       "\ttau2 &  5.9817 &  3.9310 & 11.4287 & 10000   & 100.0   &   11.4  & -1.4   \\\\\n",
       "\tsigma2 &  0.1538 &  0.0550 &  1.1142 & 10000   & 100.0   &    2.7  & -1.6   \\\\\n",
       "\\end{tabular}\n"
      ],
      "text/markdown": [
       "\n",
       "| <!--/--> | Median | 2.5% | 97.5% | n.sample | % accept | n.effective | Geweke.diag | \n",
       "|---|---|---|---|---|\n",
       "| (Intercept) |  2.3674 |  0.7601 |  5.1300 | 10000   |  60.3   |    2.6  |  0.0    | \n",
       "| Disttoroadm | -0.0002 | -0.0004 | -0.0001 | 10000   |  60.3   | 1249.6  |  0.4    | \n",
       "| Populationm |  0.0000 | -0.0001 |  0.0001 | 10000   |  60.3   | 1625.5  |  0.6    | \n",
       "| tau2 |  5.9817 |  3.9310 | 11.4287 | 10000   | 100.0   |   11.4  | -1.4    | \n",
       "| sigma2 |  0.1538 |  0.0550 |  1.1142 | 10000   | 100.0   |    2.7  | -1.6    | \n",
       "\n",
       "\n"
      ],
      "text/plain": [
       "            Median  2.5%    97.5%   n.sample % accept n.effective Geweke.diag\n",
       "(Intercept)  2.3674  0.7601  5.1300 10000     60.3       2.6       0.0       \n",
       "Disttoroadm -0.0002 -0.0004 -0.0001 10000     60.3    1249.6       0.4       \n",
       "Populationm  0.0000 -0.0001  0.0001 10000     60.3    1625.5       0.6       \n",
       "tau2         5.9817  3.9310 11.4287 10000    100.0      11.4      -1.4       \n",
       "sigma2       0.1538  0.0550  1.1142 10000    100.0       2.7      -1.6       "
      ]
     },
     "metadata": {},
     "output_type": "display_data"
    }
   ],
   "source": [
    "results$S$summary.results"
   ]
  },
  {
   "cell_type": "code",
   "execution_count": 30,
   "metadata": {},
   "outputs": [
    {
     "data": {
      "text/html": [
       "<table>\n",
       "<thead><tr><th></th><th scope=col>Median</th><th scope=col>2.5%</th><th scope=col>97.5%</th><th scope=col>n.sample</th><th scope=col>% accept</th><th scope=col>n.effective</th><th scope=col>Geweke.diag</th></tr></thead>\n",
       "<tbody>\n",
       "\t<tr><th scope=row>(Intercept)</th><td>-3.5720</td><td>-5.9809</td><td>-0.9618</td><td>10000  </td><td> 63.7  </td><td>  9.4  </td><td>-2.3   </td></tr>\n",
       "\t<tr><th scope=row>Elevationm</th><td> 0.0001</td><td>-0.0002</td><td> 0.0005</td><td>10000  </td><td> 63.7  </td><td>287.2  </td><td> 0.3   </td></tr>\n",
       "\t<tr><th scope=row>MeanTempm</th><td>-0.0005</td><td>-0.0009</td><td> 0.0000</td><td>10000  </td><td> 63.7  </td><td>109.7  </td><td> 1.3   </td></tr>\n",
       "\t<tr><th scope=row>tau2</th><td>19.4756</td><td>13.1363</td><td>39.6048</td><td>10000  </td><td>100.0  </td><td>  8.0  </td><td>-1.3   </td></tr>\n",
       "\t<tr><th scope=row>sigma2</th><td> 0.0641</td><td> 0.0280</td><td> 0.1470</td><td>10000  </td><td>100.0  </td><td>  4.6  </td><td> 3.3   </td></tr>\n",
       "</tbody>\n",
       "</table>\n"
      ],
      "text/latex": [
       "\\begin{tabular}{r|lllllll}\n",
       "  & Median & 2.5\\% & 97.5\\% & n.sample & \\% accept & n.effective & Geweke.diag\\\\\n",
       "\\hline\n",
       "\t(Intercept) & -3.5720 & -5.9809 & -0.9618 & 10000   &  63.7   &   9.4   & -2.3   \\\\\n",
       "\tElevationm &  0.0001 & -0.0002 &  0.0005 & 10000   &  63.7   & 287.2   &  0.3   \\\\\n",
       "\tMeanTempm & -0.0005 & -0.0009 &  0.0000 & 10000   &  63.7   & 109.7   &  1.3   \\\\\n",
       "\ttau2 & 19.4756 & 13.1363 & 39.6048 & 10000   & 100.0   &   8.0   & -1.3   \\\\\n",
       "\tsigma2 &  0.0641 &  0.0280 &  0.1470 & 10000   & 100.0   &   4.6   &  3.3   \\\\\n",
       "\\end{tabular}\n"
      ],
      "text/markdown": [
       "\n",
       "| <!--/--> | Median | 2.5% | 97.5% | n.sample | % accept | n.effective | Geweke.diag | \n",
       "|---|---|---|---|---|\n",
       "| (Intercept) | -3.5720 | -5.9809 | -0.9618 | 10000   |  63.7   |   9.4   | -2.3    | \n",
       "| Elevationm |  0.0001 | -0.0002 |  0.0005 | 10000   |  63.7   | 287.2   |  0.3    | \n",
       "| MeanTempm | -0.0005 | -0.0009 |  0.0000 | 10000   |  63.7   | 109.7   |  1.3    | \n",
       "| tau2 | 19.4756 | 13.1363 | 39.6048 | 10000   | 100.0   |   8.0   | -1.3    | \n",
       "| sigma2 |  0.0641 |  0.0280 |  0.1470 | 10000   | 100.0   |   4.6   |  3.3    | \n",
       "\n",
       "\n"
      ],
      "text/plain": [
       "            Median  2.5%    97.5%   n.sample % accept n.effective Geweke.diag\n",
       "(Intercept) -3.5720 -5.9809 -0.9618 10000     63.7      9.4       -2.3       \n",
       "Elevationm   0.0001 -0.0002  0.0005 10000     63.7    287.2        0.3       \n",
       "MeanTempm   -0.0005 -0.0009  0.0000 10000     63.7    109.7        1.3       \n",
       "tau2        19.4756 13.1363 39.6048 10000    100.0      8.0       -1.3       \n",
       "sigma2       0.0641  0.0280  0.1470 10000    100.0      4.6        3.3       "
      ]
     },
     "metadata": {},
     "output_type": "display_data"
    }
   ],
   "source": [
    "results$P$summary.results"
   ]
  },
  {
   "cell_type": "code",
   "execution_count": 18,
   "metadata": {},
   "outputs": [],
   "source": [
    "meanfitted = results$fitted.values"
   ]
  },
  {
   "cell_type": "code",
   "execution_count": 31,
   "metadata": {},
   "outputs": [],
   "source": [
    "fitted_samples = cbind(results$S$samples$fitted,results$P$samples$fitted)"
   ]
  },
  {
   "cell_type": "code",
   "execution_count": 32,
   "metadata": {},
   "outputs": [],
   "source": [
    "post.sample_p = data.frame(results$S$samples$fitted)\n",
    "post.presence_p = data.frame(results$P$samples$fitted)\n",
    "post.joint = data.frame(results$samples$fitted.joint)"
   ]
  },
  {
   "cell_type": "code",
   "execution_count": 36,
   "metadata": {},
   "outputs": [],
   "source": [
    "pss  <- post.sample_p %>% mutate_all(function(p) rbernoulli(1,p))\n",
    "pps <- post.presence_p %>% mutate_all(function(p) rbernoulli(1,p))\n",
    "ptot <- post.joint %>% mutate_all(function(p) rbernoulli(1,p))"
   ]
  },
  {
   "cell_type": "code",
   "execution_count": 37,
   "metadata": {},
   "outputs": [],
   "source": [
    "sumpt <- colSums(ptot)\n",
    "sumps <- colSums(pss)\n",
    "sumpp <- colSums(pps)"
   ]
  },
  {
   "cell_type": "code",
   "execution_count": 38,
   "metadata": {},
   "outputs": [
    {
     "name": "stdout",
     "output_type": "stream",
     "text": [
      "[1] 10000\n"
     ]
    }
   ],
   "source": [
    "nsamples = dim(ptot)[1]\n",
    "print(nsamples)\n",
    "ProbPS <- sumpt / nsamples\n",
    "ProbP <- sumpp / nsamples\n",
    "ProbS <- sumps / nsamples"
   ]
  },
  {
   "cell_type": "code",
   "execution_count": 39,
   "metadata": {},
   "outputs": [],
   "source": [
    "## Compute independent joint distribution\n",
    "library(boot)\n",
    "\n",
    "fitted_presences = apply(results$P$samples$fitted,MARGIN=1,identity)\n",
    "fitted_sample = apply(results$S$samples$fitted,MARGIN=1,identity)\n",
    "fitted_total = apply(results$samples$fitted,MARGIN=1,identity)\n",
    "\n",
    "re_presence = apply(results$P$samples$psi,MARGIN=1,identity)\n",
    "re_sample = apply(results$S$samples$psi,MARGIN=1,identity)"
   ]
  },
  {
   "cell_type": "code",
   "execution_count": 40,
   "metadata": {},
   "outputs": [],
   "source": [
    "getUpperLowerCI <- function(fitted_sample,prefix=\"\",MARGIN=1){\n",
    "    fp = partial(quantile,probs=c(0.025,0.5,0.975))\n",
    "    quants =apply(X = fitted_sample,FUN = fp,MARGIN)\n",
    "    mfitt = apply(fitted_sample,mean,MARGIN = MARGIN)\n",
    "    vfitt = apply(fitted_sample,var,MARGIN = MARGIN)\n",
    "    new_data = cbind(t(quants),mfitt,vfitt)\n",
    "    l = as.list(c(\"q025\",\"median\",\"q0975\",\"mean\",\"variance\"))\n",
    "    nnames = lapply(l,function (x){return(paste(prefix,x,sep = '_'))})\n",
    "    colnames(new_data) = nnames\n",
    "    return(new_data)\n",
    "}\n",
    "\n",
    "P = getUpperLowerCI(fitted_presences,prefix = 'P')\n",
    "S = getUpperLowerCI(fitted_sample,prefix = 'S')\n",
    "PS = getUpperLowerCI(fitted_total,prefix = 'PS')\n",
    "Gp = getUpperLowerCI(re_presence,prefix = 'Gp')\n",
    "Gs = getUpperLowerCI(re_sample,prefix = 'Gs')\n",
    "\n"
   ]
  },
  {
   "cell_type": "code",
   "execution_count": 41,
   "metadata": {},
   "outputs": [],
   "source": [
    "## save to posterity\n",
    "# Save output sample to display in python\n",
    "## Save the complete chain trace for analysing in Python,\n",
    "#TDF = read.csv(\"/outputs/training_data_sample_puebla_p9_abies_pinophyta.csv\")\n",
    "## Order it according to the id of the cell\n",
    "## This is important because the adjancy matrix rows need to be the same\n",
    "\n",
    "## No needed because DataFrame object already loaded and without no-neighbour (i.e. same size as fitted values)\n",
    "#TDF = TDF[order(TDF$cell_ids),]\n",
    "TDF = DataFrame[order(DataFrame$cellids),]"
   ]
  },
  {
   "cell_type": "code",
   "execution_count": 43,
   "metadata": {},
   "outputs": [],
   "source": [
    "chain = cbind(TDF$cellids,Gp,Gs,P,S,PS,ProbPS,ProbP,ProbS)\n",
    "file_ = '/outputs/presence_only_models/modelCAR_model1_fitted2.csv'\n",
    "write.csv(chain,file_)"
   ]
  },
  {
   "cell_type": "code",
   "execution_count": null,
   "metadata": {},
   "outputs": [],
   "source": []
  }
 ],
 "metadata": {
  "kernelspec": {
   "display_name": "R",
   "language": "R",
   "name": "ir"
  },
  "language_info": {
   "codemirror_mode": "r",
   "file_extension": ".r",
   "mimetype": "text/x-r-source",
   "name": "R",
   "pygments_lexer": "r",
   "version": "3.5.1"
  }
 },
 "nbformat": 4,
 "nbformat_minor": 2
}
