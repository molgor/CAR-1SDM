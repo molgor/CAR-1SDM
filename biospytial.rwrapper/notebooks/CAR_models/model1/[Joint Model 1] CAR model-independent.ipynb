{
 "cells": [
  {
   "cell_type": "markdown",
   "metadata": {},
   "source": [
    "# A joint model CAR (model 1) \n",
    "## Two independent processes\n",
    " $$ [P , S ] = [P ] [ S ] $$"
   ]
  },
  {
   "cell_type": "code",
   "execution_count": 1,
   "metadata": {},
   "outputs": [],
   "source": [
    "## Import code:\n",
    "setwd('/apps/external_plugins/biospytial_rwrapper/biospytial.rwrapper/R/')"
   ]
  },
  {
   "cell_type": "code",
   "execution_count": 2,
   "metadata": {},
   "outputs": [
    {
     "name": "stderr",
     "output_type": "stream",
     "text": [
      "Loading required package: MASS\n",
      "Loading required package: Rcpp\n",
      "\n",
      "Attaching package: ‘dplyr’\n",
      "\n",
      "The following object is masked from ‘package:MASS’:\n",
      "\n",
      "    select\n",
      "\n",
      "The following objects are masked from ‘package:stats’:\n",
      "\n",
      "    filter, lag\n",
      "\n",
      "The following objects are masked from ‘package:base’:\n",
      "\n",
      "    intersect, setdiff, setequal, union\n",
      "\n"
     ]
    },
    {
     "name": "stdout",
     "output_type": "stream",
     "text": [
      "Setting up the model.\n",
      "Performing burnin period for Sample Effort Model \n",
      "  |======================================================================| 100%\n",
      "Summarising results.\n",
      "Finished in  88.9 seconds.\n",
      "Setting up the model.\n",
      "Performing burnin period for Presence model \n",
      "  |======================================================================| 100%\n",
      "Summarising results.\n",
      "Finished in  88.2 seconds.\n",
      "Sampling from the joint model 10000 post burnin and thinned (if requested) samples.\n",
      "  |======================================================================| 100%\n",
      "[1] \"Compiling summary for S process\"\n",
      "[1] \"Compiling summary for the P process\"\n"
     ]
    }
   ],
   "source": [
    "rm(list=ls())                                                                                     \n",
    "source(\"init_data.R\")                                                                             \n",
    "# load the building function                                                                      \n",
    "source(\"joint.binomial.bymCARModel1.R\")\n",
    "## Fix the burnin and sample to be consistent with the other models\n",
    "n.sample = 10000                                                                                  \n",
    "burnin=10000                                                                                      \n",
    "postburnin = burnin +1000                                                                         \n",
    "thin = 1                                                                                          \n",
    "verbose = TRUE                           \n",
    "\n",
    "results  <- joint.binomial.bymCARModel1(formula_S = formula_sample, \n",
    "                                        formula_P = formula_sample,\n",
    "                                        n.sample=n.sample,\n",
    "                                        data = DataFrame,\n",
    "                                        burnin=burnin,\n",
    "                                        postburnin=postburnin,\n",
    "                                        thin=thin,\n",
    "                                        verbose=TRUE) \n",
    "\n",
    "\n"
   ]
  },
  {
   "cell_type": "code",
   "execution_count": 3,
   "metadata": {},
   "outputs": [
    {
     "data": {
      "text/html": [
       "<table>\n",
       "<thead><tr><th></th><th scope=col>Median</th><th scope=col>2.5%</th><th scope=col>97.5%</th><th scope=col>n.sample</th><th scope=col>% accept</th><th scope=col>n.effective</th><th scope=col>Geweke.diag</th></tr></thead>\n",
       "<tbody>\n",
       "\t<tr><th scope=row>(Intercept)</th><td>10.5346</td><td> 7.0995</td><td>12.0097</td><td>10000  </td><td> 53.7  </td><td>   2.3 </td><td>-31.0  </td></tr>\n",
       "\t<tr><th scope=row>Disttoroadm</th><td>-0.0002</td><td>-0.0004</td><td>-0.0001</td><td>10000  </td><td> 53.7  </td><td>1083.0 </td><td> -1.9  </td></tr>\n",
       "\t<tr><th scope=row>Populationm</th><td> 0.0000</td><td>-0.0001</td><td> 0.0001</td><td>10000  </td><td> 53.7  </td><td>1565.5 </td><td> -0.3  </td></tr>\n",
       "\t<tr><th scope=row>tau2</th><td> 6.1312</td><td> 3.7996</td><td> 9.4912</td><td>10000  </td><td>100.0  </td><td>  15.4 </td><td> -0.5  </td></tr>\n",
       "\t<tr><th scope=row>sigma2</th><td> 0.2387</td><td> 0.0547</td><td> 0.6632</td><td>10000  </td><td>100.0  </td><td>   4.6 </td><td>  4.3  </td></tr>\n",
       "</tbody>\n",
       "</table>\n"
      ],
      "text/latex": [
       "\\begin{tabular}{r|lllllll}\n",
       "  & Median & 2.5\\% & 97.5\\% & n.sample & \\% accept & n.effective & Geweke.diag\\\\\n",
       "\\hline\n",
       "\t(Intercept) & 10.5346 &  7.0995 & 12.0097 & 10000   &  53.7   &    2.3  & -31.0  \\\\\n",
       "\tDisttoroadm & -0.0002 & -0.0004 & -0.0001 & 10000   &  53.7   & 1083.0  &  -1.9  \\\\\n",
       "\tPopulationm &  0.0000 & -0.0001 &  0.0001 & 10000   &  53.7   & 1565.5  &  -0.3  \\\\\n",
       "\ttau2 &  6.1312 &  3.7996 &  9.4912 & 10000   & 100.0   &   15.4  &  -0.5  \\\\\n",
       "\tsigma2 &  0.2387 &  0.0547 &  0.6632 & 10000   & 100.0   &    4.6  &   4.3  \\\\\n",
       "\\end{tabular}\n"
      ],
      "text/markdown": [
       "\n",
       "| <!--/--> | Median | 2.5% | 97.5% | n.sample | % accept | n.effective | Geweke.diag | \n",
       "|---|---|---|---|---|\n",
       "| (Intercept) | 10.5346 |  7.0995 | 12.0097 | 10000   |  53.7   |    2.3  | -31.0   | \n",
       "| Disttoroadm | -0.0002 | -0.0004 | -0.0001 | 10000   |  53.7   | 1083.0  |  -1.9   | \n",
       "| Populationm |  0.0000 | -0.0001 |  0.0001 | 10000   |  53.7   | 1565.5  |  -0.3   | \n",
       "| tau2 |  6.1312 |  3.7996 |  9.4912 | 10000   | 100.0   |   15.4  |  -0.5   | \n",
       "| sigma2 |  0.2387 |  0.0547 |  0.6632 | 10000   | 100.0   |    4.6  |   4.3   | \n",
       "\n",
       "\n"
      ],
      "text/plain": [
       "            Median  2.5%    97.5%   n.sample % accept n.effective Geweke.diag\n",
       "(Intercept) 10.5346  7.0995 12.0097 10000     53.7       2.3      -31.0      \n",
       "Disttoroadm -0.0002 -0.0004 -0.0001 10000     53.7    1083.0       -1.9      \n",
       "Populationm  0.0000 -0.0001  0.0001 10000     53.7    1565.5       -0.3      \n",
       "tau2         6.1312  3.7996  9.4912 10000    100.0      15.4       -0.5      \n",
       "sigma2       0.2387  0.0547  0.6632 10000    100.0       4.6        4.3      "
      ]
     },
     "metadata": {},
     "output_type": "display_data"
    }
   ],
   "source": [
    "results$S$summary.results"
   ]
  },
  {
   "cell_type": "code",
   "execution_count": 4,
   "metadata": {},
   "outputs": [
    {
     "data": {
      "text/html": [
       "<table>\n",
       "<thead><tr><th></th><th scope=col>Median</th><th scope=col>2.5%</th><th scope=col>97.5%</th><th scope=col>n.sample</th><th scope=col>% accept</th><th scope=col>n.effective</th><th scope=col>Geweke.diag</th></tr></thead>\n",
       "<tbody>\n",
       "\t<tr><th scope=row>(Intercept)</th><td> 6.8712</td><td> 5.4379</td><td> 8.2628</td><td>10000  </td><td> 54.3  </td><td>   6.7 </td><td> 0.9   </td></tr>\n",
       "\t<tr><th scope=row>Disttoroadm</th><td>-0.0002</td><td>-0.0003</td><td>-0.0001</td><td>10000  </td><td> 54.3  </td><td>1260.8 </td><td>-1.1   </td></tr>\n",
       "\t<tr><th scope=row>Populationm</th><td> 0.0000</td><td>-0.0001</td><td> 0.0001</td><td>10000  </td><td> 54.3  </td><td>1347.8 </td><td> 0.1   </td></tr>\n",
       "\t<tr><th scope=row>tau2</th><td> 5.3452</td><td> 2.3637</td><td> 8.1601</td><td>10000  </td><td>100.0  </td><td>   8.5 </td><td> 1.2   </td></tr>\n",
       "\t<tr><th scope=row>sigma2</th><td> 0.0242</td><td> 0.0113</td><td> 0.0682</td><td>10000  </td><td>100.0  </td><td>   5.6 </td><td> 2.7   </td></tr>\n",
       "</tbody>\n",
       "</table>\n"
      ],
      "text/latex": [
       "\\begin{tabular}{r|lllllll}\n",
       "  & Median & 2.5\\% & 97.5\\% & n.sample & \\% accept & n.effective & Geweke.diag\\\\\n",
       "\\hline\n",
       "\t(Intercept) &  6.8712 &  5.4379 &  8.2628 & 10000   &  54.3   &    6.7  &  0.9   \\\\\n",
       "\tDisttoroadm & -0.0002 & -0.0003 & -0.0001 & 10000   &  54.3   & 1260.8  & -1.1   \\\\\n",
       "\tPopulationm &  0.0000 & -0.0001 &  0.0001 & 10000   &  54.3   & 1347.8  &  0.1   \\\\\n",
       "\ttau2 &  5.3452 &  2.3637 &  8.1601 & 10000   & 100.0   &    8.5  &  1.2   \\\\\n",
       "\tsigma2 &  0.0242 &  0.0113 &  0.0682 & 10000   & 100.0   &    5.6  &  2.7   \\\\\n",
       "\\end{tabular}\n"
      ],
      "text/markdown": [
       "\n",
       "| <!--/--> | Median | 2.5% | 97.5% | n.sample | % accept | n.effective | Geweke.diag | \n",
       "|---|---|---|---|---|\n",
       "| (Intercept) |  6.8712 |  5.4379 |  8.2628 | 10000   |  54.3   |    6.7  |  0.9    | \n",
       "| Disttoroadm | -0.0002 | -0.0003 | -0.0001 | 10000   |  54.3   | 1260.8  | -1.1    | \n",
       "| Populationm |  0.0000 | -0.0001 |  0.0001 | 10000   |  54.3   | 1347.8  |  0.1    | \n",
       "| tau2 |  5.3452 |  2.3637 |  8.1601 | 10000   | 100.0   |    8.5  |  1.2    | \n",
       "| sigma2 |  0.0242 |  0.0113 |  0.0682 | 10000   | 100.0   |    5.6  |  2.7    | \n",
       "\n",
       "\n"
      ],
      "text/plain": [
       "            Median  2.5%    97.5%   n.sample % accept n.effective Geweke.diag\n",
       "(Intercept)  6.8712  5.4379  8.2628 10000     54.3       6.7       0.9       \n",
       "Disttoroadm -0.0002 -0.0003 -0.0001 10000     54.3    1260.8      -1.1       \n",
       "Populationm  0.0000 -0.0001  0.0001 10000     54.3    1347.8       0.1       \n",
       "tau2         5.3452  2.3637  8.1601 10000    100.0       8.5       1.2       \n",
       "sigma2       0.0242  0.0113  0.0682 10000    100.0       5.6       2.7       "
      ]
     },
     "metadata": {},
     "output_type": "display_data"
    }
   ],
   "source": [
    "results$P$summary.results"
   ]
  },
  {
   "cell_type": "code",
   "execution_count": 5,
   "metadata": {},
   "outputs": [
    {
     "data": {
      "text/html": [
       "<dl class=dl-horizontal>\n",
       "\t<dt>DIC</dt>\n",
       "\t\t<dd>4278.32018104772</dd>\n",
       "\t<dt>p.d</dt>\n",
       "\t\t<dd>900.105745354787</dd>\n",
       "\t<dt>WAIC</dt>\n",
       "\t\t<dd>4351.85042467903</dd>\n",
       "\t<dt>p.w</dt>\n",
       "\t\t<dd>795.189974512174</dd>\n",
       "\t<dt>LMPL</dt>\n",
       "\t\t<dd>-2231.44818436043</dd>\n",
       "\t<dt>loglikelihood</dt>\n",
       "\t\t<dd>-1239.05434516907</dd>\n",
       "</dl>\n"
      ],
      "text/latex": [
       "\\begin{description*}\n",
       "\\item[DIC] 4278.32018104772\n",
       "\\item[p.d] 900.105745354787\n",
       "\\item[WAIC] 4351.85042467903\n",
       "\\item[p.w] 795.189974512174\n",
       "\\item[LMPL] -2231.44818436043\n",
       "\\item[loglikelihood] -1239.05434516907\n",
       "\\end{description*}\n"
      ],
      "text/markdown": [
       "DIC\n",
       ":   4278.32018104772p.d\n",
       ":   900.105745354787WAIC\n",
       ":   4351.85042467903p.w\n",
       ":   795.189974512174LMPL\n",
       ":   -2231.44818436043loglikelihood\n",
       ":   -1239.05434516907\n",
       "\n"
      ],
      "text/plain": [
       "          DIC           p.d          WAIC           p.w          LMPL \n",
       "    4278.3202      900.1057     4351.8504      795.1900    -2231.4482 \n",
       "loglikelihood \n",
       "   -1239.0543 "
      ]
     },
     "metadata": {},
     "output_type": "display_data"
    }
   ],
   "source": [
    "results$summary.results"
   ]
  },
  {
   "cell_type": "code",
   "execution_count": 6,
   "metadata": {},
   "outputs": [],
   "source": [
    "fitted_samples = cbind(results$S$samples$fitted,results$P$samples$fitted)"
   ]
  },
  {
   "cell_type": "code",
   "execution_count": 7,
   "metadata": {},
   "outputs": [],
   "source": [
    "post.sample_p = data.frame(results$S$samples$fitted)\n",
    "post.presence_p = data.frame(results$P$samples$fitted)\n",
    "post.joint = data.frame(results$samples$fitted.joint)"
   ]
  },
  {
   "cell_type": "code",
   "execution_count": 32,
   "metadata": {},
   "outputs": [],
   "source": [
    "## Compute independent joint distribution\n",
    "library(boot)\n",
    "\n",
    "\n",
    "\n",
    "fitted_presences = apply(results$P$samples$fitted,MARGIN=1,identity)\n",
    "fitted_sample = apply(results$S$samples$fitted,MARGIN=1,identity)\n",
    "fitted_total = apply(results$samples$fitted,MARGIN=1,identity)\n",
    "\n",
    "re_presence = apply(results$P$samples$psi,MARGIN=1,identity)\n",
    "re_sample = apply(results$S$samples$psi,MARGIN=1,identity)"
   ]
  },
  {
   "cell_type": "code",
   "execution_count": 33,
   "metadata": {},
   "outputs": [],
   "source": [
    "getUpperLowerCI <- function(fitted_sample,prefix=\"\",MARGIN=1){\n",
    "    fp = partial(quantile,probs=c(0.025,0.5,0.975))\n",
    "    quants =apply(X = fitted_sample,FUN = fp,MARGIN)\n",
    "    mfitt = apply(fitted_sample,mean,MARGIN = MARGIN)\n",
    "    vfitt = apply(fitted_sample,var,MARGIN = MARGIN)\n",
    "    new_data = cbind(t(quants),mfitt,vfitt)\n",
    "    l = as.list(c(\"q025\",\"median\",\"q0975\",\"mean\",\"variance\"))\n",
    "    nnames = lapply(l,function (x){return(paste(prefix,x,sep = '_'))})\n",
    "    colnames(new_data) = nnames\n",
    "    return(new_data)\n",
    "}\n",
    "\n",
    "P = getUpperLowerCI(fitted_presences,prefix = 'P')\n",
    "S = getUpperLowerCI(fitted_sample,prefix = 'S')\n",
    "PS = getUpperLowerCI(fitted_total,prefix = 'PS')\n",
    "Gp = getUpperLowerCI(re_presence,prefix = 'Gp')\n",
    "Gs = getUpperLowerCI(re_sample,prefix = 'Gs')\n",
    "\n"
   ]
  },
  {
   "cell_type": "code",
   "execution_count": 36,
   "metadata": {},
   "outputs": [],
   "source": [
    "## Sample from the posterior\n",
    "sample.pres <- data.frame(t(fitted_presences)) %>% mutate_all(function(p) rbernoulli(1,p))\n",
    "sample.samp <- data.frame(t(fitted_sample)) %>% mutate_all(function(p) rbernoulli(1,p))\n",
    "sample.tot <- data.frame(t(fitted_total)) %>% mutate_all(function(p) rbernoulli(1,p))"
   ]
  },
  {
   "cell_type": "code",
   "execution_count": null,
   "metadata": {},
   "outputs": [],
   "source": [
    "medir dimension\n",
    "y ver que pasa con colsums\n"
   ]
  },
  {
   "cell_type": "code",
   "execution_count": null,
   "metadata": {},
   "outputs": [],
   "source": [
    "dataout = cbind(TDF$cellids,P,S,Gp,Gs,PX,PY,PXY)"
   ]
  },
  {
   "cell_type": "code",
   "execution_count": null,
   "metadata": {},
   "outputs": [],
   "source": []
  },
  {
   "cell_type": "code",
   "execution_count": 8,
   "metadata": {},
   "outputs": [],
   "source": [
    "pss  <- post.sample_p %>% mutate_all(function(p) rbernoulli(1,p))\n",
    "pps <- post.presence_p %>% mutate_all(function(p) rbernoulli(1,p))\n",
    "ptot <- post.joint %>% mutate_all(function(p) rbernoulli(1,p))"
   ]
  },
  {
   "cell_type": "code",
   "execution_count": 9,
   "metadata": {},
   "outputs": [],
   "source": []
  },
  {
   "cell_type": "code",
   "execution_count": 10,
   "metadata": {},
   "outputs": [],
   "source": [
    "sumpt <- colSums(ptot)\n",
    "sumpss <- colSums(pss)\n",
    "sumpps <- colSums(pps)"
   ]
  },
  {
   "cell_type": "code",
   "execution_count": 34,
   "metadata": {},
   "outputs": [],
   "source": [
    "nsamples = dim(ptot)[1]"
   ]
  },
  {
   "cell_type": "code",
   "execution_count": 35,
   "metadata": {},
   "outputs": [
    {
     "data": {
      "text/html": [
       "10000"
      ],
      "text/latex": [
       "10000"
      ],
      "text/markdown": [
       "10000"
      ],
      "text/plain": [
       "[1] 10000"
      ]
     },
     "metadata": {},
     "output_type": "display_data"
    }
   ],
   "source": [
    "nsamples"
   ]
  },
  {
   "cell_type": "code",
   "execution_count": 14,
   "metadata": {},
   "outputs": [],
   "source": [
    "joint_prob_sample <- sumpt / nsamples"
   ]
  },
  {
   "cell_type": "code",
   "execution_count": 15,
   "metadata": {},
   "outputs": [],
   "source": [
    "prob_pps <- sumpps / nsamples"
   ]
  },
  {
   "cell_type": "code",
   "execution_count": 16,
   "metadata": {},
   "outputs": [],
   "source": [
    "prob_pss <- sumpss / nsamples"
   ]
  },
  {
   "cell_type": "code",
   "execution_count": 17,
   "metadata": {},
   "outputs": [],
   "source": [
    "joint_prob_sample_2 = prob_pps * prob_pss"
   ]
  },
  {
   "cell_type": "code",
   "execution_count": 18,
   "metadata": {},
   "outputs": [],
   "source": [
    "meanfitted = results$fitted.values"
   ]
  },
  {
   "cell_type": "code",
   "execution_count": 19,
   "metadata": {},
   "outputs": [],
   "source": [
    "## save to posterity\n",
    "# Save output sample to display in python\n",
    "## Save the complete chain trace for analysing in Python,\n",
    "#TDF = read.csv(\"/outputs/training_data_sample_puebla_p9_abies_pinophyta.csv\")\n",
    "## Order it according to the id of the cell\n",
    "## This is important because the adjancy matrix rows need to be the same\n",
    "\n",
    "## No needed because DataFrame object already loaded and without no-neighbour (i.e. same size as fitted values)\n",
    "#TDF = TDF[order(TDF$cell_ids),]\n",
    "TDF = DataFrame[order(DataFrame$cellids),]"
   ]
  },
  {
   "cell_type": "code",
   "execution_count": 20,
   "metadata": {},
   "outputs": [],
   "source": [
    "chain = cbind(TDF$cellids,joint_prob_sample,meanfitted,prob_pps,prob_pss)\n",
    "file_ = '/outputs/presence_only_models/modelCAR_model1_fitted2.csv'\n",
    "write.csv(chain,file_)"
   ]
  },
  {
   "cell_type": "code",
   "execution_count": null,
   "metadata": {},
   "outputs": [],
   "source": []
  }
 ],
 "metadata": {
  "kernelspec": {
   "display_name": "R",
   "language": "R",
   "name": "ir"
  },
  "language_info": {
   "codemirror_mode": "r",
   "file_extension": ".r",
   "mimetype": "text/x-r-source",
   "name": "R",
   "pygments_lexer": "r",
   "version": "3.5.1"
  }
 },
 "nbformat": 4,
 "nbformat_minor": 2
}
