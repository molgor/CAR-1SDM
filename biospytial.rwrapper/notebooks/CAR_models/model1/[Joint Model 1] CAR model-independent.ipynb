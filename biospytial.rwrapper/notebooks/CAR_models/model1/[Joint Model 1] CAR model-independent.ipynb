{
 "cells": [
  {
   "cell_type": "markdown",
   "metadata": {},
   "source": [
    "# A joint model CAR (model 1) \n",
    "## Two independent processes\n",
    " $$ [P , S ] = [P ] [ S ] $$"
   ]
  },
  {
   "cell_type": "code",
   "execution_count": 1,
   "metadata": {},
   "outputs": [],
   "source": [
    "## Import code:\n",
    "setwd('/apps/external_plugins/biospytial_rwrapper/biospytial.rwrapper/R/')"
   ]
  },
  {
   "cell_type": "code",
   "execution_count": 2,
   "metadata": {},
   "outputs": [
    {
     "name": "stderr",
     "output_type": "stream",
     "text": [
      "Loading required package: MASS\n",
      "Loading required package: Rcpp\n",
      "\n",
      "Attaching package: ‘dplyr’\n",
      "\n",
      "The following object is masked from ‘package:MASS’:\n",
      "\n",
      "    select\n",
      "\n",
      "The following objects are masked from ‘package:stats’:\n",
      "\n",
      "    filter, lag\n",
      "\n",
      "The following objects are masked from ‘package:base’:\n",
      "\n",
      "    intersect, setdiff, setequal, union\n",
      "\n"
     ]
    },
    {
     "name": "stdout",
     "output_type": "stream",
     "text": [
      "Setting up the model.\n",
      "Performing burnin period for Sample Effort Model \n",
      "  |======================================================================| 100%\n",
      "Summarising results.\n",
      "Finished in  87.5 seconds.\n",
      "Setting up the model.\n",
      "Performing burnin period for Presence model \n",
      "  |======================================================================| 100%\n",
      "Summarising results.\n",
      "Finished in  84.7 seconds.\n",
      "Sampling from the joint model 10000 post burnin and thinned (if requested) samples.\n",
      "  |======================================================================| 100%\n",
      "[1] \"Compiling summary for S process\"\n",
      "[1] \"Compiling summary for the P process\"\n"
     ]
    }
   ],
   "source": [
    "rm(list=ls())                                                                                     \n",
    "source(\"init_data.R\")                                                                             \n",
    "# load the building function                                                                      \n",
    "source(\"joint.binomial.bymCARModel1.R\")\n",
    "## Fix the burnin and sample to be consistent with the other models\n",
    "n.sample = 10000                                                                                  \n",
    "burnin=10000                                                                                      \n",
    "postburnin = burnin +1000                                                                         \n",
    "thin = 1                                                                                          \n",
    "verbose = TRUE                           \n",
    "results  <- joint.binomial.bymCARModel1(formula_S = formula_sample, \n",
    "                                        formula_P = formula_presence,\n",
    "                                        n.sample=n.sample,\n",
    "                                        data = DataFrame,\n",
    "                                        burnin=burnin,\n",
    "                                        postburnin=postburnin,\n",
    "                                        thin=thin,\n",
    "                                        verbose=TRUE) \n"
   ]
  },
  {
   "cell_type": "code",
   "execution_count": 154,
   "metadata": {},
   "outputs": [],
   "source": [
    "Ysamp = model.frame(formula = formula_sample,data =DataFrame )[1]\n",
    "Ypres = model.frame(formula = formula_presence,data =DataFrame )[1]\n",
    "names(Ysamp) <- 'obs'\n",
    "names(Ypres) <- 'obs'\n",
    "#Y = rbind(Ysamp,Ypres)\n",
    "##\n",
    "Y = rbind(Ypres,Ysamp)"
   ]
  },
  {
   "cell_type": "code",
   "execution_count": 155,
   "metadata": {},
   "outputs": [],
   "source": [
    "#mean.prob = rbind(results$S$mean.prob,results$P$mean.prob)\n",
    "## Let´s try to invert the order \n",
    "mean.prob = rbind(results$P$mean.prob,results$S$mean.prob)\n"
   ]
  },
  {
   "cell_type": "code",
   "execution_count": null,
   "metadata": {},
   "outputs": [],
   "source": []
  },
  {
   "cell_type": "code",
   "execution_count": 160,
   "metadata": {},
   "outputs": [],
   "source": [
    "dtrials = rep(1,2*n)\n",
    "dtrials = rep(1,n)"
   ]
  },
  {
   "cell_type": "code",
   "execution_count": 166,
   "metadata": {},
   "outputs": [],
   "source": [
    "Deviance <- function(obs,mean.prob,trials) {\n",
    "    devfit = -2 * sum(dbinom(x=obs,size=trials,prob=mean.prob,log=TRUE),na.rm=TRUE)\n",
    "    return(devfit)\n",
    "}\n"
   ]
  },
  {
   "cell_type": "code",
   "execution_count": 170,
   "metadata": {},
   "outputs": [],
   "source": [
    "devfitpres = Deviance(Ypres$obs,results$P$mean.prob,dtrials)"
   ]
  },
  {
   "cell_type": "code",
   "execution_count": null,
   "metadata": {},
   "outputs": [],
   "source": [
    "devfit"
   ]
  },
  {
   "cell_type": "code",
   "execution_count": 157,
   "metadata": {},
   "outputs": [
    {
     "data": {
      "text/html": [
       "8267.87622093341"
      ],
      "text/latex": [
       "8267.87622093341"
      ],
      "text/markdown": [
       "8267.87622093341"
      ],
      "text/plain": [
       "[1] 8267.876"
      ]
     },
     "metadata": {},
     "output_type": "display_data"
    }
   ],
   "source": [
    "devfit"
   ]
  },
  {
   "cell_type": "code",
   "execution_count": 153,
   "metadata": {},
   "outputs": [
    {
     "data": {
      "text/html": [
       "22171.690323242"
      ],
      "text/latex": [
       "22171.690323242"
      ],
      "text/markdown": [
       "22171.690323242"
      ],
      "text/plain": [
       "[1] 22171.69"
      ]
     },
     "metadata": {},
     "output_type": "display_data"
    }
   ],
   "source": [
    "devfit"
   ]
  },
  {
   "cell_type": "code",
   "execution_count": 119,
   "metadata": {},
   "outputs": [],
   "source": [
    "S.loglike = results$S$samples$loglike\n",
    "P.loglike = results$P$samples$loglike"
   ]
  },
  {
   "cell_type": "code",
   "execution_count": 120,
   "metadata": {},
   "outputs": [],
   "source": [
    "## Inverting the loglikelihood does not have an impact\n",
    "nn = cbind(S.loglike,P.loglike)\n",
    "#nn = cbind(P.loglike,S.loglike)"
   ]
  },
  {
   "cell_type": "code",
   "execution_count": 121,
   "metadata": {},
   "outputs": [],
   "source": [
    "## Lets analyse why the dic changes so much\n",
    "loglike = nn\n",
    "mean_dev = sum(loglike,na.rm=TRUE) / nrow(loglike)\n",
    "pd = mean_dev  - devfit\n",
    "DIC = devfit + 2 * pd"
   ]
  },
  {
   "cell_type": "code",
   "execution_count": 122,
   "metadata": {},
   "outputs": [
    {
     "data": {
      "text/html": [
       "-24744.6047065856"
      ],
      "text/latex": [
       "-24744.6047065856"
      ],
      "text/markdown": [
       "-24744.6047065856"
      ],
      "text/plain": [
       "[1] -24744.6"
      ]
     },
     "metadata": {},
     "output_type": "display_data"
    }
   ],
   "source": [
    "DIC"
   ]
  },
  {
   "cell_type": "code",
   "execution_count": 123,
   "metadata": {},
   "outputs": [
    {
     "data": {
      "text/html": [
       "<dl class=dl-horizontal>\n",
       "\t<dt>DIC</dt>\n",
       "\t\t<dd>-17025.861556555</dd>\n",
       "\t<dt>p.d</dt>\n",
       "\t\t<dd>-19598.7759398985</dd>\n",
       "\t<dt>WAIC</dt>\n",
       "\t\t<dd>3558.60687555793</dd>\n",
       "\t<dt>p.w</dt>\n",
       "\t\t<dd>765.382227604807</dd>\n",
       "\t<dt>LMPL</dt>\n",
       "\t\t<dd>-1930.00725091543</dd>\n",
       "\t<dt>loglikelihood</dt>\n",
       "\t\t<dd>-11085.845161621</dd>\n",
       "</dl>\n"
      ],
      "text/latex": [
       "\\begin{description*}\n",
       "\\item[DIC] -17025.861556555\n",
       "\\item[p.d] -19598.7759398985\n",
       "\\item[WAIC] 3558.60687555793\n",
       "\\item[p.w] 765.382227604807\n",
       "\\item[LMPL] -1930.00725091543\n",
       "\\item[loglikelihood] -11085.845161621\n",
       "\\end{description*}\n"
      ],
      "text/markdown": [
       "DIC\n",
       ":   -17025.861556555p.d\n",
       ":   -19598.7759398985WAIC\n",
       ":   3558.60687555793p.w\n",
       ":   765.382227604807LMPL\n",
       ":   -1930.00725091543loglikelihood\n",
       ":   -11085.845161621\n",
       "\n"
      ],
      "text/plain": [
       "          DIC           p.d          WAIC           p.w          LMPL \n",
       "  -17025.8616   -19598.7759     3558.6069      765.3822    -1930.0073 \n",
       "loglikelihood \n",
       "  -11085.8452 "
      ]
     },
     "metadata": {},
     "output_type": "display_data"
    }
   ],
   "source": [
    "common.modelfit(nn,devfit)"
   ]
  },
  {
   "cell_type": "code",
   "execution_count": 88,
   "metadata": {},
   "outputs": [
    {
     "data": {
      "text/html": [
       "<dl class=dl-horizontal>\n",
       "\t<dt>DIC</dt>\n",
       "\t\t<dd>-3122.04745424633</dd>\n",
       "\t<dt>p.d</dt>\n",
       "\t\t<dd>-5694.96183758987</dd>\n",
       "\t<dt>WAIC</dt>\n",
       "\t\t<dd>3558.60687555793</dd>\n",
       "\t<dt>p.w</dt>\n",
       "\t\t<dd>765.382227604807</dd>\n",
       "\t<dt>LMPL</dt>\n",
       "\t\t<dd>-1930.00725091543</dd>\n",
       "\t<dt>loglikelihood</dt>\n",
       "\t\t<dd>-4133.9381104667</dd>\n",
       "</dl>\n"
      ],
      "text/latex": [
       "\\begin{description*}\n",
       "\\item[DIC] -3122.04745424633\n",
       "\\item[p.d] -5694.96183758987\n",
       "\\item[WAIC] 3558.60687555793\n",
       "\\item[p.w] 765.382227604807\n",
       "\\item[LMPL] -1930.00725091543\n",
       "\\item[loglikelihood] -4133.9381104667\n",
       "\\end{description*}\n"
      ],
      "text/markdown": [
       "DIC\n",
       ":   -3122.04745424633p.d\n",
       ":   -5694.96183758987WAIC\n",
       ":   3558.60687555793p.w\n",
       ":   765.382227604807LMPL\n",
       ":   -1930.00725091543loglikelihood\n",
       ":   -4133.9381104667\n",
       "\n"
      ],
      "text/plain": [
       "          DIC           p.d          WAIC           p.w          LMPL \n",
       "   -3122.0475    -5694.9618     3558.6069      765.3822    -1930.0073 \n",
       "loglikelihood \n",
       "   -4133.9381 "
      ]
     },
     "metadata": {},
     "output_type": "display_data"
    }
   ],
   "source": [
    "## obs inverted mean.prob inverted\n",
    "common.modelfit(nn,devfit)"
   ]
  },
  {
   "cell_type": "code",
   "execution_count": null,
   "metadata": {},
   "outputs": [],
   "source": []
  },
  {
   "cell_type": "code",
   "execution_count": 75,
   "metadata": {},
   "outputs": [
    {
     "data": {
      "text/html": [
       "<dl class=dl-horizontal>\n",
       "\t<dt>DIC</dt>\n",
       "\t\t<dd>-59180.9690383213</dd>\n",
       "\t<dt>p.d</dt>\n",
       "\t\t<dd>-61753.8834216649</dd>\n",
       "\t<dt>WAIC</dt>\n",
       "\t\t<dd>3558.60687555793</dd>\n",
       "\t<dt>p.w</dt>\n",
       "\t\t<dd>765.382227604807</dd>\n",
       "\t<dt>LMPL</dt>\n",
       "\t\t<dd>-1930.00725091543</dd>\n",
       "\t<dt>loglikelihood</dt>\n",
       "\t\t<dd>-32163.3989025042</dd>\n",
       "</dl>\n"
      ],
      "text/latex": [
       "\\begin{description*}\n",
       "\\item[DIC] -59180.9690383213\n",
       "\\item[p.d] -61753.8834216649\n",
       "\\item[WAIC] 3558.60687555793\n",
       "\\item[p.w] 765.382227604807\n",
       "\\item[LMPL] -1930.00725091543\n",
       "\\item[loglikelihood] -32163.3989025042\n",
       "\\end{description*}\n"
      ],
      "text/markdown": [
       "DIC\n",
       ":   -59180.9690383213p.d\n",
       ":   -61753.8834216649WAIC\n",
       ":   3558.60687555793p.w\n",
       ":   765.382227604807LMPL\n",
       ":   -1930.00725091543loglikelihood\n",
       ":   -32163.3989025042\n",
       "\n"
      ],
      "text/plain": [
       "          DIC           p.d          WAIC           p.w          LMPL \n",
       "  -59180.9690   -61753.8834     3558.6069      765.3822    -1930.0073 \n",
       "loglikelihood \n",
       "  -32163.3989 "
      ]
     },
     "metadata": {},
     "output_type": "display_data"
    }
   ],
   "source": [
    "## obs inverted no mean.prob \n",
    "common.modelfit(nn,devfit)"
   ]
  },
  {
   "cell_type": "code",
   "execution_count": 13,
   "metadata": {},
   "outputs": [
    {
     "data": {
      "text/html": [
       "<dl class=dl-horizontal>\n",
       "\t<dt>DIC</dt>\n",
       "\t\t<dd>1343.45487622408</dd>\n",
       "\t<dt>p.d</dt>\n",
       "\t\t<dd>489.011710055445</dd>\n",
       "\t<dt>WAIC</dt>\n",
       "\t\t<dd>1375.33252004083</dd>\n",
       "\t<dt>p.w</dt>\n",
       "\t\t<dd>382.267845894105</dd>\n",
       "\t<dt>LMPL</dt>\n",
       "\t\t<dd>-815.178283606851</dd>\n",
       "\t<dt>loglikelihood</dt>\n",
       "\t\t<dd>-182.715728056597</dd>\n",
       "</dl>\n"
      ],
      "text/latex": [
       "\\begin{description*}\n",
       "\\item[DIC] 1343.45487622408\n",
       "\\item[p.d] 489.011710055445\n",
       "\\item[WAIC] 1375.33252004083\n",
       "\\item[p.w] 382.267845894105\n",
       "\\item[LMPL] -815.178283606851\n",
       "\\item[loglikelihood] -182.715728056597\n",
       "\\end{description*}\n"
      ],
      "text/markdown": [
       "DIC\n",
       ":   1343.45487622408p.d\n",
       ":   489.011710055445WAIC\n",
       ":   1375.33252004083p.w\n",
       ":   382.267845894105LMPL\n",
       ":   -815.178283606851loglikelihood\n",
       ":   -182.715728056597\n",
       "\n"
      ],
      "text/plain": [
       "          DIC           p.d          WAIC           p.w          LMPL \n",
       "    1343.4549      489.0117     1375.3325      382.2678     -815.1783 \n",
       "loglikelihood \n",
       "    -182.7157 "
      ]
     },
     "metadata": {},
     "output_type": "display_data"
    }
   ],
   "source": [
    "results$P$modelfit"
   ]
  },
  {
   "cell_type": "markdown",
   "metadata": {},
   "source": [
    "## Check the fitted dev for a single S or P and check that the values are the same\n",
    "\n",
    "> Good! TEst passed!"
   ]
  },
  {
   "cell_type": "code",
   "execution_count": 16,
   "metadata": {},
   "outputs": [
    {
     "data": {
      "text/html": [
       "<dl class=dl-horizontal>\n",
       "\t<dt>DIC</dt>\n",
       "\t\t<dd>1343.45487622408</dd>\n",
       "\t<dt>p.d</dt>\n",
       "\t\t<dd>489.011710055445</dd>\n",
       "\t<dt>WAIC</dt>\n",
       "\t\t<dd>1375.33252004083</dd>\n",
       "\t<dt>p.w</dt>\n",
       "\t\t<dd>382.267845894105</dd>\n",
       "\t<dt>LMPL</dt>\n",
       "\t\t<dd>-815.178283606851</dd>\n",
       "\t<dt>loglikelihood</dt>\n",
       "\t\t<dd>-182.715728056597</dd>\n",
       "</dl>\n"
      ],
      "text/latex": [
       "\\begin{description*}\n",
       "\\item[DIC] 1343.45487622408\n",
       "\\item[p.d] 489.011710055445\n",
       "\\item[WAIC] 1375.33252004083\n",
       "\\item[p.w] 382.267845894105\n",
       "\\item[LMPL] -815.178283606851\n",
       "\\item[loglikelihood] -182.715728056597\n",
       "\\end{description*}\n"
      ],
      "text/markdown": [
       "DIC\n",
       ":   1343.45487622408p.d\n",
       ":   489.011710055445WAIC\n",
       ":   1375.33252004083p.w\n",
       ":   382.267845894105LMPL\n",
       ":   -815.178283606851loglikelihood\n",
       ":   -182.715728056597\n",
       "\n"
      ],
      "text/plain": [
       "          DIC           p.d          WAIC           p.w          LMPL \n",
       "    1343.4549      489.0117     1375.3325      382.2678     -815.1783 \n",
       "loglikelihood \n",
       "    -182.7157 "
      ]
     },
     "metadata": {},
     "output_type": "display_data"
    }
   ],
   "source": [
    "mean.prob = results$P$mean.prob\n",
    "dtrials = rep(1,n)\n",
    "\n",
    "devfit = -2 * sum(dbinom(x=Ypres$obs,size=dtrials,prob=mean.prob,log=TRUE),na.rm=TRUE)\n",
    "\n",
    "common.modelfit(P.loglike,devfit)\n"
   ]
  },
  {
   "cell_type": "code",
   "execution_count": 27,
   "metadata": {},
   "outputs": [],
   "source": [
    "svar = apply(S.loglike,2,var)"
   ]
  },
  {
   "cell_type": "code",
   "execution_count": 3,
   "metadata": {},
   "outputs": [
    {
     "data": {
      "text/html": [
       "1268.90587393382"
      ],
      "text/latex": [
       "1268.90587393382"
      ],
      "text/markdown": [
       "1268.90587393382"
      ],
      "text/plain": [
       "[1] 1268.906"
      ]
     },
     "metadata": {},
     "output_type": "display_data"
    }
   ],
   "source": [
    "alldev = results$S$deviance.fitted + results$P$"
   ]
  },
  {
   "cell_type": "code",
   "execution_count": 12,
   "metadata": {},
   "outputs": [
    {
     "data": {
      "text/html": [
       "<table>\n",
       "<thead><tr><th></th><th scope=col>Median</th><th scope=col>2.5%</th><th scope=col>97.5%</th><th scope=col>n.sample</th><th scope=col>% accept</th><th scope=col>n.effective</th><th scope=col>Geweke.diag</th></tr></thead>\n",
       "<tbody>\n",
       "\t<tr><th scope=row>(Intercept)</th><td> 0.1312</td><td>-1.0496</td><td> 1.6348</td><td>10000  </td><td> 53.7  </td><td>   6.9 </td><td> 0.5   </td></tr>\n",
       "\t<tr><th scope=row>Disttoroadm</th><td>-0.0002</td><td>-0.0004</td><td>-0.0001</td><td>10000  </td><td> 53.7  </td><td>1503.7 </td><td>-0.3   </td></tr>\n",
       "\t<tr><th scope=row>Populationm</th><td> 0.0000</td><td>-0.0001</td><td> 0.0001</td><td>10000  </td><td> 53.7  </td><td>1724.2 </td><td>-2.6   </td></tr>\n",
       "\t<tr><th scope=row>tau2</th><td> 5.2243</td><td> 3.2542</td><td> 8.7656</td><td>10000  </td><td>100.0  </td><td>  13.6 </td><td> 1.4   </td></tr>\n",
       "\t<tr><th scope=row>sigma2</th><td> 0.0754</td><td> 0.0169</td><td> 0.4669</td><td>10000  </td><td>100.0  </td><td>   2.7 </td><td>-2.5   </td></tr>\n",
       "</tbody>\n",
       "</table>\n"
      ],
      "text/latex": [
       "\\begin{tabular}{r|lllllll}\n",
       "  & Median & 2.5\\% & 97.5\\% & n.sample & \\% accept & n.effective & Geweke.diag\\\\\n",
       "\\hline\n",
       "\t(Intercept) &  0.1312 & -1.0496 &  1.6348 & 10000   &  53.7   &    6.9  &  0.5   \\\\\n",
       "\tDisttoroadm & -0.0002 & -0.0004 & -0.0001 & 10000   &  53.7   & 1503.7  & -0.3   \\\\\n",
       "\tPopulationm &  0.0000 & -0.0001 &  0.0001 & 10000   &  53.7   & 1724.2  & -2.6   \\\\\n",
       "\ttau2 &  5.2243 &  3.2542 &  8.7656 & 10000   & 100.0   &   13.6  &  1.4   \\\\\n",
       "\tsigma2 &  0.0754 &  0.0169 &  0.4669 & 10000   & 100.0   &    2.7  & -2.5   \\\\\n",
       "\\end{tabular}\n"
      ],
      "text/markdown": [
       "\n",
       "| <!--/--> | Median | 2.5% | 97.5% | n.sample | % accept | n.effective | Geweke.diag | \n",
       "|---|---|---|---|---|\n",
       "| (Intercept) |  0.1312 | -1.0496 |  1.6348 | 10000   |  53.7   |    6.9  |  0.5    | \n",
       "| Disttoroadm | -0.0002 | -0.0004 | -0.0001 | 10000   |  53.7   | 1503.7  | -0.3    | \n",
       "| Populationm |  0.0000 | -0.0001 |  0.0001 | 10000   |  53.7   | 1724.2  | -2.6    | \n",
       "| tau2 |  5.2243 |  3.2542 |  8.7656 | 10000   | 100.0   |   13.6  |  1.4    | \n",
       "| sigma2 |  0.0754 |  0.0169 |  0.4669 | 10000   | 100.0   |    2.7  | -2.5    | \n",
       "\n",
       "\n"
      ],
      "text/plain": [
       "            Median  2.5%    97.5%   n.sample % accept n.effective Geweke.diag\n",
       "(Intercept)  0.1312 -1.0496  1.6348 10000     53.7       6.9       0.5       \n",
       "Disttoroadm -0.0002 -0.0004 -0.0001 10000     53.7    1503.7      -0.3       \n",
       "Populationm  0.0000 -0.0001  0.0001 10000     53.7    1724.2      -2.6       \n",
       "tau2         5.2243  3.2542  8.7656 10000    100.0      13.6       1.4       \n",
       "sigma2       0.0754  0.0169  0.4669 10000    100.0       2.7      -2.5       "
      ]
     },
     "metadata": {},
     "output_type": "display_data"
    }
   ],
   "source": [
    "results$S$summary.results"
   ]
  },
  {
   "cell_type": "code",
   "execution_count": 4,
   "metadata": {},
   "outputs": [],
   "source": [
    "## Check that M_bis[1] and nrow(TDF) have the same  value\n",
    "\n",
    "## Extract deviance.fit stack the sample logs and deviance fit and use common.modelfit"
   ]
  },
  {
   "cell_type": "code",
   "execution_count": 5,
   "metadata": {},
   "outputs": [
    {
     "data": {
      "text/html": [
       "-8541349.83976869"
      ],
      "text/latex": [
       "-8541349.83976869"
      ],
      "text/markdown": [
       "-8541349.83976869"
      ],
      "text/plain": [
       "[1] -8541350"
      ]
     },
     "metadata": {},
     "output_type": "display_data"
    }
   ],
   "source": [
    "sum(results$S$samples$loglike,na.rm=TRUE)"
   ]
  },
  {
   "cell_type": "code",
   "execution_count": null,
   "metadata": {},
   "outputs": [],
   "source": [
    "model"
   ]
  },
  {
   "cell_type": "code",
   "execution_count": 37,
   "metadata": {},
   "outputs": [
    {
     "name": "stdout",
     "output_type": "stream",
     "text": [
      " num [1:10000, 1:8120] NA NA NA NA NA NA NA NA NA NA ...\n"
     ]
    }
   ],
   "source": [
    "str(nn)"
   ]
  },
  {
   "cell_type": "code",
   "execution_count": 35,
   "metadata": {},
   "outputs": [],
   "source": [
    "nvar = apply(nn,2,var)"
   ]
  },
  {
   "cell_type": "code",
   "execution_count": 36,
   "metadata": {},
   "outputs": [
    {
     "data": {
      "text/html": [
       "8120"
      ],
      "text/latex": [
       "8120"
      ],
      "text/markdown": [
       "8120"
      ],
      "text/plain": [
       "[1] 8120"
      ]
     },
     "metadata": {},
     "output_type": "display_data"
    }
   ],
   "source": [
    "length(nvar)"
   ]
  },
  {
   "cell_type": "code",
   "execution_count": 30,
   "metadata": {},
   "outputs": [
    {
     "data": {
      "text/html": [
       "4060"
      ],
      "text/latex": [
       "4060"
      ],
      "text/markdown": [
       "4060"
      ],
      "text/plain": [
       "[1] 4060"
      ]
     },
     "metadata": {},
     "output_type": "display_data"
    }
   ],
   "source": [
    "length(svar)"
   ]
  },
  {
   "cell_type": "code",
   "execution_count": 22,
   "metadata": {},
   "outputs": [],
   "source": [
    "common.modelfit()"
   ]
  },
  {
   "cell_type": "code",
   "execution_count": null,
   "metadata": {},
   "outputs": [],
   "source": [
    "post.sample_p = data.frame(results$S$samples$fitted)\n",
    "post.presence_p = data.frame(results$P$samples$fitted)"
   ]
  },
  {
   "cell_type": "code",
   "execution_count": null,
   "metadata": {},
   "outputs": [],
   "source": [
    "pss  <- post.sample_p %>% mutate_all(function(p) rbernoulli(1,p))\n",
    "pps <- post.presence_p %>% mutate_all(function(p) rbernoulli(1,p))                                        "
   ]
  },
  {
   "cell_type": "code",
   "execution_count": null,
   "metadata": {},
   "outputs": [],
   "source": [
    "\n",
    "sumpps <- colSums(pps)"
   ]
  },
  {
   "cell_type": "code",
   "execution_count": null,
   "metadata": {},
   "outputs": [],
   "source": [
    "sumpss <- colSums(pss)"
   ]
  },
  {
   "cell_type": "code",
   "execution_count": null,
   "metadata": {},
   "outputs": [],
   "source": [
    "prob_pps <- sumpps / length(pps)"
   ]
  },
  {
   "cell_type": "code",
   "execution_count": null,
   "metadata": {},
   "outputs": [],
   "source": [
    "prob_pss <- sumpss / length(pss)"
   ]
  },
  {
   "cell_type": "code",
   "execution_count": null,
   "metadata": {},
   "outputs": [],
   "source": [
    "probpres = prob_pps * prob_pss"
   ]
  },
  {
   "cell_type": "code",
   "execution_count": 12,
   "metadata": {},
   "outputs": [],
   "source": [
    "## save to posterity\n",
    "# Save output sample to display in python\n",
    "## Save the complete chain trace for analysing in Python,\n",
    "TDF = read.csv(\"/outputs/training_data_sample_puebla_p9_abies_pinophyta.csv\")\n",
    "## Order it according to the id of the cell\n",
    "## This is important because the adjancy matrix rows need to be the same\n",
    "TDF = TDF[order(TDF$cellids),]"
   ]
  },
  {
   "cell_type": "code",
   "execution_count": 13,
   "metadata": {},
   "outputs": [],
   "source": [
    "chain = cbind(TDF$cell_ids,probpres,prob_pps,prob_pss)\n",
    "file_ = '/outputs/presence_only_models/modelCAR_model1_fitted.csv'\n",
    "write.csv(chain,file_)"
   ]
  },
  {
   "cell_type": "code",
   "execution_count": null,
   "metadata": {},
   "outputs": [],
   "source": []
  },
  {
   "cell_type": "code",
   "execution_count": null,
   "metadata": {},
   "outputs": [],
   "source": []
  }
 ],
 "metadata": {
  "kernelspec": {
   "display_name": "R",
   "language": "R",
   "name": "ir"
  },
  "language_info": {
   "codemirror_mode": "r",
   "file_extension": ".r",
   "mimetype": "text/x-r-source",
   "name": "R",
   "pygments_lexer": "r",
   "version": "3.5.1"
  }
 },
 "nbformat": 4,
 "nbformat_minor": 2
}
