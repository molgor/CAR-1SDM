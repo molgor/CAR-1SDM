{
 "cells": [
  {
   "cell_type": "markdown",
   "metadata": {},
   "source": [
    "# A joint model CAR (model 1) \n",
    "## Two independent processes\n",
    " $$ [P , S ] = [P ] [ S ] $$"
   ]
  },
  {
   "cell_type": "code",
   "execution_count": 2,
   "metadata": {},
   "outputs": [],
   "source": [
    "## Import code:\n",
    "setwd('/apps/external_plugins/biospytial_rwrapper/biospytial.rwrapper/R/')"
   ]
  },
  {
   "cell_type": "code",
   "execution_count": 3,
   "metadata": {},
   "outputs": [
    {
     "name": "stderr",
     "output_type": "stream",
     "text": [
      "Loading required package: MASS\n",
      "Loading required package: Rcpp\n",
      "\n",
      "Attaching package: ‘dplyr’\n",
      "\n",
      "The following object is masked from ‘package:MASS’:\n",
      "\n",
      "    select\n",
      "\n",
      "The following objects are masked from ‘package:stats’:\n",
      "\n",
      "    filter, lag\n",
      "\n",
      "The following objects are masked from ‘package:base’:\n",
      "\n",
      "    intersect, setdiff, setequal, union\n",
      "\n",
      "Warning message:\n",
      "“The `printer` argument is deprecated as of rlang 0.3.0.\n",
      "This warning is displayed once per session.”"
     ]
    },
    {
     "name": "stdout",
     "output_type": "stream",
     "text": [
      "Setting up the model.\n",
      "Performing burnin period for Sample Effort Model \n",
      "  |======================================================================| 100%\n",
      "Summarising results.\n",
      "Finished in  52.6 seconds.\n",
      "Setting up the model.\n",
      "Performing burnin period for Presence model \n",
      "  |======================================================================| 100%\n",
      "Summarising results.\n",
      "Finished in  51.3 seconds.\n",
      "Sampling from the joint model 10000 post burnin and thinned (if requested) samples.\n",
      "  |======================================================================| 100%\n",
      "[1] \"Compiling summary for S process\"\n",
      "[1] \"Compiling summary for the P process\"\n"
     ]
    }
   ],
   "source": [
    "rm(list=ls())                                                                                     \n",
    "source(\"init_data.R\")                                                                             \n",
    "# load the building function                                                                      \n",
    "source(\"joint.binomial.bymCARModel1.R\")\n",
    "## Fix the burnin and sample to be consistent with the other models\n",
    "n.sample = 10000                                                                                  \n",
    "burnin=10000                                                                                      \n",
    "postburnin = burnin +1000                                                                         \n",
    "thin = 1                                                                                          \n",
    "\n",
    "\n",
    "\n",
    "n.sample = 10000                                                                                 \n",
    "burnin=5000                                                                                      \n",
    "postburnin = burnin +1000     \n",
    "\n",
    "verbose = TRUE                           \n",
    "\n",
    "results  <- joint.binomial.bymCARModel1(formula_S = formula_sample, \n",
    "                                        formula_P = formula_sample,\n",
    "                                        n.sample=n.sample,\n",
    "                                        data = DataFrame,\n",
    "                                        burnin=burnin,\n",
    "                                        postburnin=postburnin,\n",
    "                                        thin=thin,\n",
    "                                        verbose=TRUE) \n",
    "\n",
    "\n"
   ]
  },
  {
   "cell_type": "code",
   "execution_count": 4,
   "metadata": {},
   "outputs": [
    {
     "data": {
      "text/html": [
       "<table>\n",
       "<thead><tr><th></th><th scope=col>Median</th><th scope=col>2.5%</th><th scope=col>97.5%</th><th scope=col>n.sample</th><th scope=col>% accept</th><th scope=col>n.effective</th><th scope=col>Geweke.diag</th></tr></thead>\n",
       "<tbody>\n",
       "\t<tr><th scope=row>(Intercept)</th><td> 2.6123</td><td> 0.9991</td><td> 3.8554</td><td>10000  </td><td> 61.3  </td><td>   5.8 </td><td> 2.7   </td></tr>\n",
       "\t<tr><th scope=row>Disttoroadm</th><td>-0.0002</td><td>-0.0004</td><td>-0.0001</td><td>10000  </td><td> 61.3  </td><td>1154.0 </td><td> 3.0   </td></tr>\n",
       "\t<tr><th scope=row>Populationm</th><td> 0.0000</td><td>-0.0001</td><td> 0.0002</td><td>10000  </td><td> 61.3  </td><td>1576.3 </td><td> 0.6   </td></tr>\n",
       "\t<tr><th scope=row>tau2</th><td> 6.1466</td><td> 3.9488</td><td>13.1793</td><td>10000  </td><td>100.0  </td><td>   9.3 </td><td>-0.3   </td></tr>\n",
       "\t<tr><th scope=row>sigma2</th><td> 0.0849</td><td> 0.0512</td><td> 0.1161</td><td>10000  </td><td>100.0  </td><td>  14.6 </td><td> 3.4   </td></tr>\n",
       "</tbody>\n",
       "</table>\n"
      ],
      "text/latex": [
       "\\begin{tabular}{r|lllllll}\n",
       "  & Median & 2.5\\% & 97.5\\% & n.sample & \\% accept & n.effective & Geweke.diag\\\\\n",
       "\\hline\n",
       "\t(Intercept) &  2.6123 &  0.9991 &  3.8554 & 10000   &  61.3   &    5.8  &  2.7   \\\\\n",
       "\tDisttoroadm & -0.0002 & -0.0004 & -0.0001 & 10000   &  61.3   & 1154.0  &  3.0   \\\\\n",
       "\tPopulationm &  0.0000 & -0.0001 &  0.0002 & 10000   &  61.3   & 1576.3  &  0.6   \\\\\n",
       "\ttau2 &  6.1466 &  3.9488 & 13.1793 & 10000   & 100.0   &    9.3  & -0.3   \\\\\n",
       "\tsigma2 &  0.0849 &  0.0512 &  0.1161 & 10000   & 100.0   &   14.6  &  3.4   \\\\\n",
       "\\end{tabular}\n"
      ],
      "text/markdown": [
       "\n",
       "| <!--/--> | Median | 2.5% | 97.5% | n.sample | % accept | n.effective | Geweke.diag | \n",
       "|---|---|---|---|---|\n",
       "| (Intercept) |  2.6123 |  0.9991 |  3.8554 | 10000   |  61.3   |    5.8  |  2.7    | \n",
       "| Disttoroadm | -0.0002 | -0.0004 | -0.0001 | 10000   |  61.3   | 1154.0  |  3.0    | \n",
       "| Populationm |  0.0000 | -0.0001 |  0.0002 | 10000   |  61.3   | 1576.3  |  0.6    | \n",
       "| tau2 |  6.1466 |  3.9488 | 13.1793 | 10000   | 100.0   |    9.3  | -0.3    | \n",
       "| sigma2 |  0.0849 |  0.0512 |  0.1161 | 10000   | 100.0   |   14.6  |  3.4    | \n",
       "\n",
       "\n"
      ],
      "text/plain": [
       "            Median  2.5%    97.5%   n.sample % accept n.effective Geweke.diag\n",
       "(Intercept)  2.6123  0.9991  3.8554 10000     61.3       5.8       2.7       \n",
       "Disttoroadm -0.0002 -0.0004 -0.0001 10000     61.3    1154.0       3.0       \n",
       "Populationm  0.0000 -0.0001  0.0002 10000     61.3    1576.3       0.6       \n",
       "tau2         6.1466  3.9488 13.1793 10000    100.0       9.3      -0.3       \n",
       "sigma2       0.0849  0.0512  0.1161 10000    100.0      14.6       3.4       "
      ]
     },
     "metadata": {},
     "output_type": "display_data"
    }
   ],
   "source": [
    "results$S$summary.results"
   ]
  },
  {
   "cell_type": "code",
   "execution_count": 5,
   "metadata": {},
   "outputs": [
    {
     "data": {
      "text/html": [
       "<table>\n",
       "<thead><tr><th></th><th scope=col>Median</th><th scope=col>2.5%</th><th scope=col>97.5%</th><th scope=col>n.sample</th><th scope=col>% accept</th><th scope=col>n.effective</th><th scope=col>Geweke.diag</th></tr></thead>\n",
       "<tbody>\n",
       "\t<tr><th scope=row>(Intercept)</th><td> 0.8568</td><td>-0.1971</td><td> 1.9477</td><td>10000  </td><td> 60.4  </td><td>  11.3 </td><td>-0.5   </td></tr>\n",
       "\t<tr><th scope=row>Disttoroadm</th><td>-0.0002</td><td>-0.0003</td><td>-0.0001</td><td>10000  </td><td> 60.4  </td><td>1184.4 </td><td>-1.7   </td></tr>\n",
       "\t<tr><th scope=row>Populationm</th><td> 0.0000</td><td>-0.0001</td><td> 0.0001</td><td>10000  </td><td> 60.4  </td><td>1645.9 </td><td> 0.4   </td></tr>\n",
       "\t<tr><th scope=row>tau2</th><td> 5.1438</td><td> 2.5501</td><td> 7.6647</td><td>10000  </td><td>100.0  </td><td>  10.8 </td><td> 1.6   </td></tr>\n",
       "\t<tr><th scope=row>sigma2</th><td> 0.0551</td><td> 0.0238</td><td> 0.1132</td><td>10000  </td><td>100.0  </td><td>   4.8 </td><td> 4.7   </td></tr>\n",
       "</tbody>\n",
       "</table>\n"
      ],
      "text/latex": [
       "\\begin{tabular}{r|lllllll}\n",
       "  & Median & 2.5\\% & 97.5\\% & n.sample & \\% accept & n.effective & Geweke.diag\\\\\n",
       "\\hline\n",
       "\t(Intercept) &  0.8568 & -0.1971 &  1.9477 & 10000   &  60.4   &   11.3  & -0.5   \\\\\n",
       "\tDisttoroadm & -0.0002 & -0.0003 & -0.0001 & 10000   &  60.4   & 1184.4  & -1.7   \\\\\n",
       "\tPopulationm &  0.0000 & -0.0001 &  0.0001 & 10000   &  60.4   & 1645.9  &  0.4   \\\\\n",
       "\ttau2 &  5.1438 &  2.5501 &  7.6647 & 10000   & 100.0   &   10.8  &  1.6   \\\\\n",
       "\tsigma2 &  0.0551 &  0.0238 &  0.1132 & 10000   & 100.0   &    4.8  &  4.7   \\\\\n",
       "\\end{tabular}\n"
      ],
      "text/markdown": [
       "\n",
       "| <!--/--> | Median | 2.5% | 97.5% | n.sample | % accept | n.effective | Geweke.diag | \n",
       "|---|---|---|---|---|\n",
       "| (Intercept) |  0.8568 | -0.1971 |  1.9477 | 10000   |  60.4   |   11.3  | -0.5    | \n",
       "| Disttoroadm | -0.0002 | -0.0003 | -0.0001 | 10000   |  60.4   | 1184.4  | -1.7    | \n",
       "| Populationm |  0.0000 | -0.0001 |  0.0001 | 10000   |  60.4   | 1645.9  |  0.4    | \n",
       "| tau2 |  5.1438 |  2.5501 |  7.6647 | 10000   | 100.0   |   10.8  |  1.6    | \n",
       "| sigma2 |  0.0551 |  0.0238 |  0.1132 | 10000   | 100.0   |    4.8  |  4.7    | \n",
       "\n",
       "\n"
      ],
      "text/plain": [
       "            Median  2.5%    97.5%   n.sample % accept n.effective Geweke.diag\n",
       "(Intercept)  0.8568 -0.1971  1.9477 10000     60.4      11.3      -0.5       \n",
       "Disttoroadm -0.0002 -0.0003 -0.0001 10000     60.4    1184.4      -1.7       \n",
       "Populationm  0.0000 -0.0001  0.0001 10000     60.4    1645.9       0.4       \n",
       "tau2         5.1438  2.5501  7.6647 10000    100.0      10.8       1.6       \n",
       "sigma2       0.0551  0.0238  0.1132 10000    100.0       4.8       4.7       "
      ]
     },
     "metadata": {},
     "output_type": "display_data"
    }
   ],
   "source": [
    "results$P$summary.results"
   ]
  },
  {
   "cell_type": "code",
   "execution_count": 6,
   "metadata": {},
   "outputs": [
    {
     "data": {
      "text/html": [
       "<dl class=dl-horizontal>\n",
       "\t<dt>DIC</dt>\n",
       "\t\t<dd>4284.38741645026</dd>\n",
       "\t<dt>p.d</dt>\n",
       "\t\t<dd>894.111593642523</dd>\n",
       "\t<dt>WAIC</dt>\n",
       "\t\t<dd>4351.36349806496</dd>\n",
       "\t<dt>p.w</dt>\n",
       "\t\t<dd>787.357573153745</dd>\n",
       "\t<dt>LMPL</dt>\n",
       "\t\t<dd>-2230.98340967715</dd>\n",
       "\t<dt>loglikelihood</dt>\n",
       "\t\t<dd>-1248.08211458261</dd>\n",
       "</dl>\n"
      ],
      "text/latex": [
       "\\begin{description*}\n",
       "\\item[DIC] 4284.38741645026\n",
       "\\item[p.d] 894.111593642523\n",
       "\\item[WAIC] 4351.36349806496\n",
       "\\item[p.w] 787.357573153745\n",
       "\\item[LMPL] -2230.98340967715\n",
       "\\item[loglikelihood] -1248.08211458261\n",
       "\\end{description*}\n"
      ],
      "text/markdown": [
       "DIC\n",
       ":   4284.38741645026p.d\n",
       ":   894.111593642523WAIC\n",
       ":   4351.36349806496p.w\n",
       ":   787.357573153745LMPL\n",
       ":   -2230.98340967715loglikelihood\n",
       ":   -1248.08211458261\n",
       "\n"
      ],
      "text/plain": [
       "          DIC           p.d          WAIC           p.w          LMPL \n",
       "    4284.3874      894.1116     4351.3635      787.3576    -2230.9834 \n",
       "loglikelihood \n",
       "   -1248.0821 "
      ]
     },
     "metadata": {},
     "output_type": "display_data"
    }
   ],
   "source": [
    "results$summary.results"
   ]
  },
  {
   "cell_type": "code",
   "execution_count": null,
   "metadata": {},
   "outputs": [],
   "source": []
  },
  {
   "cell_type": "code",
   "execution_count": 6,
   "metadata": {},
   "outputs": [],
   "source": [
    "fitted_samples = cbind(results$S$samples$fitted,results$P$samples$fitted)"
   ]
  },
  {
   "cell_type": "code",
   "execution_count": 7,
   "metadata": {},
   "outputs": [],
   "source": [
    "post.sample_p = data.frame(results$S$samples$fitted)\n",
    "post.presence_p = data.frame(results$P$samples$fitted)\n",
    "post.joint = data.frame(results$samples$fitted.joint)"
   ]
  },
  {
   "cell_type": "code",
   "execution_count": 32,
   "metadata": {},
   "outputs": [],
   "source": [
    "## Compute independent joint distribution\n",
    "library(boot)\n",
    "\n",
    "\n",
    "\n",
    "fitted_presences = apply(results$P$samples$fitted,MARGIN=1,identity)\n",
    "fitted_sample = apply(results$S$samples$fitted,MARGIN=1,identity)\n",
    "fitted_total = apply(results$samples$fitted,MARGIN=1,identity)\n",
    "\n",
    "re_presence = apply(results$P$samples$psi,MARGIN=1,identity)\n",
    "re_sample = apply(results$S$samples$psi,MARGIN=1,identity)"
   ]
  },
  {
   "cell_type": "code",
   "execution_count": 33,
   "metadata": {},
   "outputs": [],
   "source": [
    "getUpperLowerCI <- function(fitted_sample,prefix=\"\",MARGIN=1){\n",
    "    fp = partial(quantile,probs=c(0.025,0.5,0.975))\n",
    "    quants =apply(X = fitted_sample,FUN = fp,MARGIN)\n",
    "    mfitt = apply(fitted_sample,mean,MARGIN = MARGIN)\n",
    "    vfitt = apply(fitted_sample,var,MARGIN = MARGIN)\n",
    "    new_data = cbind(t(quants),mfitt,vfitt)\n",
    "    l = as.list(c(\"q025\",\"median\",\"q0975\",\"mean\",\"variance\"))\n",
    "    nnames = lapply(l,function (x){return(paste(prefix,x,sep = '_'))})\n",
    "    colnames(new_data) = nnames\n",
    "    return(new_data)\n",
    "}\n",
    "\n",
    "P = getUpperLowerCI(fitted_presences,prefix = 'P')\n",
    "S = getUpperLowerCI(fitted_sample,prefix = 'S')\n",
    "PS = getUpperLowerCI(fitted_total,prefix = 'PS')\n",
    "Gp = getUpperLowerCI(re_presence,prefix = 'Gp')\n",
    "Gs = getUpperLowerCI(re_sample,prefix = 'Gs')\n",
    "\n"
   ]
  },
  {
   "cell_type": "code",
   "execution_count": 36,
   "metadata": {},
   "outputs": [],
   "source": [
    "## Sample from the posterior\n",
    "sample.pres <- data.frame(t(fitted_presences)) %>% mutate_all(function(p) rbernoulli(1,p))\n",
    "sample.samp <- data.frame(t(fitted_sample)) %>% mutate_all(function(p) rbernoulli(1,p))\n",
    "sample.tot <- data.frame(t(fitted_total)) %>% mutate_all(function(p) rbernoulli(1,p))"
   ]
  },
  {
   "cell_type": "code",
   "execution_count": null,
   "metadata": {},
   "outputs": [],
   "source": [
    "medir dimension\n",
    "y ver que pasa con colsums\n"
   ]
  },
  {
   "cell_type": "code",
   "execution_count": null,
   "metadata": {},
   "outputs": [],
   "source": [
    "dataout = cbind(TDF$cellids,P,S,Gp,Gs,PX,PY,PXY)"
   ]
  },
  {
   "cell_type": "code",
   "execution_count": null,
   "metadata": {},
   "outputs": [],
   "source": []
  },
  {
   "cell_type": "code",
   "execution_count": 8,
   "metadata": {},
   "outputs": [],
   "source": [
    "pss  <- post.sample_p %>% mutate_all(function(p) rbernoulli(1,p))\n",
    "pps <- post.presence_p %>% mutate_all(function(p) rbernoulli(1,p))\n",
    "ptot <- post.joint %>% mutate_all(function(p) rbernoulli(1,p))"
   ]
  },
  {
   "cell_type": "code",
   "execution_count": 9,
   "metadata": {},
   "outputs": [],
   "source": []
  },
  {
   "cell_type": "code",
   "execution_count": 10,
   "metadata": {},
   "outputs": [],
   "source": [
    "sumpt <- colSums(ptot)\n",
    "sumpss <- colSums(pss)\n",
    "sumpps <- colSums(pps)"
   ]
  },
  {
   "cell_type": "code",
   "execution_count": 34,
   "metadata": {},
   "outputs": [],
   "source": [
    "nsamples = dim(ptot)[1]"
   ]
  },
  {
   "cell_type": "code",
   "execution_count": 35,
   "metadata": {},
   "outputs": [
    {
     "data": {
      "text/html": [
       "10000"
      ],
      "text/latex": [
       "10000"
      ],
      "text/markdown": [
       "10000"
      ],
      "text/plain": [
       "[1] 10000"
      ]
     },
     "metadata": {},
     "output_type": "display_data"
    }
   ],
   "source": [
    "nsamples"
   ]
  },
  {
   "cell_type": "code",
   "execution_count": 14,
   "metadata": {},
   "outputs": [],
   "source": [
    "joint_prob_sample <- sumpt / nsamples"
   ]
  },
  {
   "cell_type": "code",
   "execution_count": 15,
   "metadata": {},
   "outputs": [],
   "source": [
    "prob_pps <- sumpps / nsamples"
   ]
  },
  {
   "cell_type": "code",
   "execution_count": 16,
   "metadata": {},
   "outputs": [],
   "source": [
    "prob_pss <- sumpss / nsamples"
   ]
  },
  {
   "cell_type": "code",
   "execution_count": 17,
   "metadata": {},
   "outputs": [],
   "source": [
    "joint_prob_sample_2 = prob_pps * prob_pss"
   ]
  },
  {
   "cell_type": "code",
   "execution_count": 18,
   "metadata": {},
   "outputs": [],
   "source": [
    "meanfitted = results$fitted.values"
   ]
  },
  {
   "cell_type": "code",
   "execution_count": 19,
   "metadata": {},
   "outputs": [],
   "source": [
    "## save to posterity\n",
    "# Save output sample to display in python\n",
    "## Save the complete chain trace for analysing in Python,\n",
    "#TDF = read.csv(\"/outputs/training_data_sample_puebla_p9_abies_pinophyta.csv\")\n",
    "## Order it according to the id of the cell\n",
    "## This is important because the adjancy matrix rows need to be the same\n",
    "\n",
    "## No needed because DataFrame object already loaded and without no-neighbour (i.e. same size as fitted values)\n",
    "#TDF = TDF[order(TDF$cell_ids),]\n",
    "TDF = DataFrame[order(DataFrame$cellids),]"
   ]
  },
  {
   "cell_type": "code",
   "execution_count": 20,
   "metadata": {},
   "outputs": [],
   "source": [
    "chain = cbind(TDF$cellids,joint_prob_sample,meanfitted,prob_pps,prob_pss)\n",
    "file_ = '/outputs/presence_only_models/modelCAR_model1_fitted2.csv'\n",
    "write.csv(chain,file_)"
   ]
  },
  {
   "cell_type": "code",
   "execution_count": null,
   "metadata": {},
   "outputs": [],
   "source": []
  }
 ],
 "metadata": {
  "kernelspec": {
   "display_name": "R",
   "language": "R",
   "name": "ir"
  },
  "language_info": {
   "codemirror_mode": "r",
   "file_extension": ".r",
   "mimetype": "text/x-r-source",
   "name": "R",
   "pygments_lexer": "r",
   "version": "3.5.1"
  }
 },
 "nbformat": 4,
 "nbformat_minor": 2
}
