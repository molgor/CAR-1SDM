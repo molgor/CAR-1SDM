{
 "cells": [
  {
   "cell_type": "code",
   "execution_count": 1,
   "metadata": {},
   "outputs": [],
   "source": [
    "import numpy as np"
   ]
  },
  {
   "cell_type": "code",
   "execution_count": 33,
   "metadata": {},
   "outputs": [],
   "source": [
    "a = np.array(range(1,4))\n",
    "a = a.reshape(-1,1) ## Change to n, 1\n",
    "b = np.array([range(5,8)]) ## \n",
    "b = b.reshape(-1,1)"
   ]
  },
  {
   "cell_type": "code",
   "execution_count": 35,
   "metadata": {},
   "outputs": [
    {
     "ename": "ValueError",
     "evalue": "shapes (3,1) and (3,1) not aligned: 1 (dim 1) != 3 (dim 0)",
     "output_type": "error",
     "traceback": [
      "\u001b[0;31m\u001b[0m",
      "\u001b[0;31mValueError\u001b[0mTraceback (most recent call last)",
      "\u001b[0;32m<ipython-input-35-3339b236d1c5>\u001b[0m in \u001b[0;36m<module>\u001b[0;34m()\u001b[0m\n\u001b[0;32m----> 1\u001b[0;31m \u001b[0mnp\u001b[0m\u001b[0;34m.\u001b[0m\u001b[0mdot\u001b[0m\u001b[0;34m(\u001b[0m\u001b[0ma\u001b[0m\u001b[0;34m,\u001b[0m\u001b[0mb\u001b[0m\u001b[0;34m)\u001b[0m\u001b[0;34m\u001b[0m\u001b[0m\n\u001b[0m",
      "\u001b[0;31mValueError\u001b[0m: shapes (3,1) and (3,1) not aligned: 1 (dim 1) != 3 (dim 0)"
     ]
    }
   ],
   "source": [
    "np.matmul()"
   ]
  },
  {
   "cell_type": "code",
   "execution_count": 36,
   "metadata": {},
   "outputs": [
    {
     "data": {
      "text/plain": [
       "\u001b[0;31mDocstring:\u001b[0m\n",
       "dot(a, b, out=None)\n",
       "\n",
       "Dot product of two arrays.\n",
       "\n",
       "For 2-D arrays it is equivalent to matrix multiplication, and for 1-D\n",
       "arrays to inner product of vectors (without complex conjugation). For\n",
       "N dimensions it is a sum product over the last axis of `a` and\n",
       "the second-to-last of `b`::\n",
       "\n",
       "    dot(a, b)[i,j,k,m] = sum(a[i,j,:] * b[k,:,m])\n",
       "\n",
       "Parameters\n",
       "----------\n",
       "a : array_like\n",
       "    First argument.\n",
       "b : array_like\n",
       "    Second argument.\n",
       "out : ndarray, optional\n",
       "    Output argument. This must have the exact kind that would be returned\n",
       "    if it was not used. In particular, it must have the right type, must be\n",
       "    C-contiguous, and its dtype must be the dtype that would be returned\n",
       "    for `dot(a,b)`. This is a performance feature. Therefore, if these\n",
       "    conditions are not met, an exception is raised, instead of attempting\n",
       "    to be flexible.\n",
       "\n",
       "Returns\n",
       "-------\n",
       "output : ndarray\n",
       "    Returns the dot product of `a` and `b`.  If `a` and `b` are both\n",
       "    scalars or both 1-D arrays then a scalar is returned; otherwise\n",
       "    an array is returned.\n",
       "    If `out` is given, then it is returned.\n",
       "\n",
       "Raises\n",
       "------\n",
       "ValueError\n",
       "    If the last dimension of `a` is not the same size as\n",
       "    the second-to-last dimension of `b`.\n",
       "\n",
       "See Also\n",
       "--------\n",
       "vdot : Complex-conjugating dot product.\n",
       "tensordot : Sum products over arbitrary axes.\n",
       "einsum : Einstein summation convention.\n",
       "matmul : '@' operator as method with out parameter.\n",
       "\n",
       "Examples\n",
       "--------\n",
       ">>> np.dot(3, 4)\n",
       "12\n",
       "\n",
       "Neither argument is complex-conjugated:\n",
       "\n",
       ">>> np.dot([2j, 3j], [2j, 3j])\n",
       "(-13+0j)\n",
       "\n",
       "For 2-D arrays it is the matrix product:\n",
       "\n",
       ">>> a = [[1, 0], [0, 1]]\n",
       ">>> b = [[4, 1], [2, 2]]\n",
       ">>> np.dot(a, b)\n",
       "array([[4, 1],\n",
       "       [2, 2]])\n",
       "\n",
       ">>> a = np.arange(3*4*5*6).reshape((3,4,5,6))\n",
       ">>> b = np.arange(3*4*5*6)[::-1].reshape((5,4,6,3))\n",
       ">>> np.dot(a, b)[2,3,2,1,2,2]\n",
       "499128\n",
       ">>> sum(a[2,3,2,:] * b[1,2,:,2])\n",
       "499128\n",
       "\u001b[0;31mType:\u001b[0m      builtin_function_or_method\n"
      ]
     },
     "metadata": {},
     "output_type": "display_data"
    }
   ],
   "source": [
    "np.dot?"
   ]
  },
  {
   "cell_type": "code",
   "execution_count": 20,
   "metadata": {},
   "outputs": [],
   "source": [
    "A = np.identity(3)"
   ]
  },
  {
   "cell_type": "code",
   "execution_count": 25,
   "metadata": {},
   "outputs": [
    {
     "ename": "TypeError",
     "evalue": "Required argument 'b' (pos 2) not found",
     "output_type": "error",
     "traceback": [
      "\u001b[0;31m\u001b[0m",
      "\u001b[0;31mTypeError\u001b[0mTraceback (most recent call last)",
      "\u001b[0;32m<ipython-input-25-f197b73b7ced>\u001b[0m in \u001b[0;36m<module>\u001b[0;34m()\u001b[0m\n\u001b[0;32m----> 1\u001b[0;31m \u001b[0mnp\u001b[0m\u001b[0;34m.\u001b[0m\u001b[0mdot\u001b[0m\u001b[0;34m(\u001b[0m\u001b[0mA\u001b[0m\u001b[0;34m)\u001b[0m\u001b[0;34m\u001b[0m\u001b[0m\n\u001b[0m",
      "\u001b[0;31mTypeError\u001b[0m: Required argument 'b' (pos 2) not found"
     ]
    }
   ],
   "source": [
    "np.linalg."
   ]
  },
  {
   "cell_type": "code",
   "execution_count": null,
   "metadata": {},
   "outputs": [],
   "source": []
  }
 ],
 "metadata": {
  "kernelspec": {
   "display_name": "Python 2",
   "language": "python",
   "name": "python2"
  },
  "language_info": {
   "codemirror_mode": {
    "name": "ipython",
    "version": 2
   },
   "file_extension": ".py",
   "mimetype": "text/x-python",
   "name": "python",
   "nbconvert_exporter": "python",
   "pygments_lexer": "ipython2",
   "version": "2.7.15"
  }
 },
 "nbformat": 4,
 "nbformat_minor": 2
}
